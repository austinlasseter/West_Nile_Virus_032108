{
 "cells": [
  {
   "cell_type": "code",
   "execution_count": null,
   "metadata": {},
   "outputs": [],
   "source": [
    "import pandas as pd\n",
    "\n",
    "tdf.Date = pd.to_datetime(tdf.Date)\n",
    "weather.Date = pd.to_datetime(weather.Date)\n",
    "\n",
    "\n",
    "twoweeks = pd.Timedelta('14 days')\n",
    "get_past = lambda x: pd.date_range(x - twoweeks, x)\n",
    "tdf['priorweeks'] = tdf.Date.apply(get_past)\n",
    "\n",
    "firstpass = tdf.head(1).priorweeks[0]\n",
    "\n",
    "precip_fix = lambda x: 0 if type(x)==str else x\n",
    "\n",
    "def recent_weather(date_range):\n",
    "    recents = weather[weather.Date.isin(date_range)]\n",
    "    results = {\n",
    "        'Tmin': recents.Tmin.min(),\n",
    "        'Tmin_avg' : recents.Tmin.mean(),\n",
    "        'Precip': recents.PrecipTotal.apply(precip_fix).sum()/ 2.0,\n",
    "        'Hottest': recents.Heat.max(),\n",
    "        'Coolest': recents.Cool.max()    \n",
    "        }\n",
    "    return results\n",
    "\n",
    "tdf['recent_weather'] = tdf.priorweeks.apply(recent_weather)\n",
    "\n",
    "tdf.head()"
   ]
  },
  {
   "cell_type": "code",
   "execution_count": null,
   "metadata": {},
   "outputs": [],
   "source": []
  }
 ],
 "metadata": {
  "kernelspec": {
   "display_name": "Python 3",
   "language": "python",
   "name": "python3"
  },
  "language_info": {
   "codemirror_mode": {
    "name": "ipython",
    "version": 3
   },
   "file_extension": ".py",
   "mimetype": "text/x-python",
   "name": "python",
   "nbconvert_exporter": "python",
   "pygments_lexer": "ipython3",
   "version": "3.6.4"
  }
 },
 "nbformat": 4,
 "nbformat_minor": 2
}
