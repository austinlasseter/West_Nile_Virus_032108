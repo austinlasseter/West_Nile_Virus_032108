{
 "cells": [
  {
   "cell_type": "code",
   "execution_count": 1,
   "metadata": {
    "collapsed": true
   },
   "outputs": [],
   "source": [
    "import pandas as pd\n",
    "import seaborn as sns\n",
    "import numpy as np\n",
    "import matplotlib.pyplot as plt\n",
    "%matplotlib inline\n",
    "\n",
    "from sklearn.feature_extraction.text import CountVectorizer, TfidfTransformer, TfidfVectorizer\n",
    "from sklearn.model_selection import cross_val_score\n",
    "from sklearn.metrics import classification_report\n",
    "from sklearn.naive_bayes import MultinomialNB, BernoulliNB, GaussianNB\n",
    "from sklearn.pipeline import Pipeline\n",
    "from sklearn.linear_model import LogisticRegression\n",
    "from sklearn.model_selection import train_test_split\n",
    "from sklearn import metrics\n",
    "from sklearn.metrics import classification_report,confusion_matrix,accuracy_score\n",
    "from sklearn.neighbors import KNeighborsClassifier\n",
    "from sklearn.ensemble import RandomForestClassifier, ExtraTreesClassifier, BaggingClassifier\n",
    "from sklearn.metrics import roc_auc_score\n",
    "from geopy.distance import vincenty\n",
    "sns.set_style(\"darkgrid\")"
   ]
  },
  {
   "cell_type": "code",
   "execution_count": 47,
   "metadata": {},
   "outputs": [
    {
     "data": {
      "application/javascript": [
       "$('.nbp-app-bar').toggle()"
      ],
      "text/plain": [
       "<IPython.core.display.Javascript object>"
      ]
     },
     "metadata": {},
     "output_type": "display_data"
    }
   ],
   "source": [
    "%%javascript\n",
    "$('.nbp-app-bar').toggle()"
   ]
  },
  {
   "cell_type": "markdown",
   "metadata": {},
   "source": [
    "# Read and Split the Data"
   ]
  },
  {
   "cell_type": "code",
   "execution_count": 3,
   "metadata": {
    "collapsed": true
   },
   "outputs": [],
   "source": [
    "weather=pd.read_csv('weather2.csv')\n",
    "readings=pd.read_csv('readings.csv')"
   ]
  },
  {
   "cell_type": "code",
   "execution_count": 4,
   "metadata": {},
   "outputs": [
    {
     "name": "stdout",
     "output_type": "stream",
     "text": [
      "(10506, 12)\n"
     ]
    },
    {
     "data": {
      "text/html": [
       "<div>\n",
       "<style>\n",
       "    .dataframe thead tr:only-child th {\n",
       "        text-align: right;\n",
       "    }\n",
       "\n",
       "    .dataframe thead th {\n",
       "        text-align: left;\n",
       "    }\n",
       "\n",
       "    .dataframe tbody tr th {\n",
       "        vertical-align: top;\n",
       "    }\n",
       "</style>\n",
       "<table border=\"1\" class=\"dataframe\">\n",
       "  <thead>\n",
       "    <tr style=\"text-align: right;\">\n",
       "      <th></th>\n",
       "      <th>Virus</th>\n",
       "      <th>DayRunner</th>\n",
       "      <th>ALTER</th>\n",
       "      <th>PIPIENS</th>\n",
       "      <th>PIPIENS-RESTUANS</th>\n",
       "      <th>RESTUANS</th>\n",
       "      <th>near_hotspot</th>\n",
       "      <th>near_chompspot</th>\n",
       "      <th>avg_rain1</th>\n",
       "      <th>avg_rain2</th>\n",
       "      <th>avg_dry1</th>\n",
       "      <th>avg_dry2</th>\n",
       "    </tr>\n",
       "  </thead>\n",
       "  <tbody>\n",
       "    <tr>\n",
       "      <th>0</th>\n",
       "      <td>0</td>\n",
       "      <td>149</td>\n",
       "      <td>0</td>\n",
       "      <td>0</td>\n",
       "      <td>1</td>\n",
       "      <td>0</td>\n",
       "      <td>1</td>\n",
       "      <td>4</td>\n",
       "      <td>0.714286</td>\n",
       "      <td>0.428571</td>\n",
       "      <td>0.857143</td>\n",
       "      <td>0.571429</td>\n",
       "    </tr>\n",
       "    <tr>\n",
       "      <th>1</th>\n",
       "      <td>0</td>\n",
       "      <td>149</td>\n",
       "      <td>0</td>\n",
       "      <td>0</td>\n",
       "      <td>0</td>\n",
       "      <td>1</td>\n",
       "      <td>1</td>\n",
       "      <td>4</td>\n",
       "      <td>0.714286</td>\n",
       "      <td>0.428571</td>\n",
       "      <td>0.857143</td>\n",
       "      <td>0.571429</td>\n",
       "    </tr>\n",
       "    <tr>\n",
       "      <th>2</th>\n",
       "      <td>0</td>\n",
       "      <td>149</td>\n",
       "      <td>0</td>\n",
       "      <td>0</td>\n",
       "      <td>0</td>\n",
       "      <td>1</td>\n",
       "      <td>0</td>\n",
       "      <td>3</td>\n",
       "      <td>0.714286</td>\n",
       "      <td>0.428571</td>\n",
       "      <td>0.857143</td>\n",
       "      <td>0.571429</td>\n",
       "    </tr>\n",
       "    <tr>\n",
       "      <th>3</th>\n",
       "      <td>0</td>\n",
       "      <td>149</td>\n",
       "      <td>0</td>\n",
       "      <td>0</td>\n",
       "      <td>1</td>\n",
       "      <td>0</td>\n",
       "      <td>2</td>\n",
       "      <td>4</td>\n",
       "      <td>0.714286</td>\n",
       "      <td>0.428571</td>\n",
       "      <td>0.857143</td>\n",
       "      <td>0.571429</td>\n",
       "    </tr>\n",
       "    <tr>\n",
       "      <th>4</th>\n",
       "      <td>0</td>\n",
       "      <td>149</td>\n",
       "      <td>0</td>\n",
       "      <td>0</td>\n",
       "      <td>0</td>\n",
       "      <td>1</td>\n",
       "      <td>2</td>\n",
       "      <td>4</td>\n",
       "      <td>0.714286</td>\n",
       "      <td>0.428571</td>\n",
       "      <td>0.857143</td>\n",
       "      <td>0.571429</td>\n",
       "    </tr>\n",
       "  </tbody>\n",
       "</table>\n",
       "</div>"
      ],
      "text/plain": [
       "   Virus  DayRunner  ALTER  PIPIENS  PIPIENS-RESTUANS  RESTUANS  near_hotspot  \\\n",
       "0      0        149      0        0                 1         0             1   \n",
       "1      0        149      0        0                 0         1             1   \n",
       "2      0        149      0        0                 0         1             0   \n",
       "3      0        149      0        0                 1         0             2   \n",
       "4      0        149      0        0                 0         1             2   \n",
       "\n",
       "   near_chompspot  avg_rain1  avg_rain2  avg_dry1  avg_dry2  \n",
       "0               4   0.714286   0.428571  0.857143  0.571429  \n",
       "1               4   0.714286   0.428571  0.857143  0.571429  \n",
       "2               3   0.714286   0.428571  0.857143  0.571429  \n",
       "3               4   0.714286   0.428571  0.857143  0.571429  \n",
       "4               4   0.714286   0.428571  0.857143  0.571429  "
      ]
     },
     "execution_count": 4,
     "metadata": {},
     "output_type": "execute_result"
    }
   ],
   "source": [
    "chicago=pd.merge(readings, weather, on='Date').drop(['Date', 'Month', 'Year', 'CULEX'], axis=1);\n",
    "print(chicago.shape)\n",
    "chicago.head()"
   ]
  },
  {
   "cell_type": "code",
   "execution_count": 5,
   "metadata": {},
   "outputs": [
    {
     "data": {
      "text/plain": [
       "(8404, 11)"
      ]
     },
     "execution_count": 5,
     "metadata": {},
     "output_type": "execute_result"
    }
   ],
   "source": [
    "# Split the data\n",
    "X = chicago.drop(['Virus'], axis=1)\n",
    "y = chicago['Virus']\n",
    "X_train, X_test, y_train, y_test = train_test_split(X, y, test_size = .2, random_state=42)\n",
    "X_train.shape # Notice the number of rows in the training set. This should stay constant."
   ]
  },
  {
   "cell_type": "code",
   "execution_count": 6,
   "metadata": {},
   "outputs": [
    {
     "data": {
      "text/plain": [
       "Index(['DayRunner', 'ALTER', 'PIPIENS', 'PIPIENS-RESTUANS', 'RESTUANS',\n",
       "       'near_hotspot', 'near_chompspot', 'avg_rain1', 'avg_rain2', 'avg_dry1',\n",
       "       'avg_dry2'],\n",
       "      dtype='object')"
      ]
     },
     "execution_count": 6,
     "metadata": {},
     "output_type": "execute_result"
    }
   ],
   "source": [
    "# List the features\n",
    "X.columns"
   ]
  },
  {
   "cell_type": "markdown",
   "metadata": {},
   "source": [
    "# Model 1. KNN classifier "
   ]
  },
  {
   "cell_type": "markdown",
   "metadata": {},
   "source": [
    "#### fit on the training, predict on the testing data"
   ]
  },
  {
   "cell_type": "code",
   "execution_count": 7,
   "metadata": {
    "collapsed": true
   },
   "outputs": [],
   "source": [
    "# train the model\n",
    "neighs = KNeighborsClassifier(n_neighbors=7)\n",
    "knn_model = neighs.fit(X_train, y_train)"
   ]
  },
  {
   "cell_type": "code",
   "execution_count": 8,
   "metadata": {},
   "outputs": [
    {
     "data": {
      "text/plain": [
       "(0.9439549088809569, 0.0046952383870515566)"
      ]
     },
     "execution_count": 8,
     "metadata": {},
     "output_type": "execute_result"
    }
   ],
   "source": [
    "# The crossvalidiation score scores our performance on the training data. \n",
    "scores = cross_val_score(knn_model, X_train, y_train, cv=5)\n",
    "np.mean(scores), np.std(scores) # This is the mean of the 5 cv scores, plus its standard dev."
   ]
  },
  {
   "cell_type": "code",
   "execution_count": 9,
   "metadata": {
    "collapsed": true
   },
   "outputs": [],
   "source": [
    "# Predict the y values on the testing data.\n",
    "y_hat = knn_model.predict(X_test)\n",
    "y_hat_probs = knn_model.predict_proba(X_test)[:,1]"
   ]
  },
  {
   "cell_type": "markdown",
   "metadata": {},
   "source": [
    "#### Uhhh, what does that mean?"
   ]
  },
  {
   "cell_type": "code",
   "execution_count": 10,
   "metadata": {},
   "outputs": [
    {
     "name": "stdout",
     "output_type": "stream",
     "text": [
      "(2102, 1)\n",
      "2102\n"
     ]
    }
   ],
   "source": [
    "# Let's take a look at our predictions:\n",
    "checkitout=pd.DataFrame(y_hat, columns=['Pred_Probability'])\n",
    "print(checkitout.shape)\n",
    "print(len(y_test)) # confirmed: they are the same length!"
   ]
  },
  {
   "cell_type": "code",
   "execution_count": 11,
   "metadata": {},
   "outputs": [
    {
     "data": {
      "text/html": [
       "<div>\n",
       "<style>\n",
       "    .dataframe thead tr:only-child th {\n",
       "        text-align: right;\n",
       "    }\n",
       "\n",
       "    .dataframe thead th {\n",
       "        text-align: left;\n",
       "    }\n",
       "\n",
       "    .dataframe tbody tr th {\n",
       "        vertical-align: top;\n",
       "    }\n",
       "</style>\n",
       "<table border=\"1\" class=\"dataframe\">\n",
       "  <thead>\n",
       "    <tr style=\"text-align: right;\">\n",
       "      <th></th>\n",
       "      <th>Actual</th>\n",
       "      <th>Prediction</th>\n",
       "    </tr>\n",
       "  </thead>\n",
       "  <tbody>\n",
       "    <tr>\n",
       "      <th>0</th>\n",
       "      <td>0</td>\n",
       "      <td>0</td>\n",
       "    </tr>\n",
       "    <tr>\n",
       "      <th>1</th>\n",
       "      <td>0</td>\n",
       "      <td>0</td>\n",
       "    </tr>\n",
       "    <tr>\n",
       "      <th>2</th>\n",
       "      <td>1</td>\n",
       "      <td>0</td>\n",
       "    </tr>\n",
       "    <tr>\n",
       "      <th>3</th>\n",
       "      <td>0</td>\n",
       "      <td>0</td>\n",
       "    </tr>\n",
       "    <tr>\n",
       "      <th>4</th>\n",
       "      <td>0</td>\n",
       "      <td>0</td>\n",
       "    </tr>\n",
       "  </tbody>\n",
       "</table>\n",
       "</div>"
      ],
      "text/plain": [
       "   Actual  Prediction\n",
       "0       0           0\n",
       "1       0           0\n",
       "2       1           0\n",
       "3       0           0\n",
       "4       0           0"
      ]
     },
     "execution_count": 11,
     "metadata": {},
     "output_type": "execute_result"
    }
   ],
   "source": [
    "# Do those predictions usually match the actual values?\n",
    "comparison=pd.DataFrame(list(zip(y_test,y_hat)), columns=['Actual','Prediction'])\n",
    "comparison.head()\n",
    "# Hmm, the first five don't look very good."
   ]
  },
  {
   "cell_type": "code",
   "execution_count": 12,
   "metadata": {},
   "outputs": [
    {
     "name": "stdout",
     "output_type": "stream",
     "text": [
      "0.0035140562248995983\n",
      "0.03636363636363636\n",
      "Ttest_indResult(statistic=-4.6703664446109654, pvalue=3.1968007254014293e-06)\n"
     ]
    }
   ],
   "source": [
    "# Well, is there any difference in the MEAN prediction for the two classes?\n",
    "print(comparison[comparison['Actual']==0]['Prediction'].mean())\n",
    "print(comparison[comparison['Actual']==1]['Prediction'].mean())\n",
    "import scipy.stats as stats\n",
    "print(stats.ttest_ind(comparison[comparison['Actual']==0]['Prediction'], comparison[comparison['Actual']==1]['Prediction']))\n",
    "# Yes there is a sig diff!! We're more likely to predict \"positive\" on readings that are ACTUALLY positive. yay!\n",
    "# So, that's really promising. Let's move to scoring."
   ]
  },
  {
   "cell_type": "markdown",
   "metadata": {},
   "source": [
    "#### Score my model"
   ]
  },
  {
   "cell_type": "code",
   "execution_count": 13,
   "metadata": {
    "collapsed": true
   },
   "outputs": [],
   "source": [
    "# Set up some empty lists, so we can compare our models at the end\n",
    "acc=[]\n",
    "sens=[]\n",
    "spec=[]\n",
    "roc=[]"
   ]
  },
  {
   "cell_type": "code",
   "execution_count": 14,
   "metadata": {},
   "outputs": [
    {
     "name": "stdout",
     "output_type": "stream",
     "text": [
      "94.6241674596\n",
      "94.6241674596\n"
     ]
    }
   ],
   "source": [
    "# There are two different ways to get the accuracy score, which is our primary metric:\n",
    "y_hat = knn_model.predict(X_test)\n",
    "modscore=100*(knn_model.score(X_test, y_test))\n",
    "accuracy=100*metrics.accuracy_score(y_test, y_hat)\n",
    "acc.append(accuracy)\n",
    "print(modscore)\n",
    "print(accuracy)"
   ]
  },
  {
   "cell_type": "code",
   "execution_count": 15,
   "metadata": {},
   "outputs": [
    {
     "name": "stdout",
     "output_type": "stream",
     "text": [
      "[[1985    7]\n",
      " [ 106    4]]\n"
     ]
    }
   ],
   "source": [
    "# A confusion matrix tells us our false positives and false negatives:\n",
    "mat = confusion_matrix(y_test, y_hat)\n",
    "print (mat)"
   ]
  },
  {
   "cell_type": "code",
   "execution_count": 16,
   "metadata": {},
   "outputs": [
    {
     "name": "stdout",
     "output_type": "stream",
     "text": [
      "sensitivity: 3.63636363636\n",
      "specificity: 99.6485943775\n"
     ]
    }
   ],
   "source": [
    "# Let's interpret that.\n",
    "tn, fp, fn, tp = mat.ravel()\n",
    "sensitivity = 100*tp/(tp+fn)\n",
    "specificity=100*tn/(tn+fp)\n",
    "sens.append(sensitivity)\n",
    "spec.append(specificity)\n",
    "\n",
    "print('sensitivity:', sensitivity)\n",
    "print('specificity:', specificity)"
   ]
  },
  {
   "cell_type": "markdown",
   "metadata": {},
   "source": [
    "#### ROC-AUC score"
   ]
  },
  {
   "cell_type": "code",
   "execution_count": 17,
   "metadata": {},
   "outputs": [
    {
     "name": "stdout",
     "output_type": "stream",
     "text": [
      "71.4028842643\n"
     ]
    }
   ],
   "source": [
    "# Our ROC-AUC score measures the trade-off between specificity and sensitivity\n",
    "roc_score=100*roc_auc_score(y_test, y_hat_probs)\n",
    "roc.append(roc_score)\n",
    "print(roc_score)"
   ]
  },
  {
   "cell_type": "markdown",
   "metadata": {},
   "source": [
    "# Model 2. Logistic Classifier"
   ]
  },
  {
   "cell_type": "markdown",
   "metadata": {},
   "source": [
    "#### fit on the training, predict on the testing data"
   ]
  },
  {
   "cell_type": "code",
   "execution_count": 18,
   "metadata": {
    "collapsed": true
   },
   "outputs": [],
   "source": [
    "# train the model\n",
    "logit = LogisticRegression()\n",
    "log_model=logit.fit(X_train, y_train)"
   ]
  },
  {
   "cell_type": "code",
   "execution_count": 19,
   "metadata": {},
   "outputs": [
    {
     "data": {
      "text/plain": [
       "(0.9474060149977056, 0.00028727056066025418)"
      ]
     },
     "execution_count": 19,
     "metadata": {},
     "output_type": "execute_result"
    }
   ],
   "source": [
    "# The crossvalidiation score scores our performance on the training data. \n",
    "scores = cross_val_score(logit, X_train, y_train, cv=5)\n",
    "np.mean(scores), np.std(scores) # This is the mean of the 5 cv scores, plus its standard dev."
   ]
  },
  {
   "cell_type": "code",
   "execution_count": 20,
   "metadata": {
    "collapsed": true
   },
   "outputs": [],
   "source": [
    "# Predict the y values on the testing data.\n",
    "y_hat = log_model.predict(X_test)\n",
    "y_hat_probs = log_model.predict_proba(X_test)[:,1]"
   ]
  },
  {
   "cell_type": "code",
   "execution_count": 21,
   "metadata": {},
   "outputs": [
    {
     "data": {
      "text/html": [
       "<div>\n",
       "<style>\n",
       "    .dataframe thead tr:only-child th {\n",
       "        text-align: right;\n",
       "    }\n",
       "\n",
       "    .dataframe thead th {\n",
       "        text-align: left;\n",
       "    }\n",
       "\n",
       "    .dataframe tbody tr th {\n",
       "        vertical-align: top;\n",
       "    }\n",
       "</style>\n",
       "<table border=\"1\" class=\"dataframe\">\n",
       "  <thead>\n",
       "    <tr style=\"text-align: right;\">\n",
       "      <th></th>\n",
       "      <th>0</th>\n",
       "      <th>0</th>\n",
       "    </tr>\n",
       "  </thead>\n",
       "  <tbody>\n",
       "    <tr>\n",
       "      <th>0</th>\n",
       "      <td>DayRunner</td>\n",
       "      <td>0.006868</td>\n",
       "    </tr>\n",
       "    <tr>\n",
       "      <th>1</th>\n",
       "      <td>ALTER</td>\n",
       "      <td>-1.951962</td>\n",
       "    </tr>\n",
       "    <tr>\n",
       "      <th>2</th>\n",
       "      <td>PIPIENS</td>\n",
       "      <td>0.340164</td>\n",
       "    </tr>\n",
       "    <tr>\n",
       "      <th>3</th>\n",
       "      <td>PIPIENS-RESTUANS</td>\n",
       "      <td>-0.161630</td>\n",
       "    </tr>\n",
       "    <tr>\n",
       "      <th>4</th>\n",
       "      <td>RESTUANS</td>\n",
       "      <td>-1.261480</td>\n",
       "    </tr>\n",
       "    <tr>\n",
       "      <th>5</th>\n",
       "      <td>near_hotspot</td>\n",
       "      <td>0.414786</td>\n",
       "    </tr>\n",
       "    <tr>\n",
       "      <th>6</th>\n",
       "      <td>near_chompspot</td>\n",
       "      <td>0.073452</td>\n",
       "    </tr>\n",
       "    <tr>\n",
       "      <th>7</th>\n",
       "      <td>avg_rain1</td>\n",
       "      <td>-0.212584</td>\n",
       "    </tr>\n",
       "    <tr>\n",
       "      <th>8</th>\n",
       "      <td>avg_rain2</td>\n",
       "      <td>-1.182181</td>\n",
       "    </tr>\n",
       "    <tr>\n",
       "      <th>9</th>\n",
       "      <td>avg_dry1</td>\n",
       "      <td>-1.003647</td>\n",
       "    </tr>\n",
       "    <tr>\n",
       "      <th>10</th>\n",
       "      <td>avg_dry2</td>\n",
       "      <td>-1.801937</td>\n",
       "    </tr>\n",
       "  </tbody>\n",
       "</table>\n",
       "</div>"
      ],
      "text/plain": [
       "                   0         0\n",
       "0          DayRunner  0.006868\n",
       "1              ALTER -1.951962\n",
       "2            PIPIENS  0.340164\n",
       "3   PIPIENS-RESTUANS -0.161630\n",
       "4           RESTUANS -1.261480\n",
       "5       near_hotspot  0.414786\n",
       "6     near_chompspot  0.073452\n",
       "7          avg_rain1 -0.212584\n",
       "8          avg_rain2 -1.182181\n",
       "9           avg_dry1 -1.003647\n",
       "10          avg_dry2 -1.801937"
      ]
     },
     "execution_count": 21,
     "metadata": {},
     "output_type": "execute_result"
    }
   ],
   "source": [
    "# Check out the coefficients\n",
    "coefficients = pd.concat([pd.DataFrame(X_train.columns),pd.DataFrame(np.transpose(log_model.coef_))], axis = 1)\n",
    "coefficients"
   ]
  },
  {
   "cell_type": "markdown",
   "metadata": {},
   "source": [
    "#### Score my model"
   ]
  },
  {
   "cell_type": "code",
   "execution_count": 22,
   "metadata": {},
   "outputs": [
    {
     "name": "stdout",
     "output_type": "stream",
     "text": [
      "94.7668886775\n",
      "94.7668886775\n"
     ]
    }
   ],
   "source": [
    "# There are two different ways to get the accuracy score, which is our primary metric:\n",
    "modscore=100*(log_model.score(X_test, y_test))\n",
    "accuracy=100*metrics.accuracy_score(y_test, y_hat)\n",
    "acc.append(accuracy)\n",
    "print(modscore)\n",
    "print(accuracy)"
   ]
  },
  {
   "cell_type": "code",
   "execution_count": 23,
   "metadata": {},
   "outputs": [
    {
     "name": "stdout",
     "output_type": "stream",
     "text": [
      "[[1992    0]\n",
      " [ 110    0]]\n"
     ]
    }
   ],
   "source": [
    "# A confusion matrix tells us our false positives and false negatives:\n",
    "mat = confusion_matrix(y_test, y_hat)\n",
    "print (mat)"
   ]
  },
  {
   "cell_type": "code",
   "execution_count": 24,
   "metadata": {},
   "outputs": [
    {
     "name": "stdout",
     "output_type": "stream",
     "text": [
      "sensitivity: 0.0\n",
      "specificity: 100.0\n"
     ]
    }
   ],
   "source": [
    "# Let's interpret that.\n",
    "tn, fp, fn, tp = mat.ravel()\n",
    "sensitivity = 100*tp/(tp+fn)\n",
    "specificity=100*tn/(tn+fp)\n",
    "sens.append(sensitivity)\n",
    "spec.append(specificity)\n",
    "\n",
    "print('sensitivity:', sensitivity)\n",
    "print('specificity:', specificity)"
   ]
  },
  {
   "cell_type": "markdown",
   "metadata": {},
   "source": [
    "#### ROC-AUC score"
   ]
  },
  {
   "cell_type": "code",
   "execution_count": 25,
   "metadata": {},
   "outputs": [
    {
     "name": "stdout",
     "output_type": "stream",
     "text": [
      "70.5394304491\n"
     ]
    }
   ],
   "source": [
    "# Our ROC-AUC score measures the trade-off between specificity and sensitivity\n",
    "roc_score=100*roc_auc_score(y_test, y_hat_probs)\n",
    "roc.append(roc_score)\n",
    "print(roc_score)"
   ]
  },
  {
   "cell_type": "markdown",
   "metadata": {},
   "source": [
    "# Model 3. Random Forest Classifier"
   ]
  },
  {
   "cell_type": "markdown",
   "metadata": {},
   "source": [
    "#### Instantiate and Fit the Model with Default settings"
   ]
  },
  {
   "cell_type": "code",
   "execution_count": 26,
   "metadata": {
    "collapsed": true
   },
   "outputs": [],
   "source": [
    "rf = RandomForestClassifier()\n",
    "tree_model=rf.fit(X_train, y_train)"
   ]
  },
  {
   "cell_type": "markdown",
   "metadata": {},
   "source": [
    "#### Grid search to determine the best parameters"
   ]
  },
  {
   "cell_type": "code",
   "execution_count": 27,
   "metadata": {
    "collapsed": true
   },
   "outputs": [],
   "source": [
    "from sklearn.model_selection import GridSearchCV"
   ]
  },
  {
   "cell_type": "code",
   "execution_count": 28,
   "metadata": {},
   "outputs": [
    {
     "data": {
      "text/plain": [
       "(8404, 11)"
      ]
     },
     "execution_count": 28,
     "metadata": {},
     "output_type": "execute_result"
    }
   ],
   "source": [
    "# How many features do we have?\n",
    "X_train.shape"
   ]
  },
  {
   "cell_type": "code",
   "execution_count": 29,
   "metadata": {
    "collapsed": true
   },
   "outputs": [],
   "source": [
    "param_grid = {\n",
    "        'n_estimators': [100, 150], \n",
    "        'max_depth': [3, 4, None],\n",
    "        'min_samples_split': [5, 10, 15, 100],\n",
    "        'min_samples_leaf': [5, 10],\n",
    "#         'max_features': [10, 20, 25, 30], # This is not meaningful because I only have a few predictors\n",
    "        'class_weight': [None]    \n",
    "        }"
   ]
  },
  {
   "cell_type": "code",
   "execution_count": 30,
   "metadata": {},
   "outputs": [
    {
     "name": "stdout",
     "output_type": "stream",
     "text": [
      "{'class_weight': None, 'max_depth': None, 'min_samples_leaf': 5, 'min_samples_split': 5, 'n_estimators': 100}\n"
     ]
    }
   ],
   "source": [
    "grid = GridSearchCV(tree_model, param_grid=param_grid, n_jobs = 1, cv=3)\n",
    "grid.fit(X_train, y_train);\n",
    "# We should re-run the RF model with these optimal parameters:\n",
    "print(grid.best_params_)"
   ]
  },
  {
   "cell_type": "markdown",
   "metadata": {},
   "source": [
    "Note: Using `gridsearch` improved my ROC-AUC score by 3 points over the default settings! But it also completely re-arranged the importance of my features, with \"day of year\" becoming the most important, and my (carefully engineered) location and weather features dropping a lot."
   ]
  },
  {
   "cell_type": "markdown",
   "metadata": {},
   "source": [
    "#### Instantiate and Fit the Model with optimized settings"
   ]
  },
  {
   "cell_type": "code",
   "execution_count": 31,
   "metadata": {},
   "outputs": [],
   "source": [
    "rf = RandomForestClassifier(class_weight= None, \n",
    "                            max_depth= 3, \n",
    "                            min_samples_leaf= 5, \n",
    "                            min_samples_split= 5, \n",
    "                            n_estimators= 100)\n",
    "tree_model=rf.fit(X_train, y_train)"
   ]
  },
  {
   "cell_type": "code",
   "execution_count": 32,
   "metadata": {},
   "outputs": [
    {
     "data": {
      "text/plain": [
       "(0.94752506261675329, 0.0002195732545577469)"
      ]
     },
     "execution_count": 32,
     "metadata": {},
     "output_type": "execute_result"
    }
   ],
   "source": [
    "# The crossvalidiation score scores our performance on the training data. It's quite high (but we have imbalance)\n",
    "scores = cross_val_score(tree_model, X_train, y_train, cv=5)\n",
    "np.mean(scores), np.std(scores) # This is the mean of the 5 cv scores, plus its standard dev."
   ]
  },
  {
   "cell_type": "code",
   "execution_count": 33,
   "metadata": {
    "collapsed": true
   },
   "outputs": [],
   "source": [
    "# Predict the y values on the testing data.\n",
    "y_hat = tree_model.predict(X_test)\n",
    "y_hat_probs = tree_model.predict_proba(X_test)[:,1]"
   ]
  },
  {
   "cell_type": "markdown",
   "metadata": {},
   "source": [
    "#### Score the model"
   ]
  },
  {
   "cell_type": "code",
   "execution_count": 34,
   "metadata": {},
   "outputs": [
    {
     "name": "stdout",
     "output_type": "stream",
     "text": [
      "94.7668886775\n"
     ]
    }
   ],
   "source": [
    "# ACCURACY\n",
    "accuracy=100*metrics.accuracy_score(y_test, y_hat)\n",
    "acc.append(accuracy)\n",
    "print(accuracy)"
   ]
  },
  {
   "cell_type": "code",
   "execution_count": 35,
   "metadata": {},
   "outputs": [
    {
     "name": "stdout",
     "output_type": "stream",
     "text": [
      "[[1992    0]\n",
      " [ 110    0]]\n"
     ]
    }
   ],
   "source": [
    "# A confusion matrix tells us our false positives and false negatives:\n",
    "mat = confusion_matrix(y_test, y_hat)\n",
    "print (mat)"
   ]
  },
  {
   "cell_type": "code",
   "execution_count": 36,
   "metadata": {},
   "outputs": [
    {
     "name": "stdout",
     "output_type": "stream",
     "text": [
      "sensitivity: 0.0\n",
      "specificity: 100.0\n"
     ]
    }
   ],
   "source": [
    "# Let's interpret that.\n",
    "tn, fp, fn, tp = mat.ravel()\n",
    "sensitivity = 100*tp/(tp+fn)\n",
    "specificity=100*tn/(tn+fp)\n",
    "sens.append(sensitivity)\n",
    "spec.append(specificity)\n",
    "\n",
    "print('sensitivity:', sensitivity)\n",
    "print('specificity:', specificity)"
   ]
  },
  {
   "cell_type": "markdown",
   "metadata": {},
   "source": [
    "#### ROC-AUC score"
   ]
  },
  {
   "cell_type": "code",
   "execution_count": 37,
   "metadata": {},
   "outputs": [
    {
     "name": "stdout",
     "output_type": "stream",
     "text": [
      "77.7571650237\n"
     ]
    }
   ],
   "source": [
    "# Our ROC-AUC score measures the trade-off between specificity and sensitivity\n",
    "roc_score=100*roc_auc_score(y_test, y_hat_probs)\n",
    "roc.append(roc_score)\n",
    "print(roc_score)"
   ]
  },
  {
   "cell_type": "markdown",
   "metadata": {},
   "source": [
    "### Random Forest Feature Importances"
   ]
  },
  {
   "cell_type": "code",
   "execution_count": 38,
   "metadata": {},
   "outputs": [
    {
     "name": "stdout",
     "output_type": "stream",
     "text": [
      "Feature ranking:\n",
      "1. feature 0 (0.400612)\n",
      "2. feature 10 (0.131404)\n",
      "3. feature 9 (0.094649)\n",
      "4. feature 2 (0.092611)\n",
      "5. feature 5 (0.087633)\n",
      "6. feature 4 (0.062544)\n",
      "7. feature 6 (0.054425)\n",
      "8. feature 7 (0.039857)\n",
      "9. feature 8 (0.021961)\n",
      "10. feature 3 (0.013056)\n",
      "11. feature 1 (0.001247)\n"
     ]
    }
   ],
   "source": [
    "# compute the feature importances\n",
    "importances = tree_model.feature_importances_\n",
    "std = np.std([tree.feature_importances_ for tree in tree_model.estimators_],\n",
    "             axis=0)\n",
    "indices = np.argsort(importances)[::-1]\n",
    "\n",
    "# Print the feature ranking\n",
    "print(\"Feature ranking:\")\n",
    "\n",
    "for f in range(X.shape[1]):\n",
    "    print(\"%d. feature %d (%f)\" % (f + 1, indices[f], importances[indices[f]]))"
   ]
  },
  {
   "cell_type": "code",
   "execution_count": 39,
   "metadata": {},
   "outputs": [
    {
     "data": {
      "text/plain": [
       "11"
      ]
     },
     "execution_count": 39,
     "metadata": {},
     "output_type": "execute_result"
    }
   ],
   "source": [
    "len(importances)"
   ]
  },
  {
   "cell_type": "code",
   "execution_count": 40,
   "metadata": {},
   "outputs": [
    {
     "data": {
      "text/plain": [
       "DayRunner           0.400612\n",
       "avg_dry2            0.131404\n",
       "avg_dry1            0.094649\n",
       "PIPIENS             0.092611\n",
       "near_hotspot        0.087633\n",
       "RESTUANS            0.062544\n",
       "near_chompspot      0.054425\n",
       "avg_rain1           0.039857\n",
       "avg_rain2           0.021961\n",
       "PIPIENS-RESTUANS    0.013056\n",
       "ALTER               0.001247\n",
       "Name: importance, dtype: float64"
      ]
     },
     "execution_count": 40,
     "metadata": {},
     "output_type": "execute_result"
    }
   ],
   "source": [
    "feat_imp=pd.DataFrame(importances, index=X_test.columns, columns=['importance'])\n",
    "feat_imp['importance'].sort_values(ascending=False).head(15)"
   ]
  },
  {
   "cell_type": "code",
   "execution_count": 41,
   "metadata": {
    "collapsed": true
   },
   "outputs": [],
   "source": [
    "top15=pd.DataFrame(feat_imp['importance'].sort_values(ascending=False))"
   ]
  },
  {
   "cell_type": "code",
   "execution_count": 42,
   "metadata": {},
   "outputs": [
    {
     "data": {
      "text/plain": [
       "Text(0,0.5,'Feature Importance')"
      ]
     },
     "execution_count": 42,
     "metadata": {},
     "output_type": "execute_result"
    },
    {
     "data": {
      "image/png": "[encoded data removed]",
      "text/plain": [
       "<matplotlib.figure.Figure at 0x1a108ff320>"
      ]
     },
     "metadata": {},
     "output_type": "display_data"
    }
   ],
   "source": [
    "sns.set(style=\"darkgrid\", color_codes=None)\n",
    "# sns.palplot(sns.color_palette(\"RdBu\", n_colors=7))\n",
    "ax = top15.plot(kind='bar', legend=False, fontsize=18,  figsize=(15, 7))\n",
    "plt.xticks(rotation = 45,  fontsize=18)\n",
    "plt.title('Most Important Predictors',  fontsize=19)\n",
    "plt.yticks(rotation = 0,  fontsize=18)\n",
    "plt.ylabel('Feature Importance', rotation=90,  fontsize=18) "
   ]
  },
  {
   "cell_type": "markdown",
   "metadata": {},
   "source": [
    "# Compare Models"
   ]
  },
  {
   "cell_type": "code",
   "execution_count": 43,
   "metadata": {},
   "outputs": [
    {
     "name": "stdout",
     "output_type": "stream",
     "text": [
      "[94.624167459562329, 94.766888677450041, 94.766888677450041]\n",
      "[3.6363636363636362, 0.0, 0.0]\n",
      "[99.648594377510037, 100.0, 100.0]\n",
      "[71.402884264330041, 70.539430449069002, 77.757165023731289]\n"
     ]
    }
   ],
   "source": [
    "# Recap those scores for me, please.\n",
    "models=['KNN', 'Logistic', 'Random Forest']\n",
    "cols=['Model', 'Accuracy', 'Sensitivity', 'Specificity', 'ROC-AUC']\n",
    "print(acc)\n",
    "print(sens)\n",
    "print(spec)\n",
    "print(roc)"
   ]
  },
  {
   "cell_type": "code",
   "execution_count": 44,
   "metadata": {},
   "outputs": [
    {
     "data": {
      "text/html": [
       "<div>\n",
       "<style>\n",
       "    .dataframe thead tr:only-child th {\n",
       "        text-align: right;\n",
       "    }\n",
       "\n",
       "    .dataframe thead th {\n",
       "        text-align: left;\n",
       "    }\n",
       "\n",
       "    .dataframe tbody tr th {\n",
       "        vertical-align: top;\n",
       "    }\n",
       "</style>\n",
       "<table border=\"1\" class=\"dataframe\">\n",
       "  <thead>\n",
       "    <tr style=\"text-align: right;\">\n",
       "      <th></th>\n",
       "      <th>Model</th>\n",
       "      <th>Accuracy</th>\n",
       "      <th>Sensitivity</th>\n",
       "      <th>Specificity</th>\n",
       "      <th>ROC-AUC</th>\n",
       "    </tr>\n",
       "  </thead>\n",
       "  <tbody>\n",
       "    <tr>\n",
       "      <th>0</th>\n",
       "      <td>KNN</td>\n",
       "      <td>94.624167</td>\n",
       "      <td>3.636364</td>\n",
       "      <td>99.648594</td>\n",
       "      <td>71.402884</td>\n",
       "    </tr>\n",
       "    <tr>\n",
       "      <th>1</th>\n",
       "      <td>Logistic</td>\n",
       "      <td>94.766889</td>\n",
       "      <td>0.000000</td>\n",
       "      <td>100.000000</td>\n",
       "      <td>70.539430</td>\n",
       "    </tr>\n",
       "    <tr>\n",
       "      <th>2</th>\n",
       "      <td>Random Forest</td>\n",
       "      <td>94.766889</td>\n",
       "      <td>0.000000</td>\n",
       "      <td>100.000000</td>\n",
       "      <td>77.757165</td>\n",
       "    </tr>\n",
       "  </tbody>\n",
       "</table>\n",
       "</div>"
      ],
      "text/plain": [
       "           Model   Accuracy  Sensitivity  Specificity    ROC-AUC\n",
       "0            KNN  94.624167     3.636364    99.648594  71.402884\n",
       "1       Logistic  94.766889     0.000000   100.000000  70.539430\n",
       "2  Random Forest  94.766889     0.000000   100.000000  77.757165"
      ]
     },
     "execution_count": 44,
     "metadata": {},
     "output_type": "execute_result"
    }
   ],
   "source": [
    "# Show me that in a table:\n",
    "model_scores=pd.DataFrame(list(map(list, zip(models, acc, sens, spec, roc))), columns=cols)\n",
    "model_scores"
   ]
  },
  {
   "cell_type": "code",
   "execution_count": 45,
   "metadata": {},
   "outputs": [
    {
     "data": {
      "text/plain": [
       "Text(0,0.5,'Score')"
      ]
     },
     "execution_count": 45,
     "metadata": {},
     "output_type": "execute_result"
    },
    {
     "data": {
      "image/png": "[encoded data removed]",
      "text/plain": [
       "<matplotlib.figure.Figure at 0x1a108ffc50>"
      ]
     },
     "metadata": {},
     "output_type": "display_data"
    }
   ],
   "source": [
    "# Make it pretty. \n",
    "ax = model_scores.set_index('Model').T.plot(kind='bar', legend=False, fontsize=12, figsize=(15, 7))\n",
    "ax.legend(loc=1, fontsize=18, bbox_to_anchor=(-0.1, 0.5))\n",
    "plt.xticks(rotation = 45,  fontsize=15)\n",
    "plt.title('Random Forest Is the Best Pick',  fontsize=19)\n",
    "plt.yticks(rotation = 0,  fontsize=15)\n",
    "plt.ylabel('Score', rotation=90,  fontsize=15)  "
   ]
  },
  {
   "cell_type": "markdown",
   "metadata": {
    "collapsed": true
   },
   "source": [
    "## Let's draw the ROC-AUC curve for the Random Forest Model."
   ]
  },
  {
   "cell_type": "code",
   "execution_count": 48,
   "metadata": {
    "collapsed": true
   },
   "outputs": [],
   "source": [
    "from sklearn.metrics import roc_curve, auc"
   ]
  },
  {
   "cell_type": "code",
   "execution_count": 55,
   "metadata": {},
   "outputs": [],
   "source": [
    "# Empty dictionaries.\n",
    "FPR = dict()\n",
    "TPR = dict()\n",
    "ROC_AUC = dict()\n",
    "# For class 1 (has WNV), find the area under the curve:\n",
    "FPR[1], TPR[1], _ = roc_curve(y_test, y_hat_probs)\n",
    "ROC_AUC[1] = auc(FPR[1], TPR[1])"
   ]
  },
  {
   "cell_type": "code",
   "execution_count": 59,
   "metadata": {},
   "outputs": [
    {
     "data": {
      "text/plain": [
       "0.77757165023731289"
      ]
     },
     "execution_count": 59,
     "metadata": {},
     "output_type": "execute_result"
    }
   ],
   "source": [
    "# What is that ROC-AUC score?\n",
    "ROC_AUC[1]"
   ]
  },
  {
   "cell_type": "code",
   "execution_count": 61,
   "metadata": {},
   "outputs": [
    {
     "data": {
      "text/plain": [
       "0.77757165023731289"
      ]
     },
     "execution_count": 61,
     "metadata": {},
     "output_type": "execute_result"
    }
   ],
   "source": [
    "# Same but using the scikit default:\n",
    "roc_auc_score(y_test, y_hat_probs)"
   ]
  },
  {
   "cell_type": "code",
   "execution_count": 63,
   "metadata": {},
   "outputs": [
    {
     "data": {
      "image/png": "[encoded data removed]",
      "text/plain": [
       "<matplotlib.figure.Figure at 0x1a1441c3c8>"
      ]
     },
     "metadata": {},
     "output_type": "display_data"
    }
   ],
   "source": [
    "# Let's draw that:\n",
    "plt.style.use('seaborn-white')\n",
    "plt.figure(figsize=[11,9])\n",
    "plt.plot(FPR[1], TPR[1], label='ROC curve (area = %0.2f)' % ROC_AUC[1], linewidth=4)\n",
    "plt.plot([0, 1], [0, 1], 'k--', linewidth=4)\n",
    "plt.xlim([0.0, 1.0])\n",
    "plt.ylim([0.0, 1.05])\n",
    "plt.xlabel('False Positive Rate', fontsize=18)\n",
    "plt.ylabel('True Positive Rate', fontsize=18)\n",
    "plt.title('Receiver operating characteristic for WNV detection', fontsize=18)\n",
    "plt.legend(loc=\"lower right\", fontsize=18);"
   ]
  },
  {
   "cell_type": "markdown",
   "metadata": {},
   "source": [
    "# Pickle this RF model so we can score the Kaggle Submission."
   ]
  },
  {
   "cell_type": "code",
   "execution_count": 65,
   "metadata": {},
   "outputs": [],
   "source": [
    "import pickle\n",
    "with open('tree_model.pickle', 'wb') as f:\n",
    "    pickle.dump(tree_model, f, protocol=0)"
   ]
  },
  {
   "cell_type": "code",
   "execution_count": null,
   "metadata": {
    "collapsed": true
   },
   "outputs": [],
   "source": []
  }
 ],
 "metadata": {
  "kernelspec": {
   "display_name": "Python [default]",
   "language": "python",
   "name": "python3"
  },
  "language_info": {
   "codemirror_mode": {
    "name": "ipython",
    "version": 3
   },
   "file_extension": ".py",
   "mimetype": "text/x-python",
   "name": "python",
   "nbconvert_exporter": "python",
   "pygments_lexer": "ipython3",
   "version": "3.6.3"
  }
 },
 "nbformat": 4,
 "nbformat_minor": 2
}
