{
 "cells": [
  {
   "cell_type": "code",
   "execution_count": 1,
   "metadata": {
    "collapsed": true
   },
   "outputs": [],
   "source": [
    "import pandas as pd\n",
    "import seaborn as sns\n",
    "import numpy as np\n",
    "import matplotlib.pyplot as plt\n",
    "%matplotlib inline\n",
    "\n",
    "from sklearn.feature_extraction.text import CountVectorizer, TfidfTransformer, TfidfVectorizer\n",
    "from sklearn.model_selection import cross_val_score\n",
    "from sklearn.metrics import classification_report\n",
    "from sklearn.naive_bayes import MultinomialNB, BernoulliNB, GaussianNB\n",
    "from sklearn.pipeline import Pipeline\n",
    "from sklearn.linear_model import LogisticRegression\n",
    "from sklearn.model_selection import train_test_split\n",
    "from sklearn import metrics\n",
    "from sklearn.metrics import classification_report,confusion_matrix,accuracy_score\n",
    "from sklearn.neighbors import KNeighborsClassifier\n",
    "from sklearn.ensemble import RandomForestClassifier, ExtraTreesClassifier, BaggingClassifier\n",
    "from sklearn.metrics import roc_auc_score\n",
    "from geopy.distance import vincenty\n",
    "sns.set_style(\"darkgrid\")"
   ]
  },
  {
   "cell_type": "code",
   "execution_count": 2,
   "metadata": {},
   "outputs": [
    {
     "data": {
      "application/javascript": [
       "$('.nbp-app-bar').toggle()"
      ],
      "text/plain": [
       "<IPython.core.display.Javascript object>"
      ]
     },
     "metadata": {},
     "output_type": "display_data"
    }
   ],
   "source": [
    "%%javascript\n",
    "$('.nbp-app-bar').toggle()"
   ]
  },
  {
   "cell_type": "markdown",
   "metadata": {},
   "source": [
    "# Read and Split the Data"
   ]
  },
  {
   "cell_type": "code",
   "execution_count": 3,
   "metadata": {
    "collapsed": true
   },
   "outputs": [],
   "source": [
    "weather=pd.read_csv('weather2.csv')\n",
    "readings=pd.read_csv('readings.csv')"
   ]
  },
  {
   "cell_type": "code",
   "execution_count": 4,
   "metadata": {},
   "outputs": [
    {
     "name": "stdout",
     "output_type": "stream",
     "text": [
      "(10506, 12)\n"
     ]
    },
    {
     "data": {
      "text/html": [
       "<div>\n",
       "<style>\n",
       "    .dataframe thead tr:only-child th {\n",
       "        text-align: right;\n",
       "    }\n",
       "\n",
       "    .dataframe thead th {\n",
       "        text-align: left;\n",
       "    }\n",
       "\n",
       "    .dataframe tbody tr th {\n",
       "        vertical-align: top;\n",
       "    }\n",
       "</style>\n",
       "<table border=\"1\" class=\"dataframe\">\n",
       "  <thead>\n",
       "    <tr style=\"text-align: right;\">\n",
       "      <th></th>\n",
       "      <th>Virus</th>\n",
       "      <th>DayRunner</th>\n",
       "      <th>ALTER</th>\n",
       "      <th>PIPIENS</th>\n",
       "      <th>PIPIENS-RESTUANS</th>\n",
       "      <th>RESTUANS</th>\n",
       "      <th>near_hotspot</th>\n",
       "      <th>near_chompspot</th>\n",
       "      <th>avg_rain1</th>\n",
       "      <th>avg_rain2</th>\n",
       "      <th>avg_dry1</th>\n",
       "      <th>avg_dry2</th>\n",
       "    </tr>\n",
       "  </thead>\n",
       "  <tbody>\n",
       "    <tr>\n",
       "      <th>0</th>\n",
       "      <td>0</td>\n",
       "      <td>149</td>\n",
       "      <td>0</td>\n",
       "      <td>0</td>\n",
       "      <td>1</td>\n",
       "      <td>0</td>\n",
       "      <td>1</td>\n",
       "      <td>4</td>\n",
       "      <td>0.714286</td>\n",
       "      <td>0.428571</td>\n",
       "      <td>0.857143</td>\n",
       "      <td>0.571429</td>\n",
       "    </tr>\n",
       "    <tr>\n",
       "      <th>1</th>\n",
       "      <td>0</td>\n",
       "      <td>149</td>\n",
       "      <td>0</td>\n",
       "      <td>0</td>\n",
       "      <td>0</td>\n",
       "      <td>1</td>\n",
       "      <td>1</td>\n",
       "      <td>4</td>\n",
       "      <td>0.714286</td>\n",
       "      <td>0.428571</td>\n",
       "      <td>0.857143</td>\n",
       "      <td>0.571429</td>\n",
       "    </tr>\n",
       "    <tr>\n",
       "      <th>2</th>\n",
       "      <td>0</td>\n",
       "      <td>149</td>\n",
       "      <td>0</td>\n",
       "      <td>0</td>\n",
       "      <td>0</td>\n",
       "      <td>1</td>\n",
       "      <td>0</td>\n",
       "      <td>3</td>\n",
       "      <td>0.714286</td>\n",
       "      <td>0.428571</td>\n",
       "      <td>0.857143</td>\n",
       "      <td>0.571429</td>\n",
       "    </tr>\n",
       "    <tr>\n",
       "      <th>3</th>\n",
       "      <td>0</td>\n",
       "      <td>149</td>\n",
       "      <td>0</td>\n",
       "      <td>0</td>\n",
       "      <td>1</td>\n",
       "      <td>0</td>\n",
       "      <td>2</td>\n",
       "      <td>4</td>\n",
       "      <td>0.714286</td>\n",
       "      <td>0.428571</td>\n",
       "      <td>0.857143</td>\n",
       "      <td>0.571429</td>\n",
       "    </tr>\n",
       "    <tr>\n",
       "      <th>4</th>\n",
       "      <td>0</td>\n",
       "      <td>149</td>\n",
       "      <td>0</td>\n",
       "      <td>0</td>\n",
       "      <td>0</td>\n",
       "      <td>1</td>\n",
       "      <td>2</td>\n",
       "      <td>4</td>\n",
       "      <td>0.714286</td>\n",
       "      <td>0.428571</td>\n",
       "      <td>0.857143</td>\n",
       "      <td>0.571429</td>\n",
       "    </tr>\n",
       "  </tbody>\n",
       "</table>\n",
       "</div>"
      ],
      "text/plain": [
       "   Virus  DayRunner  ALTER  PIPIENS  PIPIENS-RESTUANS  RESTUANS  near_hotspot  \\\n",
       "0      0        149      0        0                 1         0             1   \n",
       "1      0        149      0        0                 0         1             1   \n",
       "2      0        149      0        0                 0         1             0   \n",
       "3      0        149      0        0                 1         0             2   \n",
       "4      0        149      0        0                 0         1             2   \n",
       "\n",
       "   near_chompspot  avg_rain1  avg_rain2  avg_dry1  avg_dry2  \n",
       "0               4   0.714286   0.428571  0.857143  0.571429  \n",
       "1               4   0.714286   0.428571  0.857143  0.571429  \n",
       "2               3   0.714286   0.428571  0.857143  0.571429  \n",
       "3               4   0.714286   0.428571  0.857143  0.571429  \n",
       "4               4   0.714286   0.428571  0.857143  0.571429  "
      ]
     },
     "execution_count": 4,
     "metadata": {},
     "output_type": "execute_result"
    }
   ],
   "source": [
    "chicago=pd.merge(readings, weather, on='Date').drop(['Date', 'Month', 'Year', 'CULEX'], axis=1);\n",
    "print(chicago.shape)\n",
    "chicago.head()"
   ]
  },
  {
   "cell_type": "code",
   "execution_count": 5,
   "metadata": {},
   "outputs": [
    {
     "data": {
      "text/plain": [
       "(8404, 11)"
      ]
     },
     "execution_count": 5,
     "metadata": {},
     "output_type": "execute_result"
    }
   ],
   "source": [
    "# Split the data\n",
    "X = chicago.drop(['Virus'], axis=1)\n",
    "y = chicago['Virus']\n",
    "X_train, X_test, y_train, y_test = train_test_split(X, y, test_size = .2, random_state=42)\n",
    "X_train.shape # Notice the number of rows in the training set. This should stay constant."
   ]
  },
  {
   "cell_type": "code",
   "execution_count": 6,
   "metadata": {},
   "outputs": [
    {
     "data": {
      "text/plain": [
       "Index(['DayRunner', 'ALTER', 'PIPIENS', 'PIPIENS-RESTUANS', 'RESTUANS',\n",
       "       'near_hotspot', 'near_chompspot', 'avg_rain1', 'avg_rain2', 'avg_dry1',\n",
       "       'avg_dry2'],\n",
       "      dtype='object')"
      ]
     },
     "execution_count": 6,
     "metadata": {},
     "output_type": "execute_result"
    }
   ],
   "source": [
    "# List the features\n",
    "X.columns"
   ]
  },
  {
   "cell_type": "markdown",
   "metadata": {},
   "source": [
    "# Model 1. KNN classifier "
   ]
  },
  {
   "cell_type": "markdown",
   "metadata": {},
   "source": [
    "#### fit on the training, predict on the testing data"
   ]
  },
  {
   "cell_type": "code",
   "execution_count": 7,
   "metadata": {
    "collapsed": true
   },
   "outputs": [],
   "source": [
    "# train the model\n",
    "neighs = KNeighborsClassifier(n_neighbors=7)\n",
    "knn_model = neighs.fit(X_train, y_train)"
   ]
  },
  {
   "cell_type": "code",
   "execution_count": 8,
   "metadata": {},
   "outputs": [
    {
     "data": {
      "text/plain": [
       "(0.9439549088809569, 0.0046952383870515566)"
      ]
     },
     "execution_count": 8,
     "metadata": {},
     "output_type": "execute_result"
    }
   ],
   "source": [
    "# The crossvalidiation score scores our performance on the training data. \n",
    "scores = cross_val_score(knn_model, X_train, y_train, cv=5)\n",
    "np.mean(scores), np.std(scores) # This is the mean of the 5 cv scores, plus its standard dev."
   ]
  },
  {
   "cell_type": "code",
   "execution_count": 9,
   "metadata": {
    "collapsed": true
   },
   "outputs": [],
   "source": [
    "# Predict the y values on the testing data.\n",
    "y_hat = knn_model.predict(X_test)"
   ]
  },
  {
   "cell_type": "markdown",
   "metadata": {},
   "source": [
    "#### Score my model"
   ]
  },
  {
   "cell_type": "code",
   "execution_count": 10,
   "metadata": {
    "collapsed": true
   },
   "outputs": [],
   "source": [
    "# Set up some empty lists, so we can compare our models at the end\n",
    "acc=[]\n",
    "sens=[]\n",
    "spec=[]\n",
    "roc=[]"
   ]
  },
  {
   "cell_type": "code",
   "execution_count": 11,
   "metadata": {},
   "outputs": [
    {
     "name": "stdout",
     "output_type": "stream",
     "text": [
      "94.6241674596\n",
      "94.6241674596\n"
     ]
    }
   ],
   "source": [
    "# There are two different ways to get the accuracy score, which is our primary metric:\n",
    "modscore=100*(knn_model.score(X_test, y_test))\n",
    "accuracy=100*metrics.accuracy_score(y_test, y_hat)\n",
    "acc.append(accuracy)\n",
    "print(modscore)\n",
    "print(accuracy)"
   ]
  },
  {
   "cell_type": "code",
   "execution_count": 12,
   "metadata": {},
   "outputs": [
    {
     "name": "stdout",
     "output_type": "stream",
     "text": [
      "[[1985    7]\n",
      " [ 106    4]]\n"
     ]
    }
   ],
   "source": [
    "# A confusion matrix tells us our false positives and false negatives:\n",
    "mat = confusion_matrix(y_test, y_hat)\n",
    "print (mat)"
   ]
  },
  {
   "cell_type": "code",
   "execution_count": 13,
   "metadata": {},
   "outputs": [
    {
     "name": "stdout",
     "output_type": "stream",
     "text": [
      "sensitivity: 3.63636363636\n",
      "specificity: 99.6485943775\n"
     ]
    }
   ],
   "source": [
    "# Let's interpret that.\n",
    "tn, fp, fn, tp = mat.ravel()\n",
    "sensitivity = 100*tp/(tp+fn)\n",
    "specificity=100*tn/(tn+fp)\n",
    "sens.append(sensitivity)\n",
    "spec.append(specificity)\n",
    "\n",
    "print('sensitivity:', sensitivity)\n",
    "print('specificity:', specificity)"
   ]
  },
  {
   "cell_type": "code",
   "execution_count": 14,
   "metadata": {},
   "outputs": [
    {
     "name": "stdout",
     "output_type": "stream",
     "text": [
      "51.6424790069\n"
     ]
    }
   ],
   "source": [
    "# Our ROC-AUC score measures the trade-off between specificity and sensitivity\n",
    "roc_score=100*roc_auc_score(y_test, y_hat)\n",
    "roc.append(roc_score)\n",
    "print(roc_score)"
   ]
  },
  {
   "cell_type": "markdown",
   "metadata": {},
   "source": [
    "# Model 2. Logistic Classifier"
   ]
  },
  {
   "cell_type": "markdown",
   "metadata": {},
   "source": [
    "#### fit on the training, predict on the testing data"
   ]
  },
  {
   "cell_type": "code",
   "execution_count": 15,
   "metadata": {
    "collapsed": true
   },
   "outputs": [],
   "source": [
    "# train the model\n",
    "logit = LogisticRegression()\n",
    "log_model=logit.fit(X_train, y_train)"
   ]
  },
  {
   "cell_type": "code",
   "execution_count": 16,
   "metadata": {},
   "outputs": [
    {
     "data": {
      "text/plain": [
       "(0.9474060149977056, 0.00028727056066025418)"
      ]
     },
     "execution_count": 16,
     "metadata": {},
     "output_type": "execute_result"
    }
   ],
   "source": [
    "# The crossvalidiation score scores our performance on the training data. \n",
    "scores = cross_val_score(logit, X_train, y_train, cv=5)\n",
    "np.mean(scores), np.std(scores) # This is the mean of the 5 cv scores, plus its standard dev."
   ]
  },
  {
   "cell_type": "code",
   "execution_count": 17,
   "metadata": {
    "collapsed": true
   },
   "outputs": [],
   "source": [
    "# Predict the y values on the testing data.\n",
    "y_hat = log_model.predict(X_test)"
   ]
  },
  {
   "cell_type": "code",
   "execution_count": 18,
   "metadata": {},
   "outputs": [
    {
     "data": {
      "text/html": [
       "<div>\n",
       "<style>\n",
       "    .dataframe thead tr:only-child th {\n",
       "        text-align: right;\n",
       "    }\n",
       "\n",
       "    .dataframe thead th {\n",
       "        text-align: left;\n",
       "    }\n",
       "\n",
       "    .dataframe tbody tr th {\n",
       "        vertical-align: top;\n",
       "    }\n",
       "</style>\n",
       "<table border=\"1\" class=\"dataframe\">\n",
       "  <thead>\n",
       "    <tr style=\"text-align: right;\">\n",
       "      <th></th>\n",
       "      <th>0</th>\n",
       "      <th>0</th>\n",
       "    </tr>\n",
       "  </thead>\n",
       "  <tbody>\n",
       "    <tr>\n",
       "      <th>0</th>\n",
       "      <td>DayRunner</td>\n",
       "      <td>0.006868</td>\n",
       "    </tr>\n",
       "    <tr>\n",
       "      <th>1</th>\n",
       "      <td>ALTER</td>\n",
       "      <td>-1.951962</td>\n",
       "    </tr>\n",
       "    <tr>\n",
       "      <th>2</th>\n",
       "      <td>PIPIENS</td>\n",
       "      <td>0.340164</td>\n",
       "    </tr>\n",
       "    <tr>\n",
       "      <th>3</th>\n",
       "      <td>PIPIENS-RESTUANS</td>\n",
       "      <td>-0.161630</td>\n",
       "    </tr>\n",
       "    <tr>\n",
       "      <th>4</th>\n",
       "      <td>RESTUANS</td>\n",
       "      <td>-1.261480</td>\n",
       "    </tr>\n",
       "    <tr>\n",
       "      <th>5</th>\n",
       "      <td>near_hotspot</td>\n",
       "      <td>0.414786</td>\n",
       "    </tr>\n",
       "    <tr>\n",
       "      <th>6</th>\n",
       "      <td>near_chompspot</td>\n",
       "      <td>0.073452</td>\n",
       "    </tr>\n",
       "    <tr>\n",
       "      <th>7</th>\n",
       "      <td>avg_rain1</td>\n",
       "      <td>-0.212584</td>\n",
       "    </tr>\n",
       "    <tr>\n",
       "      <th>8</th>\n",
       "      <td>avg_rain2</td>\n",
       "      <td>-1.182181</td>\n",
       "    </tr>\n",
       "    <tr>\n",
       "      <th>9</th>\n",
       "      <td>avg_dry1</td>\n",
       "      <td>-1.003647</td>\n",
       "    </tr>\n",
       "    <tr>\n",
       "      <th>10</th>\n",
       "      <td>avg_dry2</td>\n",
       "      <td>-1.801937</td>\n",
       "    </tr>\n",
       "  </tbody>\n",
       "</table>\n",
       "</div>"
      ],
      "text/plain": [
       "                   0         0\n",
       "0          DayRunner  0.006868\n",
       "1              ALTER -1.951962\n",
       "2            PIPIENS  0.340164\n",
       "3   PIPIENS-RESTUANS -0.161630\n",
       "4           RESTUANS -1.261480\n",
       "5       near_hotspot  0.414786\n",
       "6     near_chompspot  0.073452\n",
       "7          avg_rain1 -0.212584\n",
       "8          avg_rain2 -1.182181\n",
       "9           avg_dry1 -1.003647\n",
       "10          avg_dry2 -1.801937"
      ]
     },
     "execution_count": 18,
     "metadata": {},
     "output_type": "execute_result"
    }
   ],
   "source": [
    "# Check out the coefficients\n",
    "coefficients = pd.concat([pd.DataFrame(X_train.columns),pd.DataFrame(np.transpose(log_model.coef_))], axis = 1)\n",
    "coefficients"
   ]
  },
  {
   "cell_type": "markdown",
   "metadata": {},
   "source": [
    "#### Score my model"
   ]
  },
  {
   "cell_type": "code",
   "execution_count": 19,
   "metadata": {},
   "outputs": [
    {
     "name": "stdout",
     "output_type": "stream",
     "text": [
      "94.7668886775\n",
      "94.7668886775\n"
     ]
    }
   ],
   "source": [
    "# There are two different ways to get the accuracy score, which is our primary metric:\n",
    "modscore=100*(log_model.score(X_test, y_test))\n",
    "accuracy=100*metrics.accuracy_score(y_test, y_hat)\n",
    "acc.append(accuracy)\n",
    "print(modscore)\n",
    "print(accuracy)"
   ]
  },
  {
   "cell_type": "code",
   "execution_count": 20,
   "metadata": {},
   "outputs": [
    {
     "name": "stdout",
     "output_type": "stream",
     "text": [
      "[[1992    0]\n",
      " [ 110    0]]\n"
     ]
    }
   ],
   "source": [
    "# A confusion matrix tells us our false positives and false negatives:\n",
    "mat = confusion_matrix(y_test, y_hat)\n",
    "print (mat)"
   ]
  },
  {
   "cell_type": "code",
   "execution_count": 21,
   "metadata": {},
   "outputs": [
    {
     "name": "stdout",
     "output_type": "stream",
     "text": [
      "sensitivity: 0.0\n",
      "specificity: 100.0\n"
     ]
    }
   ],
   "source": [
    "# Let's interpret that.\n",
    "tn, fp, fn, tp = mat.ravel()\n",
    "sensitivity = 100*tp/(tp+fn)\n",
    "specificity=100*tn/(tn+fp)\n",
    "sens.append(sensitivity)\n",
    "spec.append(specificity)\n",
    "\n",
    "print('sensitivity:', sensitivity)\n",
    "print('specificity:', specificity)"
   ]
  },
  {
   "cell_type": "code",
   "execution_count": 22,
   "metadata": {},
   "outputs": [
    {
     "name": "stdout",
     "output_type": "stream",
     "text": [
      "50.0\n"
     ]
    }
   ],
   "source": [
    "# Our ROC-AUC score measures the trade-off between specificity and sensitivity\n",
    "roc_score=100*roc_auc_score(y_test, y_hat)\n",
    "roc.append(roc_score)\n",
    "print(roc_score)"
   ]
  },
  {
   "cell_type": "markdown",
   "metadata": {},
   "source": [
    "# Model 3. Random Forest Classifier"
   ]
  },
  {
   "cell_type": "markdown",
   "metadata": {},
   "source": [
    "#### Instantiate and Fit the Model"
   ]
  },
  {
   "cell_type": "code",
   "execution_count": 23,
   "metadata": {
    "collapsed": true
   },
   "outputs": [],
   "source": [
    "dt = RandomForestClassifier()\n",
    "tree_model=dt.fit(X_train, y_train)"
   ]
  },
  {
   "cell_type": "code",
   "execution_count": 24,
   "metadata": {},
   "outputs": [
    {
     "data": {
      "text/plain": [
       "(0.93824267609076628, 0.0036346611268429298)"
      ]
     },
     "execution_count": 24,
     "metadata": {},
     "output_type": "execute_result"
    }
   ],
   "source": [
    "# The crossvalidiation score scores our performance on the training data. It's quite high (but we have imbalance)\n",
    "scores = cross_val_score(tree_model, X_train, y_train, cv=5)\n",
    "np.mean(scores), np.std(scores) # This is the mean of the 5 cv scores, plus its standard dev."
   ]
  },
  {
   "cell_type": "code",
   "execution_count": 25,
   "metadata": {
    "collapsed": true
   },
   "outputs": [],
   "source": [
    "# Predict the y values on the testing data.\n",
    "y_hat = tree_model.predict(X_test)"
   ]
  },
  {
   "cell_type": "markdown",
   "metadata": {},
   "source": [
    "#### Score the model"
   ]
  },
  {
   "cell_type": "code",
   "execution_count": 26,
   "metadata": {},
   "outputs": [
    {
     "name": "stdout",
     "output_type": "stream",
     "text": [
      "94.2435775452\n"
     ]
    }
   ],
   "source": [
    "# ACCURACY\n",
    "accuracy=100*metrics.accuracy_score(y_test, y_hat)\n",
    "acc.append(accuracy)\n",
    "print(accuracy)"
   ]
  },
  {
   "cell_type": "code",
   "execution_count": 27,
   "metadata": {},
   "outputs": [
    {
     "name": "stdout",
     "output_type": "stream",
     "text": [
      "[[1975   17]\n",
      " [ 104    6]]\n"
     ]
    }
   ],
   "source": [
    "# A confusion matrix tells us our false positives and false negatives:\n",
    "mat = confusion_matrix(y_test, y_hat)\n",
    "print (mat)"
   ]
  },
  {
   "cell_type": "code",
   "execution_count": 28,
   "metadata": {},
   "outputs": [
    {
     "name": "stdout",
     "output_type": "stream",
     "text": [
      "sensitivity: 5.45454545455\n",
      "specificity: 99.1465863454\n"
     ]
    }
   ],
   "source": [
    "# Let's interpret that.\n",
    "tn, fp, fn, tp = mat.ravel()\n",
    "sensitivity = 100*tp/(tp+fn)\n",
    "specificity=100*tn/(tn+fp)\n",
    "sens.append(sensitivity)\n",
    "spec.append(specificity)\n",
    "\n",
    "print('sensitivity:', sensitivity)\n",
    "print('specificity:', specificity)"
   ]
  },
  {
   "cell_type": "code",
   "execution_count": 29,
   "metadata": {},
   "outputs": [
    {
     "name": "stdout",
     "output_type": "stream",
     "text": [
      "52.3005659\n"
     ]
    }
   ],
   "source": [
    "# Our ROC-AUC score measures the trade-off between specificity and sensitivity\n",
    "roc_score=100*roc_auc_score(y_test, y_hat)\n",
    "roc.append(roc_score)\n",
    "print(roc_score)"
   ]
  },
  {
   "cell_type": "code",
   "execution_count": 30,
   "metadata": {},
   "outputs": [
    {
     "name": "stdout",
     "output_type": "stream",
     "text": [
      "Feature ranking:\n",
      "1. feature 6 (0.321526)\n",
      "2. feature 0 (0.172558)\n",
      "3. feature 5 (0.165184)\n",
      "4. feature 10 (0.072154)\n",
      "5. feature 9 (0.062706)\n",
      "6. feature 7 (0.057878)\n",
      "7. feature 8 (0.057192)\n",
      "8. feature 2 (0.033762)\n",
      "9. feature 3 (0.030587)\n",
      "10. feature 4 (0.021360)\n",
      "11. feature 1 (0.005092)\n"
     ]
    }
   ],
   "source": [
    "# compute the feature importances\n",
    "importances = tree_model.feature_importances_\n",
    "std = np.std([tree.feature_importances_ for tree in tree_model.estimators_],\n",
    "             axis=0)\n",
    "indices = np.argsort(importances)[::-1]\n",
    "\n",
    "# Print the feature ranking\n",
    "print(\"Feature ranking:\")\n",
    "\n",
    "for f in range(X.shape[1]):\n",
    "    print(\"%d. feature %d (%f)\" % (f + 1, indices[f], importances[indices[f]]))"
   ]
  },
  {
   "cell_type": "code",
   "execution_count": 31,
   "metadata": {},
   "outputs": [
    {
     "data": {
      "text/plain": [
       "11"
      ]
     },
     "execution_count": 31,
     "metadata": {},
     "output_type": "execute_result"
    }
   ],
   "source": [
    "len(importances)"
   ]
  },
  {
   "cell_type": "code",
   "execution_count": 32,
   "metadata": {},
   "outputs": [
    {
     "data": {
      "text/plain": [
       "near_chompspot      0.321526\n",
       "DayRunner           0.172558\n",
       "near_hotspot        0.165184\n",
       "avg_dry2            0.072154\n",
       "avg_dry1            0.062706\n",
       "avg_rain1           0.057878\n",
       "avg_rain2           0.057192\n",
       "PIPIENS             0.033762\n",
       "PIPIENS-RESTUANS    0.030587\n",
       "RESTUANS            0.021360\n",
       "ALTER               0.005092\n",
       "Name: importance, dtype: float64"
      ]
     },
     "execution_count": 32,
     "metadata": {},
     "output_type": "execute_result"
    }
   ],
   "source": [
    "feat_imp=pd.DataFrame(importances, index=X_test.columns, columns=['importance'])\n",
    "feat_imp['importance'].sort_values(ascending=False).head(15)"
   ]
  },
  {
   "cell_type": "code",
   "execution_count": 33,
   "metadata": {
    "collapsed": true
   },
   "outputs": [],
   "source": [
    "top15=pd.DataFrame(feat_imp['importance'].sort_values(ascending=False))"
   ]
  },
  {
   "cell_type": "code",
   "execution_count": 47,
   "metadata": {},
   "outputs": [
    {
     "data": {
      "text/plain": [
       "Text(0,0.5,'Feature Importance')"
      ]
     },
     "execution_count": 47,
     "metadata": {},
     "output_type": "execute_result"
    },
    {
     "data": {
      "image/png": "[encoded data removed]",
      "text/plain": [
       "<matplotlib.figure.Figure at 0x1a1e820e48>"
      ]
     },
     "metadata": {},
     "output_type": "display_data"
    }
   ],
   "source": [
    "sns.set(style=\"darkgrid\", color_codes=None)\n",
    "# sns.palplot(sns.color_palette(\"RdBu\", n_colors=7))\n",
    "ax = top15.plot(kind='bar', legend=False, fontsize=18,  figsize=(15, 7))\n",
    "plt.xticks(rotation = 45,  fontsize=18)\n",
    "plt.title('Most Important Predictors',  fontsize=19)\n",
    "plt.yticks(rotation = 0,  fontsize=18)\n",
    "plt.ylabel('Feature Importance', rotation=90,  fontsize=18) "
   ]
  },
  {
   "cell_type": "markdown",
   "metadata": {},
   "source": [
    "# Compare Models"
   ]
  },
  {
   "cell_type": "code",
   "execution_count": 48,
   "metadata": {},
   "outputs": [
    {
     "name": "stdout",
     "output_type": "stream",
     "text": [
      "[94.624167459562329, 94.766888677450041, 94.243577545195052]\n",
      "[3.6363636363636362, 0.0, 5.4545454545454541]\n",
      "[99.648594377510037, 100.0, 99.146586345381522]\n",
      "[51.642479006936838, 50.0, 52.300565899963495]\n"
     ]
    }
   ],
   "source": [
    "# Recap those scores for me, please.\n",
    "models=['KNN', 'Logistic', 'Random Forest']\n",
    "cols=['Model', 'Accuracy', 'Sensitivity', 'Specificity', 'ROC-AUC']\n",
    "print(acc)\n",
    "print(sens)\n",
    "print(spec)\n",
    "print(roc)"
   ]
  },
  {
   "cell_type": "code",
   "execution_count": 49,
   "metadata": {},
   "outputs": [
    {
     "data": {
      "text/html": [
       "<div>\n",
       "<style>\n",
       "    .dataframe thead tr:only-child th {\n",
       "        text-align: right;\n",
       "    }\n",
       "\n",
       "    .dataframe thead th {\n",
       "        text-align: left;\n",
       "    }\n",
       "\n",
       "    .dataframe tbody tr th {\n",
       "        vertical-align: top;\n",
       "    }\n",
       "</style>\n",
       "<table border=\"1\" class=\"dataframe\">\n",
       "  <thead>\n",
       "    <tr style=\"text-align: right;\">\n",
       "      <th></th>\n",
       "      <th>Model</th>\n",
       "      <th>Accuracy</th>\n",
       "      <th>Sensitivity</th>\n",
       "      <th>Specificity</th>\n",
       "      <th>ROC-AUC</th>\n",
       "    </tr>\n",
       "  </thead>\n",
       "  <tbody>\n",
       "    <tr>\n",
       "      <th>0</th>\n",
       "      <td>KNN</td>\n",
       "      <td>94.624167</td>\n",
       "      <td>3.636364</td>\n",
       "      <td>99.648594</td>\n",
       "      <td>51.642479</td>\n",
       "    </tr>\n",
       "    <tr>\n",
       "      <th>1</th>\n",
       "      <td>Logistic</td>\n",
       "      <td>94.766889</td>\n",
       "      <td>0.000000</td>\n",
       "      <td>100.000000</td>\n",
       "      <td>50.000000</td>\n",
       "    </tr>\n",
       "    <tr>\n",
       "      <th>2</th>\n",
       "      <td>Random Forest</td>\n",
       "      <td>94.243578</td>\n",
       "      <td>5.454545</td>\n",
       "      <td>99.146586</td>\n",
       "      <td>52.300566</td>\n",
       "    </tr>\n",
       "  </tbody>\n",
       "</table>\n",
       "</div>"
      ],
      "text/plain": [
       "           Model   Accuracy  Sensitivity  Specificity    ROC-AUC\n",
       "0            KNN  94.624167     3.636364    99.648594  51.642479\n",
       "1       Logistic  94.766889     0.000000   100.000000  50.000000\n",
       "2  Random Forest  94.243578     5.454545    99.146586  52.300566"
      ]
     },
     "execution_count": 49,
     "metadata": {},
     "output_type": "execute_result"
    }
   ],
   "source": [
    "# Show me that in a table:\n",
    "model_scores=pd.DataFrame(list(map(list, zip(models, acc, sens, spec, roc))), columns=cols)\n",
    "model_scores"
   ]
  },
  {
   "cell_type": "code",
   "execution_count": 50,
   "metadata": {},
   "outputs": [
    {
     "data": {
      "text/plain": [
       "Text(0,0.5,'Score')"
      ]
     },
     "execution_count": 50,
     "metadata": {},
     "output_type": "execute_result"
    },
    {
     "data": {
      "image/png": "[encoded data removed]",
      "text/plain": [
       "<matplotlib.figure.Figure at 0x1a1ef7e518>"
      ]
     },
     "metadata": {},
     "output_type": "display_data"
    }
   ],
   "source": [
    "# Make it pretty. \n",
    "ax = model_scores.set_index('Model').T.plot(kind='bar', legend=False, fontsize=12, figsize=(15, 7))\n",
    "ax.legend(loc=1, fontsize=18, bbox_to_anchor=(-0.1, 0.5))\n",
    "plt.xticks(rotation = 45,  fontsize=15)\n",
    "plt.title('Random Forest Is the Best Pick',  fontsize=19)\n",
    "plt.yticks(rotation = 0,  fontsize=15)\n",
    "plt.ylabel('Score', rotation=90,  fontsize=15)  "
   ]
  },
  {
   "cell_type": "markdown",
   "metadata": {
    "collapsed": true
   },
   "source": [
    "## Can we improve the performance of the Random Forest model with `gridsearch`?"
   ]
  },
  {
   "cell_type": "code",
   "execution_count": 51,
   "metadata": {
    "collapsed": true
   },
   "outputs": [],
   "source": [
    "from sklearn.model_selection import GridSearchCV"
   ]
  },
  {
   "cell_type": "code",
   "execution_count": 52,
   "metadata": {
    "collapsed": true
   },
   "outputs": [],
   "source": [
    "dt = RandomForestClassifier(max_features=10)\n",
    "tree_model=dt.fit(X_train, y_train)"
   ]
  },
  {
   "cell_type": "code",
   "execution_count": 53,
   "metadata": {},
   "outputs": [
    {
     "data": {
      "text/plain": [
       "dict_keys(['bootstrap', 'class_weight', 'criterion', 'max_depth', 'max_features', 'max_leaf_nodes', 'min_impurity_decrease', 'min_impurity_split', 'min_samples_leaf', 'min_samples_split', 'min_weight_fraction_leaf', 'n_estimators', 'n_jobs', 'oob_score', 'random_state', 'verbose', 'warm_start'])"
      ]
     },
     "execution_count": 53,
     "metadata": {},
     "output_type": "execute_result"
    }
   ],
   "source": [
    "tree_model.get_params().keys()"
   ]
  },
  {
   "cell_type": "code",
   "execution_count": 54,
   "metadata": {
    "collapsed": true
   },
   "outputs": [],
   "source": [
    "param_grid = {\n",
    "#     'rf__n_estimators': [100,150], \n",
    "#     'rf__max_depth': [3, 4, None],\n",
    "#     'rf__min_samples_split': [1, 2, 5, 10, 15, 100],\n",
    "#     'rf__min_samples_leaf': [1, 2, 5, 10, 15, 100],\n",
    "#     'rf__max_features': [10, 20, 25, 30],\n",
    "#     'rf__class_weight': [None]    \n",
    "        }"
   ]
  },
  {
   "cell_type": "code",
   "execution_count": 55,
   "metadata": {
    "collapsed": true
   },
   "outputs": [],
   "source": [
    "grid = GridSearchCV(tree_model, param_grid=param_grid, n_jobs = 1, cv=3)"
   ]
  },
  {
   "cell_type": "code",
   "execution_count": 56,
   "metadata": {},
   "outputs": [
    {
     "data": {
      "text/plain": [
       "GridSearchCV(cv=3, error_score='raise',\n",
       "       estimator=RandomForestClassifier(bootstrap=True, class_weight=None, criterion='gini',\n",
       "            max_depth=None, max_features=10, max_leaf_nodes=None,\n",
       "            min_impurity_decrease=0.0, min_impurity_split=None,\n",
       "            min_samples_leaf=1, min_samples_split=2,\n",
       "            min_weight_fraction_leaf=0.0, n_estimators=10, n_jobs=1,\n",
       "            oob_score=False, random_state=None, verbose=0,\n",
       "            warm_start=False),\n",
       "       fit_params=None, iid=True, n_jobs=1, param_grid={},\n",
       "       pre_dispatch='2*n_jobs', refit=True, return_train_score='warn',\n",
       "       scoring=None, verbose=0)"
      ]
     },
     "execution_count": 56,
     "metadata": {},
     "output_type": "execute_result"
    }
   ],
   "source": [
    "grid.fit(X_train, y_train)"
   ]
  },
  {
   "cell_type": "markdown",
   "metadata": {},
   "source": [
    "## I'm hitting nothing but error messages on the gridsearch. Throwing in the towel (for now)."
   ]
  },
  {
   "cell_type": "code",
   "execution_count": null,
   "metadata": {
    "collapsed": true
   },
   "outputs": [],
   "source": []
  },
  {
   "cell_type": "code",
   "execution_count": null,
   "metadata": {
    "collapsed": true
   },
   "outputs": [],
   "source": []
  }
 ],
 "metadata": {
  "kernelspec": {
   "display_name": "Python [default]",
   "language": "python",
   "name": "python3"
  },
  "language_info": {
   "codemirror_mode": {
    "name": "ipython",
    "version": 3
   },
   "file_extension": ".py",
   "mimetype": "text/x-python",
   "name": "python",
   "nbconvert_exporter": "python",
   "pygments_lexer": "ipython3",
   "version": "3.6.3"
  }
 },
 "nbformat": 4,
 "nbformat_minor": 2
}
