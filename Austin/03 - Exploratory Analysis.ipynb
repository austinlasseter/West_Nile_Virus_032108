{
 "cells": [
  {
   "cell_type": "code",
   "execution_count": 1,
   "metadata": {
    "collapsed": true
   },
   "outputs": [],
   "source": [
    "import numpy as np\n",
    "import pandas as pd\n",
    "import seaborn as sns\n",
    "import matplotlib.pyplot as plt\n",
    "%matplotlib inline"
   ]
  },
  {
   "cell_type": "code",
   "execution_count": 2,
   "metadata": {},
   "outputs": [
    {
     "data": {
      "application/javascript": [
       "$('.nbp-app-bar').toggle()"
      ],
      "text/plain": [
       "<IPython.core.display.Javascript object>"
      ]
     },
     "metadata": {},
     "output_type": "display_data"
    }
   ],
   "source": [
    "%%javascript\n",
    "$('.nbp-app-bar').toggle()"
   ]
  },
  {
   "cell_type": "markdown",
   "metadata": {},
   "source": [
    "## Merge the `reading` and `weather` datasets"
   ]
  },
  {
   "cell_type": "code",
   "execution_count": 3,
   "metadata": {},
   "outputs": [
    {
     "name": "stdout",
     "output_type": "stream",
     "text": [
      "(10506, 12)\n"
     ]
    },
    {
     "data": {
      "text/html": [
       "<div>\n",
       "<style>\n",
       "    .dataframe thead tr:only-child th {\n",
       "        text-align: right;\n",
       "    }\n",
       "\n",
       "    .dataframe thead th {\n",
       "        text-align: left;\n",
       "    }\n",
       "\n",
       "    .dataframe tbody tr th {\n",
       "        vertical-align: top;\n",
       "    }\n",
       "</style>\n",
       "<table border=\"1\" class=\"dataframe\">\n",
       "  <thead>\n",
       "    <tr style=\"text-align: right;\">\n",
       "      <th></th>\n",
       "      <th>Date</th>\n",
       "      <th>Virus</th>\n",
       "      <th>Month</th>\n",
       "      <th>Year</th>\n",
       "      <th>DayRunner</th>\n",
       "      <th>CULEX</th>\n",
       "      <th>ALTER</th>\n",
       "      <th>PIPIENS</th>\n",
       "      <th>PIPIENS-RESTUANS</th>\n",
       "      <th>RESTUANS</th>\n",
       "      <th>near_hotspot</th>\n",
       "      <th>near_chompspot</th>\n",
       "    </tr>\n",
       "  </thead>\n",
       "  <tbody>\n",
       "    <tr>\n",
       "      <th>0</th>\n",
       "      <td>2007-05-29</td>\n",
       "      <td>0</td>\n",
       "      <td>5</td>\n",
       "      <td>2007</td>\n",
       "      <td>149</td>\n",
       "      <td>PIPIENS-RESTUANS</td>\n",
       "      <td>0</td>\n",
       "      <td>0</td>\n",
       "      <td>1</td>\n",
       "      <td>0</td>\n",
       "      <td>1</td>\n",
       "      <td>4</td>\n",
       "    </tr>\n",
       "    <tr>\n",
       "      <th>1</th>\n",
       "      <td>2007-05-29</td>\n",
       "      <td>0</td>\n",
       "      <td>5</td>\n",
       "      <td>2007</td>\n",
       "      <td>149</td>\n",
       "      <td>RESTUANS</td>\n",
       "      <td>0</td>\n",
       "      <td>0</td>\n",
       "      <td>0</td>\n",
       "      <td>1</td>\n",
       "      <td>1</td>\n",
       "      <td>4</td>\n",
       "    </tr>\n",
       "    <tr>\n",
       "      <th>2</th>\n",
       "      <td>2007-05-29</td>\n",
       "      <td>0</td>\n",
       "      <td>5</td>\n",
       "      <td>2007</td>\n",
       "      <td>149</td>\n",
       "      <td>RESTUANS</td>\n",
       "      <td>0</td>\n",
       "      <td>0</td>\n",
       "      <td>0</td>\n",
       "      <td>1</td>\n",
       "      <td>0</td>\n",
       "      <td>3</td>\n",
       "    </tr>\n",
       "    <tr>\n",
       "      <th>3</th>\n",
       "      <td>2007-05-29</td>\n",
       "      <td>0</td>\n",
       "      <td>5</td>\n",
       "      <td>2007</td>\n",
       "      <td>149</td>\n",
       "      <td>PIPIENS-RESTUANS</td>\n",
       "      <td>0</td>\n",
       "      <td>0</td>\n",
       "      <td>1</td>\n",
       "      <td>0</td>\n",
       "      <td>2</td>\n",
       "      <td>4</td>\n",
       "    </tr>\n",
       "    <tr>\n",
       "      <th>4</th>\n",
       "      <td>2007-05-29</td>\n",
       "      <td>0</td>\n",
       "      <td>5</td>\n",
       "      <td>2007</td>\n",
       "      <td>149</td>\n",
       "      <td>RESTUANS</td>\n",
       "      <td>0</td>\n",
       "      <td>0</td>\n",
       "      <td>0</td>\n",
       "      <td>1</td>\n",
       "      <td>2</td>\n",
       "      <td>4</td>\n",
       "    </tr>\n",
       "  </tbody>\n",
       "</table>\n",
       "</div>"
      ],
      "text/plain": [
       "         Date  Virus  Month  Year  DayRunner             CULEX  ALTER  \\\n",
       "0  2007-05-29      0      5  2007        149  PIPIENS-RESTUANS      0   \n",
       "1  2007-05-29      0      5  2007        149          RESTUANS      0   \n",
       "2  2007-05-29      0      5  2007        149          RESTUANS      0   \n",
       "3  2007-05-29      0      5  2007        149  PIPIENS-RESTUANS      0   \n",
       "4  2007-05-29      0      5  2007        149          RESTUANS      0   \n",
       "\n",
       "   PIPIENS  PIPIENS-RESTUANS  RESTUANS  near_hotspot  near_chompspot  \n",
       "0        0                 1         0             1               4  \n",
       "1        0                 0         1             1               4  \n",
       "2        0                 0         1             0               3  \n",
       "3        0                 1         0             2               4  \n",
       "4        0                 0         1             2               4  "
      ]
     },
     "execution_count": 3,
     "metadata": {},
     "output_type": "execute_result"
    }
   ],
   "source": [
    "readings=pd.read_csv('readings.csv')\n",
    "print(readings.shape)\n",
    "readings.head()"
   ]
  },
  {
   "cell_type": "code",
   "execution_count": 4,
   "metadata": {},
   "outputs": [
    {
     "name": "stdout",
     "output_type": "stream",
     "text": [
      "(1472, 5)\n"
     ]
    },
    {
     "data": {
      "text/html": [
       "<div>\n",
       "<style>\n",
       "    .dataframe thead tr:only-child th {\n",
       "        text-align: right;\n",
       "    }\n",
       "\n",
       "    .dataframe thead th {\n",
       "        text-align: left;\n",
       "    }\n",
       "\n",
       "    .dataframe tbody tr th {\n",
       "        vertical-align: top;\n",
       "    }\n",
       "</style>\n",
       "<table border=\"1\" class=\"dataframe\">\n",
       "  <thead>\n",
       "    <tr style=\"text-align: right;\">\n",
       "      <th></th>\n",
       "      <th>Date</th>\n",
       "      <th>avg_rain1</th>\n",
       "      <th>avg_rain2</th>\n",
       "      <th>avg_dry1</th>\n",
       "      <th>avg_dry2</th>\n",
       "    </tr>\n",
       "  </thead>\n",
       "  <tbody>\n",
       "    <tr>\n",
       "      <th>1467</th>\n",
       "      <td>2014-10-27</td>\n",
       "      <td>0.000000</td>\n",
       "      <td>0.571429</td>\n",
       "      <td>0.571429</td>\n",
       "      <td>0.000000</td>\n",
       "    </tr>\n",
       "    <tr>\n",
       "      <th>1468</th>\n",
       "      <td>2014-10-28</td>\n",
       "      <td>0.142857</td>\n",
       "      <td>0.428571</td>\n",
       "      <td>0.714286</td>\n",
       "      <td>0.000000</td>\n",
       "    </tr>\n",
       "    <tr>\n",
       "      <th>1469</th>\n",
       "      <td>2014-10-29</td>\n",
       "      <td>0.285714</td>\n",
       "      <td>0.285714</td>\n",
       "      <td>0.857143</td>\n",
       "      <td>0.000000</td>\n",
       "    </tr>\n",
       "    <tr>\n",
       "      <th>1470</th>\n",
       "      <td>2014-10-30</td>\n",
       "      <td>0.285714</td>\n",
       "      <td>0.142857</td>\n",
       "      <td>0.857143</td>\n",
       "      <td>0.142857</td>\n",
       "    </tr>\n",
       "    <tr>\n",
       "      <th>1471</th>\n",
       "      <td>2014-10-31</td>\n",
       "      <td>0.428571</td>\n",
       "      <td>0.142857</td>\n",
       "      <td>0.857143</td>\n",
       "      <td>0.285714</td>\n",
       "    </tr>\n",
       "  </tbody>\n",
       "</table>\n",
       "</div>"
      ],
      "text/plain": [
       "            Date  avg_rain1  avg_rain2  avg_dry1  avg_dry2\n",
       "1467  2014-10-27   0.000000   0.571429  0.571429  0.000000\n",
       "1468  2014-10-28   0.142857   0.428571  0.714286  0.000000\n",
       "1469  2014-10-29   0.285714   0.285714  0.857143  0.000000\n",
       "1470  2014-10-30   0.285714   0.142857  0.857143  0.142857\n",
       "1471  2014-10-31   0.428571   0.142857  0.857143  0.285714"
      ]
     },
     "execution_count": 4,
     "metadata": {},
     "output_type": "execute_result"
    }
   ],
   "source": [
    "weather=pd.read_csv('weather2.csv')\n",
    "print(weather.shape)\n",
    "weather.tail()"
   ]
  },
  {
   "cell_type": "code",
   "execution_count": 5,
   "metadata": {},
   "outputs": [
    {
     "name": "stdout",
     "output_type": "stream",
     "text": [
      "(10506, 15)\n"
     ]
    },
    {
     "data": {
      "text/html": [
       "<div>\n",
       "<style>\n",
       "    .dataframe thead tr:only-child th {\n",
       "        text-align: right;\n",
       "    }\n",
       "\n",
       "    .dataframe thead th {\n",
       "        text-align: left;\n",
       "    }\n",
       "\n",
       "    .dataframe tbody tr th {\n",
       "        vertical-align: top;\n",
       "    }\n",
       "</style>\n",
       "<table border=\"1\" class=\"dataframe\">\n",
       "  <thead>\n",
       "    <tr style=\"text-align: right;\">\n",
       "      <th></th>\n",
       "      <th>Virus</th>\n",
       "      <th>Month</th>\n",
       "      <th>Year</th>\n",
       "      <th>DayRunner</th>\n",
       "      <th>CULEX</th>\n",
       "      <th>ALTER</th>\n",
       "      <th>PIPIENS</th>\n",
       "      <th>PIPIENS-RESTUANS</th>\n",
       "      <th>RESTUANS</th>\n",
       "      <th>near_hotspot</th>\n",
       "      <th>near_chompspot</th>\n",
       "      <th>avg_rain1</th>\n",
       "      <th>avg_rain2</th>\n",
       "      <th>avg_dry1</th>\n",
       "      <th>avg_dry2</th>\n",
       "    </tr>\n",
       "  </thead>\n",
       "  <tbody>\n",
       "    <tr>\n",
       "      <th>0</th>\n",
       "      <td>0</td>\n",
       "      <td>5</td>\n",
       "      <td>2007</td>\n",
       "      <td>149</td>\n",
       "      <td>PIPIENS-RESTUANS</td>\n",
       "      <td>0</td>\n",
       "      <td>0</td>\n",
       "      <td>1</td>\n",
       "      <td>0</td>\n",
       "      <td>1</td>\n",
       "      <td>4</td>\n",
       "      <td>0.714286</td>\n",
       "      <td>0.428571</td>\n",
       "      <td>0.857143</td>\n",
       "      <td>0.571429</td>\n",
       "    </tr>\n",
       "    <tr>\n",
       "      <th>1</th>\n",
       "      <td>0</td>\n",
       "      <td>5</td>\n",
       "      <td>2007</td>\n",
       "      <td>149</td>\n",
       "      <td>RESTUANS</td>\n",
       "      <td>0</td>\n",
       "      <td>0</td>\n",
       "      <td>0</td>\n",
       "      <td>1</td>\n",
       "      <td>1</td>\n",
       "      <td>4</td>\n",
       "      <td>0.714286</td>\n",
       "      <td>0.428571</td>\n",
       "      <td>0.857143</td>\n",
       "      <td>0.571429</td>\n",
       "    </tr>\n",
       "    <tr>\n",
       "      <th>2</th>\n",
       "      <td>0</td>\n",
       "      <td>5</td>\n",
       "      <td>2007</td>\n",
       "      <td>149</td>\n",
       "      <td>RESTUANS</td>\n",
       "      <td>0</td>\n",
       "      <td>0</td>\n",
       "      <td>0</td>\n",
       "      <td>1</td>\n",
       "      <td>0</td>\n",
       "      <td>3</td>\n",
       "      <td>0.714286</td>\n",
       "      <td>0.428571</td>\n",
       "      <td>0.857143</td>\n",
       "      <td>0.571429</td>\n",
       "    </tr>\n",
       "    <tr>\n",
       "      <th>3</th>\n",
       "      <td>0</td>\n",
       "      <td>5</td>\n",
       "      <td>2007</td>\n",
       "      <td>149</td>\n",
       "      <td>PIPIENS-RESTUANS</td>\n",
       "      <td>0</td>\n",
       "      <td>0</td>\n",
       "      <td>1</td>\n",
       "      <td>0</td>\n",
       "      <td>2</td>\n",
       "      <td>4</td>\n",
       "      <td>0.714286</td>\n",
       "      <td>0.428571</td>\n",
       "      <td>0.857143</td>\n",
       "      <td>0.571429</td>\n",
       "    </tr>\n",
       "    <tr>\n",
       "      <th>4</th>\n",
       "      <td>0</td>\n",
       "      <td>5</td>\n",
       "      <td>2007</td>\n",
       "      <td>149</td>\n",
       "      <td>RESTUANS</td>\n",
       "      <td>0</td>\n",
       "      <td>0</td>\n",
       "      <td>0</td>\n",
       "      <td>1</td>\n",
       "      <td>2</td>\n",
       "      <td>4</td>\n",
       "      <td>0.714286</td>\n",
       "      <td>0.428571</td>\n",
       "      <td>0.857143</td>\n",
       "      <td>0.571429</td>\n",
       "    </tr>\n",
       "  </tbody>\n",
       "</table>\n",
       "</div>"
      ],
      "text/plain": [
       "   Virus  Month  Year  DayRunner             CULEX  ALTER  PIPIENS  \\\n",
       "0      0      5  2007        149  PIPIENS-RESTUANS      0        0   \n",
       "1      0      5  2007        149          RESTUANS      0        0   \n",
       "2      0      5  2007        149          RESTUANS      0        0   \n",
       "3      0      5  2007        149  PIPIENS-RESTUANS      0        0   \n",
       "4      0      5  2007        149          RESTUANS      0        0   \n",
       "\n",
       "   PIPIENS-RESTUANS  RESTUANS  near_hotspot  near_chompspot  avg_rain1  \\\n",
       "0                 1         0             1               4   0.714286   \n",
       "1                 0         1             1               4   0.714286   \n",
       "2                 0         1             0               3   0.714286   \n",
       "3                 1         0             2               4   0.714286   \n",
       "4                 0         1             2               4   0.714286   \n",
       "\n",
       "   avg_rain2  avg_dry1  avg_dry2  \n",
       "0   0.428571  0.857143  0.571429  \n",
       "1   0.428571  0.857143  0.571429  \n",
       "2   0.428571  0.857143  0.571429  \n",
       "3   0.428571  0.857143  0.571429  \n",
       "4   0.428571  0.857143  0.571429  "
      ]
     },
     "execution_count": 5,
     "metadata": {},
     "output_type": "execute_result"
    }
   ],
   "source": [
    "chicago=pd.merge(readings, weather, on='Date').drop('Date', axis=1);\n",
    "print(chicago.shape)\n",
    "chicago.head()"
   ]
  },
  {
   "cell_type": "code",
   "execution_count": 6,
   "metadata": {},
   "outputs": [
    {
     "data": {
      "text/plain": [
       "Index(['Virus', 'Month', 'Year', 'DayRunner', 'CULEX', 'ALTER', 'PIPIENS',\n",
       "       'PIPIENS-RESTUANS', 'RESTUANS', 'near_hotspot', 'near_chompspot',\n",
       "       'avg_rain1', 'avg_rain2', 'avg_dry1', 'avg_dry2'],\n",
       "      dtype='object')"
      ]
     },
     "execution_count": 6,
     "metadata": {},
     "output_type": "execute_result"
    }
   ],
   "source": [
    "chicago.columns"
   ]
  },
  {
   "cell_type": "markdown",
   "metadata": {},
   "source": [
    "# Examine Association of Features with Outcome"
   ]
  },
  {
   "cell_type": "markdown",
   "metadata": {},
   "source": [
    "### Is the virus higher near hotspots?"
   ]
  },
  {
   "cell_type": "code",
   "execution_count": 7,
   "metadata": {},
   "outputs": [
    {
     "name": "stdout",
     "output_type": "stream",
     "text": [
      "near_hotspot\n",
      "0    0.035997\n",
      "1    0.070193\n",
      "2    0.067890\n",
      "3    0.135417\n",
      "4    0.096774\n",
      "Name: Virus, dtype: float64\n"
     ]
    },
    {
     "data": {
      "image/png": "[encoded data removed]",
      "text/plain": [
       "<matplotlib.figure.Figure at 0x10d472940>"
      ]
     },
     "metadata": {},
     "output_type": "display_data"
    }
   ],
   "source": [
    "# The virus is least prevalent near zero hotspots, more prevalent when located near 3 or 4 hotspots.\n",
    "print(chicago.groupby('near_hotspot')['Virus'].mean())\n",
    "ax = plt.figure(figsize=(8,4))\n",
    "ax=sns.barplot(y='Virus', x='near_hotspot', data=chicago);\n",
    "ax.set(ylabel='Percentage of Trap Readings with Virus', xlabel='Number of virus hotspots within 2-mile radius',\n",
    "       Title='The Virus is more common in near spots that have had the virus before');"
   ]
  },
  {
   "cell_type": "markdown",
   "metadata": {},
   "source": [
    "#### Is the virus higher near spots with high mosquito counts?"
   ]
  },
  {
   "cell_type": "code",
   "execution_count": 8,
   "metadata": {},
   "outputs": [
    {
     "name": "stdout",
     "output_type": "stream",
     "text": [
      "near_chompspot\n",
      "0    0.034546\n",
      "1    0.053254\n",
      "2    0.055405\n",
      "3    0.049826\n",
      "4    0.087273\n",
      "5    0.141304\n",
      "6    0.166667\n",
      "Name: Virus, dtype: float64\n"
     ]
    },
    {
     "data": {
      "image/png": "[encoded data removed]",
      "text/plain": [
       "<matplotlib.figure.Figure at 0x10d4c24e0>"
      ]
     },
     "metadata": {},
     "output_type": "display_data"
    }
   ],
   "source": [
    "# The virus is least prevalent near zero hotspots, more prevalent when located near 5 or 6 hotspots.\n",
    "print(chicago.groupby('near_chompspot')['Virus'].mean())\n",
    "ax = plt.figure(figsize=(8,4))\n",
    "ax=sns.barplot(y='Virus', x='near_chompspot', data=chicago);\n",
    "ax.set(ylabel='Percentage of Trap Readings with Virus', xlabel='Number of mosquito hotspots within 2-mile radius',\n",
    "       Title='The virus is more common in near spots with a high average mosquito count');"
   ]
  },
  {
   "cell_type": "markdown",
   "metadata": {},
   "source": [
    "### Does the virus occur more frequently in certain months?"
   ]
  },
  {
   "cell_type": "code",
   "execution_count": 9,
   "metadata": {},
   "outputs": [
    {
     "name": "stdout",
     "output_type": "stream",
     "text": [
      "Month\n",
      "5     0.000000\n",
      "6     0.000637\n",
      "7     0.017652\n",
      "8     0.100507\n",
      "9     0.056357\n",
      "10    0.007246\n",
      "Name: Virus, dtype: float64\n"
     ]
    },
    {
     "data": {
      "text/plain": [
       "[Text(0,0.5,'Percent of Traps with Virus'),\n",
       " Text(0.5,1,'August is the Worst Month')]"
      ]
     },
     "execution_count": 9,
     "metadata": {},
     "output_type": "execute_result"
    },
    {
     "data": {
      "image/png": "[encoded data removed]",
      "text/plain": [
       "<matplotlib.figure.Figure at 0x10f9844e0>"
      ]
     },
     "metadata": {},
     "output_type": "display_data"
    }
   ],
   "source": [
    "# Month\n",
    "print(chicago.groupby('Month')['Virus'].mean())\n",
    "ax=plt.figure(figsize=(8,4))\n",
    "ax=sns.barplot(x='Month', y='Virus', data=chicago)\n",
    "ax.set(ylabel='Percentage of Trap Readings with Virus', Title='August is the Worst Month')"
   ]
  },
  {
   "cell_type": "markdown",
   "metadata": {},
   "source": [
    "### Does the virus appear more frequently in certain types of mosquito?"
   ]
  },
  {
   "cell_type": "code",
   "execution_count": 13,
   "metadata": {},
   "outputs": [
    {
     "name": "stdout",
     "output_type": "stream",
     "text": [
      "CULEX\n",
      "ALTER               0.000000\n",
      "PIPIENS             0.088922\n",
      "PIPIENS-RESTUANS    0.055135\n",
      "RESTUANS            0.017883\n",
      "Name: Virus, dtype: float64\n"
     ]
    },
    {
     "data": {
      "text/plain": [
       "[Text(0,0.5,'Percent of Traps with Virus'),\n",
       " Text(0.5,1,'PIPIENS is the most frequent carrier species')]"
      ]
     },
     "execution_count": 13,
     "metadata": {},
     "output_type": "execute_result"
    },
    {
     "data": {
      "image/png": "[encoded data removed]",
      "text/plain": [
       "<matplotlib.figure.Figure at 0x10f9c0080>"
      ]
     },
     "metadata": {},
     "output_type": "display_data"
    }
   ],
   "source": [
    "# Species of Mosquito\n",
    "print(chicago.groupby('CULEX')['Virus'].mean())\n",
    "ax=plt.figure(figsize=(8,4))\n",
    "ax=sns.barplot(x='CULEX', y='Virus', data=chicago)\n",
    "ax.set(ylabel='Percentage of Trap Readings with Virus', Title='PIPIENS is the most frequent carrier species')"
   ]
  },
  {
   "cell_type": "code",
   "execution_count": 15,
   "metadata": {},
   "outputs": [
    {
     "data": {
      "text/plain": [
       "Index(['Date', 'avg_rain1', 'avg_rain2', 'avg_dry1', 'avg_dry2'], dtype='object')"
      ]
     },
     "execution_count": 15,
     "metadata": {},
     "output_type": "execute_result"
    }
   ],
   "source": [
    "weather.columns"
   ]
  },
  {
   "cell_type": "markdown",
   "metadata": {},
   "source": [
    "## Is the rainfall of the last 2 weeks important?"
   ]
  },
  {
   "cell_type": "code",
   "execution_count": 20,
   "metadata": {},
   "outputs": [
    {
     "name": "stdout",
     "output_type": "stream",
     "text": [
      "count    10506.000000\n",
      "mean         0.380776\n",
      "std          0.209197\n",
      "min          0.000000\n",
      "25%          0.285714\n",
      "50%          0.428571\n",
      "75%          0.571429\n",
      "max          1.000000\n",
      "Name: avg_rain1, dtype: float64\n",
      "count    10506.000000\n",
      "mean         0.375146\n",
      "std          0.194982\n",
      "min          0.000000\n",
      "25%          0.285714\n",
      "50%          0.428571\n",
      "75%          0.571429\n",
      "max          0.714286\n",
      "Name: avg_rain2, dtype: float64\n"
     ]
    }
   ],
   "source": [
    "# These variables each represent the average of 7 values, where 1=rainy and 0=dry.\n",
    "print(chicago['avg_rain1'].describe())\n",
    "print(chicago['avg_rain2'].describe())"
   ]
  },
  {
   "cell_type": "code",
   "execution_count": 44,
   "metadata": {},
   "outputs": [
    {
     "name": "stdout",
     "output_type": "stream",
     "text": [
      "Virus\n",
      "0    0.380943\n",
      "1    0.377755\n",
      "Name: avg_rain1, dtype: float64\n",
      "Ttest_indResult(statistic=0.34820391880454654, pvalue=0.72769402286601403)\n"
     ]
    }
   ],
   "source": [
    "# Last week's rain\n",
    "print(chicago.groupby(['Virus'])['avg_rain1'].mean())\n",
    "import scipy.stats as stats\n",
    "print(stats.ttest_ind(chicago[chicago['Virus']==0]['avg_rain1'], chicago[chicago['Virus']==1]['avg_rain1']))"
   ]
  },
  {
   "cell_type": "markdown",
   "metadata": {},
   "source": [
    "#### There is no significant difference in virus by last week's rain."
   ]
  },
  {
   "cell_type": "code",
   "execution_count": 59,
   "metadata": {},
   "outputs": [
    {
     "data": {
      "image/png": "[encoded data removed]",
      "text/plain": [
       "<matplotlib.figure.Figure at 0x1a18b82a20>"
      ]
     },
     "metadata": {},
     "output_type": "display_data"
    }
   ],
   "source": [
    "# Visualize that comparison.\n",
    "ax=plt.figure(figsize=(8,4))\n",
    "ax = sns.barplot(x='Virus', y='avg_rain1', data=chicago)\n",
    "ax.set(ylabel='Rainfall 1 Week Ago', xlabel='Virus Present', Title=\"No difference in virus by last week's rain\");"
   ]
  },
  {
   "cell_type": "markdown",
   "metadata": {},
   "source": [
    "#### Rain two weeks ago."
   ]
  },
  {
   "cell_type": "code",
   "execution_count": 46,
   "metadata": {},
   "outputs": [
    {
     "name": "stdout",
     "output_type": "stream",
     "text": [
      "Virus\n",
      "0    0.376279\n",
      "1    0.354680\n",
      "Name: avg_rain2, dtype: float64\n",
      "Ttest_indResult(statistic=2.5318100717901872, pvalue=0.011361996839145927)\n"
     ]
    }
   ],
   "source": [
    "# Any sig difference?\n",
    "print(chicago.groupby(['Virus'])['avg_rain2'].mean())\n",
    "import scipy.stats as stats\n",
    "print(stats.ttest_ind(chicago[chicago['Virus']==0]['avg_rain2'], chicago[chicago['Virus']==1]['avg_rain2']))"
   ]
  },
  {
   "cell_type": "markdown",
   "metadata": {},
   "source": [
    "#### There _is_ a significant difference in virus by rainfall two weeks ago!"
   ]
  },
  {
   "cell_type": "code",
   "execution_count": 60,
   "metadata": {},
   "outputs": [
    {
     "data": {
      "image/png": "[encoded data removed]",
      "text/plain": [
       "<matplotlib.figure.Figure at 0x1a1916a4a8>"
      ]
     },
     "metadata": {},
     "output_type": "display_data"
    }
   ],
   "source": [
    "# Visualize that comparison.\n",
    "ax=plt.figure(figsize=(8,4))\n",
    "ax = sns.barplot(x='Virus', y='avg_rain2', data=chicago)\n",
    "ax.set(ylabel='Rainfall 2 Weeks Ago', xlabel='Virus Present',\n",
    "       Title=\"More rainfall two weeks ago increases virus risk slightly\");"
   ]
  },
  {
   "cell_type": "markdown",
   "metadata": {},
   "source": [
    "## Is the dryness of the last 2 weeks important?"
   ]
  },
  {
   "cell_type": "code",
   "execution_count": 63,
   "metadata": {},
   "outputs": [
    {
     "name": "stdout",
     "output_type": "stream",
     "text": [
      "count    10506.000000\n",
      "mean         0.405428\n",
      "std          0.262297\n",
      "min          0.000000\n",
      "25%          0.142857\n",
      "50%          0.428571\n",
      "75%          0.571429\n",
      "max          1.000000\n",
      "Name: avg_dry1, dtype: float64\n",
      "count    10506.000000\n",
      "mean         0.433453\n",
      "std          0.236762\n",
      "min          0.000000\n",
      "25%          0.285714\n",
      "50%          0.428571\n",
      "75%          0.571429\n",
      "max          1.000000\n",
      "Name: avg_dry2, dtype: float64\n"
     ]
    }
   ],
   "source": [
    "# These variables each represent the average of 7 values, where 1=dry and 0=moist.\n",
    "print(chicago['avg_dry1'].describe())\n",
    "print(chicago['avg_dry2'].describe())"
   ]
  },
  {
   "cell_type": "code",
   "execution_count": 64,
   "metadata": {},
   "outputs": [
    {
     "name": "stdout",
     "output_type": "stream",
     "text": [
      "Virus\n",
      "0    0.409500\n",
      "1    0.331864\n",
      "Name: avg_dry1, dtype: float64\n",
      "Ttest_indResult(statistic=6.7775583329041647, pvalue=1.2877795867361884e-11)\n"
     ]
    }
   ],
   "source": [
    "# Last week's dryness\n",
    "print(chicago.groupby(['Virus'])['avg_dry1'].mean())\n",
    "import scipy.stats as stats\n",
    "print(stats.ttest_ind(chicago[chicago['Virus']==0]['avg_dry1'], chicago[chicago['Virus']==1]['avg_dry1']))"
   ]
  },
  {
   "cell_type": "markdown",
   "metadata": {},
   "source": [
    "#### There *is* a significant difference in virus by last week's dryness!"
   ]
  },
  {
   "cell_type": "code",
   "execution_count": 70,
   "metadata": {},
   "outputs": [
    {
     "data": {
      "image/png": "[encoded data removed]",
      "text/plain": [
       "<matplotlib.figure.Figure at 0x10d8bd278>"
      ]
     },
     "metadata": {},
     "output_type": "display_data"
    }
   ],
   "source": [
    "# Visualize that comparison.\n",
    "ax=plt.figure(figsize=(8,4))\n",
    "ax = sns.barplot(x='Virus', y='avg_dry1', data=chicago)\n",
    "ax.set(ylabel='Dry 1 Week Ago', xlabel='Virus Present', Title=\"Virus is less common when last week was dry\");"
   ]
  },
  {
   "cell_type": "markdown",
   "metadata": {},
   "source": [
    "### and Dryness two weeks ago?"
   ]
  },
  {
   "cell_type": "code",
   "execution_count": 66,
   "metadata": {},
   "outputs": [
    {
     "name": "stdout",
     "output_type": "stream",
     "text": [
      "Virus\n",
      "0    0.437913\n",
      "1    0.352865\n",
      "Name: avg_dry2, dtype: float64\n",
      "Ttest_indResult(statistic=8.2339565821697747, pvalue=2.0262138932100447e-16)\n"
     ]
    }
   ],
   "source": [
    "# Any sig difference?\n",
    "print(chicago.groupby(['Virus'])['avg_dry2'].mean())\n",
    "import scipy.stats as stats\n",
    "print(stats.ttest_ind(chicago[chicago['Virus']==0]['avg_dry2'], chicago[chicago['Virus']==1]['avg_dry2']))"
   ]
  },
  {
   "cell_type": "markdown",
   "metadata": {},
   "source": [
    "#### There _is_ a significant difference in virus by dryfall two weeks ago!!"
   ]
  },
  {
   "cell_type": "code",
   "execution_count": 72,
   "metadata": {},
   "outputs": [
    {
     "data": {
      "image/png": "[encoded data removed]",
      "text/plain": [
       "<matplotlib.figure.Figure at 0x1a1963d550>"
      ]
     },
     "metadata": {},
     "output_type": "display_data"
    }
   ],
   "source": [
    "# Visualize that comparison.\n",
    "ax=plt.figure(figsize=(8,4))\n",
    "ax = sns.barplot(x='Virus', y='avg_dry2', data=chicago)\n",
    "ax.set(ylabel='dryfall 2 Weeks Ago', xlabel='Virus Present',\n",
    "       Title=\"Virus is less common when it was dry 2 weeks ago\");"
   ]
  }
 ],
 "metadata": {
  "kernelspec": {
   "display_name": "Python [conda env:anaconda3]",
   "language": "python",
   "name": "conda-env-anaconda3-py"
  },
  "language_info": {
   "codemirror_mode": {
    "name": "ipython",
    "version": 3
   },
   "file_extension": ".py",
   "mimetype": "text/x-python",
   "name": "python",
   "nbconvert_exporter": "python",
   "pygments_lexer": "ipython3",
   "version": "3.6.3"
  }
 },
 "nbformat": 4,
 "nbformat_minor": 2
}
