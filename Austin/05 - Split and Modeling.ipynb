{
 "cells": [
  {
   "cell_type": "code",
   "execution_count": 1,
   "metadata": {
    "collapsed": true
   },
   "outputs": [],
   "source": [
    "import pandas as pd\n",
    "import seaborn as sns\n",
    "import numpy as np\n",
    "import matplotlib.pyplot as plt\n",
    "%matplotlib inline\n",
    "\n",
    "from sklearn.feature_extraction.text import CountVectorizer, TfidfTransformer, TfidfVectorizer\n",
    "from sklearn.model_selection import cross_val_score\n",
    "from sklearn.metrics import classification_report\n",
    "from sklearn.naive_bayes import MultinomialNB, BernoulliNB, GaussianNB\n",
    "from sklearn.pipeline import Pipeline\n",
    "from sklearn.linear_model import LogisticRegression\n",
    "from sklearn.model_selection import train_test_split\n",
    "from sklearn import metrics\n",
    "from sklearn.metrics import classification_report,confusion_matrix,accuracy_score\n",
    "from sklearn.neighbors import KNeighborsClassifier\n",
    "from sklearn.ensemble import RandomForestClassifier, ExtraTreesClassifier, BaggingClassifier\n",
    "from sklearn.metrics import roc_auc_score\n",
    "sns.set_style(\"darkgrid\")"
   ]
  },
  {
   "cell_type": "code",
   "execution_count": 2,
   "metadata": {},
   "outputs": [
    {
     "data": {
      "application/javascript": [
       "$('.nbp-app-bar').toggle()"
      ],
      "text/plain": [
       "<IPython.core.display.Javascript object>"
      ]
     },
     "metadata": {},
     "output_type": "display_data"
    }
   ],
   "source": [
    "%%javascript\n",
    "$('.nbp-app-bar').toggle()"
   ]
  },
  {
   "cell_type": "markdown",
   "metadata": {},
   "source": [
    "# Read and Split the Data"
   ]
  },
  {
   "cell_type": "code",
   "execution_count": 3,
   "metadata": {},
   "outputs": [
    {
     "name": "stdout",
     "output_type": "stream",
     "text": [
      "(8475, 16)\n",
      "Index(['NumMosquitos', 'Month', 'Year', 'DayRunner', 'Virus', 'pipiens',\n",
      "       'restuans', 'bad_block', 'spray', 'Tmax', 'Tmin', 'rainy', 'dry',\n",
      "       'Dry_Wet_Diff', 'Slowdown', 'Speedy'],\n",
      "      dtype='object')\n"
     ]
    },
    {
     "data": {
      "text/html": [
       "<div>\n",
       "<style>\n",
       "    .dataframe thead tr:only-child th {\n",
       "        text-align: right;\n",
       "    }\n",
       "\n",
       "    .dataframe thead th {\n",
       "        text-align: left;\n",
       "    }\n",
       "\n",
       "    .dataframe tbody tr th {\n",
       "        vertical-align: top;\n",
       "    }\n",
       "</style>\n",
       "<table border=\"1\" class=\"dataframe\">\n",
       "  <thead>\n",
       "    <tr style=\"text-align: right;\">\n",
       "      <th></th>\n",
       "      <th>NumMosquitos</th>\n",
       "      <th>Month</th>\n",
       "      <th>Year</th>\n",
       "      <th>DayRunner</th>\n",
       "      <th>Virus</th>\n",
       "      <th>pipiens</th>\n",
       "      <th>restuans</th>\n",
       "      <th>bad_block</th>\n",
       "      <th>spray</th>\n",
       "      <th>Tmax</th>\n",
       "      <th>Tmin</th>\n",
       "      <th>rainy</th>\n",
       "      <th>dry</th>\n",
       "      <th>Dry_Wet_Diff</th>\n",
       "      <th>Slowdown</th>\n",
       "      <th>Speedy</th>\n",
       "    </tr>\n",
       "  </thead>\n",
       "  <tbody>\n",
       "    <tr>\n",
       "      <th>0</th>\n",
       "      <td>1</td>\n",
       "      <td>5</td>\n",
       "      <td>2007</td>\n",
       "      <td>149</td>\n",
       "      <td>0</td>\n",
       "      <td>1</td>\n",
       "      <td>1</td>\n",
       "      <td>1</td>\n",
       "      <td>0</td>\n",
       "      <td>88</td>\n",
       "      <td>65</td>\n",
       "      <td>0</td>\n",
       "      <td>0</td>\n",
       "      <td>1</td>\n",
       "      <td>1</td>\n",
       "      <td>0</td>\n",
       "    </tr>\n",
       "    <tr>\n",
       "      <th>1</th>\n",
       "      <td>1</td>\n",
       "      <td>5</td>\n",
       "      <td>2007</td>\n",
       "      <td>149</td>\n",
       "      <td>0</td>\n",
       "      <td>0</td>\n",
       "      <td>1</td>\n",
       "      <td>1</td>\n",
       "      <td>0</td>\n",
       "      <td>88</td>\n",
       "      <td>65</td>\n",
       "      <td>0</td>\n",
       "      <td>0</td>\n",
       "      <td>1</td>\n",
       "      <td>1</td>\n",
       "      <td>0</td>\n",
       "    </tr>\n",
       "    <tr>\n",
       "      <th>2</th>\n",
       "      <td>1</td>\n",
       "      <td>5</td>\n",
       "      <td>2007</td>\n",
       "      <td>149</td>\n",
       "      <td>0</td>\n",
       "      <td>0</td>\n",
       "      <td>1</td>\n",
       "      <td>1</td>\n",
       "      <td>0</td>\n",
       "      <td>88</td>\n",
       "      <td>65</td>\n",
       "      <td>0</td>\n",
       "      <td>0</td>\n",
       "      <td>1</td>\n",
       "      <td>1</td>\n",
       "      <td>0</td>\n",
       "    </tr>\n",
       "    <tr>\n",
       "      <th>3</th>\n",
       "      <td>1</td>\n",
       "      <td>5</td>\n",
       "      <td>2007</td>\n",
       "      <td>149</td>\n",
       "      <td>0</td>\n",
       "      <td>1</td>\n",
       "      <td>1</td>\n",
       "      <td>1</td>\n",
       "      <td>0</td>\n",
       "      <td>88</td>\n",
       "      <td>65</td>\n",
       "      <td>0</td>\n",
       "      <td>0</td>\n",
       "      <td>1</td>\n",
       "      <td>1</td>\n",
       "      <td>0</td>\n",
       "    </tr>\n",
       "    <tr>\n",
       "      <th>4</th>\n",
       "      <td>4</td>\n",
       "      <td>5</td>\n",
       "      <td>2007</td>\n",
       "      <td>149</td>\n",
       "      <td>0</td>\n",
       "      <td>0</td>\n",
       "      <td>1</td>\n",
       "      <td>1</td>\n",
       "      <td>0</td>\n",
       "      <td>88</td>\n",
       "      <td>65</td>\n",
       "      <td>0</td>\n",
       "      <td>0</td>\n",
       "      <td>1</td>\n",
       "      <td>1</td>\n",
       "      <td>0</td>\n",
       "    </tr>\n",
       "  </tbody>\n",
       "</table>\n",
       "</div>"
      ],
      "text/plain": [
       "   NumMosquitos  Month  Year  DayRunner  Virus  pipiens  restuans  bad_block  \\\n",
       "0             1      5  2007        149      0        1         1          1   \n",
       "1             1      5  2007        149      0        0         1          1   \n",
       "2             1      5  2007        149      0        0         1          1   \n",
       "3             1      5  2007        149      0        1         1          1   \n",
       "4             4      5  2007        149      0        0         1          1   \n",
       "\n",
       "   spray  Tmax  Tmin  rainy  dry  Dry_Wet_Diff  Slowdown  Speedy  \n",
       "0      0    88    65      0    0             1         1       0  \n",
       "1      0    88    65      0    0             1         1       0  \n",
       "2      0    88    65      0    0             1         1       0  \n",
       "3      0    88    65      0    0             1         1       0  \n",
       "4      0    88    65      0    0             1         1       0  "
      ]
     },
     "execution_count": 3,
     "metadata": {},
     "output_type": "execute_result"
    }
   ],
   "source": [
    "weather=pd.read_csv('weather2.csv')\n",
    "readings=pd.read_csv('readings.csv')\n",
    "chicago=pd.merge(readings, weather, on='Date').drop('Date', axis=1);\n",
    "print(chicago.shape)\n",
    "print(chicago.columns)\n",
    "chicago.head()"
   ]
  },
  {
   "cell_type": "code",
   "execution_count": 4,
   "metadata": {},
   "outputs": [
    {
     "data": {
      "text/plain": [
       "(6780, 15)"
      ]
     },
     "execution_count": 4,
     "metadata": {},
     "output_type": "execute_result"
    }
   ],
   "source": [
    "# Split the data\n",
    "X = chicago.drop(['Virus'], axis=1)\n",
    "y = chicago['Virus']\n",
    "X_train, X_test, y_train, y_test = train_test_split(X, y, test_size = .2, random_state=42)\n",
    "X_train.shape # Notice the number of rows in the training set. This should stay constant."
   ]
  },
  {
   "cell_type": "markdown",
   "metadata": {},
   "source": [
    "# Model 1. KNN classifier "
   ]
  },
  {
   "cell_type": "markdown",
   "metadata": {},
   "source": [
    "#### fit on the training, predict on the testing data"
   ]
  },
  {
   "cell_type": "code",
   "execution_count": 5,
   "metadata": {
    "collapsed": true
   },
   "outputs": [],
   "source": [
    "# train the model\n",
    "neighs = KNeighborsClassifier(n_neighbors=7)\n",
    "knn_model = neighs.fit(X_train, y_train)"
   ]
  },
  {
   "cell_type": "code",
   "execution_count": 6,
   "metadata": {},
   "outputs": [
    {
     "data": {
      "text/plain": [
       "(0.94130019369398921, 0.0042064138816886526)"
      ]
     },
     "execution_count": 6,
     "metadata": {},
     "output_type": "execute_result"
    }
   ],
   "source": [
    "# The crossvalidiation score scores our performance on the training data. \n",
    "scores = cross_val_score(knn_model, X_train, y_train, cv=5)\n",
    "np.mean(scores), np.std(scores) # This is the mean of the 5 cv scores, plus its standard dev."
   ]
  },
  {
   "cell_type": "code",
   "execution_count": 7,
   "metadata": {
    "collapsed": true
   },
   "outputs": [],
   "source": [
    "# Predict the y values on the testing data.\n",
    "y_hat = knn_model.predict(X_test)"
   ]
  },
  {
   "cell_type": "markdown",
   "metadata": {},
   "source": [
    "#### Score my model"
   ]
  },
  {
   "cell_type": "code",
   "execution_count": 8,
   "metadata": {
    "collapsed": true
   },
   "outputs": [],
   "source": [
    "# Set up some empty lists, so we can compare our models at the end\n",
    "acc=[]\n",
    "sens=[]\n",
    "spec=[]\n",
    "roc=[]"
   ]
  },
  {
   "cell_type": "code",
   "execution_count": 9,
   "metadata": {},
   "outputs": [
    {
     "name": "stdout",
     "output_type": "stream",
     "text": [
      "94.395280236\n",
      "94.395280236\n"
     ]
    }
   ],
   "source": [
    "# There are two different ways to get the accuracy score, which is our primary metric:\n",
    "modscore=100*(knn_model.score(X_test, y_test))\n",
    "accuracy=100*metrics.accuracy_score(y_test, y_hat)\n",
    "acc.append(accuracy)\n",
    "print(modscore)\n",
    "print(accuracy)"
   ]
  },
  {
   "cell_type": "code",
   "execution_count": 10,
   "metadata": {},
   "outputs": [
    {
     "name": "stdout",
     "output_type": "stream",
     "text": [
      "[[1588   18]\n",
      " [  77   12]]\n"
     ]
    }
   ],
   "source": [
    "# A confusion matrix tells us our false positives and false negatives:\n",
    "mat = confusion_matrix(y_test, y_hat)\n",
    "print (mat)"
   ]
  },
  {
   "cell_type": "code",
   "execution_count": 11,
   "metadata": {},
   "outputs": [
    {
     "name": "stdout",
     "output_type": "stream",
     "text": [
      "sensitivity: 13.4831460674\n",
      "specificity: 98.8792029888\n"
     ]
    }
   ],
   "source": [
    "# Let's interpret that.\n",
    "tn, fp, fn, tp = mat.ravel()\n",
    "sensitivity = 100*tp/(tp+fn)\n",
    "specificity=100*tn/(tn+fp)\n",
    "sens.append(sensitivity)\n",
    "spec.append(specificity)\n",
    "\n",
    "print('sensitivity:', sensitivity)\n",
    "print('specificity:', specificity)"
   ]
  },
  {
   "cell_type": "code",
   "execution_count": 12,
   "metadata": {},
   "outputs": [
    {
     "name": "stdout",
     "output_type": "stream",
     "text": [
      "56.1811745281\n"
     ]
    }
   ],
   "source": [
    "# Our ROC-AUC score measures the trade-off between specificity and sensitivity\n",
    "roc_score=100*roc_auc_score(y_test, y_hat)\n",
    "roc.append(roc_score)\n",
    "print(roc_score)"
   ]
  },
  {
   "cell_type": "markdown",
   "metadata": {},
   "source": [
    "# Model 2. Logistic Classifier"
   ]
  },
  {
   "cell_type": "markdown",
   "metadata": {},
   "source": [
    "#### fit on the training, predict on the testing data"
   ]
  },
  {
   "cell_type": "code",
   "execution_count": 13,
   "metadata": {
    "collapsed": true
   },
   "outputs": [],
   "source": [
    "# train the model\n",
    "logit = LogisticRegression()\n",
    "log_model=logit.fit(X_train, y_train)"
   ]
  },
  {
   "cell_type": "code",
   "execution_count": 14,
   "metadata": {},
   "outputs": [
    {
     "data": {
      "text/plain": [
       "(0.94852483390590625, 0.0011893849134528571)"
      ]
     },
     "execution_count": 14,
     "metadata": {},
     "output_type": "execute_result"
    }
   ],
   "source": [
    "# The crossvalidiation score scores our performance on the training data. \n",
    "scores = cross_val_score(logit, X_train, y_train, cv=5)\n",
    "np.mean(scores), np.std(scores) # This is the mean of the 5 cv scores, plus its standard dev."
   ]
  },
  {
   "cell_type": "code",
   "execution_count": 15,
   "metadata": {
    "collapsed": true
   },
   "outputs": [],
   "source": [
    "# Predict the y values on the testing data.\n",
    "y_hat = log_model.predict(X_test)"
   ]
  },
  {
   "cell_type": "code",
   "execution_count": 16,
   "metadata": {},
   "outputs": [
    {
     "data": {
      "text/html": [
       "<div>\n",
       "<style>\n",
       "    .dataframe thead tr:only-child th {\n",
       "        text-align: right;\n",
       "    }\n",
       "\n",
       "    .dataframe thead th {\n",
       "        text-align: left;\n",
       "    }\n",
       "\n",
       "    .dataframe tbody tr th {\n",
       "        vertical-align: top;\n",
       "    }\n",
       "</style>\n",
       "<table border=\"1\" class=\"dataframe\">\n",
       "  <thead>\n",
       "    <tr style=\"text-align: right;\">\n",
       "      <th></th>\n",
       "      <th>0</th>\n",
       "      <th>0</th>\n",
       "    </tr>\n",
       "  </thead>\n",
       "  <tbody>\n",
       "    <tr>\n",
       "      <th>0</th>\n",
       "      <td>NumMosquitos</td>\n",
       "      <td>0.010601</td>\n",
       "    </tr>\n",
       "    <tr>\n",
       "      <th>1</th>\n",
       "      <td>Month</td>\n",
       "      <td>-0.138463</td>\n",
       "    </tr>\n",
       "    <tr>\n",
       "      <th>2</th>\n",
       "      <td>Year</td>\n",
       "      <td>-0.006651</td>\n",
       "    </tr>\n",
       "    <tr>\n",
       "      <th>3</th>\n",
       "      <td>DayRunner</td>\n",
       "      <td>0.022406</td>\n",
       "    </tr>\n",
       "    <tr>\n",
       "      <th>4</th>\n",
       "      <td>pipiens</td>\n",
       "      <td>0.904211</td>\n",
       "    </tr>\n",
       "    <tr>\n",
       "      <th>5</th>\n",
       "      <td>restuans</td>\n",
       "      <td>-0.199205</td>\n",
       "    </tr>\n",
       "    <tr>\n",
       "      <th>6</th>\n",
       "      <td>bad_block</td>\n",
       "      <td>1.527731</td>\n",
       "    </tr>\n",
       "    <tr>\n",
       "      <th>7</th>\n",
       "      <td>spray</td>\n",
       "      <td>1.049445</td>\n",
       "    </tr>\n",
       "    <tr>\n",
       "      <th>8</th>\n",
       "      <td>Tmax</td>\n",
       "      <td>-0.017001</td>\n",
       "    </tr>\n",
       "    <tr>\n",
       "      <th>9</th>\n",
       "      <td>Tmin</td>\n",
       "      <td>0.079186</td>\n",
       "    </tr>\n",
       "    <tr>\n",
       "      <th>10</th>\n",
       "      <td>rainy</td>\n",
       "      <td>-0.115093</td>\n",
       "    </tr>\n",
       "    <tr>\n",
       "      <th>11</th>\n",
       "      <td>dry</td>\n",
       "      <td>-0.642892</td>\n",
       "    </tr>\n",
       "    <tr>\n",
       "      <th>12</th>\n",
       "      <td>Dry_Wet_Diff</td>\n",
       "      <td>-0.331174</td>\n",
       "    </tr>\n",
       "    <tr>\n",
       "      <th>13</th>\n",
       "      <td>Slowdown</td>\n",
       "      <td>0.449268</td>\n",
       "    </tr>\n",
       "    <tr>\n",
       "      <th>14</th>\n",
       "      <td>Speedy</td>\n",
       "      <td>-1.112944</td>\n",
       "    </tr>\n",
       "  </tbody>\n",
       "</table>\n",
       "</div>"
      ],
      "text/plain": [
       "               0         0\n",
       "0   NumMosquitos  0.010601\n",
       "1          Month -0.138463\n",
       "2           Year -0.006651\n",
       "3      DayRunner  0.022406\n",
       "4        pipiens  0.904211\n",
       "5       restuans -0.199205\n",
       "6      bad_block  1.527731\n",
       "7          spray  1.049445\n",
       "8           Tmax -0.017001\n",
       "9           Tmin  0.079186\n",
       "10         rainy -0.115093\n",
       "11           dry -0.642892\n",
       "12  Dry_Wet_Diff -0.331174\n",
       "13      Slowdown  0.449268\n",
       "14        Speedy -1.112944"
      ]
     },
     "execution_count": 16,
     "metadata": {},
     "output_type": "execute_result"
    }
   ],
   "source": [
    "# Check out the coefficients\n",
    "coefficients = pd.concat([pd.DataFrame(X_train.columns),pd.DataFrame(np.transpose(log_model.coef_))], axis = 1)\n",
    "coefficients"
   ]
  },
  {
   "cell_type": "markdown",
   "metadata": {},
   "source": [
    "#### Score my model"
   ]
  },
  {
   "cell_type": "code",
   "execution_count": 17,
   "metadata": {},
   "outputs": [
    {
     "name": "stdout",
     "output_type": "stream",
     "text": [
      "94.8672566372\n",
      "94.8672566372\n"
     ]
    }
   ],
   "source": [
    "# There are two different ways to get the accuracy score, which is our primary metric:\n",
    "modscore=100*(log_model.score(X_test, y_test))\n",
    "accuracy=100*metrics.accuracy_score(y_test, y_hat)\n",
    "acc.append(accuracy)\n",
    "print(modscore)\n",
    "print(accuracy)"
   ]
  },
  {
   "cell_type": "code",
   "execution_count": 18,
   "metadata": {},
   "outputs": [
    {
     "name": "stdout",
     "output_type": "stream",
     "text": [
      "[[1604    2]\n",
      " [  85    4]]\n"
     ]
    }
   ],
   "source": [
    "# A confusion matrix tells us our false positives and false negatives:\n",
    "mat = confusion_matrix(y_test, y_hat)\n",
    "print (mat)"
   ]
  },
  {
   "cell_type": "code",
   "execution_count": 19,
   "metadata": {},
   "outputs": [
    {
     "name": "stdout",
     "output_type": "stream",
     "text": [
      "sensitivity: 4.49438202247\n",
      "specificity: 99.8754669988\n"
     ]
    }
   ],
   "source": [
    "# Let's interpret that.\n",
    "tn, fp, fn, tp = mat.ravel()\n",
    "sensitivity = 100*tp/(tp+fn)\n",
    "specificity=100*tn/(tn+fp)\n",
    "sens.append(sensitivity)\n",
    "spec.append(specificity)\n",
    "\n",
    "print('sensitivity:', sensitivity)\n",
    "print('specificity:', specificity)"
   ]
  },
  {
   "cell_type": "code",
   "execution_count": 20,
   "metadata": {},
   "outputs": [
    {
     "name": "stdout",
     "output_type": "stream",
     "text": [
      "52.1849245106\n"
     ]
    }
   ],
   "source": [
    "# Our ROC-AUC score measures the trade-off between specificity and sensitivity\n",
    "roc_score=100*roc_auc_score(y_test, y_hat)\n",
    "roc.append(roc_score)\n",
    "print(roc_score)"
   ]
  },
  {
   "cell_type": "markdown",
   "metadata": {},
   "source": [
    "# Model 3. Random Forest Classifier"
   ]
  },
  {
   "cell_type": "markdown",
   "metadata": {},
   "source": [
    "#### Instantiate and Fit the Model"
   ]
  },
  {
   "cell_type": "code",
   "execution_count": 21,
   "metadata": {
    "collapsed": true
   },
   "outputs": [],
   "source": [
    "dt = RandomForestClassifier()\n",
    "tree_model=dt.fit(X_train, y_train)"
   ]
  },
  {
   "cell_type": "code",
   "execution_count": 22,
   "metadata": {},
   "outputs": [
    {
     "data": {
      "text/plain": [
       "(0.93112102312420075, 0.0023110648108094424)"
      ]
     },
     "execution_count": 22,
     "metadata": {},
     "output_type": "execute_result"
    }
   ],
   "source": [
    "# The crossvalidiation score scores our performance on the training data. It's quite high (but we have imbalance)\n",
    "scores = cross_val_score(tree_model, X_train, y_train, cv=5)\n",
    "np.mean(scores), np.std(scores) # This is the mean of the 5 cv scores, plus its standard dev."
   ]
  },
  {
   "cell_type": "code",
   "execution_count": 23,
   "metadata": {
    "collapsed": true
   },
   "outputs": [],
   "source": [
    "# Predict the y values on the testing data.\n",
    "y_hat = tree_model.predict(X_test)"
   ]
  },
  {
   "cell_type": "markdown",
   "metadata": {},
   "source": [
    "#### Score the model"
   ]
  },
  {
   "cell_type": "code",
   "execution_count": 24,
   "metadata": {},
   "outputs": [
    {
     "name": "stdout",
     "output_type": "stream",
     "text": [
      "93.8053097345\n"
     ]
    }
   ],
   "source": [
    "# ACCURACY\n",
    "accuracy=100*metrics.accuracy_score(y_test, y_hat)\n",
    "acc.append(accuracy)\n",
    "print(accuracy)"
   ]
  },
  {
   "cell_type": "code",
   "execution_count": 25,
   "metadata": {},
   "outputs": [
    {
     "name": "stdout",
     "output_type": "stream",
     "text": [
      "[[1569   37]\n",
      " [  68   21]]\n"
     ]
    }
   ],
   "source": [
    "# A confusion matrix tells us our false positives and false negatives:\n",
    "mat = confusion_matrix(y_test, y_hat)\n",
    "print (mat)"
   ]
  },
  {
   "cell_type": "code",
   "execution_count": 26,
   "metadata": {},
   "outputs": [
    {
     "name": "stdout",
     "output_type": "stream",
     "text": [
      "sensitivity: 23.595505618\n",
      "specificity: 97.696139477\n"
     ]
    }
   ],
   "source": [
    "# Let's interpret that.\n",
    "tn, fp, fn, tp = mat.ravel()\n",
    "sensitivity = 100*tp/(tp+fn)\n",
    "specificity=100*tn/(tn+fp)\n",
    "sens.append(sensitivity)\n",
    "spec.append(specificity)\n",
    "\n",
    "print('sensitivity:', sensitivity)\n",
    "print('specificity:', specificity)"
   ]
  },
  {
   "cell_type": "code",
   "execution_count": 27,
   "metadata": {},
   "outputs": [
    {
     "name": "stdout",
     "output_type": "stream",
     "text": [
      "60.6458225475\n"
     ]
    }
   ],
   "source": [
    "# Our ROC-AUC score measures the trade-off between specificity and sensitivity\n",
    "roc_score=100*roc_auc_score(y_test, y_hat)\n",
    "roc.append(roc_score)\n",
    "print(roc_score)"
   ]
  },
  {
   "cell_type": "code",
   "execution_count": 28,
   "metadata": {},
   "outputs": [
    {
     "name": "stdout",
     "output_type": "stream",
     "text": [
      "Feature ranking:\n",
      "1. feature 0 (0.711397)\n",
      "2. feature 3 (0.071125)\n",
      "3. feature 9 (0.040982)\n",
      "4. feature 5 (0.039254)\n",
      "5. feature 8 (0.034364)\n",
      "6. feature 4 (0.024188)\n",
      "7. feature 1 (0.018869)\n",
      "8. feature 2 (0.018414)\n",
      "9. feature 6 (0.014496)\n",
      "10. feature 7 (0.008545)\n",
      "11. feature 12 (0.006351)\n",
      "12. feature 10 (0.005832)\n",
      "13. feature 14 (0.002954)\n",
      "14. feature 11 (0.001905)\n",
      "15. feature 13 (0.001322)\n"
     ]
    }
   ],
   "source": [
    "# compute the feature importances\n",
    "importances = tree_model.feature_importances_\n",
    "std = np.std([tree.feature_importances_ for tree in tree_model.estimators_],\n",
    "             axis=0)\n",
    "indices = np.argsort(importances)[::-1]\n",
    "\n",
    "# Print the feature ranking\n",
    "print(\"Feature ranking:\")\n",
    "\n",
    "for f in range(X.shape[1]):\n",
    "    print(\"%d. feature %d (%f)\" % (f + 1, indices[f], importances[indices[f]]))"
   ]
  },
  {
   "cell_type": "code",
   "execution_count": 29,
   "metadata": {},
   "outputs": [
    {
     "data": {
      "text/html": [
       "<div>\n",
       "<style>\n",
       "    .dataframe thead tr:only-child th {\n",
       "        text-align: right;\n",
       "    }\n",
       "\n",
       "    .dataframe thead th {\n",
       "        text-align: left;\n",
       "    }\n",
       "\n",
       "    .dataframe tbody tr th {\n",
       "        vertical-align: top;\n",
       "    }\n",
       "</style>\n",
       "<table border=\"1\" class=\"dataframe\">\n",
       "  <thead>\n",
       "    <tr style=\"text-align: right;\">\n",
       "      <th></th>\n",
       "      <th>importance</th>\n",
       "    </tr>\n",
       "  </thead>\n",
       "  <tbody>\n",
       "    <tr>\n",
       "      <th>NumMosquitos</th>\n",
       "      <td>0.711397</td>\n",
       "    </tr>\n",
       "    <tr>\n",
       "      <th>Month</th>\n",
       "      <td>0.018869</td>\n",
       "    </tr>\n",
       "    <tr>\n",
       "      <th>Year</th>\n",
       "      <td>0.018414</td>\n",
       "    </tr>\n",
       "    <tr>\n",
       "      <th>DayRunner</th>\n",
       "      <td>0.071125</td>\n",
       "    </tr>\n",
       "    <tr>\n",
       "      <th>pipiens</th>\n",
       "      <td>0.024188</td>\n",
       "    </tr>\n",
       "    <tr>\n",
       "      <th>restuans</th>\n",
       "      <td>0.039254</td>\n",
       "    </tr>\n",
       "    <tr>\n",
       "      <th>bad_block</th>\n",
       "      <td>0.014496</td>\n",
       "    </tr>\n",
       "    <tr>\n",
       "      <th>spray</th>\n",
       "      <td>0.008545</td>\n",
       "    </tr>\n",
       "    <tr>\n",
       "      <th>Tmax</th>\n",
       "      <td>0.034364</td>\n",
       "    </tr>\n",
       "    <tr>\n",
       "      <th>Tmin</th>\n",
       "      <td>0.040982</td>\n",
       "    </tr>\n",
       "    <tr>\n",
       "      <th>rainy</th>\n",
       "      <td>0.005832</td>\n",
       "    </tr>\n",
       "    <tr>\n",
       "      <th>dry</th>\n",
       "      <td>0.001905</td>\n",
       "    </tr>\n",
       "    <tr>\n",
       "      <th>Dry_Wet_Diff</th>\n",
       "      <td>0.006351</td>\n",
       "    </tr>\n",
       "    <tr>\n",
       "      <th>Slowdown</th>\n",
       "      <td>0.001322</td>\n",
       "    </tr>\n",
       "    <tr>\n",
       "      <th>Speedy</th>\n",
       "      <td>0.002954</td>\n",
       "    </tr>\n",
       "  </tbody>\n",
       "</table>\n",
       "</div>"
      ],
      "text/plain": [
       "              importance\n",
       "NumMosquitos    0.711397\n",
       "Month           0.018869\n",
       "Year            0.018414\n",
       "DayRunner       0.071125\n",
       "pipiens         0.024188\n",
       "restuans        0.039254\n",
       "bad_block       0.014496\n",
       "spray           0.008545\n",
       "Tmax            0.034364\n",
       "Tmin            0.040982\n",
       "rainy           0.005832\n",
       "dry             0.001905\n",
       "Dry_Wet_Diff    0.006351\n",
       "Slowdown        0.001322\n",
       "Speedy          0.002954"
      ]
     },
     "execution_count": 29,
     "metadata": {},
     "output_type": "execute_result"
    }
   ],
   "source": [
    "feat_imp=pd.DataFrame(importances, index=X_test.columns, columns=['importance'])\n",
    "feat_imp"
   ]
  },
  {
   "cell_type": "code",
   "execution_count": 30,
   "metadata": {
    "collapsed": true
   },
   "outputs": [],
   "source": [
    "top15=pd.DataFrame(feat_imp['importance'].sort_values(ascending=False))"
   ]
  },
  {
   "cell_type": "code",
   "execution_count": 31,
   "metadata": {},
   "outputs": [
    {
     "data": {
      "text/plain": [
       "Text(0,0.5,'Feature Importance')"
      ]
     },
     "execution_count": 31,
     "metadata": {},
     "output_type": "execute_result"
    },
    {
     "data": {
      "image/png": "[encoded data removed]",
      "text/plain": [
       "<matplotlib.figure.Figure at 0x10d38a470>"
      ]
     },
     "metadata": {},
     "output_type": "display_data"
    }
   ],
   "source": [
    "sns.set(style=\"whitegrid\", color_codes=True)\n",
    "ax = top15.plot(kind='bar', legend=False, fontsize=18, figsize=(15, 7))\n",
    "plt.xticks(rotation = 45,  fontsize=18)\n",
    "plt.title('Number of Mosquitos is Most Important Predictor',  fontsize=19)\n",
    "plt.yticks(rotation = 0,  fontsize=18)\n",
    "plt.ylabel('Feature Importance', rotation=90,  fontsize=18) "
   ]
  },
  {
   "cell_type": "markdown",
   "metadata": {},
   "source": [
    "# Compare Models"
   ]
  },
  {
   "cell_type": "code",
   "execution_count": 32,
   "metadata": {},
   "outputs": [
    {
     "name": "stdout",
     "output_type": "stream",
     "text": [
      "[94.395280235988196, 94.86725663716814, 93.805309734513273]\n",
      "[13.48314606741573, 4.4943820224719104, 23.59550561797753]\n",
      "[98.879202988792031, 99.875466998754675, 97.696139476961392]\n",
      "[56.181174528103874, 52.184924510613293, 60.64582254746945]\n"
     ]
    }
   ],
   "source": [
    "# Recap those scores for me, please.\n",
    "models=['KNN', 'Logistic', 'Random Forest']\n",
    "cols=['Model', 'Accuracy', 'Sensitivity', 'Specificity', 'ROC-AUC']\n",
    "print(acc)\n",
    "print(sens)\n",
    "print(spec)\n",
    "print(roc)"
   ]
  },
  {
   "cell_type": "code",
   "execution_count": 33,
   "metadata": {},
   "outputs": [
    {
     "data": {
      "text/html": [
       "<div>\n",
       "<style>\n",
       "    .dataframe thead tr:only-child th {\n",
       "        text-align: right;\n",
       "    }\n",
       "\n",
       "    .dataframe thead th {\n",
       "        text-align: left;\n",
       "    }\n",
       "\n",
       "    .dataframe tbody tr th {\n",
       "        vertical-align: top;\n",
       "    }\n",
       "</style>\n",
       "<table border=\"1\" class=\"dataframe\">\n",
       "  <thead>\n",
       "    <tr style=\"text-align: right;\">\n",
       "      <th></th>\n",
       "      <th>Model</th>\n",
       "      <th>Accuracy</th>\n",
       "      <th>Sensitivity</th>\n",
       "      <th>Specificity</th>\n",
       "      <th>ROC-AUC</th>\n",
       "    </tr>\n",
       "  </thead>\n",
       "  <tbody>\n",
       "    <tr>\n",
       "      <th>0</th>\n",
       "      <td>KNN</td>\n",
       "      <td>94.395280</td>\n",
       "      <td>13.483146</td>\n",
       "      <td>98.879203</td>\n",
       "      <td>56.181175</td>\n",
       "    </tr>\n",
       "    <tr>\n",
       "      <th>1</th>\n",
       "      <td>Logistic</td>\n",
       "      <td>94.867257</td>\n",
       "      <td>4.494382</td>\n",
       "      <td>99.875467</td>\n",
       "      <td>52.184925</td>\n",
       "    </tr>\n",
       "    <tr>\n",
       "      <th>2</th>\n",
       "      <td>Random Forest</td>\n",
       "      <td>93.805310</td>\n",
       "      <td>23.595506</td>\n",
       "      <td>97.696139</td>\n",
       "      <td>60.645823</td>\n",
       "    </tr>\n",
       "  </tbody>\n",
       "</table>\n",
       "</div>"
      ],
      "text/plain": [
       "           Model   Accuracy  Sensitivity  Specificity    ROC-AUC\n",
       "0            KNN  94.395280    13.483146    98.879203  56.181175\n",
       "1       Logistic  94.867257     4.494382    99.875467  52.184925\n",
       "2  Random Forest  93.805310    23.595506    97.696139  60.645823"
      ]
     },
     "execution_count": 33,
     "metadata": {},
     "output_type": "execute_result"
    }
   ],
   "source": [
    "# Show me that in a table:\n",
    "model_scores=pd.DataFrame(list(map(list, zip(models, acc, sens, spec, roc))), columns=cols)\n",
    "model_scores"
   ]
  },
  {
   "cell_type": "code",
   "execution_count": 34,
   "metadata": {},
   "outputs": [
    {
     "data": {
      "text/plain": [
       "Text(0,0.5,'Score')"
      ]
     },
     "execution_count": 34,
     "metadata": {},
     "output_type": "execute_result"
    },
    {
     "data": {
      "image/png": "[encoded data removed]",
      "text/plain": [
       "<matplotlib.figure.Figure at 0x1a1934ca90>"
      ]
     },
     "metadata": {},
     "output_type": "display_data"
    }
   ],
   "source": [
    "# Make it pretty. \n",
    "ax = model_scores.set_index('Model').T.plot(kind='bar', legend=False, fontsize=12, figsize=(15, 7))\n",
    "ax.legend(loc=1, fontsize=18, bbox_to_anchor=(-0.1, 0.5))\n",
    "plt.xticks(rotation = 45,  fontsize=15)\n",
    "plt.title('Random Forest Is the Best Pick',  fontsize=19)\n",
    "plt.yticks(rotation = 0,  fontsize=15)\n",
    "plt.ylabel('Score', rotation=90,  fontsize=15)  "
   ]
  },
  {
   "cell_type": "code",
   "execution_count": null,
   "metadata": {
    "collapsed": true
   },
   "outputs": [],
   "source": []
  },
  {
   "cell_type": "code",
   "execution_count": null,
   "metadata": {
    "collapsed": true
   },
   "outputs": [],
   "source": []
  },
  {
   "cell_type": "code",
   "execution_count": null,
   "metadata": {
    "collapsed": true
   },
   "outputs": [],
   "source": []
  },
  {
   "cell_type": "code",
   "execution_count": null,
   "metadata": {
    "collapsed": true
   },
   "outputs": [],
   "source": []
  },
  {
   "cell_type": "code",
   "execution_count": null,
   "metadata": {
    "collapsed": true
   },
   "outputs": [],
   "source": []
  },
  {
   "cell_type": "code",
   "execution_count": null,
   "metadata": {
    "collapsed": true
   },
   "outputs": [],
   "source": []
  },
  {
   "cell_type": "code",
   "execution_count": null,
   "metadata": {
    "collapsed": true
   },
   "outputs": [],
   "source": []
  }
 ],
 "metadata": {
  "kernelspec": {
   "display_name": "Python [conda env:anaconda3]",
   "language": "python",
   "name": "conda-env-anaconda3-py"
  },
  "language_info": {
   "codemirror_mode": {
    "name": "ipython",
    "version": 3
   },
   "file_extension": ".py",
   "mimetype": "text/x-python",
   "name": "python",
   "nbconvert_exporter": "python",
   "pygments_lexer": "ipython3",
   "version": "3.6.3"
  }
 },
 "nbformat": 4,
 "nbformat_minor": 2
}
