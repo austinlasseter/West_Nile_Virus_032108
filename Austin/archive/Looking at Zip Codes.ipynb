{
 "cells": [
  {
   "cell_type": "code",
   "execution_count": 1,
   "metadata": {},
   "outputs": [
    {
     "data": {
      "application/javascript": [
       "$('.nbp-app-bar').toggle()"
      ],
      "text/plain": [
       "<IPython.core.display.Javascript object>"
      ]
     },
     "metadata": {},
     "output_type": "display_data"
    }
   ],
   "source": [
    "%%javascript\n",
    "$('.nbp-app-bar').toggle()"
   ]
  },
  {
   "cell_type": "code",
   "execution_count": 2,
   "metadata": {
    "collapsed": true
   },
   "outputs": [],
   "source": [
    "import numpy as np\n",
    "import pandas as pd\n",
    "import seaborn as sns\n",
    "import matplotlib.pyplot as plt\n",
    "%matplotlib inline"
   ]
  },
  {
   "cell_type": "code",
   "execution_count": 3,
   "metadata": {
    "collapsed": true
   },
   "outputs": [],
   "source": [
    "path = '../../kaggle_data/input/'\n",
    "readings = pd.read_csv(path+'train.csv')"
   ]
  },
  {
   "cell_type": "code",
   "execution_count": 4,
   "metadata": {},
   "outputs": [
    {
     "data": {
      "text/plain": [
       "Index(['Date', 'Address', 'Species', 'Block', 'Street', 'Trap',\n",
       "       'AddressNumberAndStreet', 'Latitude', 'Longitude', 'AddressAccuracy',\n",
       "       'NumMosquitos', 'WnvPresent'],\n",
       "      dtype='object')"
      ]
     },
     "execution_count": 4,
     "metadata": {},
     "output_type": "execute_result"
    }
   ],
   "source": [
    "readings.columns"
   ]
  },
  {
   "cell_type": "code",
   "execution_count": 5,
   "metadata": {},
   "outputs": [
    {
     "data": {
      "text/plain": [
       "0    4100 North Oak Park Avenue, Chicago, IL 60634,...\n",
       "1    4100 North Oak Park Avenue, Chicago, IL 60634,...\n",
       "2    6200 North Mandell Avenue, Chicago, IL 60646, USA\n",
       "3      7900 West Foster Avenue, Chicago, IL 60656, USA\n",
       "4      7900 West Foster Avenue, Chicago, IL 60656, USA\n",
       "Name: Address, dtype: object"
      ]
     },
     "execution_count": 5,
     "metadata": {},
     "output_type": "execute_result"
    }
   ],
   "source": [
    "readings['Address'].head()"
   ]
  },
  {
   "cell_type": "code",
   "execution_count": 6,
   "metadata": {
    "collapsed": true
   },
   "outputs": [],
   "source": [
    "readings['Zip']=readings['Address'].str[-10:-5]"
   ]
  },
  {
   "cell_type": "code",
   "execution_count": 7,
   "metadata": {},
   "outputs": [
    {
     "data": {
      "text/html": [
       "<div>\n",
       "<style>\n",
       "    .dataframe thead tr:only-child th {\n",
       "        text-align: right;\n",
       "    }\n",
       "\n",
       "    .dataframe thead th {\n",
       "        text-align: left;\n",
       "    }\n",
       "\n",
       "    .dataframe tbody tr th {\n",
       "        vertical-align: top;\n",
       "    }\n",
       "</style>\n",
       "<table border=\"1\" class=\"dataframe\">\n",
       "  <thead>\n",
       "    <tr style=\"text-align: right;\">\n",
       "      <th></th>\n",
       "      <th>Date</th>\n",
       "      <th>Address</th>\n",
       "      <th>Species</th>\n",
       "      <th>Block</th>\n",
       "      <th>Street</th>\n",
       "      <th>Trap</th>\n",
       "      <th>AddressNumberAndStreet</th>\n",
       "      <th>Latitude</th>\n",
       "      <th>Longitude</th>\n",
       "      <th>AddressAccuracy</th>\n",
       "      <th>NumMosquitos</th>\n",
       "      <th>WnvPresent</th>\n",
       "      <th>Zip</th>\n",
       "    </tr>\n",
       "  </thead>\n",
       "  <tbody>\n",
       "    <tr>\n",
       "      <th>0</th>\n",
       "      <td>2007-05-29</td>\n",
       "      <td>4100 North Oak Park Avenue, Chicago, IL 60634,...</td>\n",
       "      <td>CULEX PIPIENS/RESTUANS</td>\n",
       "      <td>41</td>\n",
       "      <td>N OAK PARK AVE</td>\n",
       "      <td>T002</td>\n",
       "      <td>4100  N OAK PARK AVE, Chicago, IL</td>\n",
       "      <td>41.95469</td>\n",
       "      <td>-87.800991</td>\n",
       "      <td>9</td>\n",
       "      <td>1</td>\n",
       "      <td>0</td>\n",
       "      <td>60634</td>\n",
       "    </tr>\n",
       "    <tr>\n",
       "      <th>1</th>\n",
       "      <td>2007-05-29</td>\n",
       "      <td>4100 North Oak Park Avenue, Chicago, IL 60634,...</td>\n",
       "      <td>CULEX RESTUANS</td>\n",
       "      <td>41</td>\n",
       "      <td>N OAK PARK AVE</td>\n",
       "      <td>T002</td>\n",
       "      <td>4100  N OAK PARK AVE, Chicago, IL</td>\n",
       "      <td>41.95469</td>\n",
       "      <td>-87.800991</td>\n",
       "      <td>9</td>\n",
       "      <td>1</td>\n",
       "      <td>0</td>\n",
       "      <td>60634</td>\n",
       "    </tr>\n",
       "  </tbody>\n",
       "</table>\n",
       "</div>"
      ],
      "text/plain": [
       "         Date                                            Address  \\\n",
       "0  2007-05-29  4100 North Oak Park Avenue, Chicago, IL 60634,...   \n",
       "1  2007-05-29  4100 North Oak Park Avenue, Chicago, IL 60634,...   \n",
       "\n",
       "                  Species  Block           Street  Trap  \\\n",
       "0  CULEX PIPIENS/RESTUANS     41   N OAK PARK AVE  T002   \n",
       "1          CULEX RESTUANS     41   N OAK PARK AVE  T002   \n",
       "\n",
       "              AddressNumberAndStreet  Latitude  Longitude  AddressAccuracy  \\\n",
       "0  4100  N OAK PARK AVE, Chicago, IL  41.95469 -87.800991                9   \n",
       "1  4100  N OAK PARK AVE, Chicago, IL  41.95469 -87.800991                9   \n",
       "\n",
       "   NumMosquitos  WnvPresent    Zip  \n",
       "0             1           0  60634  \n",
       "1             1           0  60634  "
      ]
     },
     "execution_count": 7,
     "metadata": {},
     "output_type": "execute_result"
    }
   ],
   "source": [
    "readings.head(2)"
   ]
  },
  {
   "cell_type": "code",
   "execution_count": 8,
   "metadata": {},
   "outputs": [
    {
     "data": {
      "text/plain": [
       "2258"
      ]
     },
     "execution_count": 8,
     "metadata": {},
     "output_type": "execute_result"
    }
   ],
   "source": [
    "1508 + 750"
   ]
  },
  {
   "cell_type": "code",
   "execution_count": 9,
   "metadata": {},
   "outputs": [
    {
     "data": {
      "text/plain": [
       "o, IL    1508\n",
       "60666     750\n",
       "60617     734\n",
       "Name: Zip, dtype: int64"
      ]
     },
     "execution_count": 9,
     "metadata": {},
     "output_type": "execute_result"
    }
   ],
   "source": [
    "readings['Zip'].value_counts().head(3)"
   ]
  },
  {
   "cell_type": "code",
   "execution_count": 10,
   "metadata": {},
   "outputs": [
    {
     "data": {
      "text/plain": [
       "1508"
      ]
     },
     "execution_count": 10,
     "metadata": {},
     "output_type": "execute_result"
    }
   ],
   "source": [
    "len(readings[readings['Zip']=='o, IL'])"
   ]
  },
  {
   "cell_type": "code",
   "execution_count": 11,
   "metadata": {},
   "outputs": [
    {
     "data": {
      "text/plain": [
       "(10506, 13)"
      ]
     },
     "execution_count": 11,
     "metadata": {},
     "output_type": "execute_result"
    }
   ],
   "source": [
    "readings.shape"
   ]
  },
  {
   "cell_type": "code",
   "execution_count": 12,
   "metadata": {
    "collapsed": true
   },
   "outputs": [],
   "source": [
    "bad_zipcodes=readings.groupby(['Zip']).mean().sort_values(['NumMosquitos'], ascending=False).head()"
   ]
  },
  {
   "cell_type": "code",
   "execution_count": 13,
   "metadata": {},
   "outputs": [
    {
     "data": {
      "text/html": [
       "<div>\n",
       "<style>\n",
       "    .dataframe thead tr:only-child th {\n",
       "        text-align: right;\n",
       "    }\n",
       "\n",
       "    .dataframe thead th {\n",
       "        text-align: left;\n",
       "    }\n",
       "\n",
       "    .dataframe tbody tr th {\n",
       "        vertical-align: top;\n",
       "    }\n",
       "</style>\n",
       "<table border=\"1\" class=\"dataframe\">\n",
       "  <thead>\n",
       "    <tr style=\"text-align: right;\">\n",
       "      <th></th>\n",
       "      <th>Block</th>\n",
       "      <th>Latitude</th>\n",
       "      <th>Longitude</th>\n",
       "      <th>AddressAccuracy</th>\n",
       "      <th>NumMosquitos</th>\n",
       "      <th>WnvPresent</th>\n",
       "    </tr>\n",
       "    <tr>\n",
       "      <th>Zip</th>\n",
       "      <th></th>\n",
       "      <th></th>\n",
       "      <th></th>\n",
       "      <th></th>\n",
       "      <th></th>\n",
       "      <th></th>\n",
       "    </tr>\n",
       "  </thead>\n",
       "  <tbody>\n",
       "    <tr>\n",
       "      <th>o, IL</th>\n",
       "      <td>22.671088</td>\n",
       "      <td>41.723548</td>\n",
       "      <td>-87.605786</td>\n",
       "      <td>4.938992</td>\n",
       "      <td>24.645225</td>\n",
       "      <td>0.052387</td>\n",
       "    </tr>\n",
       "    <tr>\n",
       "      <th>60666</th>\n",
       "      <td>10.000000</td>\n",
       "      <td>41.974689</td>\n",
       "      <td>-87.890615</td>\n",
       "      <td>9.000000</td>\n",
       "      <td>20.514667</td>\n",
       "      <td>0.088000</td>\n",
       "    </tr>\n",
       "    <tr>\n",
       "      <th>60018</th>\n",
       "      <td>91.000000</td>\n",
       "      <td>41.992478</td>\n",
       "      <td>-87.862995</td>\n",
       "      <td>8.000000</td>\n",
       "      <td>18.462500</td>\n",
       "      <td>0.075000</td>\n",
       "    </tr>\n",
       "    <tr>\n",
       "      <th>60803</th>\n",
       "      <td>42.000000</td>\n",
       "      <td>41.662014</td>\n",
       "      <td>-87.724608</td>\n",
       "      <td>8.000000</td>\n",
       "      <td>17.060109</td>\n",
       "      <td>0.043716</td>\n",
       "    </tr>\n",
       "    <tr>\n",
       "      <th>60106</th>\n",
       "      <td>10.000000</td>\n",
       "      <td>41.957799</td>\n",
       "      <td>-87.930995</td>\n",
       "      <td>5.000000</td>\n",
       "      <td>16.621429</td>\n",
       "      <td>0.071429</td>\n",
       "    </tr>\n",
       "  </tbody>\n",
       "</table>\n",
       "</div>"
      ],
      "text/plain": [
       "           Block   Latitude  Longitude  AddressAccuracy  NumMosquitos  \\\n",
       "Zip                                                                     \n",
       "o, IL  22.671088  41.723548 -87.605786         4.938992     24.645225   \n",
       "60666  10.000000  41.974689 -87.890615         9.000000     20.514667   \n",
       "60018  91.000000  41.992478 -87.862995         8.000000     18.462500   \n",
       "60803  42.000000  41.662014 -87.724608         8.000000     17.060109   \n",
       "60106  10.000000  41.957799 -87.930995         5.000000     16.621429   \n",
       "\n",
       "       WnvPresent  \n",
       "Zip                \n",
       "o, IL    0.052387  \n",
       "60666    0.088000  \n",
       "60018    0.075000  \n",
       "60803    0.043716  \n",
       "60106    0.071429  "
      ]
     },
     "execution_count": 13,
     "metadata": {},
     "output_type": "execute_result"
    }
   ],
   "source": [
    "bad_zipcodes.head()"
   ]
  },
  {
   "cell_type": "code",
   "execution_count": 14,
   "metadata": {},
   "outputs": [
    {
     "data": {
      "text/plain": [
       "Zip\n",
       "o, IL    24.645225\n",
       "60666    20.514667\n",
       "60018    18.462500\n",
       "60803    17.060109\n",
       "60106    16.621429\n",
       "Name: NumMosquitos, dtype: float64"
      ]
     },
     "execution_count": 14,
     "metadata": {},
     "output_type": "execute_result"
    }
   ],
   "source": [
    "bad_zipcodes['NumMosquitos'].sort_values(ascending=False)"
   ]
  },
  {
   "cell_type": "code",
   "execution_count": 15,
   "metadata": {},
   "outputs": [
    {
     "data": {
      "text/plain": [
       "Zip\n",
       "60666    0.088000\n",
       "60018    0.075000\n",
       "60106    0.071429\n",
       "o, IL    0.052387\n",
       "60803    0.043716\n",
       "Name: WnvPresent, dtype: float64"
      ]
     },
     "execution_count": 15,
     "metadata": {},
     "output_type": "execute_result"
    }
   ],
   "source": [
    "bad_zipcodes['WnvPresent'].sort_values(ascending=False)"
   ]
  },
  {
   "cell_type": "code",
   "execution_count": 16,
   "metadata": {},
   "outputs": [
    {
     "data": {
      "text/plain": [
       "(1508, 13)"
      ]
     },
     "execution_count": 16,
     "metadata": {},
     "output_type": "execute_result"
    }
   ],
   "source": [
    "bad_zipcodes=readings[readings['Zip']=='o, IL']\n",
    "bad_zipcodes.shape"
   ]
  },
  {
   "cell_type": "code",
   "execution_count": 17,
   "metadata": {},
   "outputs": [
    {
     "name": "stderr",
     "output_type": "stream",
     "text": [
      "/Users/austinlasseter/anaconda3/lib/python3.6/site-packages/ipykernel/__main__.py:1: SettingWithCopyWarning: \n",
      "A value is trying to be set on a copy of a slice from a DataFrame.\n",
      "Try using .loc[row_indexer,col_indexer] = value instead\n",
      "\n",
      "See the caveats in the documentation: http://pandas.pydata.org/pandas-docs/stable/indexing.html#indexing-view-versus-copy\n",
      "  if __name__ == '__main__':\n",
      "/Users/austinlasseter/anaconda3/lib/python3.6/site-packages/ipykernel/__main__.py:2: SettingWithCopyWarning: \n",
      "A value is trying to be set on a copy of a slice from a DataFrame.\n",
      "Try using .loc[row_indexer,col_indexer] = value instead\n",
      "\n",
      "See the caveats in the documentation: http://pandas.pydata.org/pandas-docs/stable/indexing.html#indexing-view-versus-copy\n",
      "  from ipykernel import kernelapp as app\n"
     ]
    },
    {
     "data": {
      "text/html": [
       "<div>\n",
       "<style>\n",
       "    .dataframe thead tr:only-child th {\n",
       "        text-align: right;\n",
       "    }\n",
       "\n",
       "    .dataframe thead th {\n",
       "        text-align: left;\n",
       "    }\n",
       "\n",
       "    .dataframe tbody tr th {\n",
       "        vertical-align: top;\n",
       "    }\n",
       "</style>\n",
       "<table border=\"1\" class=\"dataframe\">\n",
       "  <thead>\n",
       "    <tr style=\"text-align: right;\">\n",
       "      <th></th>\n",
       "      <th>Date</th>\n",
       "      <th>Address</th>\n",
       "      <th>Species</th>\n",
       "      <th>Block</th>\n",
       "      <th>Street</th>\n",
       "      <th>Trap</th>\n",
       "      <th>AddressNumberAndStreet</th>\n",
       "      <th>Latitude</th>\n",
       "      <th>Longitude</th>\n",
       "      <th>AddressAccuracy</th>\n",
       "      <th>NumMosquitos</th>\n",
       "      <th>WnvPresent</th>\n",
       "      <th>Zip</th>\n",
       "      <th>Latitude_short</th>\n",
       "      <th>Longitude_short</th>\n",
       "    </tr>\n",
       "  </thead>\n",
       "  <tbody>\n",
       "    <tr>\n",
       "      <th>58</th>\n",
       "      <td>2007-06-05</td>\n",
       "      <td>South Vincennes Avenue, Chicago, IL, USA</td>\n",
       "      <td>CULEX RESTUANS</td>\n",
       "      <td>10</td>\n",
       "      <td>S VINCENNES</td>\n",
       "      <td>T089</td>\n",
       "      <td>1000  S VINCENNES, Chicago, IL</td>\n",
       "      <td>41.723195</td>\n",
       "      <td>-87.649970</td>\n",
       "      <td>5</td>\n",
       "      <td>1</td>\n",
       "      <td>0</td>\n",
       "      <td>o, IL</td>\n",
       "      <td>41.7</td>\n",
       "      <td>-87.6</td>\n",
       "    </tr>\n",
       "    <tr>\n",
       "      <th>69</th>\n",
       "      <td>2007-06-05</td>\n",
       "      <td>Chicago, IL, USA</td>\n",
       "      <td>CULEX RESTUANS</td>\n",
       "      <td>43</td>\n",
       "      <td>N ASHLAND AVE OVERPASS</td>\n",
       "      <td>T145</td>\n",
       "      <td>4300  N ASHLAND AVE OVERPASS, Chicago, IL</td>\n",
       "      <td>41.878114</td>\n",
       "      <td>-87.629798</td>\n",
       "      <td>3</td>\n",
       "      <td>3</td>\n",
       "      <td>0</td>\n",
       "      <td>o, IL</td>\n",
       "      <td>41.9</td>\n",
       "      <td>-87.6</td>\n",
       "    </tr>\n",
       "  </tbody>\n",
       "</table>\n",
       "</div>"
      ],
      "text/plain": [
       "          Date                                   Address         Species  \\\n",
       "58  2007-06-05  South Vincennes Avenue, Chicago, IL, USA  CULEX RESTUANS   \n",
       "69  2007-06-05                          Chicago, IL, USA  CULEX RESTUANS   \n",
       "\n",
       "    Block                   Street  Trap  \\\n",
       "58     10              S VINCENNES  T089   \n",
       "69     43   N ASHLAND AVE OVERPASS  T145   \n",
       "\n",
       "                       AddressNumberAndStreet   Latitude  Longitude  \\\n",
       "58             1000  S VINCENNES, Chicago, IL  41.723195 -87.649970   \n",
       "69  4300  N ASHLAND AVE OVERPASS, Chicago, IL  41.878114 -87.629798   \n",
       "\n",
       "    AddressAccuracy  NumMosquitos  WnvPresent    Zip  Latitude_short  \\\n",
       "58                5             1           0  o, IL            41.7   \n",
       "69                3             3           0  o, IL            41.9   \n",
       "\n",
       "    Longitude_short  \n",
       "58            -87.6  \n",
       "69            -87.6  "
      ]
     },
     "execution_count": 17,
     "metadata": {},
     "output_type": "execute_result"
    }
   ],
   "source": [
    "bad_zipcodes['Latitude_short']=bad_zipcodes['Latitude'].round(1)\n",
    "bad_zipcodes['Longitude_short']=bad_zipcodes['Longitude'].round(1)\n",
    "bad_zipcodes.head(2)"
   ]
  },
  {
   "cell_type": "code",
   "execution_count": 18,
   "metadata": {},
   "outputs": [
    {
     "name": "stderr",
     "output_type": "stream",
     "text": [
      "/Users/austinlasseter/anaconda3/lib/python3.6/site-packages/ipykernel/__main__.py:1: SettingWithCopyWarning: \n",
      "A value is trying to be set on a copy of a slice from a DataFrame.\n",
      "Try using .loc[row_indexer,col_indexer] = value instead\n",
      "\n",
      "See the caveats in the documentation: http://pandas.pydata.org/pandas-docs/stable/indexing.html#indexing-view-versus-copy\n",
      "  if __name__ == '__main__':\n"
     ]
    },
    {
     "data": {
      "text/html": [
       "<div>\n",
       "<style>\n",
       "    .dataframe thead tr:only-child th {\n",
       "        text-align: right;\n",
       "    }\n",
       "\n",
       "    .dataframe thead th {\n",
       "        text-align: left;\n",
       "    }\n",
       "\n",
       "    .dataframe tbody tr th {\n",
       "        vertical-align: top;\n",
       "    }\n",
       "</style>\n",
       "<table border=\"1\" class=\"dataframe\">\n",
       "  <thead>\n",
       "    <tr style=\"text-align: right;\">\n",
       "      <th></th>\n",
       "      <th>Date</th>\n",
       "      <th>Address</th>\n",
       "      <th>Species</th>\n",
       "      <th>Block</th>\n",
       "      <th>Street</th>\n",
       "      <th>Trap</th>\n",
       "      <th>AddressNumberAndStreet</th>\n",
       "      <th>Latitude</th>\n",
       "      <th>Longitude</th>\n",
       "      <th>AddressAccuracy</th>\n",
       "      <th>NumMosquitos</th>\n",
       "      <th>WnvPresent</th>\n",
       "      <th>Zip</th>\n",
       "      <th>Latitude_short</th>\n",
       "      <th>Longitude_short</th>\n",
       "      <th>lat_long</th>\n",
       "    </tr>\n",
       "  </thead>\n",
       "  <tbody>\n",
       "    <tr>\n",
       "      <th>58</th>\n",
       "      <td>2007-06-05</td>\n",
       "      <td>South Vincennes Avenue, Chicago, IL, USA</td>\n",
       "      <td>CULEX RESTUANS</td>\n",
       "      <td>10</td>\n",
       "      <td>S VINCENNES</td>\n",
       "      <td>T089</td>\n",
       "      <td>1000  S VINCENNES, Chicago, IL</td>\n",
       "      <td>41.723195</td>\n",
       "      <td>-87.649970</td>\n",
       "      <td>5</td>\n",
       "      <td>1</td>\n",
       "      <td>0</td>\n",
       "      <td>o, IL</td>\n",
       "      <td>41.7</td>\n",
       "      <td>-87.6</td>\n",
       "      <td>(41.7, -87.6)</td>\n",
       "    </tr>\n",
       "    <tr>\n",
       "      <th>69</th>\n",
       "      <td>2007-06-05</td>\n",
       "      <td>Chicago, IL, USA</td>\n",
       "      <td>CULEX RESTUANS</td>\n",
       "      <td>43</td>\n",
       "      <td>N ASHLAND AVE OVERPASS</td>\n",
       "      <td>T145</td>\n",
       "      <td>4300  N ASHLAND AVE OVERPASS, Chicago, IL</td>\n",
       "      <td>41.878114</td>\n",
       "      <td>-87.629798</td>\n",
       "      <td>3</td>\n",
       "      <td>3</td>\n",
       "      <td>0</td>\n",
       "      <td>o, IL</td>\n",
       "      <td>41.9</td>\n",
       "      <td>-87.6</td>\n",
       "      <td>(41.9, -87.6)</td>\n",
       "    </tr>\n",
       "  </tbody>\n",
       "</table>\n",
       "</div>"
      ],
      "text/plain": [
       "          Date                                   Address         Species  \\\n",
       "58  2007-06-05  South Vincennes Avenue, Chicago, IL, USA  CULEX RESTUANS   \n",
       "69  2007-06-05                          Chicago, IL, USA  CULEX RESTUANS   \n",
       "\n",
       "    Block                   Street  Trap  \\\n",
       "58     10              S VINCENNES  T089   \n",
       "69     43   N ASHLAND AVE OVERPASS  T145   \n",
       "\n",
       "                       AddressNumberAndStreet   Latitude  Longitude  \\\n",
       "58             1000  S VINCENNES, Chicago, IL  41.723195 -87.649970   \n",
       "69  4300  N ASHLAND AVE OVERPASS, Chicago, IL  41.878114 -87.629798   \n",
       "\n",
       "    AddressAccuracy  NumMosquitos  WnvPresent    Zip  Latitude_short  \\\n",
       "58                5             1           0  o, IL            41.7   \n",
       "69                3             3           0  o, IL            41.9   \n",
       "\n",
       "    Longitude_short       lat_long  \n",
       "58            -87.6  (41.7, -87.6)  \n",
       "69            -87.6  (41.9, -87.6)  "
      ]
     },
     "execution_count": 18,
     "metadata": {},
     "output_type": "execute_result"
    }
   ],
   "source": [
    "bad_zipcodes['lat_long'] = list(zip(bad_zipcodes['Latitude_short'], bad_zipcodes['Longitude_short']))\n",
    "bad_zipcodes.head(2)"
   ]
  },
  {
   "cell_type": "code",
   "execution_count": 19,
   "metadata": {},
   "outputs": [
    {
     "data": {
      "text/html": [
       "<div>\n",
       "<style>\n",
       "    .dataframe thead tr:only-child th {\n",
       "        text-align: right;\n",
       "    }\n",
       "\n",
       "    .dataframe thead th {\n",
       "        text-align: left;\n",
       "    }\n",
       "\n",
       "    .dataframe tbody tr th {\n",
       "        vertical-align: top;\n",
       "    }\n",
       "</style>\n",
       "<table border=\"1\" class=\"dataframe\">\n",
       "  <thead>\n",
       "    <tr style=\"text-align: right;\">\n",
       "      <th></th>\n",
       "      <th>Zip Code</th>\n",
       "      <th>Latitude</th>\n",
       "      <th>Longitude</th>\n",
       "    </tr>\n",
       "  </thead>\n",
       "  <tbody>\n",
       "    <tr>\n",
       "      <th>0</th>\n",
       "      <td>60002</td>\n",
       "      <td>42.471741</td>\n",
       "      <td>-88.084493</td>\n",
       "    </tr>\n",
       "    <tr>\n",
       "      <th>1</th>\n",
       "      <td>60004</td>\n",
       "      <td>42.112780</td>\n",
       "      <td>-87.979542</td>\n",
       "    </tr>\n",
       "    <tr>\n",
       "      <th>2</th>\n",
       "      <td>60005</td>\n",
       "      <td>42.064490</td>\n",
       "      <td>-87.985462</td>\n",
       "    </tr>\n",
       "  </tbody>\n",
       "</table>\n",
       "</div>"
      ],
      "text/plain": [
       "   Zip Code   Latitude  Longitude\n",
       "0     60002  42.471741 -88.084493\n",
       "1     60004  42.112780 -87.979542\n",
       "2     60005  42.064490 -87.985462"
      ]
     },
     "execution_count": 19,
     "metadata": {},
     "output_type": "execute_result"
    }
   ],
   "source": [
    "newzips=pd.read_csv('../../Mario/Chicago Zip Code Lat-Long Data Set.csv')\n",
    "newzips.head(3)"
   ]
  },
  {
   "cell_type": "code",
   "execution_count": 20,
   "metadata": {},
   "outputs": [
    {
     "data": {
      "text/html": [
       "<div>\n",
       "<style>\n",
       "    .dataframe thead tr:only-child th {\n",
       "        text-align: right;\n",
       "    }\n",
       "\n",
       "    .dataframe thead th {\n",
       "        text-align: left;\n",
       "    }\n",
       "\n",
       "    .dataframe tbody tr th {\n",
       "        vertical-align: top;\n",
       "    }\n",
       "</style>\n",
       "<table border=\"1\" class=\"dataframe\">\n",
       "  <thead>\n",
       "    <tr style=\"text-align: right;\">\n",
       "      <th></th>\n",
       "      <th>Zip Code</th>\n",
       "      <th>Latitude</th>\n",
       "      <th>Longitude</th>\n",
       "      <th>Latitude_short</th>\n",
       "      <th>Longitude_short</th>\n",
       "    </tr>\n",
       "  </thead>\n",
       "  <tbody>\n",
       "    <tr>\n",
       "      <th>0</th>\n",
       "      <td>60002</td>\n",
       "      <td>42.471741</td>\n",
       "      <td>-88.084493</td>\n",
       "      <td>42.5</td>\n",
       "      <td>-88.1</td>\n",
       "    </tr>\n",
       "    <tr>\n",
       "      <th>1</th>\n",
       "      <td>60004</td>\n",
       "      <td>42.112780</td>\n",
       "      <td>-87.979542</td>\n",
       "      <td>42.1</td>\n",
       "      <td>-88.0</td>\n",
       "    </tr>\n",
       "  </tbody>\n",
       "</table>\n",
       "</div>"
      ],
      "text/plain": [
       "   Zip Code   Latitude  Longitude  Latitude_short  Longitude_short\n",
       "0     60002  42.471741 -88.084493            42.5            -88.1\n",
       "1     60004  42.112780 -87.979542            42.1            -88.0"
      ]
     },
     "execution_count": 20,
     "metadata": {},
     "output_type": "execute_result"
    }
   ],
   "source": [
    "newzips['Latitude_short']=newzips['Latitude'].round(1)\n",
    "newzips['Longitude_short']=newzips['Longitude'].round(1)\n",
    "newzips.head(2)"
   ]
  },
  {
   "cell_type": "code",
   "execution_count": 21,
   "metadata": {},
   "outputs": [
    {
     "data": {
      "text/html": [
       "<div>\n",
       "<style>\n",
       "    .dataframe thead tr:only-child th {\n",
       "        text-align: right;\n",
       "    }\n",
       "\n",
       "    .dataframe thead th {\n",
       "        text-align: left;\n",
       "    }\n",
       "\n",
       "    .dataframe tbody tr th {\n",
       "        vertical-align: top;\n",
       "    }\n",
       "</style>\n",
       "<table border=\"1\" class=\"dataframe\">\n",
       "  <thead>\n",
       "    <tr style=\"text-align: right;\">\n",
       "      <th></th>\n",
       "      <th>Zip Code</th>\n",
       "      <th>Latitude</th>\n",
       "      <th>Longitude</th>\n",
       "      <th>Latitude_short</th>\n",
       "      <th>Longitude_short</th>\n",
       "      <th>lat_long</th>\n",
       "    </tr>\n",
       "  </thead>\n",
       "  <tbody>\n",
       "    <tr>\n",
       "      <th>0</th>\n",
       "      <td>60002</td>\n",
       "      <td>42.471741</td>\n",
       "      <td>-88.084493</td>\n",
       "      <td>42.5</td>\n",
       "      <td>-88.1</td>\n",
       "      <td>(42.5, -88.1)</td>\n",
       "    </tr>\n",
       "    <tr>\n",
       "      <th>1</th>\n",
       "      <td>60004</td>\n",
       "      <td>42.112780</td>\n",
       "      <td>-87.979542</td>\n",
       "      <td>42.1</td>\n",
       "      <td>-88.0</td>\n",
       "      <td>(42.1, -88.0)</td>\n",
       "    </tr>\n",
       "  </tbody>\n",
       "</table>\n",
       "</div>"
      ],
      "text/plain": [
       "   Zip Code   Latitude  Longitude  Latitude_short  Longitude_short  \\\n",
       "0     60002  42.471741 -88.084493            42.5            -88.1   \n",
       "1     60004  42.112780 -87.979542            42.1            -88.0   \n",
       "\n",
       "        lat_long  \n",
       "0  (42.5, -88.1)  \n",
       "1  (42.1, -88.0)  "
      ]
     },
     "execution_count": 21,
     "metadata": {},
     "output_type": "execute_result"
    }
   ],
   "source": [
    "newzips['lat_long'] = list(zip(newzips['Latitude_short'], newzips['Longitude_short']))\n",
    "newzips.head(2)"
   ]
  },
  {
   "cell_type": "code",
   "execution_count": 22,
   "metadata": {},
   "outputs": [
    {
     "data": {
      "text/html": [
       "<div>\n",
       "<style>\n",
       "    .dataframe thead tr:only-child th {\n",
       "        text-align: right;\n",
       "    }\n",
       "\n",
       "    .dataframe thead th {\n",
       "        text-align: left;\n",
       "    }\n",
       "\n",
       "    .dataframe tbody tr th {\n",
       "        vertical-align: top;\n",
       "    }\n",
       "</style>\n",
       "<table border=\"1\" class=\"dataframe\">\n",
       "  <thead>\n",
       "    <tr style=\"text-align: right;\">\n",
       "      <th></th>\n",
       "      <th>lat_long</th>\n",
       "      <th>Zip Code</th>\n",
       "      <th>Latitude</th>\n",
       "      <th>Longitude</th>\n",
       "      <th>Latitude_short</th>\n",
       "      <th>Longitude_short</th>\n",
       "    </tr>\n",
       "  </thead>\n",
       "  <tbody>\n",
       "    <tr>\n",
       "      <th>0</th>\n",
       "      <td>(37.1, -89.3)</td>\n",
       "      <td>62962</td>\n",
       "      <td>37.075360</td>\n",
       "      <td>-89.335889</td>\n",
       "      <td>37.1</td>\n",
       "      <td>-89.3</td>\n",
       "    </tr>\n",
       "    <tr>\n",
       "      <th>1</th>\n",
       "      <td>(37.1, -89.2)</td>\n",
       "      <td>62964</td>\n",
       "      <td>37.129263</td>\n",
       "      <td>-89.169921</td>\n",
       "      <td>37.1</td>\n",
       "      <td>-89.2</td>\n",
       "    </tr>\n",
       "    <tr>\n",
       "      <th>2</th>\n",
       "      <td>(37.2, -89.4)</td>\n",
       "      <td>62990</td>\n",
       "      <td>37.228582</td>\n",
       "      <td>-89.398842</td>\n",
       "      <td>37.2</td>\n",
       "      <td>-89.4</td>\n",
       "    </tr>\n",
       "    <tr>\n",
       "      <th>3</th>\n",
       "      <td>(37.2, -89.3)</td>\n",
       "      <td>62969</td>\n",
       "      <td>37.154393</td>\n",
       "      <td>-89.342299</td>\n",
       "      <td>37.2</td>\n",
       "      <td>-89.3</td>\n",
       "    </tr>\n",
       "    <tr>\n",
       "      <th>4</th>\n",
       "      <td>(37.2, -89.2)</td>\n",
       "      <td>62996</td>\n",
       "      <td>37.221663</td>\n",
       "      <td>-89.151028</td>\n",
       "      <td>37.2</td>\n",
       "      <td>-89.2</td>\n",
       "    </tr>\n",
       "  </tbody>\n",
       "</table>\n",
       "</div>"
      ],
      "text/plain": [
       "        lat_long  Zip Code   Latitude  Longitude  Latitude_short  \\\n",
       "0  (37.1, -89.3)     62962  37.075360 -89.335889            37.1   \n",
       "1  (37.1, -89.2)     62964  37.129263 -89.169921            37.1   \n",
       "2  (37.2, -89.4)     62990  37.228582 -89.398842            37.2   \n",
       "3  (37.2, -89.3)     62969  37.154393 -89.342299            37.2   \n",
       "4  (37.2, -89.2)     62996  37.221663 -89.151028            37.2   \n",
       "\n",
       "   Longitude_short  \n",
       "0            -89.3  \n",
       "1            -89.2  \n",
       "2            -89.4  \n",
       "3            -89.3  \n",
       "4            -89.2  "
      ]
     },
     "execution_count": 22,
     "metadata": {},
     "output_type": "execute_result"
    }
   ],
   "source": [
    "newzips2=newzips.groupby('lat_long').max().reset_index()\n",
    "newzips2.head()"
   ]
  },
  {
   "cell_type": "code",
   "execution_count": null,
   "metadata": {},
   "outputs": [],
   "source": []
  },
  {
   "cell_type": "code",
   "execution_count": 23,
   "metadata": {},
   "outputs": [
    {
     "data": {
      "text/html": [
       "<div>\n",
       "<style>\n",
       "    .dataframe thead tr:only-child th {\n",
       "        text-align: right;\n",
       "    }\n",
       "\n",
       "    .dataframe thead th {\n",
       "        text-align: left;\n",
       "    }\n",
       "\n",
       "    .dataframe tbody tr th {\n",
       "        vertical-align: top;\n",
       "    }\n",
       "</style>\n",
       "<table border=\"1\" class=\"dataframe\">\n",
       "  <thead>\n",
       "    <tr style=\"text-align: right;\">\n",
       "      <th></th>\n",
       "      <th>Date</th>\n",
       "      <th>Address</th>\n",
       "      <th>Species</th>\n",
       "      <th>Block</th>\n",
       "      <th>Street</th>\n",
       "      <th>Trap</th>\n",
       "      <th>AddressNumberAndStreet</th>\n",
       "      <th>Latitude</th>\n",
       "      <th>Longitude</th>\n",
       "      <th>AddressAccuracy</th>\n",
       "      <th>NumMosquitos</th>\n",
       "      <th>WnvPresent</th>\n",
       "      <th>Zip</th>\n",
       "      <th>Latitude_short</th>\n",
       "      <th>Longitude_short</th>\n",
       "      <th>lat_long</th>\n",
       "    </tr>\n",
       "  </thead>\n",
       "  <tbody>\n",
       "    <tr>\n",
       "      <th>58</th>\n",
       "      <td>2007-06-05</td>\n",
       "      <td>South Vincennes Avenue, Chicago, IL, USA</td>\n",
       "      <td>CULEX RESTUANS</td>\n",
       "      <td>10</td>\n",
       "      <td>S VINCENNES</td>\n",
       "      <td>T089</td>\n",
       "      <td>1000  S VINCENNES, Chicago, IL</td>\n",
       "      <td>41.723195</td>\n",
       "      <td>-87.649970</td>\n",
       "      <td>5</td>\n",
       "      <td>1</td>\n",
       "      <td>0</td>\n",
       "      <td>o, IL</td>\n",
       "      <td>41.7</td>\n",
       "      <td>-87.6</td>\n",
       "      <td>(41.7, -87.6)</td>\n",
       "    </tr>\n",
       "    <tr>\n",
       "      <th>69</th>\n",
       "      <td>2007-06-05</td>\n",
       "      <td>Chicago, IL, USA</td>\n",
       "      <td>CULEX RESTUANS</td>\n",
       "      <td>43</td>\n",
       "      <td>N ASHLAND AVE OVERPASS</td>\n",
       "      <td>T145</td>\n",
       "      <td>4300  N ASHLAND AVE OVERPASS, Chicago, IL</td>\n",
       "      <td>41.878114</td>\n",
       "      <td>-87.629798</td>\n",
       "      <td>3</td>\n",
       "      <td>3</td>\n",
       "      <td>0</td>\n",
       "      <td>o, IL</td>\n",
       "      <td>41.9</td>\n",
       "      <td>-87.6</td>\n",
       "      <td>(41.9, -87.6)</td>\n",
       "    </tr>\n",
       "    <tr>\n",
       "      <th>127</th>\n",
       "      <td>2007-06-26</td>\n",
       "      <td>Chicago, IL, USA</td>\n",
       "      <td>CULEX RESTUANS</td>\n",
       "      <td>43</td>\n",
       "      <td>N ASHLAND AVE OVERPASS</td>\n",
       "      <td>T145</td>\n",
       "      <td>4300  N ASHLAND AVE OVERPASS, Chicago, IL</td>\n",
       "      <td>41.878114</td>\n",
       "      <td>-87.629798</td>\n",
       "      <td>3</td>\n",
       "      <td>1</td>\n",
       "      <td>0</td>\n",
       "      <td>o, IL</td>\n",
       "      <td>41.9</td>\n",
       "      <td>-87.6</td>\n",
       "      <td>(41.9, -87.6)</td>\n",
       "    </tr>\n",
       "    <tr>\n",
       "      <th>172</th>\n",
       "      <td>2007-06-29</td>\n",
       "      <td>South Vincennes Avenue, Chicago, IL, USA</td>\n",
       "      <td>CULEX RESTUANS</td>\n",
       "      <td>10</td>\n",
       "      <td>S VINCENNES</td>\n",
       "      <td>T089</td>\n",
       "      <td>1000  S VINCENNES, Chicago, IL</td>\n",
       "      <td>41.723195</td>\n",
       "      <td>-87.649970</td>\n",
       "      <td>5</td>\n",
       "      <td>2</td>\n",
       "      <td>0</td>\n",
       "      <td>o, IL</td>\n",
       "      <td>41.7</td>\n",
       "      <td>-87.6</td>\n",
       "      <td>(41.7, -87.6)</td>\n",
       "    </tr>\n",
       "    <tr>\n",
       "      <th>179</th>\n",
       "      <td>2007-06-29</td>\n",
       "      <td>Chicago, IL, USA</td>\n",
       "      <td>CULEX RESTUANS</td>\n",
       "      <td>43</td>\n",
       "      <td>N ASHLAND AVE OVERPASS</td>\n",
       "      <td>T145</td>\n",
       "      <td>4300  N ASHLAND AVE OVERPASS, Chicago, IL</td>\n",
       "      <td>41.878114</td>\n",
       "      <td>-87.629798</td>\n",
       "      <td>3</td>\n",
       "      <td>1</td>\n",
       "      <td>0</td>\n",
       "      <td>o, IL</td>\n",
       "      <td>41.9</td>\n",
       "      <td>-87.6</td>\n",
       "      <td>(41.9, -87.6)</td>\n",
       "    </tr>\n",
       "  </tbody>\n",
       "</table>\n",
       "</div>"
      ],
      "text/plain": [
       "           Date                                   Address         Species  \\\n",
       "58   2007-06-05  South Vincennes Avenue, Chicago, IL, USA  CULEX RESTUANS   \n",
       "69   2007-06-05                          Chicago, IL, USA  CULEX RESTUANS   \n",
       "127  2007-06-26                          Chicago, IL, USA  CULEX RESTUANS   \n",
       "172  2007-06-29  South Vincennes Avenue, Chicago, IL, USA  CULEX RESTUANS   \n",
       "179  2007-06-29                          Chicago, IL, USA  CULEX RESTUANS   \n",
       "\n",
       "     Block                   Street  Trap  \\\n",
       "58      10              S VINCENNES  T089   \n",
       "69      43   N ASHLAND AVE OVERPASS  T145   \n",
       "127     43   N ASHLAND AVE OVERPASS  T145   \n",
       "172     10              S VINCENNES  T089   \n",
       "179     43   N ASHLAND AVE OVERPASS  T145   \n",
       "\n",
       "                        AddressNumberAndStreet   Latitude  Longitude  \\\n",
       "58              1000  S VINCENNES, Chicago, IL  41.723195 -87.649970   \n",
       "69   4300  N ASHLAND AVE OVERPASS, Chicago, IL  41.878114 -87.629798   \n",
       "127  4300  N ASHLAND AVE OVERPASS, Chicago, IL  41.878114 -87.629798   \n",
       "172             1000  S VINCENNES, Chicago, IL  41.723195 -87.649970   \n",
       "179  4300  N ASHLAND AVE OVERPASS, Chicago, IL  41.878114 -87.629798   \n",
       "\n",
       "     AddressAccuracy  NumMosquitos  WnvPresent    Zip  Latitude_short  \\\n",
       "58                 5             1           0  o, IL            41.7   \n",
       "69                 3             3           0  o, IL            41.9   \n",
       "127                3             1           0  o, IL            41.9   \n",
       "172                5             2           0  o, IL            41.7   \n",
       "179                3             1           0  o, IL            41.9   \n",
       "\n",
       "     Longitude_short       lat_long  \n",
       "58             -87.6  (41.7, -87.6)  \n",
       "69             -87.6  (41.9, -87.6)  \n",
       "127            -87.6  (41.9, -87.6)  \n",
       "172            -87.6  (41.7, -87.6)  \n",
       "179            -87.6  (41.9, -87.6)  "
      ]
     },
     "execution_count": 23,
     "metadata": {},
     "output_type": "execute_result"
    }
   ],
   "source": [
    "bad_zipcodes.head()"
   ]
  },
  {
   "cell_type": "code",
   "execution_count": 25,
   "metadata": {},
   "outputs": [],
   "source": [
    "final=pd.merge(bad_zipcodes, newzips2, on='lat_long')"
   ]
  },
  {
   "cell_type": "code",
   "execution_count": 26,
   "metadata": {},
   "outputs": [
    {
     "data": {
      "text/plain": [
       "(1508, 21)"
      ]
     },
     "execution_count": 26,
     "metadata": {},
     "output_type": "execute_result"
    }
   ],
   "source": [
    "final.shape"
   ]
  },
  {
   "cell_type": "code",
   "execution_count": 27,
   "metadata": {},
   "outputs": [
    {
     "data": {
      "text/plain": [
       "Index(['Date', 'Address', 'Species', 'Block', 'Street', 'Trap',\n",
       "       'AddressNumberAndStreet', 'Latitude_x', 'Longitude_x',\n",
       "       'AddressAccuracy', 'NumMosquitos', 'WnvPresent', 'Zip',\n",
       "       'Latitude_short_x', 'Longitude_short_x', 'lat_long', 'Zip Code',\n",
       "       'Latitude_y', 'Longitude_y', 'Latitude_short_y', 'Longitude_short_y'],\n",
       "      dtype='object')"
      ]
     },
     "execution_count": 27,
     "metadata": {},
     "output_type": "execute_result"
    }
   ],
   "source": [
    "final.columns"
   ]
  },
  {
   "cell_type": "code",
   "execution_count": 28,
   "metadata": {},
   "outputs": [
    {
     "data": {
      "text/plain": [
       "60633    1176\n",
       "60653     120\n",
       "60661      91\n",
       "60636      91\n",
       "60714      30\n",
       "Name: Zip Code, dtype: int64"
      ]
     },
     "execution_count": 28,
     "metadata": {},
     "output_type": "execute_result"
    }
   ],
   "source": [
    "final['Zip Code'].value_counts()"
   ]
  },
  {
   "cell_type": "code",
   "execution_count": null,
   "metadata": {
    "collapsed": true
   },
   "outputs": [],
   "source": []
  }
 ],
 "metadata": {
  "kernelspec": {
   "display_name": "Python [conda env:anaconda3]",
   "language": "python",
   "name": "conda-env-anaconda3-py"
  },
  "language_info": {
   "codemirror_mode": {
    "name": "ipython",
    "version": 3
   },
   "file_extension": ".py",
   "mimetype": "text/x-python",
   "name": "python",
   "nbconvert_exporter": "python",
   "pygments_lexer": "ipython3",
   "version": "3.6.3"
  }
 },
 "nbformat": 4,
 "nbformat_minor": 2
}
