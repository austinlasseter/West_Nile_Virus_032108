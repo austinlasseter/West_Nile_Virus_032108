{
 "cells": [
  {
   "cell_type": "code",
   "execution_count": 1,
   "metadata": {},
   "outputs": [],
   "source": [
    "import pandas as pd\n",
    "import seaborn as sns\n",
    "import numpy as np\n",
    "import matplotlib.pyplot as plt\n",
    "%matplotlib inline\n",
    "\n",
    "from sklearn.feature_extraction.text import CountVectorizer, TfidfTransformer, TfidfVectorizer\n",
    "from sklearn.model_selection import cross_val_score\n",
    "from sklearn.metrics import classification_report\n",
    "from sklearn.naive_bayes import MultinomialNB, BernoulliNB, GaussianNB\n",
    "from sklearn.pipeline import Pipeline\n",
    "from sklearn.linear_model import LogisticRegression\n",
    "from sklearn.model_selection import train_test_split\n",
    "from sklearn import metrics\n",
    "from sklearn.metrics import classification_report,confusion_matrix,accuracy_score\n",
    "from sklearn.neighbors import KNeighborsClassifier\n",
    "from sklearn.ensemble import RandomForestClassifier, ExtraTreesClassifier, BaggingClassifier\n",
    "from sklearn.metrics import roc_auc_score\n",
    "sns.set_style(\"darkgrid\")\n",
    "from geopy.distance import vincenty"
   ]
  },
  {
   "cell_type": "code",
   "execution_count": null,
   "metadata": {},
   "outputs": [],
   "source": []
  },
  {
   "cell_type": "code",
   "execution_count": null,
   "metadata": {},
   "outputs": [],
   "source": []
  },
  {
   "cell_type": "code",
   "execution_count": null,
   "metadata": {},
   "outputs": [],
   "source": []
  },
  {
   "cell_type": "code",
   "execution_count": 2,
   "metadata": {},
   "outputs": [
    {
     "data": {
      "application/javascript": [
       "$('.nbp-app-bar').toggle()"
      ],
      "text/plain": [
       "<IPython.core.display.Javascript object>"
      ]
     },
     "metadata": {},
     "output_type": "display_data"
    }
   ],
   "source": [
    "%%javascript\n",
    "$('.nbp-app-bar').toggle()"
   ]
  },
  {
   "cell_type": "markdown",
   "metadata": {},
   "source": [
    "# Read and Split the Data"
   ]
  },
  {
   "cell_type": "code",
   "execution_count": 89,
   "metadata": {},
   "outputs": [
    {
     "data": {
      "text/html": [
       "<div>\n",
       "<style scoped>\n",
       "    .dataframe tbody tr th:only-of-type {\n",
       "        vertical-align: middle;\n",
       "    }\n",
       "\n",
       "    .dataframe tbody tr th {\n",
       "        vertical-align: top;\n",
       "    }\n",
       "\n",
       "    .dataframe thead th {\n",
       "        text-align: right;\n",
       "    }\n",
       "</style>\n",
       "<table border=\"1\" class=\"dataframe\">\n",
       "  <thead>\n",
       "    <tr style=\"text-align: right;\">\n",
       "      <th></th>\n",
       "      <th>Date</th>\n",
       "      <th>Virus</th>\n",
       "      <th>Month</th>\n",
       "      <th>Year</th>\n",
       "      <th>DayRunner</th>\n",
       "      <th>ALTER</th>\n",
       "      <th>PIPIENS</th>\n",
       "      <th>PIPIENS-RESTUANS</th>\n",
       "      <th>RESTUANS</th>\n",
       "      <th>near_hotspot</th>\n",
       "      <th>near_chompspot</th>\n",
       "    </tr>\n",
       "  </thead>\n",
       "  <tbody>\n",
       "    <tr>\n",
       "      <th>0</th>\n",
       "      <td>2007-05-29</td>\n",
       "      <td>0</td>\n",
       "      <td>5</td>\n",
       "      <td>2007</td>\n",
       "      <td>149</td>\n",
       "      <td>0</td>\n",
       "      <td>0</td>\n",
       "      <td>1</td>\n",
       "      <td>0</td>\n",
       "      <td>5</td>\n",
       "      <td>3</td>\n",
       "    </tr>\n",
       "    <tr>\n",
       "      <th>1</th>\n",
       "      <td>2007-05-29</td>\n",
       "      <td>0</td>\n",
       "      <td>5</td>\n",
       "      <td>2007</td>\n",
       "      <td>149</td>\n",
       "      <td>0</td>\n",
       "      <td>0</td>\n",
       "      <td>0</td>\n",
       "      <td>1</td>\n",
       "      <td>5</td>\n",
       "      <td>3</td>\n",
       "    </tr>\n",
       "    <tr>\n",
       "      <th>2</th>\n",
       "      <td>2007-05-29</td>\n",
       "      <td>0</td>\n",
       "      <td>5</td>\n",
       "      <td>2007</td>\n",
       "      <td>149</td>\n",
       "      <td>0</td>\n",
       "      <td>0</td>\n",
       "      <td>0</td>\n",
       "      <td>1</td>\n",
       "      <td>3</td>\n",
       "      <td>2</td>\n",
       "    </tr>\n",
       "    <tr>\n",
       "      <th>3</th>\n",
       "      <td>2007-05-29</td>\n",
       "      <td>0</td>\n",
       "      <td>5</td>\n",
       "      <td>2007</td>\n",
       "      <td>149</td>\n",
       "      <td>0</td>\n",
       "      <td>0</td>\n",
       "      <td>1</td>\n",
       "      <td>0</td>\n",
       "      <td>5</td>\n",
       "      <td>3</td>\n",
       "    </tr>\n",
       "    <tr>\n",
       "      <th>4</th>\n",
       "      <td>2007-05-29</td>\n",
       "      <td>0</td>\n",
       "      <td>5</td>\n",
       "      <td>2007</td>\n",
       "      <td>149</td>\n",
       "      <td>0</td>\n",
       "      <td>0</td>\n",
       "      <td>0</td>\n",
       "      <td>1</td>\n",
       "      <td>5</td>\n",
       "      <td>3</td>\n",
       "    </tr>\n",
       "  </tbody>\n",
       "</table>\n",
       "</div>"
      ],
      "text/plain": [
       "         Date  Virus  Month  Year  DayRunner  ALTER  PIPIENS  \\\n",
       "0  2007-05-29      0      5  2007        149      0        0   \n",
       "1  2007-05-29      0      5  2007        149      0        0   \n",
       "2  2007-05-29      0      5  2007        149      0        0   \n",
       "3  2007-05-29      0      5  2007        149      0        0   \n",
       "4  2007-05-29      0      5  2007        149      0        0   \n",
       "\n",
       "   PIPIENS-RESTUANS  RESTUANS  near_hotspot  near_chompspot  \n",
       "0                 1         0             5               3  \n",
       "1                 0         1             5               3  \n",
       "2                 0         1             3               2  \n",
       "3                 1         0             5               3  \n",
       "4                 0         1             5               3  "
      ]
     },
     "execution_count": 89,
     "metadata": {},
     "output_type": "execute_result"
    }
   ],
   "source": [
    "weather=pd.read_csv('weather2.csv')\n",
    "readings=pd.read_csv('readings.csv')\n",
    "test=pd.read_csv('test.csv')\n",
    "readings.head()"
   ]
  },
  {
   "cell_type": "code",
   "execution_count": 4,
   "metadata": {},
   "outputs": [
    {
     "data": {
      "text/html": [
       "<div>\n",
       "<style scoped>\n",
       "    .dataframe tbody tr th:only-of-type {\n",
       "        vertical-align: middle;\n",
       "    }\n",
       "\n",
       "    .dataframe tbody tr th {\n",
       "        vertical-align: top;\n",
       "    }\n",
       "\n",
       "    .dataframe thead th {\n",
       "        text-align: right;\n",
       "    }\n",
       "</style>\n",
       "<table border=\"1\" class=\"dataframe\">\n",
       "  <thead>\n",
       "    <tr style=\"text-align: right;\">\n",
       "      <th></th>\n",
       "      <th>Date</th>\n",
       "      <th>avg_rain1</th>\n",
       "      <th>avg_rain2</th>\n",
       "      <th>avg_dry1</th>\n",
       "      <th>avg_dry2</th>\n",
       "    </tr>\n",
       "  </thead>\n",
       "  <tbody>\n",
       "    <tr>\n",
       "      <th>0</th>\n",
       "      <td>2007-05-01</td>\n",
       "      <td>NaN</td>\n",
       "      <td>NaN</td>\n",
       "      <td>NaN</td>\n",
       "      <td>NaN</td>\n",
       "    </tr>\n",
       "    <tr>\n",
       "      <th>1</th>\n",
       "      <td>2007-05-02</td>\n",
       "      <td>0.00</td>\n",
       "      <td>NaN</td>\n",
       "      <td>1.000000</td>\n",
       "      <td>NaN</td>\n",
       "    </tr>\n",
       "    <tr>\n",
       "      <th>2</th>\n",
       "      <td>2007-05-03</td>\n",
       "      <td>0.00</td>\n",
       "      <td>NaN</td>\n",
       "      <td>0.500000</td>\n",
       "      <td>NaN</td>\n",
       "    </tr>\n",
       "    <tr>\n",
       "      <th>3</th>\n",
       "      <td>2007-05-04</td>\n",
       "      <td>0.00</td>\n",
       "      <td>NaN</td>\n",
       "      <td>0.666667</td>\n",
       "      <td>NaN</td>\n",
       "    </tr>\n",
       "    <tr>\n",
       "      <th>4</th>\n",
       "      <td>2007-05-05</td>\n",
       "      <td>0.25</td>\n",
       "      <td>NaN</td>\n",
       "      <td>0.750000</td>\n",
       "      <td>NaN</td>\n",
       "    </tr>\n",
       "  </tbody>\n",
       "</table>\n",
       "</div>"
      ],
      "text/plain": [
       "         Date  avg_rain1  avg_rain2  avg_dry1  avg_dry2\n",
       "0  2007-05-01        NaN        NaN       NaN       NaN\n",
       "1  2007-05-02       0.00        NaN  1.000000       NaN\n",
       "2  2007-05-03       0.00        NaN  0.500000       NaN\n",
       "3  2007-05-04       0.00        NaN  0.666667       NaN\n",
       "4  2007-05-05       0.25        NaN  0.750000       NaN"
      ]
     },
     "execution_count": 4,
     "metadata": {},
     "output_type": "execute_result"
    }
   ],
   "source": [
    "weather.head()"
   ]
  },
  {
   "cell_type": "code",
   "execution_count": 5,
   "metadata": {
    "collapsed": true
   },
   "outputs": [
    {
     "name": "stdout",
     "output_type": "stream",
     "text": [
      "(116293, 15) (116293, 15) Index(['Virus', 'DayRunner', 'ALTER', 'PIPIENS', 'PIPIENS-RESTUANS',\n",
      "       'RESTUANS', 'near_hotspot', 'near_chompspot', 'avg_rain1', 'avg_rain2',\n",
      "       'avg_dry1', 'avg_dry2'],\n",
      "      dtype='object')\n"
     ]
    },
    {
     "data": {
      "text/html": [
       "<div>\n",
       "<style scoped>\n",
       "    .dataframe tbody tr th:only-of-type {\n",
       "        vertical-align: middle;\n",
       "    }\n",
       "\n",
       "    .dataframe tbody tr th {\n",
       "        vertical-align: top;\n",
       "    }\n",
       "\n",
       "    .dataframe thead th {\n",
       "        text-align: right;\n",
       "    }\n",
       "</style>\n",
       "<table border=\"1\" class=\"dataframe\">\n",
       "  <thead>\n",
       "    <tr style=\"text-align: right;\">\n",
       "      <th></th>\n",
       "      <th>Id</th>\n",
       "      <th>Address</th>\n",
       "      <th>Species</th>\n",
       "      <th>Block</th>\n",
       "      <th>Street</th>\n",
       "      <th>Trap</th>\n",
       "      <th>AddressNumberAndStreet</th>\n",
       "      <th>Latitude</th>\n",
       "      <th>Longitude</th>\n",
       "      <th>AddressAccuracy</th>\n",
       "      <th>avg_rain1</th>\n",
       "      <th>avg_rain2</th>\n",
       "      <th>avg_dry1</th>\n",
       "      <th>avg_dry2</th>\n",
       "      <th>DayRunner</th>\n",
       "    </tr>\n",
       "  </thead>\n",
       "  <tbody>\n",
       "    <tr>\n",
       "      <th>0</th>\n",
       "      <td>1</td>\n",
       "      <td>4100 North Oak Park Avenue, Chicago, IL 60634,...</td>\n",
       "      <td>CULEX PIPIENS/RESTUANS</td>\n",
       "      <td>41</td>\n",
       "      <td>N OAK PARK AVE</td>\n",
       "      <td>T002</td>\n",
       "      <td>4100  N OAK PARK AVE, Chicago, IL</td>\n",
       "      <td>41.95469</td>\n",
       "      <td>-87.800991</td>\n",
       "      <td>9</td>\n",
       "      <td>1.0</td>\n",
       "      <td>0.571429</td>\n",
       "      <td>0.142857</td>\n",
       "      <td>0.714286</td>\n",
       "      <td>163</td>\n",
       "    </tr>\n",
       "    <tr>\n",
       "      <th>1</th>\n",
       "      <td>2</td>\n",
       "      <td>4100 North Oak Park Avenue, Chicago, IL 60634,...</td>\n",
       "      <td>CULEX RESTUANS</td>\n",
       "      <td>41</td>\n",
       "      <td>N OAK PARK AVE</td>\n",
       "      <td>T002</td>\n",
       "      <td>4100  N OAK PARK AVE, Chicago, IL</td>\n",
       "      <td>41.95469</td>\n",
       "      <td>-87.800991</td>\n",
       "      <td>9</td>\n",
       "      <td>1.0</td>\n",
       "      <td>0.571429</td>\n",
       "      <td>0.142857</td>\n",
       "      <td>0.714286</td>\n",
       "      <td>163</td>\n",
       "    </tr>\n",
       "    <tr>\n",
       "      <th>2</th>\n",
       "      <td>3</td>\n",
       "      <td>4100 North Oak Park Avenue, Chicago, IL 60634,...</td>\n",
       "      <td>CULEX PIPIENS</td>\n",
       "      <td>41</td>\n",
       "      <td>N OAK PARK AVE</td>\n",
       "      <td>T002</td>\n",
       "      <td>4100  N OAK PARK AVE, Chicago, IL</td>\n",
       "      <td>41.95469</td>\n",
       "      <td>-87.800991</td>\n",
       "      <td>9</td>\n",
       "      <td>1.0</td>\n",
       "      <td>0.571429</td>\n",
       "      <td>0.142857</td>\n",
       "      <td>0.714286</td>\n",
       "      <td>163</td>\n",
       "    </tr>\n",
       "    <tr>\n",
       "      <th>3</th>\n",
       "      <td>4</td>\n",
       "      <td>4100 North Oak Park Avenue, Chicago, IL 60634,...</td>\n",
       "      <td>CULEX SALINARIUS</td>\n",
       "      <td>41</td>\n",
       "      <td>N OAK PARK AVE</td>\n",
       "      <td>T002</td>\n",
       "      <td>4100  N OAK PARK AVE, Chicago, IL</td>\n",
       "      <td>41.95469</td>\n",
       "      <td>-87.800991</td>\n",
       "      <td>9</td>\n",
       "      <td>1.0</td>\n",
       "      <td>0.571429</td>\n",
       "      <td>0.142857</td>\n",
       "      <td>0.714286</td>\n",
       "      <td>163</td>\n",
       "    </tr>\n",
       "    <tr>\n",
       "      <th>4</th>\n",
       "      <td>5</td>\n",
       "      <td>4100 North Oak Park Avenue, Chicago, IL 60634,...</td>\n",
       "      <td>CULEX TERRITANS</td>\n",
       "      <td>41</td>\n",
       "      <td>N OAK PARK AVE</td>\n",
       "      <td>T002</td>\n",
       "      <td>4100  N OAK PARK AVE, Chicago, IL</td>\n",
       "      <td>41.95469</td>\n",
       "      <td>-87.800991</td>\n",
       "      <td>9</td>\n",
       "      <td>1.0</td>\n",
       "      <td>0.571429</td>\n",
       "      <td>0.142857</td>\n",
       "      <td>0.714286</td>\n",
       "      <td>163</td>\n",
       "    </tr>\n",
       "  </tbody>\n",
       "</table>\n",
       "</div>"
      ],
      "text/plain": [
       "   Id                                            Address  \\\n",
       "0   1  4100 North Oak Park Avenue, Chicago, IL 60634,...   \n",
       "1   2  4100 North Oak Park Avenue, Chicago, IL 60634,...   \n",
       "2   3  4100 North Oak Park Avenue, Chicago, IL 60634,...   \n",
       "3   4  4100 North Oak Park Avenue, Chicago, IL 60634,...   \n",
       "4   5  4100 North Oak Park Avenue, Chicago, IL 60634,...   \n",
       "\n",
       "                  Species  Block           Street  Trap  \\\n",
       "0  CULEX PIPIENS/RESTUANS     41   N OAK PARK AVE  T002   \n",
       "1          CULEX RESTUANS     41   N OAK PARK AVE  T002   \n",
       "2           CULEX PIPIENS     41   N OAK PARK AVE  T002   \n",
       "3        CULEX SALINARIUS     41   N OAK PARK AVE  T002   \n",
       "4         CULEX TERRITANS     41   N OAK PARK AVE  T002   \n",
       "\n",
       "              AddressNumberAndStreet  Latitude  Longitude  AddressAccuracy  \\\n",
       "0  4100  N OAK PARK AVE, Chicago, IL  41.95469 -87.800991                9   \n",
       "1  4100  N OAK PARK AVE, Chicago, IL  41.95469 -87.800991                9   \n",
       "2  4100  N OAK PARK AVE, Chicago, IL  41.95469 -87.800991                9   \n",
       "3  4100  N OAK PARK AVE, Chicago, IL  41.95469 -87.800991                9   \n",
       "4  4100  N OAK PARK AVE, Chicago, IL  41.95469 -87.800991                9   \n",
       "\n",
       "   avg_rain1  avg_rain2  avg_dry1  avg_dry2  DayRunner  \n",
       "0        1.0   0.571429  0.142857  0.714286        163  \n",
       "1        1.0   0.571429  0.142857  0.714286        163  \n",
       "2        1.0   0.571429  0.142857  0.714286        163  \n",
       "3        1.0   0.571429  0.142857  0.714286        163  \n",
       "4        1.0   0.571429  0.142857  0.714286        163  "
      ]
     },
     "execution_count": 5,
     "metadata": {},
     "output_type": "execute_result"
    }
   ],
   "source": [
    "chicago2=pd.merge(readings, weather, on='Date').drop(['Date', 'Month', 'Year'], axis=1);\n",
    "chicago=pd.merge(test, weather, on='Date')\n",
    "print(chicago.shape, chicago.shape, chicago2.columns)\n",
    "chicago['DayRunner']=pd.to_datetime(chicago['Date']).dt.dayofyear\n",
    "chicago = chicago.drop(['Date'], axis=1)\n",
    "chicago.head()\n"
   ]
  },
  {
   "cell_type": "code",
   "execution_count": 7,
   "metadata": {},
   "outputs": [],
   "source": [
    "# Split the data\n",
    "# X = chicago.drop(['Virus'], axis=1)\n",
    "# y = chicago['Virus']\n",
    "# X_train, X_test, y_train, y_test = train_test_split(X, y, test_size = .2, random_state=42)\n",
    "# X_train.shape # Notice the number of rows in the training set. This should stay constant."
   ]
  },
  {
   "cell_type": "code",
   "execution_count": null,
   "metadata": {},
   "outputs": [],
   "source": []
  },
  {
   "cell_type": "code",
   "execution_count": 8,
   "metadata": {},
   "outputs": [
    {
     "name": "stdout",
     "output_type": "stream",
     "text": [
      "Index(['Id', 'Address', 'Species', 'Block', 'Street', 'Trap',\n",
      "       'AddressNumberAndStreet', 'Latitude', 'Longitude', 'AddressAccuracy',\n",
      "       'avg_rain1', 'avg_rain2', 'avg_dry1', 'avg_dry2', 'DayRunner'],\n",
      "      dtype='object')\n",
      "11\n"
     ]
    },
    {
     "data": {
      "text/plain": [
       "Index(['DayRunner', 'ALTER', 'PIPIENS', 'PIPIENS-RESTUANS', 'RESTUANS',\n",
       "       'near_hotspot', 'near_chompspot', 'avg_rain1', 'avg_rain2', 'avg_dry1',\n",
       "       'avg_dry2'],\n",
       "      dtype='object')"
      ]
     },
     "execution_count": 8,
     "metadata": {},
     "output_type": "execute_result"
    }
   ],
   "source": [
    "X = chicago\n",
    "X_build = chicago2.drop(['Virus'], axis=1)\n",
    "y = chicago2['Virus']\n",
    "\n",
    "X_train, X_test, y_train, y_test = train_test_split(X_build, y, test_size = .2, random_state=42)\n",
    "\n",
    "print(X.columns)\n",
    "print(len(X_train.columns))\n",
    "X_train.columns"
   ]
  },
  {
   "cell_type": "code",
   "execution_count": 9,
   "metadata": {},
   "outputs": [],
   "source": [
    "chicago['CULEX']='ALTER'\n",
    "chicago.loc[(chicago['Species']=='CULEX PIPIENS/RESTUANS') , 'CULEX']='PIPIENS-RESTUANS'\n",
    "chicago.loc[(chicago['Species']=='CULEX RESTUANS') , 'CULEX']='RESTUANS'\n",
    "chicago.loc[(chicago['Species']=='CULEX PIPIENS') , 'CULEX']='PIPIENS'\n",
    "chicago['CULEX'].value_counts()\n",
    "# Dummify the Species\n",
    "dummies=pd.get_dummies(chicago['CULEX'])\n",
    "chicago=pd.concat([chicago, dummies], axis=1)"
   ]
  },
  {
   "cell_type": "code",
   "execution_count": 10,
   "metadata": {},
   "outputs": [
    {
     "name": "stderr",
     "output_type": "stream",
     "text": [
      "100%|██████████████████████████████████████████████████████████████████████████████████| 30/30 [02:21<00:00,  4.72s/it]\n"
     ]
    },
    {
     "data": {
      "text/plain": [
       "count    116293.000000\n",
       "mean          1.661158\n",
       "std           1.851068\n",
       "min           0.000000\n",
       "25%           0.000000\n",
       "50%           1.000000\n",
       "75%           3.000000\n",
       "max           8.000000\n",
       "Name: near_hotspot, dtype: float64"
      ]
     },
     "execution_count": 10,
     "metadata": {},
     "output_type": "execute_result"
    }
   ],
   "source": [
    "import pickle\n",
    "from tqdm import tqdm\n",
    "\n",
    "with open('top_hots.pickle', 'rb') as f:\n",
    "    top_hots = pickle.load(f)\n",
    "\n",
    "chicago['lat_long'] = list(zip(chicago['Latitude'], chicago['Longitude']))\n",
    "latlongs=chicago.groupby('lat_long').mean()\n",
    "\n",
    "# For each trap, let's calculate its distance from the top virus hotspots\n",
    "for x in tqdm(range(30)):\n",
    "    digit=str(x)\n",
    "    chicago['to_hotspot'+digit]=chicago['lat_long'].apply(lambda row: vincenty(row, top_hots[x]).miles)\n",
    "    \n",
    "    # Create an indicator if a row is less than 2 miles from one of the virus hotspots\n",
    "    chicago['flag_hotspot'+digit]=chicago['to_hotspot'+digit].apply(lambda row: row<2).astype(int)\n",
    "    \n",
    "# Summarize those indicators.\n",
    "hot_list=['flag_hotspot0',\n",
    "          'flag_hotspot1',\n",
    "          'flag_hotspot2',\n",
    "          'flag_hotspot3',\n",
    "          'flag_hotspot4',\n",
    "          'flag_hotspot6',\n",
    "          'flag_hotspot6',\n",
    "          'flag_hotspot7',\n",
    "          'flag_hotspot8',\n",
    "          'flag_hotspot9',\n",
    "          'flag_hotspot10',\n",
    "          'flag_hotspot11',\n",
    "          'flag_hotspot12',\n",
    "          'flag_hotspot13',\n",
    "          'flag_hotspot14',\n",
    "          'flag_hotspot16',\n",
    "          'flag_hotspot16',\n",
    "          'flag_hotspot17',\n",
    "          'flag_hotspot18',\n",
    "          'flag_hotspot19',\n",
    "          'flag_hotspot20',\n",
    "          'flag_hotspot21',\n",
    "          'flag_hotspot22',\n",
    "          'flag_hotspot23',\n",
    "          'flag_hotspot24',\n",
    "          'flag_hotspot26',\n",
    "          'flag_hotspot26',\n",
    "          'flag_hotspot27',\n",
    "          'flag_hotspot28',\n",
    "          'flag_hotspot29',\n",
    "         ]\n",
    "chicago['near_hotspot'] = chicago[hot_list].sum(axis=1)\n",
    "chicago['near_hotspot'].describe()"
   ]
  },
  {
   "cell_type": "code",
   "execution_count": 11,
   "metadata": {},
   "outputs": [
    {
     "name": "stdout",
     "output_type": "stream",
     "text": [
      "Index(['DayRunner', 'ALTER', 'PIPIENS', 'PIPIENS-RESTUANS', 'RESTUANS',\n",
      "       'near_hotspot', 'near_chompspot', 'avg_rain1', 'avg_rain2', 'avg_dry1',\n",
      "       'avg_dry2'],\n",
      "      dtype='object')\n"
     ]
    },
    {
     "data": {
      "text/html": [
       "<div>\n",
       "<style scoped>\n",
       "    .dataframe tbody tr th:only-of-type {\n",
       "        vertical-align: middle;\n",
       "    }\n",
       "\n",
       "    .dataframe tbody tr th {\n",
       "        vertical-align: top;\n",
       "    }\n",
       "\n",
       "    .dataframe thead th {\n",
       "        text-align: right;\n",
       "    }\n",
       "</style>\n",
       "<table border=\"1\" class=\"dataframe\">\n",
       "  <thead>\n",
       "    <tr style=\"text-align: right;\">\n",
       "      <th></th>\n",
       "      <th>Id</th>\n",
       "      <th>Address</th>\n",
       "      <th>Species</th>\n",
       "      <th>Block</th>\n",
       "      <th>Street</th>\n",
       "      <th>Trap</th>\n",
       "      <th>AddressNumberAndStreet</th>\n",
       "      <th>Latitude</th>\n",
       "      <th>Longitude</th>\n",
       "      <th>AddressAccuracy</th>\n",
       "      <th>...</th>\n",
       "      <th>flag_hotspot25</th>\n",
       "      <th>to_hotspot26</th>\n",
       "      <th>flag_hotspot26</th>\n",
       "      <th>to_hotspot27</th>\n",
       "      <th>flag_hotspot27</th>\n",
       "      <th>to_hotspot28</th>\n",
       "      <th>flag_hotspot28</th>\n",
       "      <th>to_hotspot29</th>\n",
       "      <th>flag_hotspot29</th>\n",
       "      <th>near_hotspot</th>\n",
       "    </tr>\n",
       "  </thead>\n",
       "  <tbody>\n",
       "    <tr>\n",
       "      <th>0</th>\n",
       "      <td>1</td>\n",
       "      <td>4100 North Oak Park Avenue, Chicago, IL 60634,...</td>\n",
       "      <td>CULEX PIPIENS/RESTUANS</td>\n",
       "      <td>41</td>\n",
       "      <td>N OAK PARK AVE</td>\n",
       "      <td>T002</td>\n",
       "      <td>4100  N OAK PARK AVE, Chicago, IL</td>\n",
       "      <td>41.95469</td>\n",
       "      <td>-87.800991</td>\n",
       "      <td>9</td>\n",
       "      <td>...</td>\n",
       "      <td>1</td>\n",
       "      <td>13.244228</td>\n",
       "      <td>0</td>\n",
       "      <td>24.486302</td>\n",
       "      <td>0</td>\n",
       "      <td>12.310611</td>\n",
       "      <td>0</td>\n",
       "      <td>6.144767</td>\n",
       "      <td>0</td>\n",
       "      <td>5</td>\n",
       "    </tr>\n",
       "  </tbody>\n",
       "</table>\n",
       "<p>1 rows × 82 columns</p>\n",
       "</div>"
      ],
      "text/plain": [
       "   Id                                            Address  \\\n",
       "0   1  4100 North Oak Park Avenue, Chicago, IL 60634,...   \n",
       "\n",
       "                  Species  Block           Street  Trap  \\\n",
       "0  CULEX PIPIENS/RESTUANS     41   N OAK PARK AVE  T002   \n",
       "\n",
       "              AddressNumberAndStreet  Latitude  Longitude  AddressAccuracy  \\\n",
       "0  4100  N OAK PARK AVE, Chicago, IL  41.95469 -87.800991                9   \n",
       "\n",
       "       ...       flag_hotspot25  to_hotspot26  flag_hotspot26  to_hotspot27  \\\n",
       "0      ...                    1     13.244228               0     24.486302   \n",
       "\n",
       "   flag_hotspot27 to_hotspot28  flag_hotspot28  to_hotspot29  flag_hotspot29  \\\n",
       "0               0    12.310611               0      6.144767               0   \n",
       "\n",
       "   near_hotspot  \n",
       "0             5  \n",
       "\n",
       "[1 rows x 82 columns]"
      ]
     },
     "execution_count": 11,
     "metadata": {},
     "output_type": "execute_result"
    }
   ],
   "source": [
    "print(X_train.columns)\n",
    "chicago.head(1)"
   ]
  },
  {
   "cell_type": "code",
   "execution_count": 12,
   "metadata": {},
   "outputs": [
    {
     "name": "stderr",
     "output_type": "stream",
     "text": [
      "100%|██████████████████████████████████████████████████████████████████████████████████| 30/30 [02:16<00:00,  4.54s/it]\n"
     ]
    },
    {
     "data": {
      "text/plain": [
       "count    116293.000000\n",
       "mean          1.192221\n",
       "std           1.321861\n",
       "min           0.000000\n",
       "25%           0.000000\n",
       "50%           1.000000\n",
       "75%           2.000000\n",
       "max           6.000000\n",
       "Name: near_chompspot, dtype: float64"
      ]
     },
     "execution_count": 12,
     "metadata": {},
     "output_type": "execute_result"
    }
   ],
   "source": [
    "with open('top_chomps.pickle', 'rb') as f:\n",
    "    top_chomps = pickle.load(f)\n",
    "\n",
    "# Do the same thing for its distance from the 20 spots with highest average mosquito count.\n",
    "for x in tqdm(range(30)):\n",
    "    digit=str(x)\n",
    "    chicago['to_chompspot'+digit]=chicago['lat_long'].apply(lambda row: vincenty(row, top_chomps[x]).miles)   \n",
    "\n",
    "    # Create an indicator if a row is less than 2 miles from one of the high-mosquito-count chompspots\n",
    "    chicago['flag_chompspot'+digit]=chicago['to_chompspot'+digit].apply(lambda row: row<2).astype(int)\n",
    "    \n",
    "# Summarize those 10 indicators.\n",
    "chomp_list=['flag_chompspot0',\n",
    "          'flag_chompspot1',\n",
    "          'flag_chompspot2',\n",
    "          'flag_chompspot3',\n",
    "          'flag_chompspot4',\n",
    "          'flag_chompspot6',\n",
    "          'flag_chompspot6',\n",
    "          'flag_chompspot7',\n",
    "          'flag_chompspot8',\n",
    "          'flag_chompspot9',\n",
    "          'flag_chompspot10',\n",
    "          'flag_chompspot11',\n",
    "          'flag_chompspot12',\n",
    "          'flag_chompspot13',\n",
    "          'flag_chompspot14',\n",
    "          'flag_chompspot16',\n",
    "          'flag_chompspot16',\n",
    "          'flag_chompspot17',\n",
    "          'flag_chompspot18',\n",
    "          'flag_chompspot19',\n",
    "          'flag_chompspot20',\n",
    "          'flag_chompspot21',\n",
    "          'flag_chompspot22',\n",
    "          'flag_chompspot23',\n",
    "          'flag_chompspot24',\n",
    "          'flag_chompspot26',\n",
    "          'flag_chompspot26',\n",
    "          'flag_chompspot27',\n",
    "          'flag_chompspot28',\n",
    "          'flag_chompspot29',\n",
    "         ]\n",
    "chicago['near_chompspot'] = chicago[chomp_list].sum(axis=1)\n",
    "chicago['near_chompspot'].describe()"
   ]
  },
  {
   "cell_type": "code",
   "execution_count": 13,
   "metadata": {},
   "outputs": [
    {
     "name": "stdout",
     "output_type": "stream",
     "text": [
      "Index(['DayRunner', 'ALTER', 'PIPIENS', 'PIPIENS-RESTUANS', 'RESTUANS',\n",
      "       'near_hotspot', 'near_chompspot', 'avg_rain1', 'avg_rain2', 'avg_dry1',\n",
      "       'avg_dry2'],\n",
      "      dtype='object')\n"
     ]
    },
    {
     "data": {
      "text/html": [
       "<div>\n",
       "<style scoped>\n",
       "    .dataframe tbody tr th:only-of-type {\n",
       "        vertical-align: middle;\n",
       "    }\n",
       "\n",
       "    .dataframe tbody tr th {\n",
       "        vertical-align: top;\n",
       "    }\n",
       "\n",
       "    .dataframe thead th {\n",
       "        text-align: right;\n",
       "    }\n",
       "</style>\n",
       "<table border=\"1\" class=\"dataframe\">\n",
       "  <thead>\n",
       "    <tr style=\"text-align: right;\">\n",
       "      <th></th>\n",
       "      <th>Id</th>\n",
       "      <th>Address</th>\n",
       "      <th>Species</th>\n",
       "      <th>Block</th>\n",
       "      <th>Street</th>\n",
       "      <th>Trap</th>\n",
       "      <th>AddressNumberAndStreet</th>\n",
       "      <th>Latitude</th>\n",
       "      <th>Longitude</th>\n",
       "      <th>AddressAccuracy</th>\n",
       "      <th>...</th>\n",
       "      <th>flag_chompspot25</th>\n",
       "      <th>to_chompspot26</th>\n",
       "      <th>flag_chompspot26</th>\n",
       "      <th>to_chompspot27</th>\n",
       "      <th>flag_chompspot27</th>\n",
       "      <th>to_chompspot28</th>\n",
       "      <th>flag_chompspot28</th>\n",
       "      <th>to_chompspot29</th>\n",
       "      <th>flag_chompspot29</th>\n",
       "      <th>near_chompspot</th>\n",
       "    </tr>\n",
       "  </thead>\n",
       "  <tbody>\n",
       "    <tr>\n",
       "      <th>0</th>\n",
       "      <td>1</td>\n",
       "      <td>4100 North Oak Park Avenue, Chicago, IL 60634,...</td>\n",
       "      <td>CULEX PIPIENS/RESTUANS</td>\n",
       "      <td>41</td>\n",
       "      <td>N OAK PARK AVE</td>\n",
       "      <td>T002</td>\n",
       "      <td>4100  N OAK PARK AVE, Chicago, IL</td>\n",
       "      <td>41.95469</td>\n",
       "      <td>-87.800991</td>\n",
       "      <td>9</td>\n",
       "      <td>...</td>\n",
       "      <td>0</td>\n",
       "      <td>17.179444</td>\n",
       "      <td>0</td>\n",
       "      <td>9.684294</td>\n",
       "      <td>0</td>\n",
       "      <td>1.265442</td>\n",
       "      <td>1</td>\n",
       "      <td>13.605184</td>\n",
       "      <td>0</td>\n",
       "      <td>3</td>\n",
       "    </tr>\n",
       "  </tbody>\n",
       "</table>\n",
       "<p>1 rows × 143 columns</p>\n",
       "</div>"
      ],
      "text/plain": [
       "   Id                                            Address  \\\n",
       "0   1  4100 North Oak Park Avenue, Chicago, IL 60634,...   \n",
       "\n",
       "                  Species  Block           Street  Trap  \\\n",
       "0  CULEX PIPIENS/RESTUANS     41   N OAK PARK AVE  T002   \n",
       "\n",
       "              AddressNumberAndStreet  Latitude  Longitude  AddressAccuracy  \\\n",
       "0  4100  N OAK PARK AVE, Chicago, IL  41.95469 -87.800991                9   \n",
       "\n",
       "        ...        flag_chompspot25  to_chompspot26  flag_chompspot26  \\\n",
       "0       ...                       0       17.179444                 0   \n",
       "\n",
       "   to_chompspot27  flag_chompspot27 to_chompspot28  flag_chompspot28  \\\n",
       "0        9.684294                 0       1.265442                 1   \n",
       "\n",
       "   to_chompspot29  flag_chompspot29  near_chompspot  \n",
       "0       13.605184                 0               3  \n",
       "\n",
       "[1 rows x 143 columns]"
      ]
     },
     "execution_count": 13,
     "metadata": {},
     "output_type": "execute_result"
    }
   ],
   "source": [
    "print(X_train.columns)\n",
    "chicago.head(1)"
   ]
  },
  {
   "cell_type": "code",
   "execution_count": 14,
   "metadata": {},
   "outputs": [],
   "source": [
    "drop_list=[]\n",
    "for x in range(30):\n",
    "    digit=str(x)\n",
    "    drop_list.append('to_hotspot'+digit)\n",
    "    drop_list.append('flag_hotspot'+digit)\n",
    "    drop_list.append('to_chompspot'+digit)\n",
    "    drop_list.append('flag_chompspot'+digit)\n",
    "# Drop them becuase they are no longer necessary.\n",
    "chicago=chicago.drop(hot_list + chomp_list + drop_list, axis=1)"
   ]
  },
  {
   "cell_type": "code",
   "execution_count": 20,
   "metadata": {},
   "outputs": [],
   "source": [
    "# print(X_train.columns)\n",
    "# whoops = chicago.drop(['Id','Latitude',\n",
    "#               'Longitude', 'Street', 'Block', 'Trap', 'Address', \n",
    "#               'AddressAccuracy','AddressNumberAndStreet', 'Date',\n",
    "#               'Species', 'CULEX', 'lat_long'], axis=1)[['DayRunner', 'ALTER', 'PIPIENS', 'PIPIENS-RESTUANS', 'RESTUANS',\n",
    "#        'near_hotspot', 'near_chompspot', 'avg_rain1', 'avg_rain2', 'avg_dry1',\n",
    "#        'avg_dry2']]\n",
    "# chicago = whoops.loc[:,~whoops.columns.duplicated()]\n",
    "\n"
   ]
  },
  {
   "cell_type": "code",
   "execution_count": 24,
   "metadata": {},
   "outputs": [
    {
     "data": {
      "text/plain": [
       "(Index(['DayRunner', 'ALTER', 'PIPIENS', 'PIPIENS-RESTUANS', 'RESTUANS',\n",
       "        'near_hotspot', 'near_chompspot', 'avg_rain1', 'avg_rain2', 'avg_dry1',\n",
       "        'avg_dry2'],\n",
       "       dtype='object'),\n",
       " Index(['Virus', 'DayRunner', 'ALTER', 'PIPIENS', 'PIPIENS-RESTUANS',\n",
       "        'RESTUANS', 'near_hotspot', 'near_chompspot', 'avg_rain1', 'avg_rain2',\n",
       "        'avg_dry1', 'avg_dry2'],\n",
       "       dtype='object'))"
      ]
     },
     "execution_count": 24,
     "metadata": {},
     "output_type": "execute_result"
    }
   ],
   "source": [
    "chicago.drop(['Id','Latitude',\n",
    "              'Longitude', 'Street', 'Block', 'Trap', 'Address', \n",
    "              'AddressAccuracy','AddressNumberAndStreet',\n",
    "              'Species', 'CULEX', 'lat_long'], axis=1)[['DayRunner', \n",
    "        'ALTER', 'PIPIENS', 'PIPIENS-RESTUANS', 'RESTUANS',\n",
    "       'near_hotspot', 'near_chompspot', 'avg_rain1', 'avg_rain2', 'avg_dry1',\n",
    "       'avg_dry2']].columns,X_train.columns"
   ]
  },
  {
   "cell_type": "code",
   "execution_count": 25,
   "metadata": {},
   "outputs": [],
   "source": [
    "chicago = chicago.drop(['Id','Latitude',\n",
    "              'Longitude', 'Street', 'Block', 'Trap', 'Address', \n",
    "              'AddressAccuracy','AddressNumberAndStreet',\n",
    "              'Species', 'CULEX', 'lat_long'], axis=1)[['DayRunner', \n",
    "        'ALTER', 'PIPIENS', 'PIPIENS-RESTUANS', 'RESTUANS',\n",
    "       'near_hotspot', 'near_chompspot', 'avg_rain1', 'avg_rain2', 'avg_dry1',\n",
    "       'avg_dry2']]"
   ]
  },
  {
   "cell_type": "code",
   "execution_count": 34,
   "metadata": {},
   "outputs": [
    {
     "data": {
      "text/plain": [
       "(Index(['DayRunner', 'ALTER', 'PIPIENS', 'PIPIENS-RESTUANS', 'RESTUANS',\n",
       "        'near_hotspot', 'near_chompspot', 'avg_rain1', 'avg_rain2', 'avg_dry1',\n",
       "        'avg_dry2'],\n",
       "       dtype='object'),\n",
       " Index(['DayRunner', 'ALTER', 'PIPIENS', 'PIPIENS-RESTUANS', 'RESTUANS',\n",
       "        'near_hotspot', 'near_chompspot', 'avg_rain1', 'avg_rain2', 'avg_dry1',\n",
       "        'avg_dry2'],\n",
       "       dtype='object'))"
      ]
     },
     "execution_count": 34,
     "metadata": {},
     "output_type": "execute_result"
    }
   ],
   "source": [
    "(X_train.columns), (chicago.columns)"
   ]
  },
  {
   "cell_type": "code",
   "execution_count": 35,
   "metadata": {},
   "outputs": [
    {
     "name": "stderr",
     "output_type": "stream",
     "text": [
      "C:\\ProgramData\\Anaconda3\\lib\\site-packages\\h5py\\__init__.py:36: FutureWarning: Conversion of the second argument of issubdtype from `float` to `np.floating` is deprecated. In future, it will be treated as `np.float64 == np.dtype(float).type`.\n",
      "  from ._conv import register_converters as _register_converters\n",
      "Using TensorFlow backend.\n"
     ]
    },
    {
     "data": {
      "text/plain": [
       "((8404, 11), (2102, 11), (116293, 11))"
      ]
     },
     "execution_count": 35,
     "metadata": {},
     "output_type": "execute_result"
    }
   ],
   "source": [
    "import tensorflow as tensor\n",
    "import keras\n",
    "import pandas as pd\n",
    "from sklearn.preprocessing import StandardScaler\n",
    "from sklearn.model_selection import train_test_split\n",
    "from keras.utils import to_categorical\n",
    "from keras import Sequential\n",
    "from keras.layers import Convolution2D, MaxPooling2D, Dropout, Flatten, Dense\n",
    "import matplotlib.pyplot as plt\n",
    "%matplotlib inline\n",
    "\n",
    "sc = StandardScaler()\n",
    "X_train = sc.fit_transform(X_train.values)\n",
    "X_test = sc.transform(X_test.values)\n",
    "X_holdout = sc.transform(chicago.values)\n",
    "\n",
    "X_train.shape, X_test.shape, X_holdout.shape"
   ]
  },
  {
   "cell_type": "code",
   "execution_count": 36,
   "metadata": {
    "scrolled": false
   },
   "outputs": [
    {
     "name": "stderr",
     "output_type": "stream",
     "text": [
      "C:\\ProgramData\\Anaconda3\\lib\\site-packages\\ipykernel_launcher.py:2: UserWarning: Update your `Dense` call to the Keras 2 API: `Dense(activation=\"relu\", input_dim=11, units=40, kernel_initializer=\"uniform\")`\n",
      "  \n"
     ]
    },
    {
     "name": "stdout",
     "output_type": "stream",
     "text": [
      "Train on 8404 samples, validate on 2102 samples\n",
      "Epoch 1/10\n",
      "Epoch 2/10\n",
      "Epoch 3/10\n",
      "Epoch 4/10\n",
      "Epoch 5/10\n",
      "Epoch 6/10\n",
      "Epoch 7/10\n",
      "Epoch 8/10\n",
      "Epoch 9/10\n",
      "Epoch 10/10\n"
     ]
    }
   ],
   "source": [
    "model = Sequential()\n",
    "model.add(Dense(output_dim = 40,init ='uniform',activation = 'relu',input_dim=11))\n",
    "\n",
    "model.add(Dense(100, activation = 'sigmoid'))\n",
    "model.add(Dense(100, activation = 'relu'))\n",
    "model.add(Dropout(0.25, noise_shape=None, seed=None))\n",
    "model.add(Dense(100, activation = 'relu'))\n",
    "\n",
    "model.add(Dense(activation=\"softmax\", input_dim=20, units=2, kernel_initializer=\"uniform\"))\n",
    "model.compile(loss='binary_crossentropy', optimizer='adam')\n",
    "\n",
    "history = model.fit(X_train, to_categorical(y_train), \n",
    "            validation_data=(X_test, to_categorical(y_test)),\n",
    "            epochs=10,\n",
    "            batch_size=None,\n",
    "            verbose = 3)\n",
    "\n",
    "train_loss = history.history['loss']\n",
    "test_loss = history.history['val_loss']\n"
   ]
  },
  {
   "cell_type": "code",
   "execution_count": 37,
   "metadata": {},
   "outputs": [
    {
     "data": {
      "text/plain": [
       "<matplotlib.legend.Legend at 0x180e99672b0>"
      ]
     },
     "execution_count": 37,
     "metadata": {},
     "output_type": "execute_result"
    },
    {
     "data": {
      "image/png": "[encoded data removed]",
      "text/plain": [
       "<matplotlib.figure.Figure at 0x180e594f550>"
      ]
     },
     "metadata": {},
     "output_type": "display_data"
    }
   ],
   "source": [
    "plt.plot(train_loss, label='Train loss')\n",
    "plt.plot(test_loss, label='Test loss')\n",
    "plt.legend()"
   ]
  },
  {
   "cell_type": "code",
   "execution_count": 38,
   "metadata": {},
   "outputs": [
    {
     "name": "stdout",
     "output_type": "stream",
     "text": [
      "0.8120641657539248\n"
     ]
    }
   ],
   "source": [
    "y_pred = model.predict_proba(X_test)\n",
    "y_pred2 = y_pred[:,1]\n",
    "print(roc_auc_score(y_test, y_pred2))"
   ]
  },
  {
   "cell_type": "code",
   "execution_count": 39,
   "metadata": {},
   "outputs": [],
   "source": [
    "y_hat = model.predict_proba(X_holdout)"
   ]
  },
  {
   "cell_type": "code",
   "execution_count": 40,
   "metadata": {},
   "outputs": [
    {
     "data": {
      "text/html": [
       "<div>\n",
       "<style scoped>\n",
       "    .dataframe tbody tr th:only-of-type {\n",
       "        vertical-align: middle;\n",
       "    }\n",
       "\n",
       "    .dataframe tbody tr th {\n",
       "        vertical-align: top;\n",
       "    }\n",
       "\n",
       "    .dataframe thead th {\n",
       "        text-align: right;\n",
       "    }\n",
       "</style>\n",
       "<table border=\"1\" class=\"dataframe\">\n",
       "  <thead>\n",
       "    <tr style=\"text-align: right;\">\n",
       "      <th></th>\n",
       "      <th>Predicted</th>\n",
       "    </tr>\n",
       "  </thead>\n",
       "  <tbody>\n",
       "    <tr>\n",
       "      <th>count</th>\n",
       "      <td>116293.000000</td>\n",
       "    </tr>\n",
       "    <tr>\n",
       "      <th>mean</th>\n",
       "      <td>0.016026</td>\n",
       "    </tr>\n",
       "    <tr>\n",
       "      <th>std</th>\n",
       "      <td>0.039073</td>\n",
       "    </tr>\n",
       "    <tr>\n",
       "      <th>min</th>\n",
       "      <td>0.000128</td>\n",
       "    </tr>\n",
       "    <tr>\n",
       "      <th>25%</th>\n",
       "      <td>0.000137</td>\n",
       "    </tr>\n",
       "    <tr>\n",
       "      <th>50%</th>\n",
       "      <td>0.000147</td>\n",
       "    </tr>\n",
       "    <tr>\n",
       "      <th>75%</th>\n",
       "      <td>0.006416</td>\n",
       "    </tr>\n",
       "    <tr>\n",
       "      <th>max</th>\n",
       "      <td>0.363699</td>\n",
       "    </tr>\n",
       "  </tbody>\n",
       "</table>\n",
       "</div>"
      ],
      "text/plain": [
       "           Predicted\n",
       "count  116293.000000\n",
       "mean        0.016026\n",
       "std         0.039073\n",
       "min         0.000128\n",
       "25%         0.000137\n",
       "50%         0.000147\n",
       "75%         0.006416\n",
       "max         0.363699"
      ]
     },
     "execution_count": 40,
     "metadata": {},
     "output_type": "execute_result"
    }
   ],
   "source": [
    "predictions = pd.DataFrame(y_hat[:,1], columns=['Predicted'])\n",
    "predictions.describe()"
   ]
  },
  {
   "cell_type": "code",
   "execution_count": null,
   "metadata": {},
   "outputs": [],
   "source": [
    "predictions.to_pickle('predictions_neural')\n",
    "\n",
    "chicago.to_pickle('test_data_frame')"
   ]
  },
  {
   "cell_type": "code",
   "execution_count": null,
   "metadata": {},
   "outputs": [],
   "source": [
    "predictions.head()"
   ]
  },
  {
   "cell_type": "code",
   "execution_count": null,
   "metadata": {},
   "outputs": [],
   "source": [
    "predictions.index += 1 \n",
    "predictions.head()"
   ]
  },
  {
   "cell_type": "code",
   "execution_count": 86,
   "metadata": {},
   "outputs": [
    {
     "data": {
      "text/html": [
       "<div>\n",
       "<style scoped>\n",
       "    .dataframe tbody tr th:only-of-type {\n",
       "        vertical-align: middle;\n",
       "    }\n",
       "\n",
       "    .dataframe tbody tr th {\n",
       "        vertical-align: top;\n",
       "    }\n",
       "\n",
       "    .dataframe thead th {\n",
       "        text-align: right;\n",
       "    }\n",
       "</style>\n",
       "<table border=\"1\" class=\"dataframe\">\n",
       "  <thead>\n",
       "    <tr style=\"text-align: right;\">\n",
       "      <th></th>\n",
       "      <th>Date</th>\n",
       "      <th>Virus</th>\n",
       "      <th>Month</th>\n",
       "      <th>Year</th>\n",
       "      <th>DayRunner</th>\n",
       "      <th>ALTER</th>\n",
       "      <th>PIPIENS</th>\n",
       "      <th>PIPIENS-RESTUANS</th>\n",
       "      <th>RESTUANS</th>\n",
       "      <th>near_hotspot</th>\n",
       "      <th>near_chompspot</th>\n",
       "    </tr>\n",
       "  </thead>\n",
       "  <tbody>\n",
       "    <tr>\n",
       "      <th>0</th>\n",
       "      <td>2007-05-29</td>\n",
       "      <td>0</td>\n",
       "      <td>5</td>\n",
       "      <td>2007</td>\n",
       "      <td>149</td>\n",
       "      <td>0</td>\n",
       "      <td>0</td>\n",
       "      <td>1</td>\n",
       "      <td>0</td>\n",
       "      <td>5</td>\n",
       "      <td>3</td>\n",
       "    </tr>\n",
       "    <tr>\n",
       "      <th>1</th>\n",
       "      <td>2007-05-29</td>\n",
       "      <td>0</td>\n",
       "      <td>5</td>\n",
       "      <td>2007</td>\n",
       "      <td>149</td>\n",
       "      <td>0</td>\n",
       "      <td>0</td>\n",
       "      <td>0</td>\n",
       "      <td>1</td>\n",
       "      <td>5</td>\n",
       "      <td>3</td>\n",
       "    </tr>\n",
       "    <tr>\n",
       "      <th>2</th>\n",
       "      <td>2007-05-29</td>\n",
       "      <td>0</td>\n",
       "      <td>5</td>\n",
       "      <td>2007</td>\n",
       "      <td>149</td>\n",
       "      <td>0</td>\n",
       "      <td>0</td>\n",
       "      <td>0</td>\n",
       "      <td>1</td>\n",
       "      <td>3</td>\n",
       "      <td>2</td>\n",
       "    </tr>\n",
       "    <tr>\n",
       "      <th>3</th>\n",
       "      <td>2007-05-29</td>\n",
       "      <td>0</td>\n",
       "      <td>5</td>\n",
       "      <td>2007</td>\n",
       "      <td>149</td>\n",
       "      <td>0</td>\n",
       "      <td>0</td>\n",
       "      <td>1</td>\n",
       "      <td>0</td>\n",
       "      <td>5</td>\n",
       "      <td>3</td>\n",
       "    </tr>\n",
       "    <tr>\n",
       "      <th>4</th>\n",
       "      <td>2007-05-29</td>\n",
       "      <td>0</td>\n",
       "      <td>5</td>\n",
       "      <td>2007</td>\n",
       "      <td>149</td>\n",
       "      <td>0</td>\n",
       "      <td>0</td>\n",
       "      <td>0</td>\n",
       "      <td>1</td>\n",
       "      <td>5</td>\n",
       "      <td>3</td>\n",
       "    </tr>\n",
       "  </tbody>\n",
       "</table>\n",
       "</div>"
      ],
      "text/plain": [
       "         Date  Virus  Month  Year  DayRunner  ALTER  PIPIENS  \\\n",
       "0  2007-05-29      0      5  2007        149      0        0   \n",
       "1  2007-05-29      0      5  2007        149      0        0   \n",
       "2  2007-05-29      0      5  2007        149      0        0   \n",
       "3  2007-05-29      0      5  2007        149      0        0   \n",
       "4  2007-05-29      0      5  2007        149      0        0   \n",
       "\n",
       "   PIPIENS-RESTUANS  RESTUANS  near_hotspot  near_chompspot  \n",
       "0                 1         0             5               3  \n",
       "1                 0         1             5               3  \n",
       "2                 0         1             3               2  \n",
       "3                 1         0             5               3  \n",
       "4                 0         1             5               3  "
      ]
     },
     "execution_count": 86,
     "metadata": {},
     "output_type": "execute_result"
    }
   ],
   "source": [
    "\n",
    "# predictions.to_csv('Monkey.csv')\n",
    "readings.head()"
   ]
  },
  {
   "cell_type": "code",
   "execution_count": 91,
   "metadata": {},
   "outputs": [],
   "source": [
    "readings2 = pd.read_csv('readings_once_again.csv')"
   ]
  },
  {
   "cell_type": "code",
   "execution_count": 92,
   "metadata": {},
   "outputs": [
    {
     "data": {
      "text/plain": [
       "(Index(['DayRunner', 'ALTER', 'PIPIENS', 'PIPIENS-RESTUANS', 'RESTUANS',\n",
       "        'near_hotspot', 'near_chompspot', 'avg_rain1', 'avg_rain2', 'avg_dry1',\n",
       "        'avg_dry2', 'Latitude', 'Longitude'],\n",
       "       dtype='object'),\n",
       " Index(['DayRunner', 'ALTER', 'PIPIENS', 'PIPIENS-RESTUANS', 'RESTUANS',\n",
       "        'near_hotspot', 'near_chompspot', 'avg_rain1', 'avg_rain2', 'avg_dry1',\n",
       "        'avg_dry2'],\n",
       "       dtype='object'))"
      ]
     },
     "execution_count": 92,
     "metadata": {},
     "output_type": "execute_result"
    }
   ],
   "source": [
    "chicago2=pd.merge(readings2, weather, on='Date').drop(['Date', 'Month', 'Year'], axis=1)\n",
    "\n",
    "\n",
    "\n",
    "y = chicago2['Virus']\n",
    "X = chicago2[['DayRunner', 'ALTER', 'PIPIENS', 'PIPIENS-RESTUANS', 'RESTUANS',\n",
    "        'near_hotspot', 'near_chompspot', 'avg_rain1', 'avg_rain2', 'avg_dry1',\n",
    "        'avg_dry2', 'Latitude', 'Longitude']]\n",
    "\n",
    "X.columns, chicago.columns\n"
   ]
  },
  {
   "cell_type": "code",
   "execution_count": 93,
   "metadata": {},
   "outputs": [],
   "source": [
    "X_train, X_test, y_train, y_test = train_test_split(X, y, test_size = .2, random_state=42)"
   ]
  },
  {
   "cell_type": "code",
   "execution_count": 97,
   "metadata": {},
   "outputs": [
    {
     "data": {
      "text/plain": [
       "[(8404, 2), (8404, 11), (2102, 2), (2102, 11), (2102, 11), (8404,), (2102,)]"
      ]
     },
     "execution_count": 97,
     "metadata": {},
     "output_type": "execute_result"
    }
   ],
   "source": [
    "X_train_latlong = sc.fit_transform(X_train[['Latitude', 'Longitude']].values)\n",
    "X_train_engineered = sc.fit_transform(X_train[['DayRunner', 'ALTER', 'PIPIENS', 'PIPIENS-RESTUANS', 'RESTUANS',\n",
    "        'near_hotspot', 'near_chompspot', 'avg_rain1', 'avg_rain2', 'avg_dry1',\n",
    "        'avg_dry2']].values)\n",
    "\n",
    "X_test_latlong = sc.fit_transform(X_test[['Latitude', 'Longitude']].values)\n",
    "X_test_engineered = sc.fit_transform(X_test[['DayRunner', 'ALTER', 'PIPIENS', 'PIPIENS-RESTUANS', 'RESTUANS',\n",
    "        'near_hotspot', 'near_chompspot', 'avg_rain1', 'avg_rain2', 'avg_dry1',\n",
    "        'avg_dry2']].values)\n",
    "\n",
    "# X_holdout_latlong = sc.fit_transform(X_test[['Latitude', 'Longitude']].values)\n",
    "X_holdout_engineered = sc.fit_transform(X_test[['DayRunner', 'ALTER', 'PIPIENS', 'PIPIENS-RESTUANS', 'RESTUANS',\n",
    "        'near_hotspot', 'near_chompspot', 'avg_rain1', 'avg_rain2', 'avg_dry1',\n",
    "        'avg_dry2']].values)\n",
    "\n",
    "[X_train_latlong.shape, X_train_engineered.shape, X_test_latlong.shape, \n",
    "X_test_engineered.shape, X_holdout_engineered.shape,\n",
    "y_train.shape, y_test.shape]"
   ]
  },
  {
   "cell_type": "code",
   "execution_count": 99,
   "metadata": {},
   "outputs": [
    {
     "name": "stdout",
     "output_type": "stream",
     "text": [
      "Train on 8404 samples, validate on 2102 samples\n",
      "Epoch 1/10\n",
      "Epoch 2/10\n",
      "Epoch 3/10\n",
      "Epoch 4/10\n",
      "Epoch 5/10\n",
      "Epoch 6/10\n",
      "Epoch 7/10\n",
      "Epoch 8/10\n",
      "Epoch 9/10\n",
      "Epoch 10/10\n"
     ]
    }
   ],
   "source": [
    "from keras import Model\n",
    "\n",
    "engineered = keras.Input(shape=(11,))\n",
    "latlong = keras.Input(shape=(2,))\n",
    "\n",
    "Isengard = Dense(10,activation='relu',input_dim=2)(latlong)\n",
    "Osgiliath = Dense(10,activation='relu',input_dim=2)(Isengard)\n",
    "MinasTirith = Dense(10,activation='relu',input_dim=2)(Osgiliath)\n",
    "\n",
    "\n",
    "Hogwarts = keras.layers.concatenate([MinasTirith, engineered])\n",
    "Huffelpuff = Dense(20,activation='sigmoid',input_dim=2)(Hogwarts)\n",
    "Ravenclaw = Dense(20,activation='relu',input_dim=2)(Huffelpuff)\n",
    "\n",
    "Owls = Dense(1, activation='sigmoid', name='main_output')(Ravenclaw)\n",
    "\n",
    "reading = Model(inputs=[latlong, engineered],\n",
    "              outputs=[Owls])\n",
    "\n",
    "\n",
    "reading.compile(optimizer='adam', loss='binary_crossentropy')\n",
    "                #,loss_weights=[1., 0.2])\n",
    "\n",
    "\n",
    "\n",
    "mythology = reading.fit([X_train_latlong,X_train_engineered], y_train, \n",
    "            validation_data=([X_test_latlong,X_test_engineered], y_test),\n",
    "            epochs=10,\n",
    "            batch_size=None,\n",
    "            verbose = 3)\n"
   ]
  },
  {
   "cell_type": "code",
   "execution_count": 103,
   "metadata": {
    "scrolled": true
   },
   "outputs": [
    {
     "ename": "ValueError",
     "evalue": "Error when checking model : the list of Numpy arrays that you are passing to your model is not the size the model expected. Expected to see 1 array(s), but instead got the following list of 2 arrays: [array([[ 0.43054684,  0.48351899],\n       [-0.66638514,  0.23291713],\n       [-1.23886691, -0.02732166],\n       ...,\n       [ 1.47801723, -0.79687621],\n       [-1.64306842,  1.684744  ],\n       [-1.0...",
     "output_type": "error",
     "traceback": [
      "\u001b[1;31m---------------------------------------------------------------------------\u001b[0m",
      "\u001b[1;31mValueError\u001b[0m                                Traceback (most recent call last)",
      "\u001b[1;32m<ipython-input-103-62a37c8ec0f8>\u001b[0m in \u001b[0;36m<module>\u001b[1;34m()\u001b[0m\n\u001b[0;32m      8\u001b[0m \u001b[1;33m\u001b[0m\u001b[0m\n\u001b[0;32m      9\u001b[0m \u001b[1;33m\u001b[0m\u001b[0m\n\u001b[1;32m---> 10\u001b[1;33m \u001b[0my_foretold\u001b[0m \u001b[1;33m=\u001b[0m \u001b[0mmodel\u001b[0m\u001b[1;33m.\u001b[0m\u001b[0mpredict_proba\u001b[0m\u001b[1;33m(\u001b[0m\u001b[1;33m[\u001b[0m\u001b[0mX_test_latlong\u001b[0m\u001b[1;33m,\u001b[0m\u001b[0mX_test_engineered\u001b[0m\u001b[1;33m]\u001b[0m\u001b[1;33m)\u001b[0m\u001b[1;33m\u001b[0m\u001b[0m\n\u001b[0m\u001b[0;32m     11\u001b[0m \u001b[0mprint\u001b[0m\u001b[1;33m(\u001b[0m\u001b[0mroc_auc_score\u001b[0m\u001b[1;33m(\u001b[0m\u001b[0my_test\u001b[0m\u001b[1;33m,\u001b[0m \u001b[0my_foretold\u001b[0m\u001b[1;33m)\u001b[0m\u001b[1;33m)\u001b[0m\u001b[1;33m\u001b[0m\u001b[0m\n",
      "\u001b[1;32mC:\\ProgramData\\Anaconda3\\lib\\site-packages\\keras\\models.py\u001b[0m in \u001b[0;36mpredict_proba\u001b[1;34m(self, x, batch_size, verbose, steps)\u001b[0m\n\u001b[0;32m   1110\u001b[0m             \u001b[0mA\u001b[0m \u001b[0mNumpy\u001b[0m \u001b[0marray\u001b[0m \u001b[0mof\u001b[0m \u001b[0mprobability\u001b[0m \u001b[0mpredictions\u001b[0m\u001b[1;33m.\u001b[0m\u001b[1;33m\u001b[0m\u001b[0m\n\u001b[0;32m   1111\u001b[0m         \"\"\"\n\u001b[1;32m-> 1112\u001b[1;33m         \u001b[0mpreds\u001b[0m \u001b[1;33m=\u001b[0m \u001b[0mself\u001b[0m\u001b[1;33m.\u001b[0m\u001b[0mpredict\u001b[0m\u001b[1;33m(\u001b[0m\u001b[0mx\u001b[0m\u001b[1;33m,\u001b[0m \u001b[0mbatch_size\u001b[0m\u001b[1;33m,\u001b[0m \u001b[0mverbose\u001b[0m\u001b[1;33m,\u001b[0m \u001b[0msteps\u001b[0m\u001b[1;33m=\u001b[0m\u001b[0msteps\u001b[0m\u001b[1;33m)\u001b[0m\u001b[1;33m\u001b[0m\u001b[0m\n\u001b[0m\u001b[0;32m   1113\u001b[0m         \u001b[1;32mif\u001b[0m \u001b[0mpreds\u001b[0m\u001b[1;33m.\u001b[0m\u001b[0mmin\u001b[0m\u001b[1;33m(\u001b[0m\u001b[1;33m)\u001b[0m \u001b[1;33m<\u001b[0m \u001b[1;36m0.\u001b[0m \u001b[1;32mor\u001b[0m \u001b[0mpreds\u001b[0m\u001b[1;33m.\u001b[0m\u001b[0mmax\u001b[0m\u001b[1;33m(\u001b[0m\u001b[1;33m)\u001b[0m \u001b[1;33m>\u001b[0m \u001b[1;36m1.\u001b[0m\u001b[1;33m:\u001b[0m\u001b[1;33m\u001b[0m\u001b[0m\n\u001b[0;32m   1114\u001b[0m             warnings.warn('Network returning invalid probability values. '\n",
      "\u001b[1;32mC:\\ProgramData\\Anaconda3\\lib\\site-packages\\keras\\models.py\u001b[0m in \u001b[0;36mpredict\u001b[1;34m(self, x, batch_size, verbose, steps)\u001b[0m\n\u001b[0;32m   1023\u001b[0m             \u001b[0mself\u001b[0m\u001b[1;33m.\u001b[0m\u001b[0mbuild\u001b[0m\u001b[1;33m(\u001b[0m\u001b[1;33m)\u001b[0m\u001b[1;33m\u001b[0m\u001b[0m\n\u001b[0;32m   1024\u001b[0m         return self.model.predict(x, batch_size=batch_size, verbose=verbose,\n\u001b[1;32m-> 1025\u001b[1;33m                                   steps=steps)\n\u001b[0m\u001b[0;32m   1026\u001b[0m \u001b[1;33m\u001b[0m\u001b[0m\n\u001b[0;32m   1027\u001b[0m     \u001b[1;32mdef\u001b[0m \u001b[0mpredict_on_batch\u001b[0m\u001b[1;33m(\u001b[0m\u001b[0mself\u001b[0m\u001b[1;33m,\u001b[0m \u001b[0mx\u001b[0m\u001b[1;33m)\u001b[0m\u001b[1;33m:\u001b[0m\u001b[1;33m\u001b[0m\u001b[0m\n",
      "\u001b[1;32mC:\\ProgramData\\Anaconda3\\lib\\site-packages\\keras\\engine\\training.py\u001b[0m in \u001b[0;36mpredict\u001b[1;34m(self, x, batch_size, verbose, steps)\u001b[0m\n\u001b[0;32m   1822\u001b[0m         x = _standardize_input_data(x, self._feed_input_names,\n\u001b[0;32m   1823\u001b[0m                                     \u001b[0mself\u001b[0m\u001b[1;33m.\u001b[0m\u001b[0m_feed_input_shapes\u001b[0m\u001b[1;33m,\u001b[0m\u001b[1;33m\u001b[0m\u001b[0m\n\u001b[1;32m-> 1824\u001b[1;33m                                     check_batch_axis=False)\n\u001b[0m\u001b[0;32m   1825\u001b[0m         \u001b[1;32mif\u001b[0m \u001b[0mself\u001b[0m\u001b[1;33m.\u001b[0m\u001b[0mstateful\u001b[0m\u001b[1;33m:\u001b[0m\u001b[1;33m\u001b[0m\u001b[0m\n\u001b[0;32m   1826\u001b[0m             \u001b[1;32mif\u001b[0m \u001b[0mx\u001b[0m\u001b[1;33m[\u001b[0m\u001b[1;36m0\u001b[0m\u001b[1;33m]\u001b[0m\u001b[1;33m.\u001b[0m\u001b[0mshape\u001b[0m\u001b[1;33m[\u001b[0m\u001b[1;36m0\u001b[0m\u001b[1;33m]\u001b[0m \u001b[1;33m>\u001b[0m \u001b[0mbatch_size\u001b[0m \u001b[1;32mand\u001b[0m \u001b[0mx\u001b[0m\u001b[1;33m[\u001b[0m\u001b[1;36m0\u001b[0m\u001b[1;33m]\u001b[0m\u001b[1;33m.\u001b[0m\u001b[0mshape\u001b[0m\u001b[1;33m[\u001b[0m\u001b[1;36m0\u001b[0m\u001b[1;33m]\u001b[0m \u001b[1;33m%\u001b[0m \u001b[0mbatch_size\u001b[0m \u001b[1;33m!=\u001b[0m \u001b[1;36m0\u001b[0m\u001b[1;33m:\u001b[0m\u001b[1;33m\u001b[0m\u001b[0m\n",
      "\u001b[1;32mC:\\ProgramData\\Anaconda3\\lib\\site-packages\\keras\\engine\\training.py\u001b[0m in \u001b[0;36m_standardize_input_data\u001b[1;34m(data, names, shapes, check_batch_axis, exception_prefix)\u001b[0m\n\u001b[0;32m     84\u001b[0m                 \u001b[1;34m'Expected to see '\u001b[0m \u001b[1;33m+\u001b[0m \u001b[0mstr\u001b[0m\u001b[1;33m(\u001b[0m\u001b[0mlen\u001b[0m\u001b[1;33m(\u001b[0m\u001b[0mnames\u001b[0m\u001b[1;33m)\u001b[0m\u001b[1;33m)\u001b[0m \u001b[1;33m+\u001b[0m \u001b[1;34m' array(s), '\u001b[0m\u001b[1;33m\u001b[0m\u001b[0m\n\u001b[0;32m     85\u001b[0m                 \u001b[1;34m'but instead got the following list of '\u001b[0m \u001b[1;33m+\u001b[0m\u001b[1;33m\u001b[0m\u001b[0m\n\u001b[1;32m---> 86\u001b[1;33m                 str(len(data)) + ' arrays: ' + str(data)[:200] + '...')\n\u001b[0m\u001b[0;32m     87\u001b[0m         \u001b[1;32melif\u001b[0m \u001b[0mlen\u001b[0m\u001b[1;33m(\u001b[0m\u001b[0mnames\u001b[0m\u001b[1;33m)\u001b[0m \u001b[1;33m>\u001b[0m \u001b[1;36m1\u001b[0m\u001b[1;33m:\u001b[0m\u001b[1;33m\u001b[0m\u001b[0m\n\u001b[0;32m     88\u001b[0m             raise ValueError(\n",
      "\u001b[1;31mValueError\u001b[0m: Error when checking model : the list of Numpy arrays that you are passing to your model is not the size the model expected. Expected to see 1 array(s), but instead got the following list of 2 arrays: [array([[ 0.43054684,  0.48351899],\n       [-0.66638514,  0.23291713],\n       [-1.23886691, -0.02732166],\n       ...,\n       [ 1.47801723, -0.79687621],\n       [-1.64306842,  1.684744  ],\n       [-1.0..."
     ]
    },
    {
     "data": {
      "image/png": "[encoded data removed]",
      "text/plain": [
       "<matplotlib.figure.Figure at 0x180f7ea3588>"
      ]
     },
     "metadata": {},
     "output_type": "display_data"
    }
   ],
   "source": [
    "\n",
    "grind_loss = mythology.history['loss']\n",
    "respawn = history.history['val_loss']\n",
    "\n",
    "plt.plot(grind_loss, label='Train loss')\n",
    "plt.plot(respawn, label='Test loss')\n",
    "plt.legend()\n",
    "\n",
    "\n",
    "y_foretold = model.predict_proba([X_test_latlong,X_test_engineered])\n",
    "print(roc_auc_score(y_test, y_foretold))"
   ]
  },
  {
   "cell_type": "code",
   "execution_count": null,
   "metadata": {},
   "outputs": [],
   "source": [
    "# model = Sequential()\n",
    "# model.add(Dense(output_dim = 40,init ='uniform',activation = 'relu',input_dim=11))\n",
    "\n",
    "# model.add(Dense(100, activation = 'sigmoid'))\n",
    "# model.add(Dense(100, activation = 'relu'))\n",
    "# model.add(Dropout(0.25, noise_shape=None, seed=None))\n",
    "# model.add(Dense(100, activation = 'relu'))\n",
    "\n",
    "# model.add(Dense(activation=\"softmax\", input_dim=20, units=2, kernel_initializer=\"uniform\"))\n",
    "# model.compile(loss='binary_crossentropy', optimizer='adam')\n",
    "\n",
    "# history = model.fit(X_train, to_categorical(y_train), \n",
    "#             validation_data=(X_test, to_categorical(y_test)),\n",
    "#             epochs=10,\n",
    "#             batch_size=None,\n",
    "#             verbose = 3)\n",
    "\n",
    "# train_loss = history.history['loss']\n",
    "# test_loss = history.history['val_loss']\n"
   ]
  }
 ],
 "metadata": {
  "kernelspec": {
   "display_name": "Python 3",
   "language": "python",
   "name": "python3"
  },
  "language_info": {
   "codemirror_mode": {
    "name": "ipython",
    "version": 3
   },
   "file_extension": ".py",
   "mimetype": "text/x-python",
   "name": "python",
   "nbconvert_exporter": "python",
   "pygments_lexer": "ipython3",
   "version": "3.6.4"
  }
 },
 "nbformat": 4,
 "nbformat_minor": 2
}
