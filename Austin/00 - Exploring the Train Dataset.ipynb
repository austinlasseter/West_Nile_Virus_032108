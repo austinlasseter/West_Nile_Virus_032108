{
 "cells": [
  {
   "cell_type": "code",
   "execution_count": 1,
   "metadata": {
    "collapsed": true
   },
   "outputs": [],
   "source": [
    "import numpy as np\n",
    "import pandas as pd\n",
    "import seaborn as sns\n",
    "import matplotlib.pyplot as plt\n",
    "%matplotlib inline"
   ]
  },
  {
   "cell_type": "code",
   "execution_count": 2,
   "metadata": {},
   "outputs": [
    {
     "data": {
      "application/javascript": [
       "$('.nbp-app-bar').toggle()"
      ],
      "text/plain": [
       "<IPython.core.display.Javascript object>"
      ]
     },
     "metadata": {},
     "output_type": "display_data"
    }
   ],
   "source": [
    "%%javascript\n",
    "$('.nbp-app-bar').toggle()"
   ]
  },
  {
   "cell_type": "markdown",
   "metadata": {},
   "source": [
    "## Check out the 5 datasets"
   ]
  },
  {
   "cell_type": "code",
   "execution_count": 3,
   "metadata": {
    "collapsed": true
   },
   "outputs": [],
   "source": [
    "path = '../kaggle_data/input/'"
   ]
  },
  {
   "cell_type": "code",
   "execution_count": 4,
   "metadata": {
    "collapsed": true
   },
   "outputs": [],
   "source": [
    "train = pd.read_csv(path+'train.csv')\n",
    "weather = pd.read_csv(path+'weather.csv')\n",
    "spray = pd.read_csv(path+'spray.csv')\n",
    "test = pd.read_csv(path+'test.csv')\n",
    "sample_sub = pd.read_csv(path+'sampleSubmission.csv')"
   ]
  },
  {
   "cell_type": "code",
   "execution_count": 5,
   "metadata": {},
   "outputs": [
    {
     "data": {
      "text/html": [
       "<div>\n",
       "<style>\n",
       "    .dataframe thead tr:only-child th {\n",
       "        text-align: right;\n",
       "    }\n",
       "\n",
       "    .dataframe thead th {\n",
       "        text-align: left;\n",
       "    }\n",
       "\n",
       "    .dataframe tbody tr th {\n",
       "        vertical-align: top;\n",
       "    }\n",
       "</style>\n",
       "<table border=\"1\" class=\"dataframe\">\n",
       "  <thead>\n",
       "    <tr style=\"text-align: right;\">\n",
       "      <th></th>\n",
       "      <th>Id</th>\n",
       "      <th>WnvPresent</th>\n",
       "    </tr>\n",
       "  </thead>\n",
       "  <tbody>\n",
       "    <tr>\n",
       "      <th>0</th>\n",
       "      <td>1</td>\n",
       "      <td>0</td>\n",
       "    </tr>\n",
       "    <tr>\n",
       "      <th>1</th>\n",
       "      <td>2</td>\n",
       "      <td>0</td>\n",
       "    </tr>\n",
       "    <tr>\n",
       "      <th>2</th>\n",
       "      <td>3</td>\n",
       "      <td>0</td>\n",
       "    </tr>\n",
       "    <tr>\n",
       "      <th>3</th>\n",
       "      <td>4</td>\n",
       "      <td>0</td>\n",
       "    </tr>\n",
       "    <tr>\n",
       "      <th>4</th>\n",
       "      <td>5</td>\n",
       "      <td>0</td>\n",
       "    </tr>\n",
       "  </tbody>\n",
       "</table>\n",
       "</div>"
      ],
      "text/plain": [
       "   Id  WnvPresent\n",
       "0   1           0\n",
       "1   2           0\n",
       "2   3           0\n",
       "3   4           0\n",
       "4   5           0"
      ]
     },
     "execution_count": 5,
     "metadata": {},
     "output_type": "execute_result"
    }
   ],
   "source": [
    "sample_sub.head()"
   ]
  },
  {
   "cell_type": "code",
   "execution_count": 6,
   "metadata": {},
   "outputs": [
    {
     "data": {
      "text/html": [
       "<div>\n",
       "<style>\n",
       "    .dataframe thead tr:only-child th {\n",
       "        text-align: right;\n",
       "    }\n",
       "\n",
       "    .dataframe thead th {\n",
       "        text-align: left;\n",
       "    }\n",
       "\n",
       "    .dataframe tbody tr th {\n",
       "        vertical-align: top;\n",
       "    }\n",
       "</style>\n",
       "<table border=\"1\" class=\"dataframe\">\n",
       "  <thead>\n",
       "    <tr style=\"text-align: right;\">\n",
       "      <th></th>\n",
       "      <th>Date</th>\n",
       "      <th>Time</th>\n",
       "      <th>Latitude</th>\n",
       "      <th>Longitude</th>\n",
       "    </tr>\n",
       "  </thead>\n",
       "  <tbody>\n",
       "    <tr>\n",
       "      <th>0</th>\n",
       "      <td>2011-08-29</td>\n",
       "      <td>6:56:58 PM</td>\n",
       "      <td>42.391623</td>\n",
       "      <td>-88.089163</td>\n",
       "    </tr>\n",
       "    <tr>\n",
       "      <th>1</th>\n",
       "      <td>2011-08-29</td>\n",
       "      <td>6:57:08 PM</td>\n",
       "      <td>42.391348</td>\n",
       "      <td>-88.089163</td>\n",
       "    </tr>\n",
       "    <tr>\n",
       "      <th>2</th>\n",
       "      <td>2011-08-29</td>\n",
       "      <td>6:57:18 PM</td>\n",
       "      <td>42.391022</td>\n",
       "      <td>-88.089157</td>\n",
       "    </tr>\n",
       "    <tr>\n",
       "      <th>3</th>\n",
       "      <td>2011-08-29</td>\n",
       "      <td>6:57:28 PM</td>\n",
       "      <td>42.390637</td>\n",
       "      <td>-88.089158</td>\n",
       "    </tr>\n",
       "    <tr>\n",
       "      <th>4</th>\n",
       "      <td>2011-08-29</td>\n",
       "      <td>6:57:38 PM</td>\n",
       "      <td>42.390410</td>\n",
       "      <td>-88.088858</td>\n",
       "    </tr>\n",
       "  </tbody>\n",
       "</table>\n",
       "</div>"
      ],
      "text/plain": [
       "         Date        Time   Latitude  Longitude\n",
       "0  2011-08-29  6:56:58 PM  42.391623 -88.089163\n",
       "1  2011-08-29  6:57:08 PM  42.391348 -88.089163\n",
       "2  2011-08-29  6:57:18 PM  42.391022 -88.089157\n",
       "3  2011-08-29  6:57:28 PM  42.390637 -88.089158\n",
       "4  2011-08-29  6:57:38 PM  42.390410 -88.088858"
      ]
     },
     "execution_count": 6,
     "metadata": {},
     "output_type": "execute_result"
    }
   ],
   "source": [
    "spray.head()"
   ]
  },
  {
   "cell_type": "code",
   "execution_count": 7,
   "metadata": {},
   "outputs": [
    {
     "data": {
      "text/html": [
       "<div>\n",
       "<style>\n",
       "    .dataframe thead tr:only-child th {\n",
       "        text-align: right;\n",
       "    }\n",
       "\n",
       "    .dataframe thead th {\n",
       "        text-align: left;\n",
       "    }\n",
       "\n",
       "    .dataframe tbody tr th {\n",
       "        vertical-align: top;\n",
       "    }\n",
       "</style>\n",
       "<table border=\"1\" class=\"dataframe\">\n",
       "  <thead>\n",
       "    <tr style=\"text-align: right;\">\n",
       "      <th></th>\n",
       "      <th>Date</th>\n",
       "      <th>Address</th>\n",
       "      <th>Species</th>\n",
       "      <th>Block</th>\n",
       "      <th>Street</th>\n",
       "      <th>Trap</th>\n",
       "      <th>AddressNumberAndStreet</th>\n",
       "      <th>Latitude</th>\n",
       "      <th>Longitude</th>\n",
       "      <th>AddressAccuracy</th>\n",
       "      <th>NumMosquitos</th>\n",
       "      <th>WnvPresent</th>\n",
       "    </tr>\n",
       "  </thead>\n",
       "  <tbody>\n",
       "    <tr>\n",
       "      <th>0</th>\n",
       "      <td>2007-05-29</td>\n",
       "      <td>4100 North Oak Park Avenue, Chicago, IL 60634,...</td>\n",
       "      <td>CULEX PIPIENS/RESTUANS</td>\n",
       "      <td>41</td>\n",
       "      <td>N OAK PARK AVE</td>\n",
       "      <td>T002</td>\n",
       "      <td>4100  N OAK PARK AVE, Chicago, IL</td>\n",
       "      <td>41.95469</td>\n",
       "      <td>-87.800991</td>\n",
       "      <td>9</td>\n",
       "      <td>1</td>\n",
       "      <td>0</td>\n",
       "    </tr>\n",
       "    <tr>\n",
       "      <th>1</th>\n",
       "      <td>2007-05-29</td>\n",
       "      <td>4100 North Oak Park Avenue, Chicago, IL 60634,...</td>\n",
       "      <td>CULEX RESTUANS</td>\n",
       "      <td>41</td>\n",
       "      <td>N OAK PARK AVE</td>\n",
       "      <td>T002</td>\n",
       "      <td>4100  N OAK PARK AVE, Chicago, IL</td>\n",
       "      <td>41.95469</td>\n",
       "      <td>-87.800991</td>\n",
       "      <td>9</td>\n",
       "      <td>1</td>\n",
       "      <td>0</td>\n",
       "    </tr>\n",
       "  </tbody>\n",
       "</table>\n",
       "</div>"
      ],
      "text/plain": [
       "         Date                                            Address  \\\n",
       "0  2007-05-29  4100 North Oak Park Avenue, Chicago, IL 60634,...   \n",
       "1  2007-05-29  4100 North Oak Park Avenue, Chicago, IL 60634,...   \n",
       "\n",
       "                  Species  Block           Street  Trap  \\\n",
       "0  CULEX PIPIENS/RESTUANS     41   N OAK PARK AVE  T002   \n",
       "1          CULEX RESTUANS     41   N OAK PARK AVE  T002   \n",
       "\n",
       "              AddressNumberAndStreet  Latitude  Longitude  AddressAccuracy  \\\n",
       "0  4100  N OAK PARK AVE, Chicago, IL  41.95469 -87.800991                9   \n",
       "1  4100  N OAK PARK AVE, Chicago, IL  41.95469 -87.800991                9   \n",
       "\n",
       "   NumMosquitos  WnvPresent  \n",
       "0             1           0  \n",
       "1             1           0  "
      ]
     },
     "execution_count": 7,
     "metadata": {},
     "output_type": "execute_result"
    }
   ],
   "source": [
    "train.head(2)"
   ]
  },
  {
   "cell_type": "code",
   "execution_count": 8,
   "metadata": {},
   "outputs": [
    {
     "name": "stdout",
     "output_type": "stream",
     "text": [
      "(116293, 11)\n",
      "95\n",
      "2008-06-11\n",
      "2014-10-02\n"
     ]
    },
    {
     "data": {
      "text/html": [
       "<div>\n",
       "<style>\n",
       "    .dataframe thead tr:only-child th {\n",
       "        text-align: right;\n",
       "    }\n",
       "\n",
       "    .dataframe thead th {\n",
       "        text-align: left;\n",
       "    }\n",
       "\n",
       "    .dataframe tbody tr th {\n",
       "        vertical-align: top;\n",
       "    }\n",
       "</style>\n",
       "<table border=\"1\" class=\"dataframe\">\n",
       "  <thead>\n",
       "    <tr style=\"text-align: right;\">\n",
       "      <th></th>\n",
       "      <th>Id</th>\n",
       "      <th>Date</th>\n",
       "      <th>Address</th>\n",
       "      <th>Species</th>\n",
       "      <th>Block</th>\n",
       "      <th>Street</th>\n",
       "      <th>Trap</th>\n",
       "      <th>AddressNumberAndStreet</th>\n",
       "      <th>Latitude</th>\n",
       "      <th>Longitude</th>\n",
       "      <th>AddressAccuracy</th>\n",
       "    </tr>\n",
       "  </thead>\n",
       "  <tbody>\n",
       "    <tr>\n",
       "      <th>0</th>\n",
       "      <td>1</td>\n",
       "      <td>2008-06-11</td>\n",
       "      <td>4100 North Oak Park Avenue, Chicago, IL 60634,...</td>\n",
       "      <td>CULEX PIPIENS/RESTUANS</td>\n",
       "      <td>41</td>\n",
       "      <td>N OAK PARK AVE</td>\n",
       "      <td>T002</td>\n",
       "      <td>4100  N OAK PARK AVE, Chicago, IL</td>\n",
       "      <td>41.95469</td>\n",
       "      <td>-87.800991</td>\n",
       "      <td>9</td>\n",
       "    </tr>\n",
       "    <tr>\n",
       "      <th>1</th>\n",
       "      <td>2</td>\n",
       "      <td>2008-06-11</td>\n",
       "      <td>4100 North Oak Park Avenue, Chicago, IL 60634,...</td>\n",
       "      <td>CULEX RESTUANS</td>\n",
       "      <td>41</td>\n",
       "      <td>N OAK PARK AVE</td>\n",
       "      <td>T002</td>\n",
       "      <td>4100  N OAK PARK AVE, Chicago, IL</td>\n",
       "      <td>41.95469</td>\n",
       "      <td>-87.800991</td>\n",
       "      <td>9</td>\n",
       "    </tr>\n",
       "  </tbody>\n",
       "</table>\n",
       "</div>"
      ],
      "text/plain": [
       "   Id        Date                                            Address  \\\n",
       "0   1  2008-06-11  4100 North Oak Park Avenue, Chicago, IL 60634,...   \n",
       "1   2  2008-06-11  4100 North Oak Park Avenue, Chicago, IL 60634,...   \n",
       "\n",
       "                  Species  Block           Street  Trap  \\\n",
       "0  CULEX PIPIENS/RESTUANS     41   N OAK PARK AVE  T002   \n",
       "1          CULEX RESTUANS     41   N OAK PARK AVE  T002   \n",
       "\n",
       "              AddressNumberAndStreet  Latitude  Longitude  AddressAccuracy  \n",
       "0  4100  N OAK PARK AVE, Chicago, IL  41.95469 -87.800991                9  \n",
       "1  4100  N OAK PARK AVE, Chicago, IL  41.95469 -87.800991                9  "
      ]
     },
     "execution_count": 8,
     "metadata": {},
     "output_type": "execute_result"
    }
   ],
   "source": [
    "print(test.shape)\n",
    "print(test.Date.nunique())\n",
    "print(test.Date.min())\n",
    "print(test.Date.max())\n",
    "test.head(2)"
   ]
  },
  {
   "cell_type": "code",
   "execution_count": 9,
   "metadata": {},
   "outputs": [
    {
     "data": {
      "text/html": [
       "<div>\n",
       "<style>\n",
       "    .dataframe thead tr:only-child th {\n",
       "        text-align: right;\n",
       "    }\n",
       "\n",
       "    .dataframe thead th {\n",
       "        text-align: left;\n",
       "    }\n",
       "\n",
       "    .dataframe tbody tr th {\n",
       "        vertical-align: top;\n",
       "    }\n",
       "</style>\n",
       "<table border=\"1\" class=\"dataframe\">\n",
       "  <thead>\n",
       "    <tr style=\"text-align: right;\">\n",
       "      <th></th>\n",
       "      <th>Station</th>\n",
       "      <th>Date</th>\n",
       "      <th>Tmax</th>\n",
       "      <th>Tmin</th>\n",
       "      <th>Tavg</th>\n",
       "      <th>Depart</th>\n",
       "      <th>DewPoint</th>\n",
       "      <th>WetBulb</th>\n",
       "      <th>Heat</th>\n",
       "      <th>Cool</th>\n",
       "      <th>...</th>\n",
       "      <th>CodeSum</th>\n",
       "      <th>Depth</th>\n",
       "      <th>Water1</th>\n",
       "      <th>SnowFall</th>\n",
       "      <th>PrecipTotal</th>\n",
       "      <th>StnPressure</th>\n",
       "      <th>SeaLevel</th>\n",
       "      <th>ResultSpeed</th>\n",
       "      <th>ResultDir</th>\n",
       "      <th>AvgSpeed</th>\n",
       "    </tr>\n",
       "  </thead>\n",
       "  <tbody>\n",
       "    <tr>\n",
       "      <th>0</th>\n",
       "      <td>1</td>\n",
       "      <td>2007-05-01</td>\n",
       "      <td>83</td>\n",
       "      <td>50</td>\n",
       "      <td>67</td>\n",
       "      <td>14</td>\n",
       "      <td>51</td>\n",
       "      <td>56</td>\n",
       "      <td>0</td>\n",
       "      <td>2</td>\n",
       "      <td>...</td>\n",
       "      <td></td>\n",
       "      <td>0</td>\n",
       "      <td>M</td>\n",
       "      <td>0.0</td>\n",
       "      <td>0.00</td>\n",
       "      <td>29.10</td>\n",
       "      <td>29.82</td>\n",
       "      <td>1.7</td>\n",
       "      <td>27</td>\n",
       "      <td>9.2</td>\n",
       "    </tr>\n",
       "    <tr>\n",
       "      <th>1</th>\n",
       "      <td>2</td>\n",
       "      <td>2007-05-01</td>\n",
       "      <td>84</td>\n",
       "      <td>52</td>\n",
       "      <td>68</td>\n",
       "      <td>M</td>\n",
       "      <td>51</td>\n",
       "      <td>57</td>\n",
       "      <td>0</td>\n",
       "      <td>3</td>\n",
       "      <td>...</td>\n",
       "      <td></td>\n",
       "      <td>M</td>\n",
       "      <td>M</td>\n",
       "      <td>M</td>\n",
       "      <td>0.00</td>\n",
       "      <td>29.18</td>\n",
       "      <td>29.82</td>\n",
       "      <td>2.7</td>\n",
       "      <td>25</td>\n",
       "      <td>9.6</td>\n",
       "    </tr>\n",
       "    <tr>\n",
       "      <th>2</th>\n",
       "      <td>1</td>\n",
       "      <td>2007-05-02</td>\n",
       "      <td>59</td>\n",
       "      <td>42</td>\n",
       "      <td>51</td>\n",
       "      <td>-3</td>\n",
       "      <td>42</td>\n",
       "      <td>47</td>\n",
       "      <td>14</td>\n",
       "      <td>0</td>\n",
       "      <td>...</td>\n",
       "      <td>BR</td>\n",
       "      <td>0</td>\n",
       "      <td>M</td>\n",
       "      <td>0.0</td>\n",
       "      <td>0.00</td>\n",
       "      <td>29.38</td>\n",
       "      <td>30.09</td>\n",
       "      <td>13.0</td>\n",
       "      <td>4</td>\n",
       "      <td>13.4</td>\n",
       "    </tr>\n",
       "    <tr>\n",
       "      <th>3</th>\n",
       "      <td>2</td>\n",
       "      <td>2007-05-02</td>\n",
       "      <td>60</td>\n",
       "      <td>43</td>\n",
       "      <td>52</td>\n",
       "      <td>M</td>\n",
       "      <td>42</td>\n",
       "      <td>47</td>\n",
       "      <td>13</td>\n",
       "      <td>0</td>\n",
       "      <td>...</td>\n",
       "      <td>BR HZ</td>\n",
       "      <td>M</td>\n",
       "      <td>M</td>\n",
       "      <td>M</td>\n",
       "      <td>0.00</td>\n",
       "      <td>29.44</td>\n",
       "      <td>30.08</td>\n",
       "      <td>13.3</td>\n",
       "      <td>2</td>\n",
       "      <td>13.4</td>\n",
       "    </tr>\n",
       "    <tr>\n",
       "      <th>4</th>\n",
       "      <td>1</td>\n",
       "      <td>2007-05-03</td>\n",
       "      <td>66</td>\n",
       "      <td>46</td>\n",
       "      <td>56</td>\n",
       "      <td>2</td>\n",
       "      <td>40</td>\n",
       "      <td>48</td>\n",
       "      <td>9</td>\n",
       "      <td>0</td>\n",
       "      <td>...</td>\n",
       "      <td></td>\n",
       "      <td>0</td>\n",
       "      <td>M</td>\n",
       "      <td>0.0</td>\n",
       "      <td>0.00</td>\n",
       "      <td>29.39</td>\n",
       "      <td>30.12</td>\n",
       "      <td>11.7</td>\n",
       "      <td>7</td>\n",
       "      <td>11.9</td>\n",
       "    </tr>\n",
       "  </tbody>\n",
       "</table>\n",
       "<p>5 rows × 22 columns</p>\n",
       "</div>"
      ],
      "text/plain": [
       "   Station        Date  Tmax  Tmin Tavg Depart  DewPoint WetBulb Heat Cool  \\\n",
       "0        1  2007-05-01    83    50   67     14        51      56    0    2   \n",
       "1        2  2007-05-01    84    52   68      M        51      57    0    3   \n",
       "2        1  2007-05-02    59    42   51     -3        42      47   14    0   \n",
       "3        2  2007-05-02    60    43   52      M        42      47   13    0   \n",
       "4        1  2007-05-03    66    46   56      2        40      48    9    0   \n",
       "\n",
       "     ...    CodeSum Depth Water1 SnowFall PrecipTotal StnPressure SeaLevel  \\\n",
       "0    ...                0      M      0.0        0.00       29.10    29.82   \n",
       "1    ...                M      M        M        0.00       29.18    29.82   \n",
       "2    ...         BR     0      M      0.0        0.00       29.38    30.09   \n",
       "3    ...      BR HZ     M      M        M        0.00       29.44    30.08   \n",
       "4    ...                0      M      0.0        0.00       29.39    30.12   \n",
       "\n",
       "  ResultSpeed ResultDir  AvgSpeed  \n",
       "0         1.7        27       9.2  \n",
       "1         2.7        25       9.6  \n",
       "2        13.0         4      13.4  \n",
       "3        13.3         2      13.4  \n",
       "4        11.7         7      11.9  \n",
       "\n",
       "[5 rows x 22 columns]"
      ]
     },
     "execution_count": 9,
     "metadata": {},
     "output_type": "execute_result"
    }
   ],
   "source": [
    "weather.head()"
   ]
  },
  {
   "cell_type": "markdown",
   "metadata": {},
   "source": [
    "## Trap Readings in `train.csv`"
   ]
  },
  {
   "cell_type": "code",
   "execution_count": 10,
   "metadata": {},
   "outputs": [
    {
     "name": "stdout",
     "output_type": "stream",
     "text": [
      "(10506, 12)\n"
     ]
    },
    {
     "data": {
      "text/plain": [
       "Index(['Date', 'Address', 'Species', 'Block', 'Street', 'Trap',\n",
       "       'AddressNumberAndStreet', 'Latitude', 'Longitude', 'AddressAccuracy',\n",
       "       'NumMosquitos', 'WnvPresent'],\n",
       "      dtype='object')"
      ]
     },
     "execution_count": 10,
     "metadata": {},
     "output_type": "execute_result"
    }
   ],
   "source": [
    "# How large is our training dataset?\n",
    "print(train.shape) # It has over 10,000 observations\n",
    "train.columns # and 12 columns."
   ]
  },
  {
   "cell_type": "code",
   "execution_count": 11,
   "metadata": {},
   "outputs": [
    {
     "name": "stdout",
     "output_type": "stream",
     "text": [
      "0    T002\n",
      "1    T002\n",
      "2    T007\n",
      "Name: Trap, dtype: object\n",
      "136\n"
     ]
    }
   ],
   "source": [
    "# We want to create a unique identifer for traps\n",
    "print(train['Trap'].head(3)) # Each trap has an identifier that starts with T\n",
    "print(train['Trap'].nunique()) # There are 136 unique traps. that's about 100 rows per trap!"
   ]
  },
  {
   "cell_type": "code",
   "execution_count": 12,
   "metadata": {},
   "outputs": [
    {
     "name": "stdout",
     "output_type": "stream",
     "text": [
      "67\n",
      "185\n"
     ]
    },
    {
     "data": {
      "text/plain": [
       "0     2007-05-29\n",
       "1     2007-05-29\n",
       "25    2007-06-05\n",
       "26    2007-06-05\n",
       "27    2007-06-05\n",
       "Name: Date, dtype: object"
      ]
     },
     "execution_count": 12,
     "metadata": {},
     "output_type": "execute_result"
    }
   ],
   "source": [
    "# Each trap has readings on multiple days. For example, the first one has 185 rows, with 67 unique dates:\n",
    "print(train[train['Trap']=='T002'].Date.nunique())\n",
    "print(train[train['Trap']=='T002'].Date.count())\n",
    "train[train['Trap']=='T002'].Date.head()"
   ]
  },
  {
   "cell_type": "code",
   "execution_count": 13,
   "metadata": {},
   "outputs": [
    {
     "name": "stdout",
     "output_type": "stream",
     "text": [
      "2013-07-12    12\n",
      "2013-06-14     8\n",
      "2009-07-24     7\n",
      "2013-08-08     6\n",
      "2013-07-08     6\n",
      "Name: Date, dtype: int64\n"
     ]
    },
    {
     "data": {
      "text/html": [
       "<div>\n",
       "<style>\n",
       "    .dataframe thead tr:only-child th {\n",
       "        text-align: right;\n",
       "    }\n",
       "\n",
       "    .dataframe thead th {\n",
       "        text-align: left;\n",
       "    }\n",
       "\n",
       "    .dataframe tbody tr th {\n",
       "        vertical-align: top;\n",
       "    }\n",
       "</style>\n",
       "<table border=\"1\" class=\"dataframe\">\n",
       "  <thead>\n",
       "    <tr style=\"text-align: right;\">\n",
       "      <th></th>\n",
       "      <th>Date</th>\n",
       "      <th>Address</th>\n",
       "      <th>Species</th>\n",
       "      <th>Block</th>\n",
       "      <th>Street</th>\n",
       "      <th>Trap</th>\n",
       "      <th>AddressNumberAndStreet</th>\n",
       "      <th>Latitude</th>\n",
       "      <th>Longitude</th>\n",
       "      <th>AddressAccuracy</th>\n",
       "      <th>NumMosquitos</th>\n",
       "      <th>WnvPresent</th>\n",
       "    </tr>\n",
       "  </thead>\n",
       "  <tbody>\n",
       "    <tr>\n",
       "      <th>8669</th>\n",
       "      <td>2013-07-12</td>\n",
       "      <td>4100 North Oak Park Avenue, Chicago, IL 60634,...</td>\n",
       "      <td>CULEX PIPIENS/RESTUANS</td>\n",
       "      <td>41</td>\n",
       "      <td>N OAK PARK AVE</td>\n",
       "      <td>T002</td>\n",
       "      <td>4100  N OAK PARK AVE, Chicago, IL</td>\n",
       "      <td>41.95469</td>\n",
       "      <td>-87.800991</td>\n",
       "      <td>9</td>\n",
       "      <td>50</td>\n",
       "      <td>0</td>\n",
       "    </tr>\n",
       "    <tr>\n",
       "      <th>8670</th>\n",
       "      <td>2013-07-12</td>\n",
       "      <td>4100 North Oak Park Avenue, Chicago, IL 60634,...</td>\n",
       "      <td>CULEX PIPIENS/RESTUANS</td>\n",
       "      <td>41</td>\n",
       "      <td>N OAK PARK AVE</td>\n",
       "      <td>T002</td>\n",
       "      <td>4100  N OAK PARK AVE, Chicago, IL</td>\n",
       "      <td>41.95469</td>\n",
       "      <td>-87.800991</td>\n",
       "      <td>9</td>\n",
       "      <td>50</td>\n",
       "      <td>0</td>\n",
       "    </tr>\n",
       "    <tr>\n",
       "      <th>8671</th>\n",
       "      <td>2013-07-12</td>\n",
       "      <td>4100 North Oak Park Avenue, Chicago, IL 60634,...</td>\n",
       "      <td>CULEX PIPIENS/RESTUANS</td>\n",
       "      <td>41</td>\n",
       "      <td>N OAK PARK AVE</td>\n",
       "      <td>T002</td>\n",
       "      <td>4100  N OAK PARK AVE, Chicago, IL</td>\n",
       "      <td>41.95469</td>\n",
       "      <td>-87.800991</td>\n",
       "      <td>9</td>\n",
       "      <td>50</td>\n",
       "      <td>0</td>\n",
       "    </tr>\n",
       "  </tbody>\n",
       "</table>\n",
       "</div>"
      ],
      "text/plain": [
       "            Date                                            Address  \\\n",
       "8669  2013-07-12  4100 North Oak Park Avenue, Chicago, IL 60634,...   \n",
       "8670  2013-07-12  4100 North Oak Park Avenue, Chicago, IL 60634,...   \n",
       "8671  2013-07-12  4100 North Oak Park Avenue, Chicago, IL 60634,...   \n",
       "\n",
       "                     Species  Block           Street  Trap  \\\n",
       "8669  CULEX PIPIENS/RESTUANS     41   N OAK PARK AVE  T002   \n",
       "8670  CULEX PIPIENS/RESTUANS     41   N OAK PARK AVE  T002   \n",
       "8671  CULEX PIPIENS/RESTUANS     41   N OAK PARK AVE  T002   \n",
       "\n",
       "                 AddressNumberAndStreet  Latitude  Longitude  AddressAccuracy  \\\n",
       "8669  4100  N OAK PARK AVE, Chicago, IL  41.95469 -87.800991                9   \n",
       "8670  4100  N OAK PARK AVE, Chicago, IL  41.95469 -87.800991                9   \n",
       "8671  4100  N OAK PARK AVE, Chicago, IL  41.95469 -87.800991                9   \n",
       "\n",
       "      NumMosquitos  WnvPresent  \n",
       "8669            50           0  \n",
       "8670            50           0  \n",
       "8671            50           0  "
      ]
     },
     "execution_count": 13,
     "metadata": {},
     "output_type": "execute_result"
    }
   ],
   "source": [
    "# In addition to Date, what makes a row unique?\n",
    "# Species and count over 50.\n",
    "print(train[train['Trap']=='T002'].Date.value_counts().head())\n",
    "train[(train['Trap']=='T002') & (train['Date']=='2013-07-12')].head(3)"
   ]
  },
  {
   "cell_type": "code",
   "execution_count": 14,
   "metadata": {},
   "outputs": [
    {
     "name": "stdout",
     "output_type": "stream",
     "text": [
      "CULEX PIPIENS/RESTUANS    4752\n",
      "CULEX RESTUANS            2740\n",
      "CULEX PIPIENS             2699\n",
      "CULEX TERRITANS            222\n",
      "CULEX SALINARIUS            86\n",
      "CULEX TARSALIS               6\n",
      "CULEX ERRATICUS              1\n",
      "Name: Species, dtype: int64\n"
     ]
    },
    {
     "data": {
      "text/html": [
       "<div>\n",
       "<style>\n",
       "    .dataframe thead tr:only-child th {\n",
       "        text-align: right;\n",
       "    }\n",
       "\n",
       "    .dataframe thead th {\n",
       "        text-align: left;\n",
       "    }\n",
       "\n",
       "    .dataframe tbody tr th {\n",
       "        vertical-align: top;\n",
       "    }\n",
       "</style>\n",
       "<table border=\"1\" class=\"dataframe\">\n",
       "  <thead>\n",
       "    <tr style=\"text-align: right;\">\n",
       "      <th></th>\n",
       "      <th>Block</th>\n",
       "      <th>Latitude</th>\n",
       "      <th>Longitude</th>\n",
       "      <th>AddressAccuracy</th>\n",
       "      <th>NumMosquitos</th>\n",
       "      <th>WnvPresent</th>\n",
       "    </tr>\n",
       "    <tr>\n",
       "      <th>Species</th>\n",
       "      <th></th>\n",
       "      <th></th>\n",
       "      <th></th>\n",
       "      <th></th>\n",
       "      <th></th>\n",
       "      <th></th>\n",
       "    </tr>\n",
       "  </thead>\n",
       "  <tbody>\n",
       "    <tr>\n",
       "      <th>CULEX ERRATICUS</th>\n",
       "      <td>10.000000</td>\n",
       "      <td>41.974689</td>\n",
       "      <td>-87.890615</td>\n",
       "      <td>9.000000</td>\n",
       "      <td>7.000000</td>\n",
       "      <td>0.000000</td>\n",
       "    </tr>\n",
       "    <tr>\n",
       "      <th>CULEX PIPIENS</th>\n",
       "      <td>32.799926</td>\n",
       "      <td>41.813402</td>\n",
       "      <td>-87.680481</td>\n",
       "      <td>7.424972</td>\n",
       "      <td>16.550945</td>\n",
       "      <td>0.088922</td>\n",
       "    </tr>\n",
       "    <tr>\n",
       "      <th>CULEX PIPIENS/RESTUANS</th>\n",
       "      <td>36.706439</td>\n",
       "      <td>41.848832</td>\n",
       "      <td>-87.705241</td>\n",
       "      <td>7.939604</td>\n",
       "      <td>13.945286</td>\n",
       "      <td>0.055135</td>\n",
       "    </tr>\n",
       "    <tr>\n",
       "      <th>CULEX RESTUANS</th>\n",
       "      <td>36.784307</td>\n",
       "      <td>41.859096</td>\n",
       "      <td>-87.713366</td>\n",
       "      <td>8.019708</td>\n",
       "      <td>8.551460</td>\n",
       "      <td>0.017883</td>\n",
       "    </tr>\n",
       "    <tr>\n",
       "      <th>CULEX SALINARIUS</th>\n",
       "      <td>32.627907</td>\n",
       "      <td>41.825134</td>\n",
       "      <td>-87.693788</td>\n",
       "      <td>7.767442</td>\n",
       "      <td>1.686047</td>\n",
       "      <td>0.000000</td>\n",
       "    </tr>\n",
       "    <tr>\n",
       "      <th>CULEX TARSALIS</th>\n",
       "      <td>30.500000</td>\n",
       "      <td>41.818023</td>\n",
       "      <td>-87.661568</td>\n",
       "      <td>7.500000</td>\n",
       "      <td>1.166667</td>\n",
       "      <td>0.000000</td>\n",
       "    </tr>\n",
       "    <tr>\n",
       "      <th>CULEX TERRITANS</th>\n",
       "      <td>36.900901</td>\n",
       "      <td>41.798297</td>\n",
       "      <td>-87.658375</td>\n",
       "      <td>7.599099</td>\n",
       "      <td>2.297297</td>\n",
       "      <td>0.000000</td>\n",
       "    </tr>\n",
       "  </tbody>\n",
       "</table>\n",
       "</div>"
      ],
      "text/plain": [
       "                            Block   Latitude  Longitude  AddressAccuracy  \\\n",
       "Species                                                                    \n",
       "CULEX ERRATICUS         10.000000  41.974689 -87.890615         9.000000   \n",
       "CULEX PIPIENS           32.799926  41.813402 -87.680481         7.424972   \n",
       "CULEX PIPIENS/RESTUANS  36.706439  41.848832 -87.705241         7.939604   \n",
       "CULEX RESTUANS          36.784307  41.859096 -87.713366         8.019708   \n",
       "CULEX SALINARIUS        32.627907  41.825134 -87.693788         7.767442   \n",
       "CULEX TARSALIS          30.500000  41.818023 -87.661568         7.500000   \n",
       "CULEX TERRITANS         36.900901  41.798297 -87.658375         7.599099   \n",
       "\n",
       "                        NumMosquitos  WnvPresent  \n",
       "Species                                           \n",
       "CULEX ERRATICUS             7.000000    0.000000  \n",
       "CULEX PIPIENS              16.550945    0.088922  \n",
       "CULEX PIPIENS/RESTUANS     13.945286    0.055135  \n",
       "CULEX RESTUANS              8.551460    0.017883  \n",
       "CULEX SALINARIUS            1.686047    0.000000  \n",
       "CULEX TARSALIS              1.166667    0.000000  \n",
       "CULEX TERRITANS             2.297297    0.000000  "
      ]
     },
     "execution_count": 14,
     "metadata": {},
     "output_type": "execute_result"
    }
   ],
   "source": [
    "# How many times does each species show up?\n",
    "print(train['Species'].value_counts()) # Species are not equally represented\n",
    "train.groupby('Species').mean() # WNV is only ever present in 3 of the 7 species."
   ]
  },
  {
   "cell_type": "markdown",
   "metadata": {},
   "source": [
    "## Reduce the dataset using a `groupby` statement"
   ]
  },
  {
   "cell_type": "code",
   "execution_count": 15,
   "metadata": {},
   "outputs": [
    {
     "name": "stdout",
     "output_type": "stream",
     "text": [
      "95\n",
      "136\n"
     ]
    },
    {
     "data": {
      "text/plain": [
       "8475"
      ]
     },
     "execution_count": 15,
     "metadata": {},
     "output_type": "execute_result"
    }
   ],
   "source": [
    "# We can reduce the dataset to a single row for each trap reading by species and date.\n",
    "print(train['Date'].nunique()) # There are 95 unique dates\n",
    "print((train['Trap']).nunique()) # There are 136 unique traps\n",
    "len(train.groupby(['Date', 'Trap', 'Species'])) # There are 8,500 unique readings by date & trap"
   ]
  },
  {
   "cell_type": "code",
   "execution_count": 16,
   "metadata": {},
   "outputs": [
    {
     "data": {
      "text/html": [
       "<div>\n",
       "<style>\n",
       "    .dataframe thead tr:only-child th {\n",
       "        text-align: right;\n",
       "    }\n",
       "\n",
       "    .dataframe thead th {\n",
       "        text-align: left;\n",
       "    }\n",
       "\n",
       "    .dataframe tbody tr th {\n",
       "        vertical-align: top;\n",
       "    }\n",
       "</style>\n",
       "<table border=\"1\" class=\"dataframe\">\n",
       "  <thead>\n",
       "    <tr style=\"text-align: right;\">\n",
       "      <th></th>\n",
       "      <th></th>\n",
       "      <th></th>\n",
       "      <th>Block</th>\n",
       "      <th>Latitude</th>\n",
       "      <th>Longitude</th>\n",
       "      <th>AddressAccuracy</th>\n",
       "      <th>NumMosquitos</th>\n",
       "      <th>WnvPresent</th>\n",
       "    </tr>\n",
       "    <tr>\n",
       "      <th>Date</th>\n",
       "      <th>Trap</th>\n",
       "      <th>Species</th>\n",
       "      <th></th>\n",
       "      <th></th>\n",
       "      <th></th>\n",
       "      <th></th>\n",
       "      <th></th>\n",
       "      <th></th>\n",
       "    </tr>\n",
       "  </thead>\n",
       "  <tbody>\n",
       "    <tr>\n",
       "      <th>2007-08-16</th>\n",
       "      <th>T115</th>\n",
       "      <th>CULEX PIPIENS</th>\n",
       "      <td>612</td>\n",
       "      <td>2125.343808</td>\n",
       "      <td>-4467.592962</td>\n",
       "      <td>255</td>\n",
       "      <td>2532</td>\n",
       "      <td>10</td>\n",
       "    </tr>\n",
       "    <tr>\n",
       "      <th>2013-08-01</th>\n",
       "      <th>T900</th>\n",
       "      <th>CULEX PIPIENS/RESTUANS</th>\n",
       "      <td>250</td>\n",
       "      <td>1049.367225</td>\n",
       "      <td>-2197.265375</td>\n",
       "      <td>225</td>\n",
       "      <td>984</td>\n",
       "      <td>9</td>\n",
       "    </tr>\n",
       "    <tr>\n",
       "      <th>2013-08-29</th>\n",
       "      <th>T900</th>\n",
       "      <th>CULEX PIPIENS</th>\n",
       "      <td>100</td>\n",
       "      <td>419.746890</td>\n",
       "      <td>-878.906150</td>\n",
       "      <td>90</td>\n",
       "      <td>281</td>\n",
       "      <td>8</td>\n",
       "    </tr>\n",
       "    <tr>\n",
       "      <th rowspan=\"2\" valign=\"top\">2007-08-22</th>\n",
       "      <th>T115</th>\n",
       "      <th>CULEX PIPIENS</th>\n",
       "      <td>384</td>\n",
       "      <td>1333.549056</td>\n",
       "      <td>-2803.195584</td>\n",
       "      <td>160</td>\n",
       "      <td>1554</td>\n",
       "      <td>7</td>\n",
       "    </tr>\n",
       "    <tr>\n",
       "      <th>T138</th>\n",
       "      <th>CULEX PIPIENS</th>\n",
       "      <td>220</td>\n",
       "      <td>917.982230</td>\n",
       "      <td>-1926.879086</td>\n",
       "      <td>110</td>\n",
       "      <td>1054</td>\n",
       "      <td>6</td>\n",
       "    </tr>\n",
       "  </tbody>\n",
       "</table>\n",
       "</div>"
      ],
      "text/plain": [
       "                                        Block     Latitude    Longitude  \\\n",
       "Date       Trap Species                                                   \n",
       "2007-08-16 T115 CULEX PIPIENS             612  2125.343808 -4467.592962   \n",
       "2013-08-01 T900 CULEX PIPIENS/RESTUANS    250  1049.367225 -2197.265375   \n",
       "2013-08-29 T900 CULEX PIPIENS             100   419.746890  -878.906150   \n",
       "2007-08-22 T115 CULEX PIPIENS             384  1333.549056 -2803.195584   \n",
       "           T138 CULEX PIPIENS             220   917.982230 -1926.879086   \n",
       "\n",
       "                                        AddressAccuracy  NumMosquitos  \\\n",
       "Date       Trap Species                                                 \n",
       "2007-08-16 T115 CULEX PIPIENS                       255          2532   \n",
       "2013-08-01 T900 CULEX PIPIENS/RESTUANS              225           984   \n",
       "2013-08-29 T900 CULEX PIPIENS                        90           281   \n",
       "2007-08-22 T115 CULEX PIPIENS                       160          1554   \n",
       "           T138 CULEX PIPIENS                       110          1054   \n",
       "\n",
       "                                        WnvPresent  \n",
       "Date       Trap Species                             \n",
       "2007-08-16 T115 CULEX PIPIENS                   10  \n",
       "2013-08-01 T900 CULEX PIPIENS/RESTUANS           9  \n",
       "2013-08-29 T900 CULEX PIPIENS                    8  \n",
       "2007-08-22 T115 CULEX PIPIENS                    7  \n",
       "           T138 CULEX PIPIENS                    6  "
      ]
     },
     "execution_count": 16,
     "metadata": {},
     "output_type": "execute_result"
    }
   ],
   "source": [
    "# Individual daily trap readings are combination of date, trap, and species:\n",
    "train.groupby(['Date', 'Trap', 'Species']).sum().sort_values(['WnvPresent'], ascending=False).head()"
   ]
  },
  {
   "cell_type": "code",
   "execution_count": 17,
   "metadata": {},
   "outputs": [],
   "source": [
    "# But we are not going to use that groupby because the test.csv isn't organized that way.\n",
    "readings=train"
   ]
  },
  {
   "cell_type": "markdown",
   "metadata": {},
   "source": [
    "## Organize the `date` variable"
   ]
  },
  {
   "cell_type": "code",
   "execution_count": 18,
   "metadata": {},
   "outputs": [
    {
     "data": {
      "text/html": [
       "<div>\n",
       "<style>\n",
       "    .dataframe thead tr:only-child th {\n",
       "        text-align: right;\n",
       "    }\n",
       "\n",
       "    .dataframe thead th {\n",
       "        text-align: left;\n",
       "    }\n",
       "\n",
       "    .dataframe tbody tr th {\n",
       "        vertical-align: top;\n",
       "    }\n",
       "</style>\n",
       "<table border=\"1\" class=\"dataframe\">\n",
       "  <thead>\n",
       "    <tr style=\"text-align: right;\">\n",
       "      <th></th>\n",
       "      <th>Date</th>\n",
       "      <th>Year</th>\n",
       "      <th>Month</th>\n",
       "      <th>Day</th>\n",
       "      <th>MonthDay</th>\n",
       "    </tr>\n",
       "  </thead>\n",
       "  <tbody>\n",
       "    <tr>\n",
       "      <th>0</th>\n",
       "      <td>2007-05-29</td>\n",
       "      <td>2007</td>\n",
       "      <td>05</td>\n",
       "      <td>29</td>\n",
       "      <td>0529</td>\n",
       "    </tr>\n",
       "    <tr>\n",
       "      <th>1</th>\n",
       "      <td>2007-05-29</td>\n",
       "      <td>2007</td>\n",
       "      <td>05</td>\n",
       "      <td>29</td>\n",
       "      <td>0529</td>\n",
       "    </tr>\n",
       "    <tr>\n",
       "      <th>2</th>\n",
       "      <td>2007-05-29</td>\n",
       "      <td>2007</td>\n",
       "      <td>05</td>\n",
       "      <td>29</td>\n",
       "      <td>0529</td>\n",
       "    </tr>\n",
       "    <tr>\n",
       "      <th>3</th>\n",
       "      <td>2007-05-29</td>\n",
       "      <td>2007</td>\n",
       "      <td>05</td>\n",
       "      <td>29</td>\n",
       "      <td>0529</td>\n",
       "    </tr>\n",
       "    <tr>\n",
       "      <th>4</th>\n",
       "      <td>2007-05-29</td>\n",
       "      <td>2007</td>\n",
       "      <td>05</td>\n",
       "      <td>29</td>\n",
       "      <td>0529</td>\n",
       "    </tr>\n",
       "  </tbody>\n",
       "</table>\n",
       "</div>"
      ],
      "text/plain": [
       "         Date  Year Month Day MonthDay\n",
       "0  2007-05-29  2007    05  29     0529\n",
       "1  2007-05-29  2007    05  29     0529\n",
       "2  2007-05-29  2007    05  29     0529\n",
       "3  2007-05-29  2007    05  29     0529\n",
       "4  2007-05-29  2007    05  29     0529"
      ]
     },
     "execution_count": 18,
     "metadata": {},
     "output_type": "execute_result"
    }
   ],
   "source": [
    "# Let's convert date/time into something usable. \n",
    "readings['Day']=readings['Date'].str.split('-').str[-1].astype(str)\n",
    "readings['Month']=readings['Date'].str.split('-').str[1].astype(str)\n",
    "readings['Year']=readings['Date'].str.split('-').str[0].astype(int)\n",
    "readings['MonthDay']=readings['Month'].astype(str) + readings['Day'].astype(str)\n",
    "readings[['Date', 'Year', 'Month','Day', 'MonthDay']].head()"
   ]
  },
  {
   "cell_type": "code",
   "execution_count": null,
   "metadata": {
    "collapsed": true
   },
   "outputs": [],
   "source": []
  },
  {
   "cell_type": "code",
   "execution_count": 19,
   "metadata": {},
   "outputs": [
    {
     "name": "stdout",
     "output_type": "stream",
     "text": [
      "count    10506.000000\n",
      "mean       217.941938\n",
      "std         31.735797\n",
      "min        148.000000\n",
      "25%        196.000000\n",
      "50%        217.000000\n",
      "75%        241.000000\n",
      "max        282.000000\n",
      "Name: DayRunner, dtype: float64\n"
     ]
    },
    {
     "data": {
      "text/html": [
       "<div>\n",
       "<style>\n",
       "    .dataframe thead tr:only-child th {\n",
       "        text-align: right;\n",
       "    }\n",
       "\n",
       "    .dataframe thead th {\n",
       "        text-align: left;\n",
       "    }\n",
       "\n",
       "    .dataframe tbody tr th {\n",
       "        vertical-align: top;\n",
       "    }\n",
       "</style>\n",
       "<table border=\"1\" class=\"dataframe\">\n",
       "  <thead>\n",
       "    <tr style=\"text-align: right;\">\n",
       "      <th></th>\n",
       "      <th>DayRunner</th>\n",
       "      <th>MonthDay</th>\n",
       "      <th>Month</th>\n",
       "      <th>Day</th>\n",
       "    </tr>\n",
       "  </thead>\n",
       "  <tbody>\n",
       "    <tr>\n",
       "      <th>0</th>\n",
       "      <td>149</td>\n",
       "      <td>0529</td>\n",
       "      <td>05</td>\n",
       "      <td>29</td>\n",
       "    </tr>\n",
       "    <tr>\n",
       "      <th>1</th>\n",
       "      <td>149</td>\n",
       "      <td>0529</td>\n",
       "      <td>05</td>\n",
       "      <td>29</td>\n",
       "    </tr>\n",
       "    <tr>\n",
       "      <th>2</th>\n",
       "      <td>149</td>\n",
       "      <td>0529</td>\n",
       "      <td>05</td>\n",
       "      <td>29</td>\n",
       "    </tr>\n",
       "    <tr>\n",
       "      <th>3</th>\n",
       "      <td>149</td>\n",
       "      <td>0529</td>\n",
       "      <td>05</td>\n",
       "      <td>29</td>\n",
       "    </tr>\n",
       "    <tr>\n",
       "      <th>4</th>\n",
       "      <td>149</td>\n",
       "      <td>0529</td>\n",
       "      <td>05</td>\n",
       "      <td>29</td>\n",
       "    </tr>\n",
       "  </tbody>\n",
       "</table>\n",
       "</div>"
      ],
      "text/plain": [
       "   DayRunner MonthDay Month Day\n",
       "0        149     0529    05  29\n",
       "1        149     0529    05  29\n",
       "2        149     0529    05  29\n",
       "3        149     0529    05  29\n",
       "4        149     0529    05  29"
      ]
     },
     "execution_count": 19,
     "metadata": {},
     "output_type": "execute_result"
    }
   ],
   "source": [
    "# Let's create a running count of days within the year:\n",
    "readings['DayRunner']=pd.to_datetime(readings['Date']).dt.dayofyear\n",
    "print(readings['DayRunner'].describe())\n",
    "readings[['DayRunner', 'MonthDay', 'Month', 'Day']].head()"
   ]
  },
  {
   "cell_type": "code",
   "execution_count": 20,
   "metadata": {},
   "outputs": [
    {
     "data": {
      "image/png": "[encoded data removed]",
      "text/plain": [
       "<matplotlib.figure.Figure at 0x1a0bf45a20>"
      ]
     },
     "metadata": {},
     "output_type": "display_data"
    }
   ],
   "source": [
    "# Let's visualize that dayrunner variable for just one year (2007)\n",
    "readings[readings['Year']==2007]['DayRunner'].hist();"
   ]
  },
  {
   "cell_type": "code",
   "execution_count": 21,
   "metadata": {},
   "outputs": [
    {
     "data": {
      "text/plain": [
       "5       84\n",
       "6     1571\n",
       "7     2606\n",
       "8     3751\n",
       "9     2218\n",
       "10     276\n",
       "Name: Month, dtype: int64"
      ]
     },
     "execution_count": 21,
     "metadata": {},
     "output_type": "execute_result"
    }
   ],
   "source": [
    "# How many months are there? Six, ranging from May to October.\n",
    "readings['Month']=readings['Month'].astype(int)\n",
    "readings['Month'].value_counts().sort_index()"
   ]
  },
  {
   "cell_type": "code",
   "execution_count": 22,
   "metadata": {},
   "outputs": [
    {
     "data": {
      "text/plain": [
       "2007    3811\n",
       "2013    2392\n",
       "2009    2249\n",
       "2011    2054\n",
       "Name: Year, dtype: int64"
      ]
     },
     "execution_count": 22,
     "metadata": {},
     "output_type": "execute_result"
    }
   ],
   "source": [
    "# How many years are we talking about? Just 4 of them.\n",
    "readings['Year'].value_counts()"
   ]
  },
  {
   "cell_type": "markdown",
   "metadata": {},
   "source": [
    "## Outcome Variable"
   ]
  },
  {
   "cell_type": "code",
   "execution_count": 23,
   "metadata": {},
   "outputs": [
    {
     "data": {
      "text/plain": [
       "Index(['Date', 'Address', 'Species', 'Block', 'Street', 'Trap',\n",
       "       'AddressNumberAndStreet', 'Latitude', 'Longitude', 'AddressAccuracy',\n",
       "       'NumMosquitos', 'WnvPresent', 'Day', 'Month', 'Year', 'MonthDay',\n",
       "       'DayRunner'],\n",
       "      dtype='object')"
      ]
     },
     "execution_count": 23,
     "metadata": {},
     "output_type": "execute_result"
    }
   ],
   "source": [
    "readings.columns"
   ]
  },
  {
   "cell_type": "code",
   "execution_count": 24,
   "metadata": {},
   "outputs": [
    {
     "data": {
      "text/plain": [
       "0    9955\n",
       "1     551\n",
       "Name: Virus, dtype: int64"
      ]
     },
     "execution_count": 24,
     "metadata": {},
     "output_type": "execute_result"
    }
   ],
   "source": [
    "# Let's make sure the outcome variables is 0/1.\n",
    "readings['Virus']=0\n",
    "readings.loc[readings['WnvPresent']>0, 'Virus']=1\n",
    "readings['Virus'].value_counts()"
   ]
  },
  {
   "cell_type": "code",
   "execution_count": 25,
   "metadata": {},
   "outputs": [
    {
     "name": "stdout",
     "output_type": "stream",
     "text": [
      "Year  Virus\n",
      "2007  0        3575\n",
      "      1         236\n",
      "2009  0        2230\n",
      "      1          19\n",
      "2011  0        1997\n",
      "      1          57\n",
      "2013  0        2153\n",
      "      1         239\n",
      "Name: Virus, dtype: int64\n"
     ]
    }
   ],
   "source": [
    "# Is it about the same across the four years?\n",
    "x=readings['Virus'].groupby(readings['Year']).value_counts()\n",
    "print(x)"
   ]
  },
  {
   "cell_type": "markdown",
   "metadata": {},
   "source": [
    "## Block Location"
   ]
  },
  {
   "cell_type": "code",
   "execution_count": 26,
   "metadata": {},
   "outputs": [
    {
     "name": "stdout",
     "output_type": "stream",
     "text": [
      "Number of Traps: 74\n",
      "Number of Blocks: 44\n",
      "Max Traps per Block: 7\n",
      "Min Traps per Block: 1\n"
     ]
    }
   ],
   "source": [
    "# Are there multiple traps on the same block?\n",
    "print('Number of Traps:', readings[readings['Year']==2013]['Trap'].nunique())\n",
    "print('Number of Blocks:',readings[readings['Year']==2013]['Block'].nunique())\n",
    "print('Max Traps per Block:', readings[readings['Year']==2013]['Trap'].groupby(readings['Block']).nunique().max())\n",
    "print('Min Traps per Block:', readings[readings['Year']==2013]['Trap'].groupby(readings['Block']).nunique().min())"
   ]
  },
  {
   "cell_type": "code",
   "execution_count": 27,
   "metadata": {},
   "outputs": [
    {
     "name": "stdout",
     "output_type": "stream",
     "text": [
      "0.05244622120692937\n",
      "35.68779744907672\n"
     ]
    },
    {
     "data": {
      "text/plain": [
       "Block\n",
       "46    0.114754\n",
       "72    0.106061\n",
       "82    0.100000\n",
       "41    0.097297\n",
       "65    0.085470\n",
       "51    0.083333\n",
       "36    0.082707\n",
       "91    0.081081\n",
       "58    0.079365\n",
       "64    0.079365\n",
       "63    0.069767\n",
       "40    0.068783\n",
       "24    0.068750\n",
       "12    0.067769\n",
       "10    0.064460\n",
       "61    0.061404\n",
       "21    0.061224\n",
       "71    0.060150\n",
       "22    0.058000\n",
       "52    0.057762\n",
       "Name: Virus, dtype: float64"
      ]
     },
     "execution_count": 27,
     "metadata": {},
     "output_type": "execute_result"
    }
   ],
   "source": [
    "# Do some blocks have more virus than others?\n",
    "print(readings['Virus'].mean())\n",
    "print(readings['Block'].mean())\n",
    "readings['Virus'].groupby(readings['Block']).mean().sort_values(ascending=False).head(20)"
   ]
  },
  {
   "cell_type": "code",
   "execution_count": 28,
   "metadata": {},
   "outputs": [
    {
     "data": {
      "text/plain": [
       "Block\n",
       "10    7\n",
       "11    4\n",
       "17    4\n",
       "58    3\n",
       "22    3\n",
       "39    2\n",
       "42    2\n",
       "35    2\n",
       "50    2\n",
       "51    2\n",
       "52    2\n",
       "61    2\n",
       "25    2\n",
       "70    2\n",
       "71    2\n",
       "Name: Trap, dtype: int64"
      ]
     },
     "execution_count": 28,
     "metadata": {},
     "output_type": "execute_result"
    }
   ],
   "source": [
    "# 13 Blocks have 3 or more traps\n",
    "readings[readings['Year']==2013]['Trap'].groupby(readings['Block']).nunique().sort_values(ascending=False).head(15)"
   ]
  },
  {
   "cell_type": "markdown",
   "metadata": {},
   "source": [
    "## Bar Charts by Year and Month"
   ]
  },
  {
   "cell_type": "code",
   "execution_count": 29,
   "metadata": {},
   "outputs": [
    {
     "data": {
      "image/png": "[encoded data removed]",
      "text/plain": [
       "<matplotlib.figure.Figure at 0x1a0bdaaa90>"
      ]
     },
     "metadata": {},
     "output_type": "display_data"
    }
   ],
   "source": [
    "# Let's take a look at virus by year.\n",
    "ax = plt.figure(figsize=(8,4))\n",
    "ax=sns.barplot(x='Year', y='Virus', data=readings)\n",
    "ax.set(ylabel='Percentage', xlabel='Year', title='In 2013, almost 10% of readings had the virus!');\n",
    "plt.axhline(y=readings['Virus'].mean(), color='blue');"
   ]
  },
  {
   "cell_type": "code",
   "execution_count": 30,
   "metadata": {},
   "outputs": [
    {
     "data": {
      "image/png": "[encoded data removed]",
      "text/plain": [
       "<matplotlib.figure.Figure at 0x1a0b254e48>"
      ]
     },
     "metadata": {},
     "output_type": "display_data"
    }
   ],
   "source": [
    "# Is the virus the same throughout the year (Just 2013)?\n",
    "ax=sns.barplot(x='DayRunner', y='Virus', data=readings[readings['Year']==2013], ci=None);\n",
    "ax.set(ylabel='Percent with Virus', xlabel='2013')\n",
    "plt.show()"
   ]
  },
  {
   "cell_type": "code",
   "execution_count": 31,
   "metadata": {},
   "outputs": [
    {
     "data": {
      "image/png": "[encoded data removed]",
      "text/plain": [
       "<matplotlib.figure.Figure at 0x1a0bc344a8>"
      ]
     },
     "metadata": {},
     "output_type": "display_data"
    },
    {
     "data": {
      "image/png": "[encoded data removed]",
      "text/plain": [
       "<matplotlib.figure.Figure at 0x1a0bc44400>"
      ]
     },
     "metadata": {},
     "output_type": "display_data"
    },
    {
     "data": {
      "image/png": "[encoded data removed]",
      "text/plain": [
       "<matplotlib.figure.Figure at 0x1a0bdb3cf8>"
      ]
     },
     "metadata": {},
     "output_type": "display_data"
    },
    {
     "data": {
      "image/png": "[encoded data removed]",
      "text/plain": [
       "<matplotlib.figure.Figure at 0x1a0b34c1d0>"
      ]
     },
     "metadata": {},
     "output_type": "display_data"
    }
   ],
   "source": [
    "# Is the virus the same throughout the year? Nope. It peaks in August.\n",
    "ax=sns.barplot(x='Month', y='Virus', data=readings[readings['Year']==2007], ci=None);\n",
    "ax.set(ylabel='Percent with Virus', xlabel='2007')\n",
    "plt.show()\n",
    "ax=sns.barplot(x='Month', y='Virus', data=readings[readings['Year']==2009], ci=None);\n",
    "ax.set(ylabel='Percent with Virus', xlabel='2009')\n",
    "plt.show()\n",
    "ax=sns.barplot(x='Month', y='Virus', data=readings[readings['Year']==2011], ci=None);\n",
    "ax.set(ylabel='Percent with Virus', xlabel='2011')\n",
    "plt.show()\n",
    "ax=sns.barplot(x='Month', y='Virus', data=readings[readings['Year']==2013], ci=None);\n",
    "ax.set(ylabel='Percent with Virus', xlabel='2013')\n",
    "plt.show()"
   ]
  },
  {
   "cell_type": "code",
   "execution_count": 32,
   "metadata": {},
   "outputs": [
    {
     "data": {
      "text/plain": [
       "[Text(0,0.5,'Percent of Traps with Virus'),\n",
       " Text(0.5,0,'Day of the Year (June 1=0)')]"
      ]
     },
     "execution_count": 32,
     "metadata": {},
     "output_type": "execute_result"
    },
    {
     "data": {
      "image/png": "[encoded data removed]",
      "text/plain": [
       "<matplotlib.figure.Figure at 0x1a0cdc8f28>"
      ]
     },
     "metadata": {},
     "output_type": "display_data"
    }
   ],
   "source": [
    "# Plot percent of WNV by day of the year.\n",
    "ax = plt.figure(figsize=(16,4))\n",
    "ax=sns.barplot(x='DayRunner', y='Virus', data=readings, ci=None)\n",
    "import matplotlib.ticker as ticker\n",
    "ax.xaxis.set_major_locator(ticker.MultipleLocator(5))\n",
    "ax.xaxis.set_major_formatter(ticker.ScalarFormatter())\n",
    "ax.set(ylabel='Percent of Traps with Virus', xlabel='Day of the Year (June 1=0)')\n"
   ]
  },
  {
   "cell_type": "markdown",
   "metadata": {},
   "source": [
    "## Species"
   ]
  },
  {
   "cell_type": "code",
   "execution_count": 33,
   "metadata": {},
   "outputs": [
    {
     "data": {
      "text/plain": [
       "CULEX PIPIENS/RESTUANS    4752\n",
       "CULEX RESTUANS            2740\n",
       "CULEX PIPIENS             2699\n",
       "CULEX TERRITANS            222\n",
       "CULEX SALINARIUS            86\n",
       "CULEX TARSALIS               6\n",
       "CULEX ERRATICUS              1\n",
       "Name: Species, dtype: int64"
      ]
     },
     "execution_count": 33,
     "metadata": {},
     "output_type": "execute_result"
    }
   ],
   "source": [
    "## Species of Mosquito\n",
    "readings['Species'].value_counts()"
   ]
  },
  {
   "cell_type": "code",
   "execution_count": 34,
   "metadata": {},
   "outputs": [
    {
     "data": {
      "text/plain": [
       "PIPIENS-RESTUANS    4752\n",
       "RESTUANS            2740\n",
       "PIPIENS             2699\n",
       "ALTER                315\n",
       "Name: CULEX, dtype: int64"
      ]
     },
     "execution_count": 34,
     "metadata": {},
     "output_type": "execute_result"
    }
   ],
   "source": [
    "# Create a binary for everything that not pipiens or restuans\n",
    "readings['CULEX']='ALTER'\n",
    "readings.loc[(readings['Species']=='CULEX PIPIENS/RESTUANS') , 'CULEX']='PIPIENS-RESTUANS'\n",
    "readings.loc[(readings['Species']=='CULEX RESTUANS') , 'CULEX']='RESTUANS'\n",
    "readings.loc[(readings['Species']=='CULEX PIPIENS') , 'CULEX']='PIPIENS'\n",
    "readings['CULEX'].value_counts()"
   ]
  },
  {
   "cell_type": "code",
   "execution_count": 35,
   "metadata": {},
   "outputs": [],
   "source": [
    "# Dummify the Species\n",
    "dummies=pd.get_dummies(readings['CULEX'])\n",
    "readings=pd.concat([readings, dummies], axis=1)"
   ]
  },
  {
   "cell_type": "markdown",
   "metadata": {},
   "source": [
    "## Block"
   ]
  },
  {
   "cell_type": "code",
   "execution_count": 36,
   "metadata": {},
   "outputs": [
    {
     "name": "stdout",
     "output_type": "stream",
     "text": [
      "64\n",
      "52\n",
      "percentage of blocks that are risky: 81.25\n"
     ]
    }
   ],
   "source": [
    "# Make a list of all blocks that have ever tested positive for the virus\n",
    "risky_blocks=readings.groupby('Block').max()\n",
    "risky_blox=list(risky_blocks.loc[risky_blocks['Virus']==1].index)\n",
    "print(readings['Block'].nunique())\n",
    "print(len(risky_blox)) \n",
    "print('percentage of blocks that are risky:', 100*((len(risky_blox))/readings['Block'].nunique()) )"
   ]
  },
  {
   "cell_type": "code",
   "execution_count": 37,
   "metadata": {
    "collapsed": true
   },
   "outputs": [],
   "source": [
    "# Make a 0/1 variable marking these blocks\n",
    "readings['bad_block']=0\n",
    "readings.loc[readings['Block'].isin(risky_blox), 'bad_block']=1"
   ]
  },
  {
   "cell_type": "markdown",
   "metadata": {},
   "source": [
    "## Lat and Long"
   ]
  },
  {
   "cell_type": "code",
   "execution_count": 38,
   "metadata": {},
   "outputs": [
    {
     "name": "stdout",
     "output_type": "stream",
     "text": [
      "count    10506.000000\n",
      "mean        41.841139\n",
      "std          0.112742\n",
      "min         41.644612\n",
      "25%         41.732984\n",
      "50%         41.846283\n",
      "75%         41.954690\n",
      "max         42.017430\n",
      "Name: Latitude, dtype: float64\n",
      "count    10506.000000\n",
      "mean       -87.699908\n",
      "std          0.096514\n",
      "min        -87.930995\n",
      "25%        -87.760070\n",
      "50%        -87.694991\n",
      "75%        -87.627796\n",
      "max        -87.531635\n",
      "Name: Longitude, dtype: float64\n"
     ]
    }
   ],
   "source": [
    "print(readings['Latitude'].describe())\n",
    "print(readings['Longitude'].describe())"
   ]
  },
  {
   "cell_type": "code",
   "execution_count": 39,
   "metadata": {},
   "outputs": [
    {
     "data": {
      "text/html": [
       "<div>\n",
       "<style>\n",
       "    .dataframe thead tr:only-child th {\n",
       "        text-align: right;\n",
       "    }\n",
       "\n",
       "    .dataframe thead th {\n",
       "        text-align: left;\n",
       "    }\n",
       "\n",
       "    .dataframe tbody tr th {\n",
       "        vertical-align: top;\n",
       "    }\n",
       "</style>\n",
       "<table border=\"1\" class=\"dataframe\">\n",
       "  <thead>\n",
       "    <tr style=\"text-align: right;\">\n",
       "      <th></th>\n",
       "      <th>Date</th>\n",
       "      <th>Address</th>\n",
       "      <th>Species</th>\n",
       "      <th>Block</th>\n",
       "      <th>Street</th>\n",
       "      <th>Trap</th>\n",
       "      <th>AddressNumberAndStreet</th>\n",
       "      <th>Latitude</th>\n",
       "      <th>Longitude</th>\n",
       "      <th>AddressAccuracy</th>\n",
       "      <th>...</th>\n",
       "      <th>MonthDay</th>\n",
       "      <th>DayRunner</th>\n",
       "      <th>Virus</th>\n",
       "      <th>CULEX</th>\n",
       "      <th>ALTER</th>\n",
       "      <th>PIPIENS</th>\n",
       "      <th>PIPIENS-RESTUANS</th>\n",
       "      <th>RESTUANS</th>\n",
       "      <th>bad_block</th>\n",
       "      <th>lat_long</th>\n",
       "    </tr>\n",
       "  </thead>\n",
       "  <tbody>\n",
       "    <tr>\n",
       "      <th>0</th>\n",
       "      <td>2007-05-29</td>\n",
       "      <td>4100 North Oak Park Avenue, Chicago, IL 60634,...</td>\n",
       "      <td>CULEX PIPIENS/RESTUANS</td>\n",
       "      <td>41</td>\n",
       "      <td>N OAK PARK AVE</td>\n",
       "      <td>T002</td>\n",
       "      <td>4100  N OAK PARK AVE, Chicago, IL</td>\n",
       "      <td>41.95469</td>\n",
       "      <td>-87.800991</td>\n",
       "      <td>9</td>\n",
       "      <td>...</td>\n",
       "      <td>0529</td>\n",
       "      <td>149</td>\n",
       "      <td>0</td>\n",
       "      <td>PIPIENS-RESTUANS</td>\n",
       "      <td>0</td>\n",
       "      <td>0</td>\n",
       "      <td>1</td>\n",
       "      <td>0</td>\n",
       "      <td>1</td>\n",
       "      <td>(41.95469, -87.800991)</td>\n",
       "    </tr>\n",
       "  </tbody>\n",
       "</table>\n",
       "<p>1 rows × 25 columns</p>\n",
       "</div>"
      ],
      "text/plain": [
       "         Date                                            Address  \\\n",
       "0  2007-05-29  4100 North Oak Park Avenue, Chicago, IL 60634,...   \n",
       "\n",
       "                  Species  Block           Street  Trap  \\\n",
       "0  CULEX PIPIENS/RESTUANS     41   N OAK PARK AVE  T002   \n",
       "\n",
       "              AddressNumberAndStreet  Latitude  Longitude  AddressAccuracy  \\\n",
       "0  4100  N OAK PARK AVE, Chicago, IL  41.95469 -87.800991                9   \n",
       "\n",
       "            ...            MonthDay  DayRunner Virus             CULEX  ALTER  \\\n",
       "0           ...                0529        149     0  PIPIENS-RESTUANS      0   \n",
       "\n",
       "  PIPIENS  PIPIENS-RESTUANS  RESTUANS bad_block                lat_long  \n",
       "0       0                 1         0         1  (41.95469, -87.800991)  \n",
       "\n",
       "[1 rows x 25 columns]"
      ]
     },
     "execution_count": 39,
     "metadata": {},
     "output_type": "execute_result"
    }
   ],
   "source": [
    "# Convert lat-long into a single variable\n",
    "readings['lat_long'] = list(zip(readings['Latitude'], readings['Longitude']))\n",
    "readings.head(1)"
   ]
  },
  {
   "cell_type": "code",
   "execution_count": 40,
   "metadata": {},
   "outputs": [
    {
     "name": "stdout",
     "output_type": "stream",
     "text": [
      "138\n",
      "136\n"
     ]
    }
   ],
   "source": [
    "# Make a list of all lat-long combos that have ever tested positive for the virus\n",
    "latlongs=readings.groupby('lat_long').mean()\n",
    "print(len(latlongs)) # There are 138 unique lat/longs.\n",
    "print(train['Trap'].nunique()) # But there are only 136 unique traps. Huh? Hell, who cares."
   ]
  },
  {
   "cell_type": "code",
   "execution_count": 41,
   "metadata": {},
   "outputs": [
    {
     "name": "stdout",
     "output_type": "stream",
     "text": [
      "                    lat-long    counts\n",
      "131  (41.999129, -87.795585)  0.193548\n",
      "125  (41.990284, -87.797127)  0.166667\n",
      "99   (41.942114, -87.776385)  0.142857\n",
      "134  (42.009876, -87.807277)  0.140000\n",
      "116  (41.970248, -87.787992)  0.133333\n",
      "23   (41.731922, -87.677512)  0.120000\n",
      "114  (41.964242, -87.757639)  0.114754\n",
      "118  (41.974089, -87.824812)  0.114286\n",
      "45   (41.776428, -87.627096)  0.112903\n",
      "96    (41.925652, -87.63359)  0.111111\n",
      "83   (41.904194, -87.756155)  0.107692\n",
      "29   (41.743402, -87.731435)  0.106796\n",
      "136  (42.011601, -87.811506)  0.106061\n",
      "117  (41.973845, -87.805059)  0.103448\n",
      "51   (41.797616, -87.797894)  0.100000\n",
      "107   (41.95469, -87.800991)  0.097297\n",
      "104  (41.951866, -87.725057)  0.096774\n",
      "121  (41.981964, -87.812827)  0.096774\n",
      "94   (41.923738, -87.785288)  0.096154\n",
      "89   (41.918705, -87.752329)  0.095238\n"
     ]
    }
   ],
   "source": [
    "# Certain lat-longs have the virus more frequently. That's useful!\n",
    "hotspots = latlongs['Virus'].rename_axis('lat-long').reset_index(name='counts')\n",
    "top20=hotspots.sort_values(by='counts', ascending=False).head(20)\n",
    "print(top20)\n",
    "top_hots=list(top20['lat-long']) # Save this list for later use."
   ]
  },
  {
   "cell_type": "code",
   "execution_count": 42,
   "metadata": {},
   "outputs": [
    {
     "name": "stdout",
     "output_type": "stream",
     "text": [
      "count    138.000000\n",
      "mean       0.043366\n",
      "std        0.041730\n",
      "min        0.000000\n",
      "25%        0.000000\n",
      "50%        0.036423\n",
      "75%        0.071814\n",
      "max        0.193548\n",
      "Name: counts, dtype: float64\n",
      "5\n"
     ]
    },
    {
     "data": {
      "image/png": "[encoded data removed]",
      "text/plain": [
       "<matplotlib.figure.Figure at 0x1a0b58dc88>"
      ]
     },
     "metadata": {},
     "output_type": "display_data"
    }
   ],
   "source": [
    "# What's the distribution of that? Only 5 are higher than .13\n",
    "print(hotspots['counts'].describe())\n",
    "print(len(hotspots[hotspots['counts']>.13]))\n",
    "sns.distplot(hotspots['counts'], kde=False);"
   ]
  },
  {
   "cell_type": "code",
   "execution_count": 43,
   "metadata": {},
   "outputs": [
    {
     "name": "stdout",
     "output_type": "stream",
     "text": [
      "                    lat-long     counts\n",
      "3    (41.673408, -87.599862)  39.977860\n",
      "10   (41.702724, -87.536497)  36.000000\n",
      "20   (41.726465, -87.585413)  31.643312\n",
      "12   (41.704572, -87.565666)  20.718750\n",
      "119  (41.974689, -87.890615)  20.514667\n",
      "107   (41.95469, -87.800991)  20.054054\n",
      "29   (41.743402, -87.731435)  19.553398\n",
      "133  (42.008314, -87.777921)  19.194245\n",
      "7    (41.686398, -87.531635)  18.933333\n",
      "127  (41.992478, -87.862995)  18.462500\n",
      "6    (41.682587, -87.707973)  17.517007\n",
      "5    (41.680946, -87.535198)  17.072368\n",
      "2    (41.662014, -87.724608)  17.060109\n",
      "108  (41.957799, -87.930995)  16.621429\n",
      "96    (41.925652, -87.63359)  16.111111\n",
      "8    (41.688324, -87.676709)  15.255814\n",
      "1    (41.659112, -87.538693)  15.169643\n",
      "134  (42.009876, -87.807277)  15.160000\n",
      "21   (41.728495, -87.600963)  15.115385\n",
      "121  (41.981964, -87.812827)  14.935484\n"
     ]
    }
   ],
   "source": [
    "# Are there some lat-longs with higher mosquito counts? Yes.\n",
    "countspots = latlongs['NumMosquitos'].rename_axis('lat-long').reset_index(name='counts')\n",
    "top20=countspots.sort_values(by='counts', ascending=False).head(20)\n",
    "print(top20)\n",
    "top_chomps=list(top20['lat-long']) # Save this list for later use."
   ]
  },
  {
   "cell_type": "markdown",
   "metadata": {},
   "source": [
    "## Distance from Virus Hot Spots"
   ]
  },
  {
   "cell_type": "code",
   "execution_count": 44,
   "metadata": {},
   "outputs": [
    {
     "name": "stdout",
     "output_type": "stream",
     "text": [
      "538.3904451566326\n"
     ]
    }
   ],
   "source": [
    "# Here's how to calculate distance in Python.\n",
    "from geopy.distance import vincenty\n",
    "newport_ri = (41.49008, -71.312796)\n",
    "cleveland_oh = (41.499498, -81.695391)\n",
    "print(vincenty(newport_ri, cleveland_oh).miles)"
   ]
  },
  {
   "cell_type": "code",
   "execution_count": 66,
   "metadata": {},
   "outputs": [
    {
     "data": {
      "text/plain": [
       "count    10506.000000\n",
       "mean         0.119075\n",
       "std          0.415093\n",
       "min          0.000000\n",
       "25%          0.000000\n",
       "50%          0.000000\n",
       "75%          0.000000\n",
       "max          3.000000\n",
       "Name: near_hotspot, dtype: float64"
      ]
     },
     "execution_count": 66,
     "metadata": {},
     "output_type": "execute_result"
    }
   ],
   "source": [
    "# For each trap, let's calculate its distance from the 20 hottest virus hotspots\n",
    "for x in range(19):\n",
    "    digit=str(x)\n",
    "    readings[('to_hotspot'+digit)]=readings['lat_long'].apply(lambda row: vincenty(row, top_hots[x]).miles)\n",
    "    \n",
    "    # Create an indicator if a row is less than a mile from one of the virus hotspots\n",
    "    readings['flag_hotspot'+digit]=readings['to_hotspot'+digit].apply(lambda row: row<1).astype(int)\n",
    "    \n",
    "# Summarize those 10 indicators.\n",
    "col_list=['flag_hotspot0',\n",
    "          'flag_hotspot1',\n",
    "          'flag_hotspot2',\n",
    "          'flag_hotspot3',\n",
    "          'flag_hotspot4',\n",
    "          'flag_hotspot6',\n",
    "          'flag_hotspot6',\n",
    "          'flag_hotspot7',\n",
    "          'flag_hotspot8',\n",
    "          'flag_hotspot9',\n",
    "         ]\n",
    "readings['near_hotspot'] = readings[col_list].sum(axis=1)\n",
    "readings['near_hotspot'].describe()"
   ]
  },
  {
   "cell_type": "code",
   "execution_count": 67,
   "metadata": {},
   "outputs": [
    {
     "data": {
      "text/plain": [
       "count    10506.000000\n",
       "mean         0.244717\n",
       "std          0.452170\n",
       "min          0.000000\n",
       "25%          0.000000\n",
       "50%          0.000000\n",
       "75%          0.000000\n",
       "max          2.000000\n",
       "Name: near_chompspot, dtype: float64"
      ]
     },
     "execution_count": 67,
     "metadata": {},
     "output_type": "execute_result"
    }
   ],
   "source": [
    "# Do the same thing for its distance from the 20 spots with highest average mosquito count.\n",
    "for x in range(19):\n",
    "    digit=str(x)\n",
    "    readings[('to_chompspot'+digit)]=readings['lat_long'].apply(lambda row: vincenty(row, top_chomps[x]).miles)   \n",
    "\n",
    "    # Create an indicator if a row is less than a mile from one of the high-mosquito-count chompspots\n",
    "    readings['flag_chompspot'+digit]=readings['to_chompspot'+digit].apply(lambda row: row<1).astype(int)\n",
    "    \n",
    "# Summarize those 10 indicators.\n",
    "col_list=['flag_chompspot0',\n",
    "          'flag_chompspot1',\n",
    "          'flag_chompspot2',\n",
    "          'flag_chompspot3',\n",
    "          'flag_chompspot4',\n",
    "          'flag_chompspot6',\n",
    "          'flag_chompspot6',\n",
    "          'flag_chompspot7',\n",
    "          'flag_chompspot8',\n",
    "          'flag_chompspot9',\n",
    "         ]\n",
    "readings['near_chompspot'] = readings[col_list].sum(axis=1)\n",
    "readings['near_chompspot'].describe()"
   ]
  },
  {
   "cell_type": "markdown",
   "metadata": {},
   "source": [
    "## Export to csv"
   ]
  },
  {
   "cell_type": "code",
   "execution_count": 52,
   "metadata": {},
   "outputs": [
    {
     "data": {
      "text/plain": [
       "Index(['Date', 'Address', 'Species', 'Block', 'Street', 'Trap',\n",
       "       'AddressNumberAndStreet', 'Latitude', 'Longitude', 'AddressAccuracy',\n",
       "       'NumMosquitos', 'WnvPresent', 'Day', 'Month', 'Year', 'MonthDay',\n",
       "       'DayRunner', 'Virus', 'CULEX', 'ALTER', 'PIPIENS', 'PIPIENS-RESTUANS',\n",
       "       'RESTUANS', 'bad_block', 'lat_long', 'to_hotspot0', 'to_hotspot1',\n",
       "       'to_hotspot2', 'to_hotspot3', 'to_hotspot4', 'to_hotspot5',\n",
       "       'to_hotspot6', 'to_hotspot7', 'to_hotspot8', 'to_hotspot9',\n",
       "       'to_chompspot0', 'to_chompspot1', 'to_chompspot2', 'to_chompspot3',\n",
       "       'to_chompspot4', 'to_chompspot5', 'to_chompspot6', 'to_chompspot7',\n",
       "       'to_chompspot8', 'to_chompspot9', 'flag_hotspot0', 'flag_hotspot1',\n",
       "       'flag_hotspot2', 'flag_hotspot3', 'flag_hotspot4', 'flag_hotspot5',\n",
       "       'flag_hotspot6', 'flag_hotspot7', 'flag_hotspot8', 'flag_hotspot9',\n",
       "       'flag_chompspot0', 'flag_chompspot1', 'flag_chompspot2',\n",
       "       'flag_chompspot3', 'flag_chompspot4', 'flag_chompspot5',\n",
       "       'flag_chompspot6', 'flag_chompspot7', 'flag_chompspot8',\n",
       "       'flag_chompspot9', 'near_hotspot', 'near_chompspot', 'spray'],\n",
       "      dtype='object')"
      ]
     },
     "execution_count": 52,
     "metadata": {},
     "output_type": "execute_result"
    }
   ],
   "source": [
    "readings.columns"
   ]
  },
  {
   "cell_type": "code",
   "execution_count": 53,
   "metadata": {},
   "outputs": [],
   "source": [
    "readings=readings.drop(['Trap', 'CULEX',  'WnvPresent', 'Day', 'MonthDay', 'Species',  'bad_block', 'spray'], axis=1)"
   ]
  },
  {
   "cell_type": "code",
   "execution_count": 54,
   "metadata": {
    "collapsed": true
   },
   "outputs": [],
   "source": [
    "# Save the cleaned, engineered data\n",
    "dirname = '../Austin/'\n",
    "readings.to_csv(dirname + 'readings.csv', index=False)"
   ]
  },
  {
   "cell_type": "code",
   "execution_count": 55,
   "metadata": {},
   "outputs": [
    {
     "data": {
      "text/plain": [
       "Index(['Date', 'Address', 'Block', 'Street', 'AddressNumberAndStreet',\n",
       "       'Latitude', 'Longitude', 'AddressAccuracy', 'NumMosquitos', 'Month',\n",
       "       'Year', 'DayRunner', 'Virus', 'ALTER', 'PIPIENS', 'PIPIENS-RESTUANS',\n",
       "       'RESTUANS', 'lat_long', 'to_hotspot0', 'to_hotspot1', 'to_hotspot2',\n",
       "       'to_hotspot3', 'to_hotspot4', 'to_hotspot5', 'to_hotspot6',\n",
       "       'to_hotspot7', 'to_hotspot8', 'to_hotspot9', 'to_chompspot0',\n",
       "       'to_chompspot1', 'to_chompspot2', 'to_chompspot3', 'to_chompspot4',\n",
       "       'to_chompspot5', 'to_chompspot6', 'to_chompspot7', 'to_chompspot8',\n",
       "       'to_chompspot9', 'flag_hotspot0', 'flag_hotspot1', 'flag_hotspot2',\n",
       "       'flag_hotspot3', 'flag_hotspot4', 'flag_hotspot5', 'flag_hotspot6',\n",
       "       'flag_hotspot7', 'flag_hotspot8', 'flag_hotspot9', 'flag_chompspot0',\n",
       "       'flag_chompspot1', 'flag_chompspot2', 'flag_chompspot3',\n",
       "       'flag_chompspot4', 'flag_chompspot5', 'flag_chompspot6',\n",
       "       'flag_chompspot7', 'flag_chompspot8', 'flag_chompspot9', 'near_hotspot',\n",
       "       'near_chompspot'],\n",
       "      dtype='object')"
      ]
     },
     "execution_count": 55,
     "metadata": {},
     "output_type": "execute_result"
    }
   ],
   "source": [
    "readings.columns"
   ]
  },
  {
   "cell_type": "code",
   "execution_count": 56,
   "metadata": {},
   "outputs": [
    {
     "data": {
      "text/html": [
       "<div>\n",
       "<style>\n",
       "    .dataframe thead tr:only-child th {\n",
       "        text-align: right;\n",
       "    }\n",
       "\n",
       "    .dataframe thead th {\n",
       "        text-align: left;\n",
       "    }\n",
       "\n",
       "    .dataframe tbody tr th {\n",
       "        vertical-align: top;\n",
       "    }\n",
       "</style>\n",
       "<table border=\"1\" class=\"dataframe\">\n",
       "  <thead>\n",
       "    <tr style=\"text-align: right;\">\n",
       "      <th></th>\n",
       "      <th>Date</th>\n",
       "      <th>Address</th>\n",
       "      <th>Block</th>\n",
       "      <th>Street</th>\n",
       "      <th>AddressNumberAndStreet</th>\n",
       "      <th>Latitude</th>\n",
       "      <th>Longitude</th>\n",
       "      <th>AddressAccuracy</th>\n",
       "      <th>NumMosquitos</th>\n",
       "      <th>Month</th>\n",
       "      <th>...</th>\n",
       "      <th>flag_chompspot2</th>\n",
       "      <th>flag_chompspot3</th>\n",
       "      <th>flag_chompspot4</th>\n",
       "      <th>flag_chompspot5</th>\n",
       "      <th>flag_chompspot6</th>\n",
       "      <th>flag_chompspot7</th>\n",
       "      <th>flag_chompspot8</th>\n",
       "      <th>flag_chompspot9</th>\n",
       "      <th>near_hotspot</th>\n",
       "      <th>near_chompspot</th>\n",
       "    </tr>\n",
       "  </thead>\n",
       "  <tbody>\n",
       "    <tr>\n",
       "      <th>0</th>\n",
       "      <td>2007-05-29</td>\n",
       "      <td>4100 North Oak Park Avenue, Chicago, IL 60634,...</td>\n",
       "      <td>41</td>\n",
       "      <td>N OAK PARK AVE</td>\n",
       "      <td>4100  N OAK PARK AVE, Chicago, IL</td>\n",
       "      <td>41.95469</td>\n",
       "      <td>-87.800991</td>\n",
       "      <td>9</td>\n",
       "      <td>1</td>\n",
       "      <td>5</td>\n",
       "      <td>...</td>\n",
       "      <td>0</td>\n",
       "      <td>0</td>\n",
       "      <td>0</td>\n",
       "      <td>1</td>\n",
       "      <td>0</td>\n",
       "      <td>0</td>\n",
       "      <td>0</td>\n",
       "      <td>0</td>\n",
       "      <td>0</td>\n",
       "      <td>0</td>\n",
       "    </tr>\n",
       "    <tr>\n",
       "      <th>1</th>\n",
       "      <td>2007-05-29</td>\n",
       "      <td>4100 North Oak Park Avenue, Chicago, IL 60634,...</td>\n",
       "      <td>41</td>\n",
       "      <td>N OAK PARK AVE</td>\n",
       "      <td>4100  N OAK PARK AVE, Chicago, IL</td>\n",
       "      <td>41.95469</td>\n",
       "      <td>-87.800991</td>\n",
       "      <td>9</td>\n",
       "      <td>1</td>\n",
       "      <td>5</td>\n",
       "      <td>...</td>\n",
       "      <td>0</td>\n",
       "      <td>0</td>\n",
       "      <td>0</td>\n",
       "      <td>1</td>\n",
       "      <td>0</td>\n",
       "      <td>0</td>\n",
       "      <td>0</td>\n",
       "      <td>0</td>\n",
       "      <td>0</td>\n",
       "      <td>0</td>\n",
       "    </tr>\n",
       "  </tbody>\n",
       "</table>\n",
       "<p>2 rows × 60 columns</p>\n",
       "</div>"
      ],
      "text/plain": [
       "         Date                                            Address  Block  \\\n",
       "0  2007-05-29  4100 North Oak Park Avenue, Chicago, IL 60634,...     41   \n",
       "1  2007-05-29  4100 North Oak Park Avenue, Chicago, IL 60634,...     41   \n",
       "\n",
       "            Street             AddressNumberAndStreet  Latitude  Longitude  \\\n",
       "0   N OAK PARK AVE  4100  N OAK PARK AVE, Chicago, IL  41.95469 -87.800991   \n",
       "1   N OAK PARK AVE  4100  N OAK PARK AVE, Chicago, IL  41.95469 -87.800991   \n",
       "\n",
       "   AddressAccuracy  NumMosquitos  Month       ...        flag_chompspot2  \\\n",
       "0                9             1      5       ...                      0   \n",
       "1                9             1      5       ...                      0   \n",
       "\n",
       "   flag_chompspot3  flag_chompspot4  flag_chompspot5  flag_chompspot6  \\\n",
       "0                0                0                1                0   \n",
       "1                0                0                1                0   \n",
       "\n",
       "   flag_chompspot7  flag_chompspot8 flag_chompspot9  near_hotspot  \\\n",
       "0                0                0               0             0   \n",
       "1                0                0               0             0   \n",
       "\n",
       "   near_chompspot  \n",
       "0               0  \n",
       "1               0  \n",
       "\n",
       "[2 rows x 60 columns]"
      ]
     },
     "execution_count": 56,
     "metadata": {},
     "output_type": "execute_result"
    }
   ],
   "source": [
    "readings.head(2)"
   ]
  },
  {
   "cell_type": "code",
   "execution_count": null,
   "metadata": {
    "collapsed": true
   },
   "outputs": [],
   "source": []
  }
 ],
 "metadata": {
  "kernelspec": {
   "display_name": "Python [conda env:anaconda3]",
   "language": "python",
   "name": "conda-env-anaconda3-py"
  },
  "language_info": {
   "codemirror_mode": {
    "name": "ipython",
    "version": 3
   },
   "file_extension": ".py",
   "mimetype": "text/x-python",
   "name": "python",
   "nbconvert_exporter": "python",
   "pygments_lexer": "ipython3",
   "version": "3.6.3"
  }
 },
 "nbformat": 4,
 "nbformat_minor": 1
}
