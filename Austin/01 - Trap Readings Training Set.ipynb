{
 "cells": [
  {
   "cell_type": "code",
   "execution_count": 1,
   "metadata": {},
   "outputs": [
    {
     "data": {
      "application/javascript": [
       "$('.nbp-app-bar').toggle()"
      ],
      "text/plain": [
       "<IPython.core.display.Javascript object>"
      ]
     },
     "metadata": {},
     "output_type": "display_data"
    }
   ],
   "source": [
    "%%javascript\n",
    "$('.nbp-app-bar').toggle()"
   ]
  },
  {
   "cell_type": "code",
   "execution_count": 2,
   "metadata": {
    "collapsed": true
   },
   "outputs": [],
   "source": [
    "import numpy as np\n",
    "import pandas as pd\n",
    "import seaborn as sns\n",
    "import matplotlib.pyplot as plt\n",
    "%matplotlib inline"
   ]
  },
  {
   "cell_type": "markdown",
   "metadata": {},
   "source": [
    "## Read in the Dataset"
   ]
  },
  {
   "cell_type": "code",
   "execution_count": 3,
   "metadata": {},
   "outputs": [],
   "source": [
    "path = '../kaggle_data/input/'\n",
    "readings = pd.read_csv(path+'train.csv')"
   ]
  },
  {
   "cell_type": "code",
   "execution_count": 4,
   "metadata": {},
   "outputs": [
    {
     "name": "stdout",
     "output_type": "stream",
     "text": [
      "(10506, 12)\n"
     ]
    },
    {
     "data": {
      "text/plain": [
       "Index(['Date', 'Address', 'Species', 'Block', 'Street', 'Trap',\n",
       "       'AddressNumberAndStreet', 'Latitude', 'Longitude', 'AddressAccuracy',\n",
       "       'NumMosquitos', 'WnvPresent'],\n",
       "      dtype='object')"
      ]
     },
     "execution_count": 4,
     "metadata": {},
     "output_type": "execute_result"
    }
   ],
   "source": [
    "# How large is our training dataset?\n",
    "print(readings.shape) \n",
    "readings.columns "
   ]
  },
  {
   "cell_type": "code",
   "execution_count": 5,
   "metadata": {},
   "outputs": [
    {
     "data": {
      "text/html": [
       "<div>\n",
       "<style>\n",
       "    .dataframe thead tr:only-child th {\n",
       "        text-align: right;\n",
       "    }\n",
       "\n",
       "    .dataframe thead th {\n",
       "        text-align: left;\n",
       "    }\n",
       "\n",
       "    .dataframe tbody tr th {\n",
       "        vertical-align: top;\n",
       "    }\n",
       "</style>\n",
       "<table border=\"1\" class=\"dataframe\">\n",
       "  <thead>\n",
       "    <tr style=\"text-align: right;\">\n",
       "      <th></th>\n",
       "      <th></th>\n",
       "      <th></th>\n",
       "      <th>NumMosquitos</th>\n",
       "      <th>WnvPresent</th>\n",
       "    </tr>\n",
       "    <tr>\n",
       "      <th>Date</th>\n",
       "      <th>Trap</th>\n",
       "      <th>Species</th>\n",
       "      <th></th>\n",
       "      <th></th>\n",
       "    </tr>\n",
       "  </thead>\n",
       "  <tbody>\n",
       "    <tr>\n",
       "      <th>2007-08-16</th>\n",
       "      <th>T115</th>\n",
       "      <th>CULEX PIPIENS</th>\n",
       "      <td>2532</td>\n",
       "      <td>10</td>\n",
       "    </tr>\n",
       "    <tr>\n",
       "      <th>2013-08-01</th>\n",
       "      <th>T900</th>\n",
       "      <th>CULEX PIPIENS/RESTUANS</th>\n",
       "      <td>984</td>\n",
       "      <td>9</td>\n",
       "    </tr>\n",
       "    <tr>\n",
       "      <th>2013-08-29</th>\n",
       "      <th>T900</th>\n",
       "      <th>CULEX PIPIENS</th>\n",
       "      <td>281</td>\n",
       "      <td>8</td>\n",
       "    </tr>\n",
       "    <tr>\n",
       "      <th rowspan=\"2\" valign=\"top\">2007-08-22</th>\n",
       "      <th>T115</th>\n",
       "      <th>CULEX PIPIENS</th>\n",
       "      <td>1554</td>\n",
       "      <td>7</td>\n",
       "    </tr>\n",
       "    <tr>\n",
       "      <th>T138</th>\n",
       "      <th>CULEX PIPIENS</th>\n",
       "      <td>1054</td>\n",
       "      <td>6</td>\n",
       "    </tr>\n",
       "  </tbody>\n",
       "</table>\n",
       "</div>"
      ],
      "text/plain": [
       "                                        NumMosquitos  WnvPresent\n",
       "Date       Trap Species                                         \n",
       "2007-08-16 T115 CULEX PIPIENS                   2532          10\n",
       "2013-08-01 T900 CULEX PIPIENS/RESTUANS           984           9\n",
       "2013-08-29 T900 CULEX PIPIENS                    281           8\n",
       "2007-08-22 T115 CULEX PIPIENS                   1554           7\n",
       "           T138 CULEX PIPIENS                   1054           6"
      ]
     },
     "execution_count": 5,
     "metadata": {},
     "output_type": "execute_result"
    }
   ],
   "source": [
    "# Individual daily trap readings are combination of date, trap, and species. Readings with > 50 mosquitos are split.\n",
    "subset=readings[['NumMosquitos','Date', 'Trap', 'Species', 'WnvPresent']]\n",
    "subset.groupby(['Date', 'Trap', 'Species']).sum().sort_values(['WnvPresent'], ascending=False).head()"
   ]
  },
  {
   "cell_type": "markdown",
   "metadata": {},
   "source": [
    "## Outcome Variable"
   ]
  },
  {
   "cell_type": "code",
   "execution_count": 6,
   "metadata": {
    "collapsed": true
   },
   "outputs": [],
   "source": [
    "# Rename the outcome variable\n",
    "readings.rename(columns={'WnvPresent':'Virus'}, inplace=True)"
   ]
  },
  {
   "cell_type": "code",
   "execution_count": 7,
   "metadata": {},
   "outputs": [
    {
     "data": {
      "image/png": "[encoded data removed]",
      "text/plain": [
       "<matplotlib.figure.Figure at 0x1a0f22eeb8>"
      ]
     },
     "metadata": {},
     "output_type": "display_data"
    }
   ],
   "source": [
    "# It is highly imbalanced.\n",
    "ax=sns.distplot(readings['Virus'], kde=None);\n",
    "import matplotlib.ticker as ticker\n",
    "ax.xaxis.set_major_locator(ticker.MultipleLocator(1))\n",
    "ax.xaxis.set_major_formatter(ticker.ScalarFormatter())\n",
    "ax.set(title='West Nile Virus', ylabel='Number of Trap Readings with Virus', xlabel='Is the virus present?');"
   ]
  },
  {
   "cell_type": "markdown",
   "metadata": {},
   "source": [
    "## Organize the `date` variable"
   ]
  },
  {
   "cell_type": "code",
   "execution_count": 8,
   "metadata": {},
   "outputs": [
    {
     "data": {
      "text/html": [
       "<div>\n",
       "<style>\n",
       "    .dataframe thead tr:only-child th {\n",
       "        text-align: right;\n",
       "    }\n",
       "\n",
       "    .dataframe thead th {\n",
       "        text-align: left;\n",
       "    }\n",
       "\n",
       "    .dataframe tbody tr th {\n",
       "        vertical-align: top;\n",
       "    }\n",
       "</style>\n",
       "<table border=\"1\" class=\"dataframe\">\n",
       "  <thead>\n",
       "    <tr style=\"text-align: right;\">\n",
       "      <th></th>\n",
       "      <th>Date</th>\n",
       "      <th>Year</th>\n",
       "      <th>Month</th>\n",
       "      <th>Day</th>\n",
       "      <th>MonthDay</th>\n",
       "    </tr>\n",
       "  </thead>\n",
       "  <tbody>\n",
       "    <tr>\n",
       "      <th>0</th>\n",
       "      <td>2007-05-29</td>\n",
       "      <td>2007</td>\n",
       "      <td>05</td>\n",
       "      <td>29</td>\n",
       "      <td>0529</td>\n",
       "    </tr>\n",
       "    <tr>\n",
       "      <th>1</th>\n",
       "      <td>2007-05-29</td>\n",
       "      <td>2007</td>\n",
       "      <td>05</td>\n",
       "      <td>29</td>\n",
       "      <td>0529</td>\n",
       "    </tr>\n",
       "    <tr>\n",
       "      <th>2</th>\n",
       "      <td>2007-05-29</td>\n",
       "      <td>2007</td>\n",
       "      <td>05</td>\n",
       "      <td>29</td>\n",
       "      <td>0529</td>\n",
       "    </tr>\n",
       "    <tr>\n",
       "      <th>3</th>\n",
       "      <td>2007-05-29</td>\n",
       "      <td>2007</td>\n",
       "      <td>05</td>\n",
       "      <td>29</td>\n",
       "      <td>0529</td>\n",
       "    </tr>\n",
       "    <tr>\n",
       "      <th>4</th>\n",
       "      <td>2007-05-29</td>\n",
       "      <td>2007</td>\n",
       "      <td>05</td>\n",
       "      <td>29</td>\n",
       "      <td>0529</td>\n",
       "    </tr>\n",
       "  </tbody>\n",
       "</table>\n",
       "</div>"
      ],
      "text/plain": [
       "         Date  Year Month Day MonthDay\n",
       "0  2007-05-29  2007    05  29     0529\n",
       "1  2007-05-29  2007    05  29     0529\n",
       "2  2007-05-29  2007    05  29     0529\n",
       "3  2007-05-29  2007    05  29     0529\n",
       "4  2007-05-29  2007    05  29     0529"
      ]
     },
     "execution_count": 8,
     "metadata": {},
     "output_type": "execute_result"
    }
   ],
   "source": [
    "# Let's convert date/time into something usable. \n",
    "readings['Day']=readings['Date'].str.split('-').str[-1].astype(str)\n",
    "readings['Month']=readings['Date'].str.split('-').str[1].astype(str)\n",
    "readings['Year']=readings['Date'].str.split('-').str[0].astype(int)\n",
    "readings['MonthDay']=readings['Month'].astype(str) + readings['Day'].astype(str)\n",
    "readings[['Date', 'Year', 'Month','Day', 'MonthDay']].head()"
   ]
  },
  {
   "cell_type": "code",
   "execution_count": 9,
   "metadata": {},
   "outputs": [
    {
     "name": "stdout",
     "output_type": "stream",
     "text": [
      "count    10506.000000\n",
      "mean       217.941938\n",
      "std         31.735797\n",
      "min        148.000000\n",
      "25%        196.000000\n",
      "50%        217.000000\n",
      "75%        241.000000\n",
      "max        282.000000\n",
      "Name: DayRunner, dtype: float64\n"
     ]
    },
    {
     "data": {
      "text/html": [
       "<div>\n",
       "<style>\n",
       "    .dataframe thead tr:only-child th {\n",
       "        text-align: right;\n",
       "    }\n",
       "\n",
       "    .dataframe thead th {\n",
       "        text-align: left;\n",
       "    }\n",
       "\n",
       "    .dataframe tbody tr th {\n",
       "        vertical-align: top;\n",
       "    }\n",
       "</style>\n",
       "<table border=\"1\" class=\"dataframe\">\n",
       "  <thead>\n",
       "    <tr style=\"text-align: right;\">\n",
       "      <th></th>\n",
       "      <th>DayRunner</th>\n",
       "      <th>MonthDay</th>\n",
       "      <th>Month</th>\n",
       "      <th>Day</th>\n",
       "    </tr>\n",
       "  </thead>\n",
       "  <tbody>\n",
       "    <tr>\n",
       "      <th>0</th>\n",
       "      <td>149</td>\n",
       "      <td>0529</td>\n",
       "      <td>05</td>\n",
       "      <td>29</td>\n",
       "    </tr>\n",
       "    <tr>\n",
       "      <th>1</th>\n",
       "      <td>149</td>\n",
       "      <td>0529</td>\n",
       "      <td>05</td>\n",
       "      <td>29</td>\n",
       "    </tr>\n",
       "    <tr>\n",
       "      <th>2</th>\n",
       "      <td>149</td>\n",
       "      <td>0529</td>\n",
       "      <td>05</td>\n",
       "      <td>29</td>\n",
       "    </tr>\n",
       "    <tr>\n",
       "      <th>3</th>\n",
       "      <td>149</td>\n",
       "      <td>0529</td>\n",
       "      <td>05</td>\n",
       "      <td>29</td>\n",
       "    </tr>\n",
       "    <tr>\n",
       "      <th>4</th>\n",
       "      <td>149</td>\n",
       "      <td>0529</td>\n",
       "      <td>05</td>\n",
       "      <td>29</td>\n",
       "    </tr>\n",
       "  </tbody>\n",
       "</table>\n",
       "</div>"
      ],
      "text/plain": [
       "   DayRunner MonthDay Month Day\n",
       "0        149     0529    05  29\n",
       "1        149     0529    05  29\n",
       "2        149     0529    05  29\n",
       "3        149     0529    05  29\n",
       "4        149     0529    05  29"
      ]
     },
     "execution_count": 9,
     "metadata": {},
     "output_type": "execute_result"
    }
   ],
   "source": [
    "# Let's create a running count of days within the year:\n",
    "readings['DayRunner']=pd.to_datetime(readings['Date']).dt.dayofyear\n",
    "print(readings['DayRunner'].describe())\n",
    "readings[['DayRunner', 'MonthDay', 'Month', 'Day']].head()"
   ]
  },
  {
   "cell_type": "code",
   "execution_count": 10,
   "metadata": {},
   "outputs": [
    {
     "data": {
      "image/png": "[encoded data removed]",
      "text/plain": [
       "<matplotlib.figure.Figure at 0x1a0f22e320>"
      ]
     },
     "metadata": {},
     "output_type": "display_data"
    }
   ],
   "source": [
    "# Let's visualize that dayrunner variable for just one year (2007)\n",
    "readings[readings['Year']==2007]['DayRunner'].hist();"
   ]
  },
  {
   "cell_type": "code",
   "execution_count": 11,
   "metadata": {},
   "outputs": [
    {
     "data": {
      "text/plain": [
       "5       84\n",
       "6     1571\n",
       "7     2606\n",
       "8     3751\n",
       "9     2218\n",
       "10     276\n",
       "Name: Month, dtype: int64"
      ]
     },
     "execution_count": 11,
     "metadata": {},
     "output_type": "execute_result"
    }
   ],
   "source": [
    "# How many months are there? Six, ranging from May to October.\n",
    "readings['Month']=readings['Month'].astype(int)\n",
    "readings['Month'].value_counts().sort_index()"
   ]
  },
  {
   "cell_type": "code",
   "execution_count": 12,
   "metadata": {},
   "outputs": [
    {
     "data": {
      "text/plain": [
       "2007    3811\n",
       "2013    2392\n",
       "2009    2249\n",
       "2011    2054\n",
       "Name: Year, dtype: int64"
      ]
     },
     "execution_count": 12,
     "metadata": {},
     "output_type": "execute_result"
    }
   ],
   "source": [
    "# How many years are we talking about? Just 4 of them.\n",
    "readings['Year'].value_counts()"
   ]
  },
  {
   "cell_type": "code",
   "execution_count": 13,
   "metadata": {},
   "outputs": [
    {
     "name": "stdout",
     "output_type": "stream",
     "text": [
      "Year  Virus\n",
      "2007  0        3575\n",
      "      1         236\n",
      "2009  0        2230\n",
      "      1          19\n",
      "2011  0        1997\n",
      "      1          57\n",
      "2013  0        2153\n",
      "      1         239\n",
      "Name: Virus, dtype: int64\n"
     ]
    }
   ],
   "source": [
    "# Is the virus about the same across the four years?\n",
    "x=readings['Virus'].groupby(readings['Year']).value_counts()\n",
    "print(x)"
   ]
  },
  {
   "cell_type": "code",
   "execution_count": 14,
   "metadata": {},
   "outputs": [],
   "source": [
    "# Drop the variables we no longer need\n",
    "readings.columns\n",
    "readings=readings.drop(['Day', 'MonthDay'], axis=1)"
   ]
  },
  {
   "cell_type": "markdown",
   "metadata": {},
   "source": [
    "## Species"
   ]
  },
  {
   "cell_type": "code",
   "execution_count": 15,
   "metadata": {},
   "outputs": [
    {
     "data": {
      "text/plain": [
       "CULEX PIPIENS/RESTUANS    4752\n",
       "CULEX RESTUANS            2740\n",
       "CULEX PIPIENS             2699\n",
       "CULEX TERRITANS            222\n",
       "CULEX SALINARIUS            86\n",
       "CULEX TARSALIS               6\n",
       "CULEX ERRATICUS              1\n",
       "Name: Species, dtype: int64"
      ]
     },
     "execution_count": 15,
     "metadata": {},
     "output_type": "execute_result"
    }
   ],
   "source": [
    "## Species of Mosquito\n",
    "readings['Species'].value_counts()"
   ]
  },
  {
   "cell_type": "code",
   "execution_count": 16,
   "metadata": {},
   "outputs": [
    {
     "data": {
      "text/plain": [
       "PIPIENS-RESTUANS    4752\n",
       "RESTUANS            2740\n",
       "PIPIENS             2699\n",
       "ALTER                315\n",
       "Name: CULEX, dtype: int64"
      ]
     },
     "execution_count": 16,
     "metadata": {},
     "output_type": "execute_result"
    }
   ],
   "source": [
    "# Reduce this categorical variable to just 4 categories\n",
    "readings['CULEX']='ALTER'\n",
    "readings.loc[(readings['Species']=='CULEX PIPIENS/RESTUANS') , 'CULEX']='PIPIENS-RESTUANS'\n",
    "readings.loc[(readings['Species']=='CULEX RESTUANS') , 'CULEX']='RESTUANS'\n",
    "readings.loc[(readings['Species']=='CULEX PIPIENS') , 'CULEX']='PIPIENS'\n",
    "readings['CULEX'].value_counts()"
   ]
  },
  {
   "cell_type": "code",
   "execution_count": 17,
   "metadata": {
    "collapsed": true
   },
   "outputs": [],
   "source": [
    "# Convert those 4 categories into dummy variables for modeling later on.\n",
    "dummies=pd.get_dummies(readings['CULEX'])\n",
    "readings=pd.concat([readings, dummies], axis=1)"
   ]
  },
  {
   "cell_type": "code",
   "execution_count": 18,
   "metadata": {},
   "outputs": [],
   "source": [
    "# Drop the unnecessary variables\n",
    "readings=readings.drop(['CULEX', 'Species'], axis=1)"
   ]
  },
  {
   "cell_type": "markdown",
   "metadata": {},
   "source": [
    "## Lat and Long"
   ]
  },
  {
   "cell_type": "code",
   "execution_count": 19,
   "metadata": {},
   "outputs": [
    {
     "name": "stdout",
     "output_type": "stream",
     "text": [
      "0\n",
      "0\n"
     ]
    }
   ],
   "source": [
    "# Any missing values?\n",
    "print(readings['Latitude'].isnull().sum())\n",
    "print(readings['Longitude'].isnull().sum())"
   ]
  },
  {
   "cell_type": "code",
   "execution_count": 20,
   "metadata": {},
   "outputs": [
    {
     "name": "stdout",
     "output_type": "stream",
     "text": [
      "count    10506.000000\n",
      "mean        41.841139\n",
      "std          0.112742\n",
      "min         41.644612\n",
      "25%         41.732984\n",
      "50%         41.846283\n",
      "75%         41.954690\n",
      "max         42.017430\n",
      "Name: Latitude, dtype: float64\n",
      "count    10506.000000\n",
      "mean       -87.699908\n",
      "std          0.096514\n",
      "min        -87.930995\n",
      "25%        -87.760070\n",
      "50%        -87.694991\n",
      "75%        -87.627796\n",
      "max        -87.531635\n",
      "Name: Longitude, dtype: float64\n"
     ]
    }
   ],
   "source": [
    "# Let's take a look at these to make sure there are no weird values or outliers.\n",
    "print(readings['Latitude'].describe())\n",
    "print(readings['Longitude'].describe())"
   ]
  },
  {
   "cell_type": "code",
   "execution_count": 21,
   "metadata": {},
   "outputs": [
    {
     "data": {
      "text/html": [
       "<div>\n",
       "<style>\n",
       "    .dataframe thead tr:only-child th {\n",
       "        text-align: right;\n",
       "    }\n",
       "\n",
       "    .dataframe thead th {\n",
       "        text-align: left;\n",
       "    }\n",
       "\n",
       "    .dataframe tbody tr th {\n",
       "        vertical-align: top;\n",
       "    }\n",
       "</style>\n",
       "<table border=\"1\" class=\"dataframe\">\n",
       "  <thead>\n",
       "    <tr style=\"text-align: right;\">\n",
       "      <th></th>\n",
       "      <th>Date</th>\n",
       "      <th>Address</th>\n",
       "      <th>Block</th>\n",
       "      <th>Street</th>\n",
       "      <th>Trap</th>\n",
       "      <th>AddressNumberAndStreet</th>\n",
       "      <th>Latitude</th>\n",
       "      <th>Longitude</th>\n",
       "      <th>AddressAccuracy</th>\n",
       "      <th>NumMosquitos</th>\n",
       "      <th>Virus</th>\n",
       "      <th>Month</th>\n",
       "      <th>Year</th>\n",
       "      <th>DayRunner</th>\n",
       "      <th>ALTER</th>\n",
       "      <th>PIPIENS</th>\n",
       "      <th>PIPIENS-RESTUANS</th>\n",
       "      <th>RESTUANS</th>\n",
       "      <th>lat_long</th>\n",
       "    </tr>\n",
       "  </thead>\n",
       "  <tbody>\n",
       "    <tr>\n",
       "      <th>0</th>\n",
       "      <td>2007-05-29</td>\n",
       "      <td>4100 North Oak Park Avenue, Chicago, IL 60634,...</td>\n",
       "      <td>41</td>\n",
       "      <td>N OAK PARK AVE</td>\n",
       "      <td>T002</td>\n",
       "      <td>4100  N OAK PARK AVE, Chicago, IL</td>\n",
       "      <td>41.95469</td>\n",
       "      <td>-87.800991</td>\n",
       "      <td>9</td>\n",
       "      <td>1</td>\n",
       "      <td>0</td>\n",
       "      <td>5</td>\n",
       "      <td>2007</td>\n",
       "      <td>149</td>\n",
       "      <td>0</td>\n",
       "      <td>0</td>\n",
       "      <td>1</td>\n",
       "      <td>0</td>\n",
       "      <td>(41.95469, -87.800991)</td>\n",
       "    </tr>\n",
       "  </tbody>\n",
       "</table>\n",
       "</div>"
      ],
      "text/plain": [
       "         Date                                            Address  Block  \\\n",
       "0  2007-05-29  4100 North Oak Park Avenue, Chicago, IL 60634,...     41   \n",
       "\n",
       "            Street  Trap             AddressNumberAndStreet  Latitude  \\\n",
       "0   N OAK PARK AVE  T002  4100  N OAK PARK AVE, Chicago, IL  41.95469   \n",
       "\n",
       "   Longitude  AddressAccuracy  NumMosquitos  Virus  Month  Year  DayRunner  \\\n",
       "0 -87.800991                9             1      0      5  2007        149   \n",
       "\n",
       "   ALTER  PIPIENS  PIPIENS-RESTUANS  RESTUANS                lat_long  \n",
       "0      0        0                 1         0  (41.95469, -87.800991)  "
      ]
     },
     "execution_count": 21,
     "metadata": {},
     "output_type": "execute_result"
    }
   ],
   "source": [
    "# Convert lat-long into a single variable\n",
    "readings['lat_long'] = list(zip(readings['Latitude'], readings['Longitude']))\n",
    "readings.head(1)"
   ]
  },
  {
   "cell_type": "code",
   "execution_count": 22,
   "metadata": {},
   "outputs": [
    {
     "name": "stdout",
     "output_type": "stream",
     "text": [
      "138\n",
      "136\n"
     ]
    }
   ],
   "source": [
    "# How many of all the lat-long combos have ever tested positive for the virus?\n",
    "latlongs=readings.groupby('lat_long').mean()\n",
    "print(len(latlongs)) # There are 138 unique lat/longs.\n",
    "print(readings['Trap'].nunique()) # But there are only 136 unique traps. Doesn't matter: not using this var directly."
   ]
  },
  {
   "cell_type": "markdown",
   "metadata": {},
   "source": [
    "## Mapping Hot Spots where the Virus is more frequent"
   ]
  },
  {
   "cell_type": "code",
   "execution_count": 23,
   "metadata": {},
   "outputs": [
    {
     "name": "stdout",
     "output_type": "stream",
     "text": [
      "                    lat-long    counts\n",
      "131  (41.999129, -87.795585)  0.193548\n",
      "125  (41.990284, -87.797127)  0.166667\n",
      "99   (41.942114, -87.776385)  0.142857\n",
      "134  (42.009876, -87.807277)  0.140000\n",
      "116  (41.970248, -87.787992)  0.133333\n",
      "23   (41.731922, -87.677512)  0.120000\n",
      "114  (41.964242, -87.757639)  0.114754\n",
      "118  (41.974089, -87.824812)  0.114286\n",
      "45   (41.776428, -87.627096)  0.112903\n",
      "96    (41.925652, -87.63359)  0.111111\n",
      "83   (41.904194, -87.756155)  0.107692\n",
      "29   (41.743402, -87.731435)  0.106796\n",
      "136  (42.011601, -87.811506)  0.106061\n",
      "117  (41.973845, -87.805059)  0.103448\n",
      "51   (41.797616, -87.797894)  0.100000\n",
      "107   (41.95469, -87.800991)  0.097297\n",
      "104  (41.951866, -87.725057)  0.096774\n",
      "121  (41.981964, -87.812827)  0.096774\n",
      "94   (41.923738, -87.785288)  0.096154\n",
      "89   (41.918705, -87.752329)  0.095238\n",
      "124   (41.98728, -87.666066)  0.095238\n",
      "8    (41.688324, -87.676709)  0.093023\n",
      "22   (41.729669, -87.582699)  0.090909\n",
      "119  (41.974689, -87.890615)  0.088000\n",
      "92     (41.9216, -87.666455)  0.085714\n",
      "100  (41.944869, -87.832763)  0.082707\n",
      "57   (41.803423, -87.642984)  0.081633\n",
      "1    (41.659112, -87.538693)  0.080357\n",
      "55   (41.801179, -87.679447)  0.077670\n",
      "123  (41.986921, -87.689778)  0.076923\n"
     ]
    }
   ],
   "source": [
    "# Certain lat-longs have the virus more frequently. That's useful!\n",
    "hotspots = latlongs['Virus'].rename_axis('lat-long').reset_index(name='counts')\n",
    "top30=hotspots.sort_values(by='counts', ascending=False).head(30)\n",
    "print(top30)\n",
    "top_hots=list(top30['lat-long']) # Save this list for later use.\n",
    "import pickle\n",
    "\n",
    "with open('top_hots.pickle', 'wb') as f:\n",
    "    pickle.dump(top_hots, f, protocol=0)"
   ]
  },
  {
   "cell_type": "code",
   "execution_count": 24,
   "metadata": {},
   "outputs": [
    {
     "name": "stdout",
     "output_type": "stream",
     "text": [
      "count    138.000000\n",
      "mean       0.043366\n",
      "std        0.041730\n",
      "min        0.000000\n",
      "25%        0.000000\n",
      "50%        0.036423\n",
      "75%        0.071814\n",
      "max        0.193548\n",
      "Name: counts, dtype: float64\n",
      "5\n"
     ]
    },
    {
     "data": {
      "image/png": "[encoded data removed]",
      "text/plain": [
       "<matplotlib.figure.Figure at 0x1a1828e400>"
      ]
     },
     "metadata": {},
     "output_type": "display_data"
    }
   ],
   "source": [
    "# What's the distribution of those? Only 5 have a virus frequency higher than 13%.\n",
    "print(hotspots['counts'].describe())\n",
    "print(len(hotspots[hotspots['counts']>.13]))\n",
    "ax=sns.distplot(hotspots['counts'], kde=False);\n",
    "plt.axvline(x=hotspots['counts'].mean(), color='red');\n",
    "plt.axvline(x=.13, color='green');"
   ]
  },
  {
   "cell_type": "markdown",
   "metadata": {},
   "source": [
    "## Distance from Spots with a High Virus Frequency"
   ]
  },
  {
   "cell_type": "code",
   "execution_count": 25,
   "metadata": {},
   "outputs": [
    {
     "name": "stdout",
     "output_type": "stream",
     "text": [
      "538.3904451566326\n"
     ]
    }
   ],
   "source": [
    "# Here's how to calculate distance in Python.\n",
    "from geopy.distance import vincenty\n",
    "newport_ri = (41.49008, -71.312796)\n",
    "cleveland_oh = (41.499498, -81.695391)\n",
    "print(vincenty(newport_ri, cleveland_oh).miles)"
   ]
  },
  {
   "cell_type": "code",
   "execution_count": 26,
   "metadata": {},
   "outputs": [
    {
     "data": {
      "text/plain": [
       "count    10506.000000\n",
       "mean         1.332191\n",
       "std          1.588172\n",
       "min          0.000000\n",
       "25%          0.000000\n",
       "50%          1.000000\n",
       "75%          2.000000\n",
       "max          8.000000\n",
       "Name: near_hotspot, dtype: float64"
      ]
     },
     "execution_count": 26,
     "metadata": {},
     "output_type": "execute_result"
    }
   ],
   "source": [
    "# For each trap, let's calculate its distance from the top virus hotspots\n",
    "for x in range(30):\n",
    "    digit=str(x)\n",
    "    readings['to_hotspot'+digit]=readings['lat_long'].apply(lambda row: vincenty(row, top_hots[x]).miles)\n",
    "    \n",
    "    # Create an indicator if a row is less than 2 miles from one of the virus hotspots\n",
    "    readings['flag_hotspot'+digit]=readings['to_hotspot'+digit].apply(lambda row: row<2).astype(int)\n",
    "    \n",
    "# Summarize those indicators.\n",
    "hot_list=['flag_hotspot0',\n",
    "          'flag_hotspot1',\n",
    "          'flag_hotspot2',\n",
    "          'flag_hotspot3',\n",
    "          'flag_hotspot4',\n",
    "          'flag_hotspot6',\n",
    "          'flag_hotspot6',\n",
    "          'flag_hotspot7',\n",
    "          'flag_hotspot8',\n",
    "          'flag_hotspot9',\n",
    "          'flag_hotspot10',\n",
    "          'flag_hotspot11',\n",
    "          'flag_hotspot12',\n",
    "          'flag_hotspot13',\n",
    "          'flag_hotspot14',\n",
    "          'flag_hotspot16',\n",
    "          'flag_hotspot16',\n",
    "          'flag_hotspot17',\n",
    "          'flag_hotspot18',\n",
    "          'flag_hotspot19',\n",
    "          'flag_hotspot20',\n",
    "          'flag_hotspot21',\n",
    "          'flag_hotspot22',\n",
    "          'flag_hotspot23',\n",
    "          'flag_hotspot24',\n",
    "          'flag_hotspot26',\n",
    "          'flag_hotspot26',\n",
    "          'flag_hotspot27',\n",
    "          'flag_hotspot28',\n",
    "          'flag_hotspot29',\n",
    "         ]\n",
    "readings['near_hotspot'] = readings[hot_list].sum(axis=1)\n",
    "readings['near_hotspot'].describe()"
   ]
  },
  {
   "cell_type": "markdown",
   "metadata": {},
   "source": [
    "## Mapping Distance from Spots with a High Number of Mosquitos"
   ]
  },
  {
   "cell_type": "code",
   "execution_count": 27,
   "metadata": {},
   "outputs": [
    {
     "name": "stdout",
     "output_type": "stream",
     "text": [
      "                    lat-long     counts\n",
      "3    (41.673408, -87.599862)  39.977860\n",
      "10   (41.702724, -87.536497)  36.000000\n",
      "20   (41.726465, -87.585413)  31.643312\n",
      "12   (41.704572, -87.565666)  20.718750\n",
      "119  (41.974689, -87.890615)  20.514667\n",
      "107   (41.95469, -87.800991)  20.054054\n",
      "29   (41.743402, -87.731435)  19.553398\n",
      "133  (42.008314, -87.777921)  19.194245\n",
      "7    (41.686398, -87.531635)  18.933333\n",
      "127  (41.992478, -87.862995)  18.462500\n",
      "6    (41.682587, -87.707973)  17.517007\n",
      "5    (41.680946, -87.535198)  17.072368\n",
      "2    (41.662014, -87.724608)  17.060109\n",
      "108  (41.957799, -87.930995)  16.621429\n",
      "96    (41.925652, -87.63359)  16.111111\n",
      "8    (41.688324, -87.676709)  15.255814\n",
      "1    (41.659112, -87.538693)  15.169643\n",
      "134  (42.009876, -87.807277)  15.160000\n",
      "21   (41.728495, -87.600963)  15.115385\n",
      "121  (41.981964, -87.812827)  14.935484\n",
      "117  (41.973845, -87.805059)  14.724138\n",
      "52   (41.798697, -87.736812)  14.601351\n",
      "81    (41.89923, -87.716788)  14.301587\n",
      "136  (42.011601, -87.811506)  12.833333\n",
      "88   (41.916265, -87.800515)  12.621795\n",
      "124   (41.98728, -87.666066)  12.404762\n",
      "24   (41.732984, -87.649642)  12.351351\n",
      "71   (41.867108, -87.654224)  12.301370\n",
      "116  (41.970248, -87.787992)  12.133333\n",
      "40    (41.77166, -87.703047)  11.689655\n"
     ]
    }
   ],
   "source": [
    "# Are there some lat-longs with higher mosquito counts? Yes.\n",
    "countspots = latlongs['NumMosquitos'].rename_axis('lat-long').reset_index(name='counts')\n",
    "top30=countspots.sort_values(by='counts', ascending=False).head(30)\n",
    "print(top30)\n",
    "top_chomps=list(top30['lat-long']) # Save this list for later use.\n",
    "with open('top_chomps.pickle', 'wb') as f:\n",
    "    pickle.dump(top_chomps, f, protocol=0)"
   ]
  },
  {
   "cell_type": "code",
   "execution_count": 28,
   "metadata": {},
   "outputs": [
    {
     "data": {
      "text/plain": [
       "count    10506.000000\n",
       "mean         1.376832\n",
       "std          1.265630\n",
       "min          0.000000\n",
       "25%          0.000000\n",
       "50%          1.000000\n",
       "75%          2.000000\n",
       "max          6.000000\n",
       "Name: near_chompspot, dtype: float64"
      ]
     },
     "execution_count": 28,
     "metadata": {},
     "output_type": "execute_result"
    }
   ],
   "source": [
    "# Do the same thing for its distance from the 20 spots with highest average mosquito count.\n",
    "for x in range(30):\n",
    "    digit=str(x)\n",
    "    readings['to_chompspot'+digit]=readings['lat_long'].apply(lambda row: vincenty(row, top_chomps[x]).miles)   \n",
    "\n",
    "    # Create an indicator if a row is less than 2 miles from one of the high-mosquito-count chompspots\n",
    "    readings['flag_chompspot'+digit]=readings['to_chompspot'+digit].apply(lambda row: row<2).astype(int)\n",
    "    \n",
    "# Summarize those 10 indicators.\n",
    "chomp_list=['flag_chompspot0',\n",
    "          'flag_chompspot1',\n",
    "          'flag_chompspot2',\n",
    "          'flag_chompspot3',\n",
    "          'flag_chompspot4',\n",
    "          'flag_chompspot6',\n",
    "          'flag_chompspot6',\n",
    "          'flag_chompspot7',\n",
    "          'flag_chompspot8',\n",
    "          'flag_chompspot9',\n",
    "          'flag_chompspot10',\n",
    "          'flag_chompspot11',\n",
    "          'flag_chompspot12',\n",
    "          'flag_chompspot13',\n",
    "          'flag_chompspot14',\n",
    "          'flag_chompspot16',\n",
    "          'flag_chompspot16',\n",
    "          'flag_chompspot17',\n",
    "          'flag_chompspot18',\n",
    "          'flag_chompspot19',\n",
    "          'flag_chompspot20',\n",
    "          'flag_chompspot21',\n",
    "          'flag_chompspot22',\n",
    "          'flag_chompspot23',\n",
    "          'flag_chompspot24',\n",
    "          'flag_chompspot26',\n",
    "          'flag_chompspot26',\n",
    "          'flag_chompspot27',\n",
    "          'flag_chompspot28',\n",
    "          'flag_chompspot29',\n",
    "         ]\n",
    "readings['near_chompspot'] = readings[chomp_list].sum(axis=1)\n",
    "readings['near_chompspot'].describe()"
   ]
  },
  {
   "cell_type": "code",
   "execution_count": 29,
   "metadata": {},
   "outputs": [],
   "source": [
    "# Create a list of (nearly) all the variables we just created \n",
    "drop_list=[]\n",
    "for x in range(30):\n",
    "    digit=str(x)\n",
    "    drop_list.append('to_hotspot'+digit)\n",
    "    drop_list.append('flag_hotspot'+digit)\n",
    "    drop_list.append('to_chompspot'+digit)\n",
    "    drop_list.append('flag_chompspot'+digit)\n",
    "# Drop them becuase they are no longer necessary.\n",
    "readings=readings.drop(hot_list + chomp_list + drop_list, axis=1)"
   ]
  },
  {
   "cell_type": "markdown",
   "metadata": {},
   "source": [
    "## Export to csv"
   ]
  },
  {
   "cell_type": "code",
   "execution_count": 30,
   "metadata": {},
   "outputs": [],
   "source": [
    "# Drop a few columns that are just clutter now.\n",
    "readings=readings.drop(['Trap', 'Address', 'Block', 'Street', 'AddressNumberAndStreet',\n",
    "       'Latitude', 'Longitude', 'AddressAccuracy', 'NumMosquitos', 'lat_long'], axis=1)"
   ]
  },
  {
   "cell_type": "code",
   "execution_count": 31,
   "metadata": {},
   "outputs": [
    {
     "data": {
      "text/plain": [
       "Index(['Date', 'Virus', 'Month', 'Year', 'DayRunner', 'ALTER', 'PIPIENS',\n",
       "       'PIPIENS-RESTUANS', 'RESTUANS', 'near_hotspot', 'near_chompspot'],\n",
       "      dtype='object')"
      ]
     },
     "execution_count": 31,
     "metadata": {},
     "output_type": "execute_result"
    }
   ],
   "source": [
    "# Check the columns that are left.\n",
    "readings.columns"
   ]
  },
  {
   "cell_type": "code",
   "execution_count": 32,
   "metadata": {},
   "outputs": [
    {
     "data": {
      "text/html": [
       "<div>\n",
       "<style>\n",
       "    .dataframe thead tr:only-child th {\n",
       "        text-align: right;\n",
       "    }\n",
       "\n",
       "    .dataframe thead th {\n",
       "        text-align: left;\n",
       "    }\n",
       "\n",
       "    .dataframe tbody tr th {\n",
       "        vertical-align: top;\n",
       "    }\n",
       "</style>\n",
       "<table border=\"1\" class=\"dataframe\">\n",
       "  <thead>\n",
       "    <tr style=\"text-align: right;\">\n",
       "      <th></th>\n",
       "      <th>Date</th>\n",
       "      <th>Virus</th>\n",
       "      <th>Month</th>\n",
       "      <th>Year</th>\n",
       "      <th>DayRunner</th>\n",
       "      <th>ALTER</th>\n",
       "      <th>PIPIENS</th>\n",
       "      <th>PIPIENS-RESTUANS</th>\n",
       "      <th>RESTUANS</th>\n",
       "      <th>near_hotspot</th>\n",
       "      <th>near_chompspot</th>\n",
       "    </tr>\n",
       "  </thead>\n",
       "  <tbody>\n",
       "    <tr>\n",
       "      <th>0</th>\n",
       "      <td>2007-05-29</td>\n",
       "      <td>0</td>\n",
       "      <td>5</td>\n",
       "      <td>2007</td>\n",
       "      <td>149</td>\n",
       "      <td>0</td>\n",
       "      <td>0</td>\n",
       "      <td>1</td>\n",
       "      <td>0</td>\n",
       "      <td>5</td>\n",
       "      <td>3</td>\n",
       "    </tr>\n",
       "    <tr>\n",
       "      <th>1</th>\n",
       "      <td>2007-05-29</td>\n",
       "      <td>0</td>\n",
       "      <td>5</td>\n",
       "      <td>2007</td>\n",
       "      <td>149</td>\n",
       "      <td>0</td>\n",
       "      <td>0</td>\n",
       "      <td>0</td>\n",
       "      <td>1</td>\n",
       "      <td>5</td>\n",
       "      <td>3</td>\n",
       "    </tr>\n",
       "  </tbody>\n",
       "</table>\n",
       "</div>"
      ],
      "text/plain": [
       "         Date  Virus  Month  Year  DayRunner  ALTER  PIPIENS  \\\n",
       "0  2007-05-29      0      5  2007        149      0        0   \n",
       "1  2007-05-29      0      5  2007        149      0        0   \n",
       "\n",
       "   PIPIENS-RESTUANS  RESTUANS  near_hotspot  near_chompspot  \n",
       "0                 1         0             5               3  \n",
       "1                 0         1             5               3  "
      ]
     },
     "execution_count": 32,
     "metadata": {},
     "output_type": "execute_result"
    }
   ],
   "source": [
    "readings.head(2)"
   ]
  },
  {
   "cell_type": "code",
   "execution_count": 33,
   "metadata": {
    "collapsed": true
   },
   "outputs": [],
   "source": [
    "# Save the cleaned, engineered data\n",
    "dirname = '../Austin/'\n",
    "readings.to_csv(dirname + 'readings.csv', index=False)"
   ]
  }
 ],
 "metadata": {
  "kernelspec": {
   "display_name": "Python [conda env:anaconda3]",
   "language": "python",
   "name": "conda-env-anaconda3-py"
  },
  "language_info": {
   "codemirror_mode": {
    "name": "ipython",
    "version": 3
   },
   "file_extension": ".py",
   "mimetype": "text/x-python",
   "name": "python",
   "nbconvert_exporter": "python",
   "pygments_lexer": "ipython3",
   "version": "3.6.3"
  }
 },
 "nbformat": 4,
 "nbformat_minor": 1
}
