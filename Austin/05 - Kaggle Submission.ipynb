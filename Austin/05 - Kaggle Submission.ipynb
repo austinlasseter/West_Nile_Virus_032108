{
 "cells": [
  {
   "cell_type": "code",
   "execution_count": 1,
   "metadata": {},
   "outputs": [],
   "source": [
    "import pandas as pd\n",
    "import seaborn as sns\n",
    "import numpy as np\n",
    "import matplotlib.pyplot as plt\n",
    "%matplotlib inline\n",
    "\n",
    "from sklearn.feature_extraction.text import CountVectorizer, TfidfTransformer, TfidfVectorizer\n",
    "from sklearn.model_selection import cross_val_score\n",
    "from sklearn.metrics import classification_report\n",
    "from sklearn.naive_bayes import MultinomialNB, BernoulliNB, GaussianNB\n",
    "from sklearn.pipeline import Pipeline\n",
    "from sklearn.linear_model import LogisticRegression\n",
    "from sklearn.model_selection import train_test_split\n",
    "from sklearn import metrics\n",
    "from sklearn.metrics import classification_report,confusion_matrix,accuracy_score\n",
    "from sklearn.neighbors import KNeighborsClassifier\n",
    "from sklearn.ensemble import RandomForestClassifier, ExtraTreesClassifier, BaggingClassifier\n",
    "from sklearn.metrics import roc_auc_score\n",
    "from geopy.distance import vincenty\n",
    "sns.set_style(\"darkgrid\")"
   ]
  },
  {
   "cell_type": "code",
   "execution_count": 2,
   "metadata": {},
   "outputs": [
    {
     "data": {
      "application/javascript": [
       "$('.nbp-app-bar').toggle()"
      ],
      "text/plain": [
       "<IPython.core.display.Javascript object>"
      ]
     },
     "metadata": {},
     "output_type": "display_data"
    }
   ],
   "source": [
    "%%javascript\n",
    "$('.nbp-app-bar').toggle()"
   ]
  },
  {
   "cell_type": "markdown",
   "metadata": {},
   "source": [
    "# But what about the holdout `test.csv` data?"
   ]
  },
  {
   "cell_type": "code",
   "execution_count": 23,
   "metadata": {},
   "outputs": [
    {
     "name": "stdout",
     "output_type": "stream",
     "text": [
      "(116293, 15)\n"
     ]
    },
    {
     "data": {
      "text/html": [
       "<div>\n",
       "<style>\n",
       "    .dataframe thead tr:only-child th {\n",
       "        text-align: right;\n",
       "    }\n",
       "\n",
       "    .dataframe thead th {\n",
       "        text-align: left;\n",
       "    }\n",
       "\n",
       "    .dataframe tbody tr th {\n",
       "        vertical-align: top;\n",
       "    }\n",
       "</style>\n",
       "<table border=\"1\" class=\"dataframe\">\n",
       "  <thead>\n",
       "    <tr style=\"text-align: right;\">\n",
       "      <th></th>\n",
       "      <th>Id</th>\n",
       "      <th>Date</th>\n",
       "      <th>Address</th>\n",
       "      <th>Species</th>\n",
       "      <th>Block</th>\n",
       "      <th>Street</th>\n",
       "      <th>Trap</th>\n",
       "      <th>AddressNumberAndStreet</th>\n",
       "      <th>Latitude</th>\n",
       "      <th>Longitude</th>\n",
       "      <th>AddressAccuracy</th>\n",
       "      <th>avg_rain1</th>\n",
       "      <th>avg_rain2</th>\n",
       "      <th>avg_dry1</th>\n",
       "      <th>avg_dry2</th>\n",
       "    </tr>\n",
       "  </thead>\n",
       "  <tbody>\n",
       "    <tr>\n",
       "      <th>0</th>\n",
       "      <td>1</td>\n",
       "      <td>2008-06-11</td>\n",
       "      <td>4100 North Oak Park Avenue, Chicago, IL 60634,...</td>\n",
       "      <td>CULEX PIPIENS/RESTUANS</td>\n",
       "      <td>41</td>\n",
       "      <td>N OAK PARK AVE</td>\n",
       "      <td>T002</td>\n",
       "      <td>4100  N OAK PARK AVE, Chicago, IL</td>\n",
       "      <td>41.95469</td>\n",
       "      <td>-87.800991</td>\n",
       "      <td>9</td>\n",
       "      <td>1.0</td>\n",
       "      <td>0.571429</td>\n",
       "      <td>0.142857</td>\n",
       "      <td>0.714286</td>\n",
       "    </tr>\n",
       "  </tbody>\n",
       "</table>\n",
       "</div>"
      ],
      "text/plain": [
       "   Id        Date                                            Address  \\\n",
       "0   1  2008-06-11  4100 North Oak Park Avenue, Chicago, IL 60634,...   \n",
       "\n",
       "                  Species  Block           Street  Trap  \\\n",
       "0  CULEX PIPIENS/RESTUANS     41   N OAK PARK AVE  T002   \n",
       "\n",
       "              AddressNumberAndStreet  Latitude  Longitude  AddressAccuracy  \\\n",
       "0  4100  N OAK PARK AVE, Chicago, IL  41.95469 -87.800991                9   \n",
       "\n",
       "   avg_rain1  avg_rain2  avg_dry1  avg_dry2  \n",
       "0        1.0   0.571429  0.142857  0.714286  "
      ]
     },
     "execution_count": 23,
     "metadata": {},
     "output_type": "execute_result"
    }
   ],
   "source": [
    "path = '../kaggle_data/input/'\n",
    "test = pd.read_csv(path+'test.csv')\n",
    "weather=pd.read_csv('weather2.csv')\n",
    "holdout=pd.merge(test, weather, on='Date');\n",
    "print(holdout.shape)\n",
    "holdout.head(1)"
   ]
  },
  {
   "cell_type": "code",
   "execution_count": 4,
   "metadata": {
    "collapsed": true
   },
   "outputs": [],
   "source": [
    "# Reduce the species categorical variable to just 4 categories\n",
    "holdout['CULEX']='ALTER'\n",
    "holdout.loc[(holdout['Species']=='CULEX PIPIENS/RESTUANS') , 'CULEX']='PIPIENS-RESTUANS'\n",
    "holdout.loc[(holdout['Species']=='CULEX RESTUANS') , 'CULEX']='RESTUANS'\n",
    "holdout.loc[(holdout['Species']=='CULEX PIPIENS') , 'CULEX']='PIPIENS'\n",
    "holdout['CULEX'].value_counts()\n",
    "# Dummify the Species\n",
    "dummies=pd.get_dummies(holdout['CULEX'])\n",
    "holdout=pd.concat([holdout, dummies], axis=1)"
   ]
  },
  {
   "cell_type": "code",
   "execution_count": 5,
   "metadata": {
    "collapsed": true
   },
   "outputs": [],
   "source": [
    "# Let's convert date/time into something usable. \n",
    "holdout['Month']=holdout['Date'].str.split('-').str[1].astype(str)\n",
    "holdout['Year']=holdout['Date'].str.split('-').str[0].astype(int)\n",
    "# Day of the year\n",
    "holdout['DayRunner']=pd.to_datetime(holdout['Date']).dt.dayofyear"
   ]
  },
  {
   "cell_type": "markdown",
   "metadata": {},
   "source": [
    "#### Calculate distance from virus hotspots."
   ]
  },
  {
   "cell_type": "code",
   "execution_count": 6,
   "metadata": {
    "collapsed": true
   },
   "outputs": [],
   "source": [
    "# Create a lat-long variable that's a tuple.\n",
    "holdout['lat_long'] = list(zip(holdout['Latitude'], holdout['Longitude']))"
   ]
  },
  {
   "cell_type": "code",
   "execution_count": 7,
   "metadata": {
    "collapsed": true
   },
   "outputs": [],
   "source": [
    "# Bring in the list of virus hotspots from the training data.\n",
    "import pickle\n",
    "with open('top_hots.pickle', 'rb') as f:\n",
    "    top_hots = pickle.load(f)"
   ]
  },
  {
   "cell_type": "code",
   "execution_count": 8,
   "metadata": {},
   "outputs": [
    {
     "data": {
      "text/plain": [
       "count    116293.000000\n",
       "mean          0.461472\n",
       "std           0.750770\n",
       "min           0.000000\n",
       "25%           0.000000\n",
       "50%           0.000000\n",
       "75%           1.000000\n",
       "max           4.000000\n",
       "Name: near_hotspot, dtype: float64"
      ]
     },
     "execution_count": 8,
     "metadata": {},
     "output_type": "execute_result"
    }
   ],
   "source": [
    "# Calculate the distances\n",
    "hot_list=[]\n",
    "for x in range(30):\n",
    "    digit=str(x)\n",
    "    holdout['to_hotspot'+digit]=holdout['lat_long'].apply(lambda row: vincenty(row, top_hots[x]).miles)\n",
    "    \n",
    "    # Create an indicator if a row is less than 1 mile from one of the virus hotspots\n",
    "    holdout['flag_hotspot'+digit]=holdout['to_hotspot'+digit].apply(lambda row: row<1).astype(int)\n",
    "    hot_list.append('flag_hotspot'+digit)\n",
    "\n",
    "# Summarize those indicators.\n",
    "holdout['near_hotspot'] = holdout[hot_list].sum(axis=1)\n",
    "holdout['near_hotspot'].describe()"
   ]
  },
  {
   "cell_type": "code",
   "execution_count": 9,
   "metadata": {},
   "outputs": [
    {
     "data": {
      "text/html": [
       "<div>\n",
       "<style>\n",
       "    .dataframe thead tr:only-child th {\n",
       "        text-align: right;\n",
       "    }\n",
       "\n",
       "    .dataframe thead th {\n",
       "        text-align: left;\n",
       "    }\n",
       "\n",
       "    .dataframe tbody tr th {\n",
       "        vertical-align: top;\n",
       "    }\n",
       "</style>\n",
       "<table border=\"1\" class=\"dataframe\">\n",
       "  <thead>\n",
       "    <tr style=\"text-align: right;\">\n",
       "      <th></th>\n",
       "      <th>Id</th>\n",
       "      <th>Date</th>\n",
       "      <th>Address</th>\n",
       "      <th>Species</th>\n",
       "      <th>Block</th>\n",
       "      <th>Street</th>\n",
       "      <th>Trap</th>\n",
       "      <th>AddressNumberAndStreet</th>\n",
       "      <th>Latitude</th>\n",
       "      <th>Longitude</th>\n",
       "      <th>...</th>\n",
       "      <th>flag_hotspot25</th>\n",
       "      <th>to_hotspot26</th>\n",
       "      <th>flag_hotspot26</th>\n",
       "      <th>to_hotspot27</th>\n",
       "      <th>flag_hotspot27</th>\n",
       "      <th>to_hotspot28</th>\n",
       "      <th>flag_hotspot28</th>\n",
       "      <th>to_hotspot29</th>\n",
       "      <th>flag_hotspot29</th>\n",
       "      <th>near_hotspot</th>\n",
       "    </tr>\n",
       "  </thead>\n",
       "  <tbody>\n",
       "    <tr>\n",
       "      <th>144</th>\n",
       "      <td>145</td>\n",
       "      <td>2008-06-11</td>\n",
       "      <td>9100 West Higgins Avenue, Chicago, IL 60656, USA</td>\n",
       "      <td>CULEX PIPIENS/RESTUANS</td>\n",
       "      <td>91</td>\n",
       "      <td>W HIGGINS AVE</td>\n",
       "      <td>T009</td>\n",
       "      <td>9100  W HIGGINS AVE, Chicago, IL</td>\n",
       "      <td>41.981964</td>\n",
       "      <td>-87.812827</td>\n",
       "      <td>...</td>\n",
       "      <td>0</td>\n",
       "      <td>2.556767</td>\n",
       "      <td>0</td>\n",
       "      <td>15.117775</td>\n",
       "      <td>0</td>\n",
       "      <td>21.180922</td>\n",
       "      <td>0</td>\n",
       "      <td>14.247395</td>\n",
       "      <td>0</td>\n",
       "      <td>4</td>\n",
       "    </tr>\n",
       "  </tbody>\n",
       "</table>\n",
       "<p>1 rows × 85 columns</p>\n",
       "</div>"
      ],
      "text/plain": [
       "      Id        Date                                           Address  \\\n",
       "144  145  2008-06-11  9100 West Higgins Avenue, Chicago, IL 60656, USA   \n",
       "\n",
       "                    Species  Block          Street  Trap  \\\n",
       "144  CULEX PIPIENS/RESTUANS     91   W HIGGINS AVE  T009   \n",
       "\n",
       "               AddressNumberAndStreet   Latitude  Longitude      ...       \\\n",
       "144  9100  W HIGGINS AVE, Chicago, IL  41.981964 -87.812827      ...        \n",
       "\n",
       "     flag_hotspot25  to_hotspot26  flag_hotspot26  to_hotspot27  \\\n",
       "144               0      2.556767               0     15.117775   \n",
       "\n",
       "     flag_hotspot27 to_hotspot28  flag_hotspot28  to_hotspot29  \\\n",
       "144               0    21.180922               0     14.247395   \n",
       "\n",
       "     flag_hotspot29  near_hotspot  \n",
       "144               0             4  \n",
       "\n",
       "[1 rows x 85 columns]"
      ]
     },
     "execution_count": 9,
     "metadata": {},
     "output_type": "execute_result"
    }
   ],
   "source": [
    "# Did this do what we wanted it to? Let's check out that max. It's near the airport! Nice!\n",
    "holdout[holdout['near_hotspot']==4].head(1)"
   ]
  },
  {
   "cell_type": "markdown",
   "metadata": {},
   "source": [
    "#### Mapping Distance from Spots with a High Number of Mosquitos"
   ]
  },
  {
   "cell_type": "code",
   "execution_count": 10,
   "metadata": {
    "collapsed": true
   },
   "outputs": [],
   "source": [
    "# Bring in the list of virus hotspots from the training data.\n",
    "import pickle\n",
    "with open('top_chomps.pickle', 'rb') as f:\n",
    "    top_chomps = pickle.load(f)"
   ]
  },
  {
   "cell_type": "code",
   "execution_count": 11,
   "metadata": {},
   "outputs": [
    {
     "data": {
      "text/plain": [
       "count    116293.000000\n",
       "mean          1.271951\n",
       "std           1.262775\n",
       "min           0.000000\n",
       "25%           0.000000\n",
       "50%           1.000000\n",
       "75%           2.000000\n",
       "max           6.000000\n",
       "Name: near_chompspot, dtype: float64"
      ]
     },
     "execution_count": 11,
     "metadata": {},
     "output_type": "execute_result"
    }
   ],
   "source": [
    "# Do the same thing for its distance from the 20 spots with highest average mosquito count.\n",
    "chomp_list=[]\n",
    "for x in range(30):\n",
    "    digit=str(x)\n",
    "    holdout['to_chompspot'+digit]=holdout['lat_long'].apply(lambda row: vincenty(row, top_chomps[x]).miles)   \n",
    "\n",
    "    # Create an indicator if a row is less than 2 miles from one of the high-mosquito-count chompspots\n",
    "    holdout['flag_chompspot'+digit]=holdout['to_chompspot'+digit].apply(lambda row: row<2).astype(int)\n",
    "    chomp_list.append('flag_chompspot'+digit)\n",
    "\n",
    "holdout['near_chompspot'] = holdout[chomp_list].sum(axis=1)\n",
    "holdout['near_chompspot'].describe()"
   ]
  },
  {
   "cell_type": "code",
   "execution_count": 12,
   "metadata": {
    "collapsed": true
   },
   "outputs": [],
   "source": [
    "# Create a \"drop\" list of (nearly) all the variables we just created \n",
    "drop_list=[]\n",
    "for x in range(30):\n",
    "    digit=str(x)\n",
    "    drop_list.append('to_hotspot'+digit)\n",
    "    drop_list.append('flag_hotspot'+digit)\n",
    "    drop_list.append('to_chompspot'+digit)\n",
    "    drop_list.append('flag_chompspot'+digit)\n",
    "# Drop them because they are no longer necessary.\n",
    "holdout=holdout.drop(hot_list + chomp_list + drop_list, axis=1)"
   ]
  },
  {
   "cell_type": "markdown",
   "metadata": {},
   "source": [
    "### Make sure that our `holdout` dataset has the correct feature list"
   ]
  },
  {
   "cell_type": "code",
   "execution_count": 13,
   "metadata": {},
   "outputs": [
    {
     "name": "stdout",
     "output_type": "stream",
     "text": [
      "11\n",
      "Index(['avg_rain1', 'avg_rain2', 'avg_dry1', 'avg_dry2', 'ALTER', 'PIPIENS',\n",
      "       'PIPIENS-RESTUANS', 'RESTUANS', 'DayRunner', 'near_hotspot',\n",
      "       'near_chompspot'],\n",
      "      dtype='object')\n"
     ]
    }
   ],
   "source": [
    "# Should be eleven columns.\n",
    "holdout_trim=holdout.drop(['Id', 'Date', 'Address', 'Species', 'Block', 'Street', 'Trap',\n",
    "       'AddressNumberAndStreet', 'Latitude', 'Longitude', 'AddressAccuracy', \n",
    "              'CULEX', 'Month', 'Year', 'lat_long',], axis=1)\n",
    "print(len(holdout_trim.columns))\n",
    "print(holdout_trim.columns)"
   ]
  },
  {
   "cell_type": "markdown",
   "metadata": {},
   "source": [
    "## Import the pickled RF model from the previous `ipynb`."
   ]
  },
  {
   "cell_type": "code",
   "execution_count": 14,
   "metadata": {
    "collapsed": true
   },
   "outputs": [],
   "source": [
    "import pickle\n",
    "with open('tree_model.pickle', 'rb') as f:\n",
    "    tree_model = pickle.load(f)"
   ]
  },
  {
   "cell_type": "code",
   "execution_count": 30,
   "metadata": {
    "collapsed": true
   },
   "outputs": [],
   "source": [
    "# Predict on the holdout data.\n",
    "y_hat = tree_model.predict(holdout_trim)\n",
    "y_hat_probs = tree_model.predict_proba(holdout_trim)[:,1]"
   ]
  },
  {
   "cell_type": "code",
   "execution_count": 16,
   "metadata": {},
   "outputs": [
    {
     "name": "stdout",
     "output_type": "stream",
     "text": [
      "116293\n"
     ]
    },
    {
     "data": {
      "text/html": [
       "<div>\n",
       "<style>\n",
       "    .dataframe thead tr:only-child th {\n",
       "        text-align: right;\n",
       "    }\n",
       "\n",
       "    .dataframe thead th {\n",
       "        text-align: left;\n",
       "    }\n",
       "\n",
       "    .dataframe tbody tr th {\n",
       "        vertical-align: top;\n",
       "    }\n",
       "</style>\n",
       "<table border=\"1\" class=\"dataframe\">\n",
       "  <thead>\n",
       "    <tr style=\"text-align: right;\">\n",
       "      <th></th>\n",
       "      <th>Predicted</th>\n",
       "    </tr>\n",
       "  </thead>\n",
       "  <tbody>\n",
       "    <tr>\n",
       "      <th>count</th>\n",
       "      <td>116293.000000</td>\n",
       "    </tr>\n",
       "    <tr>\n",
       "      <th>mean</th>\n",
       "      <td>0.030441</td>\n",
       "    </tr>\n",
       "    <tr>\n",
       "      <th>std</th>\n",
       "      <td>0.008870</td>\n",
       "    </tr>\n",
       "    <tr>\n",
       "      <th>min</th>\n",
       "      <td>0.011444</td>\n",
       "    </tr>\n",
       "    <tr>\n",
       "      <th>25%</th>\n",
       "      <td>0.024777</td>\n",
       "    </tr>\n",
       "    <tr>\n",
       "      <th>50%</th>\n",
       "      <td>0.030042</td>\n",
       "    </tr>\n",
       "    <tr>\n",
       "      <th>75%</th>\n",
       "      <td>0.034673</td>\n",
       "    </tr>\n",
       "    <tr>\n",
       "      <th>max</th>\n",
       "      <td>0.056769</td>\n",
       "    </tr>\n",
       "  </tbody>\n",
       "</table>\n",
       "</div>"
      ],
      "text/plain": [
       "           Predicted\n",
       "count  116293.000000\n",
       "mean        0.030441\n",
       "std         0.008870\n",
       "min         0.011444\n",
       "25%         0.024777\n",
       "50%         0.030042\n",
       "75%         0.034673\n",
       "max         0.056769"
      ]
     },
     "execution_count": 16,
     "metadata": {},
     "output_type": "execute_result"
    }
   ],
   "source": [
    "# # Just grab the second column for Kaggle submission.\n",
    "# predictions = pd.DataFrame(y_hat_probs, columns=['Predicted'])\n",
    "# print(len(predictions))\n",
    "# predictions.describe()"
   ]
  },
  {
   "cell_type": "markdown",
   "metadata": {},
   "source": [
    "## Kaggle Submission"
   ]
  },
  {
   "cell_type": "code",
   "execution_count": 29,
   "metadata": {},
   "outputs": [
    {
     "name": "stdout",
     "output_type": "stream",
     "text": [
      "   Predicted\n",
      "0   0.022946\n",
      "1   0.012589\n",
      "2   0.031999\n",
      "3   0.019062\n",
      "4   0.019062\n",
      "        Predicted\n",
      "116288   0.019062\n",
      "116289   0.019062\n",
      "116290   0.019062\n",
      "116291   0.019062\n",
      "116292   0.019062\n",
      "116293\n"
     ]
    },
    {
     "data": {
      "text/html": [
       "<div>\n",
       "<style>\n",
       "    .dataframe thead tr:only-child th {\n",
       "        text-align: right;\n",
       "    }\n",
       "\n",
       "    .dataframe thead th {\n",
       "        text-align: left;\n",
       "    }\n",
       "\n",
       "    .dataframe tbody tr th {\n",
       "        vertical-align: top;\n",
       "    }\n",
       "</style>\n",
       "<table border=\"1\" class=\"dataframe\">\n",
       "  <thead>\n",
       "    <tr style=\"text-align: right;\">\n",
       "      <th></th>\n",
       "      <th>Predicted</th>\n",
       "    </tr>\n",
       "  </thead>\n",
       "  <tbody>\n",
       "    <tr>\n",
       "      <th>0</th>\n",
       "      <td>0.022946</td>\n",
       "    </tr>\n",
       "    <tr>\n",
       "      <th>1</th>\n",
       "      <td>0.012589</td>\n",
       "    </tr>\n",
       "    <tr>\n",
       "      <th>2</th>\n",
       "      <td>0.031999</td>\n",
       "    </tr>\n",
       "    <tr>\n",
       "      <th>3</th>\n",
       "      <td>0.019062</td>\n",
       "    </tr>\n",
       "    <tr>\n",
       "      <th>4</th>\n",
       "      <td>0.019062</td>\n",
       "    </tr>\n",
       "    <tr>\n",
       "      <th>5</th>\n",
       "      <td>0.019062</td>\n",
       "    </tr>\n",
       "    <tr>\n",
       "      <th>6</th>\n",
       "      <td>0.019062</td>\n",
       "    </tr>\n",
       "    <tr>\n",
       "      <th>7</th>\n",
       "      <td>0.019062</td>\n",
       "    </tr>\n",
       "    <tr>\n",
       "      <th>8</th>\n",
       "      <td>0.030955</td>\n",
       "    </tr>\n",
       "    <tr>\n",
       "      <th>9</th>\n",
       "      <td>0.017470</td>\n",
       "    </tr>\n",
       "    <tr>\n",
       "      <th>10</th>\n",
       "      <td>0.039925</td>\n",
       "    </tr>\n",
       "    <tr>\n",
       "      <th>11</th>\n",
       "      <td>0.025979</td>\n",
       "    </tr>\n",
       "    <tr>\n",
       "      <th>12</th>\n",
       "      <td>0.025979</td>\n",
       "    </tr>\n",
       "    <tr>\n",
       "      <th>13</th>\n",
       "      <td>0.025979</td>\n",
       "    </tr>\n",
       "    <tr>\n",
       "      <th>14</th>\n",
       "      <td>0.025979</td>\n",
       "    </tr>\n",
       "    <tr>\n",
       "      <th>15</th>\n",
       "      <td>0.025979</td>\n",
       "    </tr>\n",
       "    <tr>\n",
       "      <th>16</th>\n",
       "      <td>0.022946</td>\n",
       "    </tr>\n",
       "    <tr>\n",
       "      <th>17</th>\n",
       "      <td>0.012589</td>\n",
       "    </tr>\n",
       "    <tr>\n",
       "      <th>18</th>\n",
       "      <td>0.031999</td>\n",
       "    </tr>\n",
       "    <tr>\n",
       "      <th>19</th>\n",
       "      <td>0.019062</td>\n",
       "    </tr>\n",
       "    <tr>\n",
       "      <th>20</th>\n",
       "      <td>0.019062</td>\n",
       "    </tr>\n",
       "    <tr>\n",
       "      <th>21</th>\n",
       "      <td>0.019062</td>\n",
       "    </tr>\n",
       "    <tr>\n",
       "      <th>22</th>\n",
       "      <td>0.019062</td>\n",
       "    </tr>\n",
       "    <tr>\n",
       "      <th>23</th>\n",
       "      <td>0.019062</td>\n",
       "    </tr>\n",
       "    <tr>\n",
       "      <th>24</th>\n",
       "      <td>0.030955</td>\n",
       "    </tr>\n",
       "    <tr>\n",
       "      <th>25</th>\n",
       "      <td>0.017470</td>\n",
       "    </tr>\n",
       "    <tr>\n",
       "      <th>26</th>\n",
       "      <td>0.039925</td>\n",
       "    </tr>\n",
       "    <tr>\n",
       "      <th>27</th>\n",
       "      <td>0.025979</td>\n",
       "    </tr>\n",
       "    <tr>\n",
       "      <th>28</th>\n",
       "      <td>0.025979</td>\n",
       "    </tr>\n",
       "    <tr>\n",
       "      <th>29</th>\n",
       "      <td>0.025979</td>\n",
       "    </tr>\n",
       "    <tr>\n",
       "      <th>...</th>\n",
       "      <td>...</td>\n",
       "    </tr>\n",
       "    <tr>\n",
       "      <th>116263</th>\n",
       "      <td>0.039925</td>\n",
       "    </tr>\n",
       "    <tr>\n",
       "      <th>116264</th>\n",
       "      <td>0.025979</td>\n",
       "    </tr>\n",
       "    <tr>\n",
       "      <th>116265</th>\n",
       "      <td>0.025979</td>\n",
       "    </tr>\n",
       "    <tr>\n",
       "      <th>116266</th>\n",
       "      <td>0.025979</td>\n",
       "    </tr>\n",
       "    <tr>\n",
       "      <th>116267</th>\n",
       "      <td>0.025979</td>\n",
       "    </tr>\n",
       "    <tr>\n",
       "      <th>116268</th>\n",
       "      <td>0.025979</td>\n",
       "    </tr>\n",
       "    <tr>\n",
       "      <th>116269</th>\n",
       "      <td>0.030955</td>\n",
       "    </tr>\n",
       "    <tr>\n",
       "      <th>116270</th>\n",
       "      <td>0.017470</td>\n",
       "    </tr>\n",
       "    <tr>\n",
       "      <th>116271</th>\n",
       "      <td>0.039925</td>\n",
       "    </tr>\n",
       "    <tr>\n",
       "      <th>116272</th>\n",
       "      <td>0.025979</td>\n",
       "    </tr>\n",
       "    <tr>\n",
       "      <th>116273</th>\n",
       "      <td>0.025979</td>\n",
       "    </tr>\n",
       "    <tr>\n",
       "      <th>116274</th>\n",
       "      <td>0.025979</td>\n",
       "    </tr>\n",
       "    <tr>\n",
       "      <th>116275</th>\n",
       "      <td>0.025979</td>\n",
       "    </tr>\n",
       "    <tr>\n",
       "      <th>116276</th>\n",
       "      <td>0.025979</td>\n",
       "    </tr>\n",
       "    <tr>\n",
       "      <th>116277</th>\n",
       "      <td>0.022946</td>\n",
       "    </tr>\n",
       "    <tr>\n",
       "      <th>116278</th>\n",
       "      <td>0.012589</td>\n",
       "    </tr>\n",
       "    <tr>\n",
       "      <th>116279</th>\n",
       "      <td>0.031999</td>\n",
       "    </tr>\n",
       "    <tr>\n",
       "      <th>116280</th>\n",
       "      <td>0.019062</td>\n",
       "    </tr>\n",
       "    <tr>\n",
       "      <th>116281</th>\n",
       "      <td>0.019062</td>\n",
       "    </tr>\n",
       "    <tr>\n",
       "      <th>116282</th>\n",
       "      <td>0.019062</td>\n",
       "    </tr>\n",
       "    <tr>\n",
       "      <th>116283</th>\n",
       "      <td>0.019062</td>\n",
       "    </tr>\n",
       "    <tr>\n",
       "      <th>116284</th>\n",
       "      <td>0.019062</td>\n",
       "    </tr>\n",
       "    <tr>\n",
       "      <th>116285</th>\n",
       "      <td>0.022946</td>\n",
       "    </tr>\n",
       "    <tr>\n",
       "      <th>116286</th>\n",
       "      <td>0.012589</td>\n",
       "    </tr>\n",
       "    <tr>\n",
       "      <th>116287</th>\n",
       "      <td>0.031999</td>\n",
       "    </tr>\n",
       "    <tr>\n",
       "      <th>116288</th>\n",
       "      <td>0.019062</td>\n",
       "    </tr>\n",
       "    <tr>\n",
       "      <th>116289</th>\n",
       "      <td>0.019062</td>\n",
       "    </tr>\n",
       "    <tr>\n",
       "      <th>116290</th>\n",
       "      <td>0.019062</td>\n",
       "    </tr>\n",
       "    <tr>\n",
       "      <th>116291</th>\n",
       "      <td>0.019062</td>\n",
       "    </tr>\n",
       "    <tr>\n",
       "      <th>116292</th>\n",
       "      <td>0.019062</td>\n",
       "    </tr>\n",
       "  </tbody>\n",
       "</table>\n",
       "<p>116293 rows × 1 columns</p>\n",
       "</div>"
      ],
      "text/plain": [
       "        Predicted\n",
       "0        0.022946\n",
       "1        0.012589\n",
       "2        0.031999\n",
       "3        0.019062\n",
       "4        0.019062\n",
       "5        0.019062\n",
       "6        0.019062\n",
       "7        0.019062\n",
       "8        0.030955\n",
       "9        0.017470\n",
       "10       0.039925\n",
       "11       0.025979\n",
       "12       0.025979\n",
       "13       0.025979\n",
       "14       0.025979\n",
       "15       0.025979\n",
       "16       0.022946\n",
       "17       0.012589\n",
       "18       0.031999\n",
       "19       0.019062\n",
       "20       0.019062\n",
       "21       0.019062\n",
       "22       0.019062\n",
       "23       0.019062\n",
       "24       0.030955\n",
       "25       0.017470\n",
       "26       0.039925\n",
       "27       0.025979\n",
       "28       0.025979\n",
       "29       0.025979\n",
       "...           ...\n",
       "116263   0.039925\n",
       "116264   0.025979\n",
       "116265   0.025979\n",
       "116266   0.025979\n",
       "116267   0.025979\n",
       "116268   0.025979\n",
       "116269   0.030955\n",
       "116270   0.017470\n",
       "116271   0.039925\n",
       "116272   0.025979\n",
       "116273   0.025979\n",
       "116274   0.025979\n",
       "116275   0.025979\n",
       "116276   0.025979\n",
       "116277   0.022946\n",
       "116278   0.012589\n",
       "116279   0.031999\n",
       "116280   0.019062\n",
       "116281   0.019062\n",
       "116282   0.019062\n",
       "116283   0.019062\n",
       "116284   0.019062\n",
       "116285   0.022946\n",
       "116286   0.012589\n",
       "116287   0.031999\n",
       "116288   0.019062\n",
       "116289   0.019062\n",
       "116290   0.019062\n",
       "116291   0.019062\n",
       "116292   0.019062\n",
       "\n",
       "[116293 rows x 1 columns]"
      ]
     },
     "execution_count": 29,
     "metadata": {},
     "output_type": "execute_result"
    }
   ],
   "source": [
    "print(predictions.head())\n",
    "print(predictions.tail())\n",
    "print(len(predictions))\n",
    "predictions"
   ]
  },
  {
   "cell_type": "code",
   "execution_count": 27,
   "metadata": {},
   "outputs": [
    {
     "data": {
      "text/plain": [
       "116293"
      ]
     },
     "execution_count": 27,
     "metadata": {},
     "output_type": "execute_result"
    }
   ],
   "source": [
    "len(holdout['Id'])"
   ]
  },
  {
   "cell_type": "code",
   "execution_count": 34,
   "metadata": {},
   "outputs": [
    {
     "name": "stdout",
     "output_type": "stream",
     "text": [
      "count    116293.000000\n",
      "mean          0.030441\n",
      "std           0.008870\n",
      "min           0.011444\n",
      "25%           0.024777\n",
      "50%           0.030042\n",
      "75%           0.034673\n",
      "max           0.056769\n",
      "Name: WnvPresent, dtype: float64\n"
     ]
    },
    {
     "data": {
      "text/html": [
       "<div>\n",
       "<style>\n",
       "    .dataframe thead tr:only-child th {\n",
       "        text-align: right;\n",
       "    }\n",
       "\n",
       "    .dataframe thead th {\n",
       "        text-align: left;\n",
       "    }\n",
       "\n",
       "    .dataframe tbody tr th {\n",
       "        vertical-align: top;\n",
       "    }\n",
       "</style>\n",
       "<table border=\"1\" class=\"dataframe\">\n",
       "  <thead>\n",
       "    <tr style=\"text-align: right;\">\n",
       "      <th></th>\n",
       "      <th>Id</th>\n",
       "      <th>WnvPresent</th>\n",
       "    </tr>\n",
       "  </thead>\n",
       "  <tbody>\n",
       "    <tr>\n",
       "      <th>116290</th>\n",
       "      <td>116291</td>\n",
       "      <td>0.019062</td>\n",
       "    </tr>\n",
       "    <tr>\n",
       "      <th>116291</th>\n",
       "      <td>116292</td>\n",
       "      <td>0.019062</td>\n",
       "    </tr>\n",
       "    <tr>\n",
       "      <th>116292</th>\n",
       "      <td>116293</td>\n",
       "      <td>0.019062</td>\n",
       "    </tr>\n",
       "  </tbody>\n",
       "</table>\n",
       "</div>"
      ],
      "text/plain": [
       "            Id  WnvPresent\n",
       "116290  116291    0.019062\n",
       "116291  116292    0.019062\n",
       "116292  116293    0.019062"
      ]
     },
     "execution_count": 34,
     "metadata": {},
     "output_type": "execute_result"
    }
   ],
   "source": [
    "submission=pd.DataFrame(list(zip(holdout['Id'], y_hat_probs)), columns=['Id','WnvPresent'])\n",
    "print(submission['WnvPresent'].describe())\n",
    "submission.tail(3)"
   ]
  },
  {
   "cell_type": "code",
   "execution_count": null,
   "metadata": {
    "collapsed": true
   },
   "outputs": [],
   "source": [
    "dirname = '../Austin/'\n",
    "submission.to_csv(dirname + 'submission.csv', index=False)\n",
    "\n",
    "### https://www.kaggle.com/c/predict-west-nile-virus/submit"
   ]
  },
  {
   "cell_type": "code",
   "execution_count": null,
   "metadata": {},
   "outputs": [],
   "source": [
    "submission['WnvPresent'].mean()"
   ]
  },
  {
   "attachments": {
    "image.png": {
     "image/png": "[encoded data removed]"
    }
   },
   "cell_type": "markdown",
   "metadata": {},
   "source": [
    "I think I'm doing something wrong here.\n",
    "![image.png](attachment:image.png)"
   ]
  },
  {
   "cell_type": "markdown",
   "metadata": {},
   "source": [
    "My train-test AUC-ROC was so high! But here it's just .50."
   ]
  },
  {
   "cell_type": "code",
   "execution_count": null,
   "metadata": {
    "collapsed": true
   },
   "outputs": [],
   "source": []
  }
 ],
 "metadata": {
  "kernelspec": {
   "display_name": "Python [default]",
   "language": "python",
   "name": "python3"
  },
  "language_info": {
   "codemirror_mode": {
    "name": "ipython",
    "version": 3
   },
   "file_extension": ".py",
   "mimetype": "text/x-python",
   "name": "python",
   "nbconvert_exporter": "python",
   "pygments_lexer": "ipython3",
   "version": "3.6.3"
  }
 },
 "nbformat": 4,
 "nbformat_minor": 2
}
